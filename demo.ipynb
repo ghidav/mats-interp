{
 "cells": [
  {
   "cell_type": "markdown",
   "metadata": {},
   "source": [
    "# Mechanistic analysis of HTML tags closing in GPT-2\n",
    "\n",
    "We already know there're from [Gurnee et al. 2023](https://arxiv.org/abs/2305.01610) that there are neurons in transformers that activates for specific code text such as Python and HTML.\n",
    "In this notebook I will explore how GPT-2 processes HTML code to find how it closes tags. The analysis is divided into two sections:\n",
    "\n",
    "1. The mechanism that allow the general closure of a tag (the one that predict the `</` token)\n",
    "2. The mechanism responsible to find the right tag to close (the one that, for example, predict `div` token after the previous)"
   ]
  },
  {
   "cell_type": "code",
   "execution_count": 2,
   "metadata": {},
   "outputs": [],
   "source": [
    "from transformer_lens import HookedTransformer\n",
    "import torch\n",
    "from tqdm import tqdm"
   ]
  },
  {
   "cell_type": "code",
   "execution_count": 3,
   "metadata": {},
   "outputs": [
    {
     "name": "stderr",
     "output_type": "stream",
     "text": [
      "Using pad_token, but it is not set yet.\n"
     ]
    },
    {
     "name": "stdout",
     "output_type": "stream",
     "text": [
      "Loaded pretrained model gpt2 into HookedTransformer\n"
     ]
    }
   ],
   "source": [
    "# Load model\n",
    "model = HookedTransformer.from_pretrained('gpt2')\n",
    "model.eval()\n",
    "nl = len(model.blocks)"
   ]
  },
  {
   "cell_type": "code",
   "execution_count": 4,
   "metadata": {},
   "outputs": [],
   "source": [
    "# Some useful functions\n",
    "@torch.no_grad()\n",
    "def generate(model, prompt, max_new_tokens=10):\n",
    "    tokens = model.to_tokens(prompt)\n",
    "    for _ in range(max_new_tokens):\n",
    "        output = model(tokens)\n",
    "        next_token = torch.argmax(output[0, -1, :])\n",
    "        tokens = torch.cat((tokens, next_token.unsqueeze(0).unsqueeze(0)), dim=1)\n",
    "    return model.tokenizer.decode(tokens[0], skip_special_tokens=True)"
   ]
  },
  {
   "cell_type": "markdown",
   "metadata": {},
   "source": [
    "### Data"
   ]
  },
  {
   "cell_type": "code",
   "execution_count": 5,
   "metadata": {},
   "outputs": [
    {
     "name": "stdout",
     "output_type": "stream",
     "text": [
      "huggingface/tokenizers: The current process just got forked, after parallelism has already been used. Disabling parallelism to avoid deadlocks...\n",
      "To disable this warning, you can either:\n",
      "\t- Avoid using `tokenizers` before the fork if possible\n",
      "\t- Explicitly set the environment variable TOKENIZERS_PARALLELISM=(true | false)\n"
     ]
    },
    {
     "name": "stderr",
     "output_type": "stream",
     "text": [
      "  0%|          | 0/10 [00:00<?, ?it/s]"
     ]
    },
    {
     "name": "stderr",
     "output_type": "stream",
     "text": [
      "100%|██████████| 10/10 [00:02<00:00,  3.41it/s]\n"
     ]
    }
   ],
   "source": [
    "import requests\n",
    "\n",
    "def scrape_wikipedia_html(url):\n",
    "    # Send a GET request to the URL\n",
    "    response = requests.get(url)\n",
    "    \n",
    "    # Check if the request was successful (status code 200)\n",
    "    if response.status_code == 200:\n",
    "        # Return the HTML content of the page\n",
    "        return response.text\n",
    "    else:\n",
    "        print(\"Failed to retrieve the page. Status code:\", response.status_code)\n",
    "        return None\n",
    "\n",
    "# Example usage\n",
    "url = \"https://en.wikipedia.org/wiki/Special:Random\"\n",
    "html_content = [scrape_wikipedia_html(url) for i in tqdm(range(10))]"
   ]
  },
  {
   "cell_type": "code",
   "execution_count": 6,
   "metadata": {},
   "outputs": [],
   "source": [
    "from bs4 import BeautifulSoup\n",
    "\n",
    "def clean_html(html_content):\n",
    "    # Parse the HTML content\n",
    "    soup = BeautifulSoup(html_content, 'html.parser')\n",
    "    \n",
    "    # Remove meta tags starting with \"data\"\n",
    "    for tag in soup.find_all(lambda tag: tag.name == 'meta' and tag.has_attr('name') and tag['name'].startswith('data')):\n",
    "        tag.decompose()\n",
    "    \n",
    "    # Replace all class and id attributes with empty strings\n",
    "    for tag in soup.find_all():\n",
    "        if 'class' in tag.attrs:\n",
    "            tag['class'] = ''\n",
    "        if 'id' in tag.attrs:\n",
    "            tag['id'] = ''\n",
    "        if 'rel' in tag.attrs:\n",
    "            tag['rel'] = ''\n",
    "        if 'title' in tag.attrs:\n",
    "            tag['title'] = ''\n",
    "        if 'style' in tag.attrs:\n",
    "            tag['style'] = ''\n",
    "        if 'href' in tag.attrs and (tag.name == 'a' or tag.name == 'link'):\n",
    "            tag['href'] = 'www.wikipedia.org'\n",
    "    \n",
    "    # Return the cleaned HTML content\n",
    "    return str(soup)\n",
    "\n",
    "cleaned_html = [clean_html(i) for i in html_content]"
   ]
  },
  {
   "cell_type": "code",
   "execution_count": 7,
   "metadata": {},
   "outputs": [
    {
     "name": "stderr",
     "output_type": "stream",
     "text": [
      "/var/folders/58/mbdv_l695f5dn7zb8sb9x6h80000gn/T/ipykernel_61417/3852519943.py:17: DeprecationWarning: The 'text' argument to find()-type methods is deprecated. Use 'string' instead.\n",
      "  for comment in soup.find_all(text=lambda text: isinstance(text, Comment)):\n"
     ]
    }
   ],
   "source": [
    "from bs4 import Comment\n",
    "def remove_footer(html_content):\n",
    "    # Parse the HTML content\n",
    "    soup = BeautifulSoup(html_content, 'html.parser')\n",
    "    \n",
    "    # Find and remove footer elements\n",
    "    footer = soup.find('footer')\n",
    "    if footer:\n",
    "        footer.decompose()\n",
    "\n",
    "    for style_tag in soup.find_all('style'):\n",
    "        style_tag.decompose()\n",
    "\n",
    "    for script_tag in soup.find_all('script'):\n",
    "        script_tag.decompose()\n",
    "\n",
    "    for comment in soup.find_all(text=lambda text: isinstance(text, Comment)):\n",
    "        comment.extract()\n",
    "    \n",
    "    # Separate body and head\n",
    "    body = soup.body.extract()\n",
    "    head = soup.head.extract()\n",
    "    \n",
    "    return str(head) + '\\n' + str(body)\n",
    "\n",
    "head_and_body = [remove_footer(i) for i in cleaned_html]"
   ]
  },
  {
   "cell_type": "code",
   "execution_count": 28,
   "metadata": {},
   "outputs": [],
   "source": [
    "# Text to tokens conversion\n",
    "lines = head_and_body[0].split('\\n')\n",
    "str_tokens = [[]]\n",
    "for line in lines:\n",
    "    if len(str_tokens[-1] + model.to_str_tokens(line) + ['\\n']) >= 512:\n",
    "        str_tokens[-1] += [model.tokenizer.pad_token] * (511 - len(str_tokens[-1]))\n",
    "        str_tokens.append([])\n",
    "\n",
    "    str_tokens[-1] += model.to_str_tokens(line) + ['\\n']\n",
    "\n",
    "str_tokens[-1] += [model.tokenizer.pad_token] * (511 - len(str_tokens[-1]))\n",
    "tokens = model.to_tokens([''.join(i) for i in str_tokens])"
   ]
  },
  {
   "cell_type": "code",
   "execution_count": 29,
   "metadata": {},
   "outputs": [],
   "source": [
    "closing_tag_idx = [[i for i, token in enumerate(tokens) if token == '</'] for tokens in str_tokens]"
   ]
  },
  {
   "cell_type": "code",
   "execution_count": 30,
   "metadata": {},
   "outputs": [
    {
     "data": {
      "text/plain": [
       "torch.Size([23, 512])"
      ]
     },
     "execution_count": 30,
     "metadata": {},
     "output_type": "execute_result"
    }
   ],
   "source": [
    "tokens.shape"
   ]
  },
  {
   "cell_type": "code",
   "execution_count": 32,
   "metadata": {},
   "outputs": [
    {
     "data": {
      "text/plain": [
       "['<head>',\n",
       " '<meta charset=\"utf-8\"/>',\n",
       " '<title>Stits SA-7 Sky-Coupe - Wikipedia</title>',\n",
       " '',\n",
       " '',\n",
       " '<link href=\"www.wikipedia.org\" rel=\"\"/>',\n",
       " '',\n",
       " '<meta content=\"\" name=\"ResourceLoaderDynamicStyles\"/>',\n",
       " '<link href=\"www.wikipedia.org\" rel=\"\"/>',\n",
       " '<meta content=\"MediaWiki 1.42.0-wmf.25\" name=\"generator\"/>',\n",
       " '<meta content=\"origin\" name=\"referrer\"/>',\n",
       " '<meta content=\"origin-when-cross-origin\" name=\"referrer\"/>',\n",
       " '<meta content=\"max-image-preview:standard\" name=\"robots\"/>',\n",
       " '<meta content=\"telephone=no\" name=\"format-detection\"/>',\n",
       " '<meta content=\"https://upload.wikimedia.org/wikipedia/commons/thumb/c/c6/Empire_State_Aerosciences_Museum_-_Glenville%2C_New_York_%288158375346%29.jpg/1200px-Empire_State_Aerosciences_Museum_-_Glenville%2C_New_York_%288158375346%29.jpg\" property=\"og:image\"/>',\n",
       " '<meta content=\"1200\" property=\"og:image:width\"/>',\n",
       " '<meta content=\"900\" property=\"og:image:height\"/>',\n",
       " '<meta content=\"https://upload.wikimedia.org/wikipedia/commons/thumb/c/c6/Empire_State_Aerosciences_Museum_-_Glenville%2C_New_York_%288158375346%29.jpg/800px-Empire_State_Aerosciences_Museum_-_Glenville%2C_New_York_%288158375346%29.jpg\" property=\"og:image\"/>',\n",
       " '<meta content=\"800\" property=\"og:image:width\"/>',\n",
       " '<meta content=\"600\" property=\"og:image:height\"/>',\n",
       " '<meta content=\"https://upload.wikimedia.org/wikipedia/commons/thumb/c/c6/Empire_State_Aerosciences_Museum_-_Glenville%2C_New_York_%288158375346%29.jpg/640px-Empire_State_Aerosciences_Museum_-_Glenville%2C_New_York_%288158375346%29.jpg\" property=\"og:image\"/>',\n",
       " '<meta content=\"640\" property=\"og:image:width\"/>',\n",
       " '<meta content=\"480\" property=\"og:image:height\"/>',\n",
       " '<meta content=\"width=1000\" name=\"viewport\"/>',\n",
       " '<meta content=\"Stits SA-7 Sky-Coupe - Wikipedia\" property=\"og:title\"/>',\n",
       " '<meta content=\"website\" property=\"og:type\"/>',\n",
       " '<link href=\"www.wikipedia.org\" rel=\"\"/>',\n",
       " '<link href=\"www.wikipedia.org\" media=\"only screen and (max-width: 720px)\" rel=\"\"/>',\n",
       " '<link href=\"www.wikipedia.org\" rel=\"\" title=\"\" type=\"application/x-wiki\"/>',\n",
       " '<link href=\"www.wikipedia.org\" rel=\"\"/>',\n",
       " '<link href=\"www.wikipedia.org\" rel=\"\"/>',\n",
       " '<link href=\"www.wikipedia.org\" rel=\"\" title=\"\" type=\"application/opensearchdescription+xml\"/>',\n",
       " '<link href=\"www.wikipedia.org\" rel=\"\" type=\"application/rsd+xml\"/>',\n",
       " '<link href=\"www.wikipedia.org\" rel=\"\"/>',\n",
       " '<link href=\"www.wikipedia.org\" rel=\"\"/>',\n",
       " '<link href=\"www.wikipedia.org\" rel=\"\" title=\"\" type=\"application/atom+xml\"/>',\n",
       " '<link href=\"www.wikipedia.org\" rel=\"\"/>',\n",
       " '<link href=\"www.wikipedia.org\" rel=\"\">',\n",
       " '</link></head>',\n",
       " '<body class=\"\"><a class=\"\" href=\"www.wikipedia.org\">Jump to content</a>',\n",
       " '<div class=\"\">',\n",
       " '<header class=\"\">',\n",
       " '<div class=\"\">',\n",
       " '<nav aria-label=\"Site\" class=\"\" role=\"navigation\">',\n",
       " '<div class=\"\" id=\"\">',\n",
       " '<input aria-haspopup=\"true\" aria-label=\"Main menu\" class=\"\" data-event-name=\"ui.dropdown-vector-main-menu-dropdown\" id=\"\" role=\"button\" type=\"checkbox\"/>',\n",
       " '<label aria-hidden=\"true\" class=\"\" for=\"vector-main-menu-dropdown-checkbox\" id=\"\"><span class=\"\"></span>',\n",
       " '<span class=\"\">Main menu</span>',\n",
       " '</label>',\n",
       " '<div class=\"\">',\n",
       " '<div class=\"\" id=\"\">',\n",
       " '<div class=\"\" id=\"\">',\n",
       " '<div class=\"\" data-feature-name=\"main-menu-pinned\" data-pinnable-element-id=\"vector-main-menu\" data-pinned-container-id=\"vector-main-menu-pinned-container\" data-unpinned-container-id=\"vector-main-menu-unpinned-container\">',\n",
       " '<div class=\"\">Main menu</div>',\n",
       " '<button class=\"\" data-event-name=\"pinnable-header.vector-main-menu.pin\">move to sidebar</button>',\n",
       " '<button class=\"\" data-event-name=\"pinnable-header.vector-main-menu.unpin\">hide</button>',\n",
       " '</div>',\n",
       " '<div class=\"\" id=\"\">',\n",
       " '<div class=\"\">',\n",
       " '\\t\\tNavigation',\n",
       " '\\t</div>',\n",
       " '<div class=\"\">',\n",
       " '<ul class=\"\">',\n",
       " '<li class=\"\" id=\"\"><a accesskey=\"z\" href=\"www.wikipedia.org\" title=\"\"><span>Main page</span></a></li><li class=\"\" id=\"\"><a href=\"www.wikipedia.org\" title=\"\"><span>Contents</span></a></li><li class=\"\" id=\"\"><a href=\"www.wikipedia.org\" title=\"\"><span>Current events</span></a></li><li class=\"\" id=\"\"><a accesskey=\"x\" href=\"www.wikipedia.org\" title=\"\"><span>Random article</span></a></li><li class=\"\" id=\"\"><a href=\"www.wikipedia.org\" title=\"\"><span>About Wikipedia</span></a></li><li class=\"\" id=\"\"><a href=\"www.wikipedia.org\" title=\"\"><span>Contact us</span></a></li><li class=\"\" id=\"\"><a href=\"www.wikipedia.org\" title=\"\"><span>Donate</span></a></li>',\n",
       " '</ul>',\n",
       " '</div>',\n",
       " '</div>',\n",
       " '<div class=\"\" id=\"\">',\n",
       " '<div class=\"\">',\n",
       " '\\t\\tContribute',\n",
       " '\\t</div>',\n",
       " '<div class=\"\">',\n",
       " '<ul class=\"\">',\n",
       " '<li class=\"\" id=\"\"><a href=\"www.wikipedia.org\" title=\"\"><span>Help</span></a></li><li class=\"\" id=\"\"><a href=\"www.wikipedia.org\" title=\"\"><span>Learn to edit</span></a></li><li class=\"\" id=\"\"><a href=\"www.wikipedia.org\" title=\"\"><span>Community portal</span></a></li><li class=\"\" id=\"\"><a accesskey=\"r\" href=\"www.wikipedia.org\" title=\"\"><span>Recent changes</span></a></li><li class=\"\" id=\"\"><a href=\"www.wikipedia.org\" title=\"\"><span>Upload file</span></a></li>',\n",
       " '</ul>',\n",
       " '</div>',\n",
       " '</div>',\n",
       " '</div>',\n",
       " '</div>',\n",
       " '</div>',\n",
       " '</div>',\n",
       " '</nav>',\n",
       " '<a class=\"\" href=\"www.wikipedia.org\">',\n",
       " '<img alt=\"\" aria-hidden=\"true\" class=\"\" height=\"50\" src=\"/static/images/icons/wikipedia.png\" width=\"50\"/>',\n",
       " '<span class=\"\">',\n",
       " '<img alt=\"Wikipedia\" class=\"\" src=\"/static/images/mobile/copyright/wikipedia-wordmark-en.svg\" style=\"\"/>',\n",
       " '<img alt=\"The Free Encyclopedia\" class=\"\" height=\"13\" src=\"/static/images/mobile/copyright/wikipedia-tagline-en.svg\" style=\"\" width=\"117\"/>',\n",
       " '</span>',\n",
       " '</a>',\n",
       " '</div>',\n",
       " '<div class=\"\">',\n",
       " '<div class=\"\" id=\"\" role=\"search\">',\n",
       " '<a accesskey=\"f\" class=\"\" href=\"www.wikipedia.org\" id=\"\" title=\"\"><span class=\"\"></span>',\n",
       " '<span>Search</span>',\n",
       " '</a>',\n",
       " '<div class=\"\">',\n",
       " '<div class=\"\">',\n",
       " '<form action=\"/w/index.php\" class=\"\" id=\"\">',\n",
       " '<div class=\"\" data-search-loc=\"header-moved\" id=\"\">',\n",
       " '<div class=\"\">',\n",
       " '<input accesskey=\"f\" aria-label=\"Search Wikipedia\" autocapitalize=\"sentences\" class=\"\" id=\"\" name=\"search\" placeholder=\"Search Wikipedia\" title=\"\" type=\"search\"/>',\n",
       " '<span class=\"\"></span>',\n",
       " '</div>',\n",
       " '<input name=\"title\" type=\"hidden\" value=\"Special:Search\"/>',\n",
       " '</div>',\n",
       " '<button class=\"\">Search</button>',\n",
       " '</form>',\n",
       " '</div>',\n",
       " '</div>',\n",
       " '</div>',\n",
       " '<nav aria-label=\"Personal tools\" class=\"\" role=\"navigation\">',\n",
       " '<div class=\"\">',\n",
       " '<div class=\"\" id=\"\">',\n",
       " '<div class=\"\">',\n",
       " '<ul class=\"\">',\n",
       " '</ul>',\n",
       " '</div>',\n",
       " '</div>',\n",
       " '<div class=\"\" id=\"\">',\n",
       " '<div class=\"\">',\n",
       " '<ul class=\"\">',\n",
       " '</ul>',\n",
       " '</div>',\n",
       " '</div>',\n",
       " '<nav aria-label=\"Appearance\" class=\"\">',\n",
       " '</nav>',\n",
       " '<div class=\"\" id=\"\">',\n",
       " '<div class=\"\">',\n",
       " '<ul class=\"\">',\n",
       " '</ul>',\n",
       " '</div>',\n",
       " '</div>',\n",
       " '<div class=\"\" id=\"\">',\n",
       " '<div class=\"\">',\n",
       " '<ul class=\"\">',\n",
       " '<li class=\"\" id=\"\"><a class=\"\" data-mw=\"interface\" href=\"www.wikipedia.org\" title=\"\"><span>Create account</span></a>',\n",
       " '</li>',\n",
       " '<li class=\"\" id=\"\"><a accesskey=\"o\" class=\"\" data-mw=\"interface\" href=\"www.wikipedia.org\" title=\"\"><span>Log in</span></a>',\n",
       " '</li>',\n",
       " '</ul>',\n",
       " '</div>',\n",
       " '</div>',\n",
       " '</div>',\n",
       " '<div class=\"\" id=\"\" title=\"\">',\n",
       " '<input aria-haspopup=\"true\" aria-label=\"Personal tools\" class=\"\" data-event-name=\"ui.dropdown-vector-user-links-dropdown\" id=\"\" role=\"button\" type=\"checkbox\"/>',\n",
       " '<label aria-hidden=\"true\" class=\"\" for=\"vector-user-links-dropdown-checkbox\" id=\"\"><span class=\"\"></span>',\n",
       " '<span class=\"\">Personal tools</span>',\n",
       " '</label>',\n",
       " '<div class=\"\">',\n",
       " '<div class=\"\" id=\"\" title=\"\">',\n",
       " '<div class=\"\">',\n",
       " '<ul class=\"\">',\n",
       " '<li class=\"\" id=\"\"><a href=\"www.wikipedia.org\" title=\"\"><span class=\"\"></span> <span>Create account</span></a></li><li class=\"\" id=\"\"><a accesskey=\"o\" href=\"www.wikipedia.org\" title=\"\"><span class=\"\"></span> <span>Log in</span></a></li>',\n",
       " '</ul>',\n",
       " '</div>',\n",
       " '</div>',\n",
       " '<div class=\"\" id=\"\">',\n",
       " '<div class=\"\">',\n",
       " '\\t\\tPages for logged out editors <a aria-label=\"Learn more about editing\" href=\"www.wikipedia.org\"><span>learn more</span></a>',\n",
       " '</div>',\n",
       " '<div class=\"\">',\n",
       " '<ul class=\"\">',\n",
       " '<li class=\"\" id=\"\"><a accesskey=\"y\" href=\"www.wikipedia.org\" title=\"\"><span>Contributions</span></a></li><li class=\"\" id=\"\"><a accesskey=\"n\" href=\"www.wikipedia.org\" title=\"\"><span>Talk</span></a></li>',\n",
       " '</ul>',\n",
       " '</div>',\n",
       " '</div>',\n",
       " '</div>',\n",
       " '</div>',\n",
       " '</nav>',\n",
       " '</div>',\n",
       " '</header>',\n",
       " '</div>',\n",
       " '<div class=\"\">',\n",
       " '<div class=\"\">',\n",
       " '<div class=\"\">',\n",
       " '<div id=\"\"></div>',\n",
       " '</div>',\n",
       " '<div class=\"\">',\n",
       " '<div class=\"\">',\n",
       " '<div id=\"\">',\n",
       " '<nav aria-label=\"Site\" class=\"\" id=\"\" role=\"navigation\">',\n",
       " '<div class=\"\" id=\"\">',\n",
       " '</div>',\n",
       " '</nav>',\n",
       " '</div>',\n",
       " '</div>',\n",
       " '<div class=\"\">',\n",
       " '<nav aria-label=\"Contents\" class=\"\" data-event-name=\"ui.sidebar-toc\" id=\"\" role=\"navigation\">',\n",
       " '<div class=\"\" id=\"\">',\n",
       " '<div class=\"\" id=\"\">',\n",
       " '<div class=\"\" data-feature-name=\"toc-pinned\" data-pinnable-element-id=\"vector-toc\">',\n",
       " '<h2 class=\"\">Contents</h2>',\n",
       " '<button class=\"\" data-event-name=\"pinnable-header.vector-toc.pin\">move to sidebar</button>',\n",
       " '<button class=\"\" data-event-name=\"pinnable-header.vector-toc.unpin\">hide</button>',\n",
       " '</div>',\n",
       " '<ul class=\"\" id=\"\">',\n",
       " '<li class=\"\" id=\"\">',\n",
       " '<a class=\"\" href=\"www.wikipedia.org\">',\n",
       " '<div class=\"\">(Top)</div>',\n",
       " '</a>',\n",
       " '</li>',\n",
       " '<li class=\"\" id=\"\">',\n",
       " '<a class=\"\" href=\"www.wikipedia.org\">',\n",
       " '<div class=\"\">',\n",
       " '<span class=\"\">1</span>Design</div>',\n",
       " '</a>',\n",
       " '<ul class=\"\" id=\"\">',\n",
       " '</ul>',\n",
       " '</li>',\n",
       " '<li class=\"\" id=\"\">',\n",
       " '<a class=\"\" href=\"www.wikipedia.org\">',\n",
       " '<div class=\"\">',\n",
       " '<span class=\"\">2</span>Variants</div>',\n",
       " '</a>',\n",
       " '<ul class=\"\" id=\"\">',\n",
       " '</ul>',\n",
       " '</li>',\n",
       " '<li class=\"\" id=\"\">',\n",
       " '<a class=\"\" href=\"www.wikipedia.org\">',\n",
       " '<div class=\"\">',\n",
       " '<span class=\"\">3</span>Specifications Stits SA-7B Sky-Coupe</div>',\n",
       " '</a>',\n",
       " '<ul class=\"\" id=\"\">',\n",
       " '</ul>',\n",
       " '</li>',\n",
       " '<li class=\"\" id=\"\">',\n",
       " '<a class=\"\" href=\"www.wikipedia.org\">',\n",
       " '<div class=\"\">',\n",
       " '<span class=\"\">4</span>See also</div>',\n",
       " '</a>',\n",
       " '<ul class=\"\" id=\"\">',\n",
       " '</ul>',\n",
       " '</li>',\n",
       " '<li class=\"\" id=\"\">',\n",
       " '<a class=\"\" href=\"www.wikipedia.org\">',\n",
       " '<div class=\"\">',\n",
       " '<span class=\"\">5</span>References</div>',\n",
       " '</a>',\n",
       " '<ul class=\"\" id=\"\">',\n",
       " '</ul>',\n",
       " '</li>',\n",
       " '</ul>',\n",
       " '</div>',\n",
       " '</div>',\n",
       " '</nav>',\n",
       " '</div>',\n",
       " '</div>',\n",
       " '<div class=\"\">',\n",
       " '<main class=\"\" id=\"\" role=\"main\">',\n",
       " '<header class=\"\">',\n",
       " '<nav aria-label=\"Contents\" class=\"\" role=\"navigation\">',\n",
       " '<div class=\"\" id=\"\">',\n",
       " '<input aria-haspopup=\"true\" aria-label=\"Toggle the table of contents\" class=\"\" data-event-name=\"ui.dropdown-vector-page-titlebar-toc\" id=\"\" role=\"button\" type=\"checkbox\"/>',\n",
       " '<label aria-hidden=\"true\" class=\"\" for=\"vector-page-titlebar-toc-checkbox\" id=\"\"><span class=\"\"></span>',\n",
       " '<span class=\"\">Toggle the table of contents</span>',\n",
       " '</label>',\n",
       " '<div class=\"\">',\n",
       " '<div class=\"\" id=\"\">',\n",
       " '</div>',\n",
       " '</div>',\n",
       " '</div>',\n",
       " '</nav>',\n",
       " '<h1 class=\"\" id=\"\"><span class=\"\">Stits SA-7 Sky-Coupe</span></h1>',\n",
       " '<div class=\"\" id=\"\">',\n",
       " '<input aria-haspopup=\"true\" aria-label=\"Go to an article in another language. Available in 1 language\" class=\"\" data-event-name=\"ui.dropdown-p-lang-btn\" id=\"\" role=\"button\" type=\"checkbox\"/>',\n",
       " '<label aria-hidden=\"true\" class=\"\" for=\"p-lang-btn-checkbox\" id=\"\"><span class=\"\"></span>',\n",
       " '<span class=\"\">1 language</span>',\n",
       " '</label>',\n",
       " '<div class=\"\">',\n",
       " '<div class=\"\">',\n",
       " '<ul class=\"\">',\n",
       " '<li class=\"\"><a class=\"\" href=\"www.wikipedia.org\" hreflang=\"fr\" lang=\"fr\" title=\"\"><span>Français</span></a></li>',\n",
       " '</ul>',\n",
       " '<div class=\"\"><span class=\"\"><a class=\"\" href=\"www.wikipedia.org\" title=\"\">Edit links</a></span></div>',\n",
       " '</div>',\n",
       " '</div>',\n",
       " '</div>',\n",
       " '</header>',\n",
       " '<div class=\"\">',\n",
       " '<div class=\"\">',\n",
       " '<div id=\"\">',\n",
       " '<nav aria-label=\"Namespaces\">',\n",
       " '<div class=\"\" id=\"\">',\n",
       " '<div class=\"\">',\n",
       " '<ul class=\"\">',\n",
       " '<li class=\"\" id=\"\"><a accesskey=\"c\" href=\"www.wikipedia.org\" title=\"\"><span>Article</span></a></li><li class=\"\" id=\"\"><a accesskey=\"t\" href=\"www.wikipedia.org\" rel=\"\" title=\"\"><span>Talk</span></a></li>',\n",
       " '</ul>',\n",
       " '</div>',\n",
       " '</div>',\n",
       " '<div class=\"\" id=\"\">',\n",
       " '<input aria-haspopup=\"true\" aria-label=\"Change language variant\" class=\"\" data-event-name=\"ui.dropdown-p-variants\" id=\"\" role=\"button\" type=\"checkbox\"/>',\n",
       " '<label aria-hidden=\"true\" class=\"\" for=\"p-variants-checkbox\" id=\"\"><span class=\"\">English</span>',\n",
       " '</label>',\n",
       " '<div class=\"\">',\n",
       " '<div class=\"\" id=\"\">',\n",
       " '<div class=\"\">',\n",
       " '<ul class=\"\">',\n",
       " '</ul>',\n",
       " '</div>',\n",
       " '</div>',\n",
       " '</div>',\n",
       " '</div>',\n",
       " '</nav>',\n",
       " '</div>',\n",
       " '<div class=\"\" id=\"\">',\n",
       " '<nav aria-label=\"Views\">',\n",
       " '<div class=\"\" id=\"\">',\n",
       " '<div class=\"\">',\n",
       " '<ul class=\"\">',\n",
       " '<li class=\"\" id=\"\"><a href=\"www.wikipedia.org\"><span>Read</span></a></li><li class=\"\" id=\"\"><a accesskey=\"e\" href=\"www.wikipedia.org\" title=\"\"><span>Edit</span></a></li><li class=\"\" id=\"\"><a accesskey=\"h\" href=\"www.wikipedia.org\" title=\"\"><span>View history</span></a></li>',\n",
       " '</ul>',\n",
       " '</div>',\n",
       " '</div>',\n",
       " '</nav>',\n",
       " '<nav aria-label=\"Page tools\" class=\"\">',\n",
       " '<div class=\"\" id=\"\">',\n",
       " '<input aria-haspopup=\"true\" aria-label=\"Tools\" class=\"\" data-event-name=\"ui.dropdown-vector-page-tools-dropdown\" id=\"\" role=\"button\" type=\"checkbox\"/>',\n",
       " '<label aria-hidden=\"true\" class=\"\" for=\"vector-page-tools-dropdown-checkbox\" id=\"\"><span class=\"\">Tools</span>',\n",
       " '</label>',\n",
       " '<div class=\"\">',\n",
       " '<div class=\"\" id=\"\">',\n",
       " '<div class=\"\" id=\"\">',\n",
       " '<div class=\"\" data-feature-name=\"page-tools-pinned\" data-pinnable-element-id=\"vector-page-tools\" data-pinned-container-id=\"vector-page-tools-pinned-container\" data-unpinned-container-id=\"vector-page-tools-unpinned-container\">',\n",
       " '<div class=\"\">Tools</div>',\n",
       " '<button class=\"\" data-event-name=\"pinnable-header.vector-page-tools.pin\">move to sidebar</button>',\n",
       " '<button class=\"\" data-event-name=\"pinnable-header.vector-page-tools.unpin\">hide</button>',\n",
       " '</div>',\n",
       " '<div class=\"\" id=\"\" title=\"\">',\n",
       " '<div class=\"\">',\n",
       " '\\t\\tActions',\n",
       " '\\t</div>',\n",
       " '<div class=\"\">',\n",
       " '<ul class=\"\">',\n",
       " '<li class=\"\" id=\"\"><a href=\"www.wikipedia.org\"><span>Read</span></a></li><li class=\"\" id=\"\"><a accesskey=\"e\" href=\"www.wikipedia.org\" title=\"\"><span>Edit</span></a></li><li class=\"\" id=\"\"><a href=\"www.wikipedia.org\"><span>View history</span></a></li>',\n",
       " '</ul>',\n",
       " '</div>',\n",
       " '</div>',\n",
       " '<div class=\"\" id=\"\">',\n",
       " '<div class=\"\">',\n",
       " '\\t\\tGeneral',\n",
       " '\\t</div>',\n",
       " '<div class=\"\">',\n",
       " '<ul class=\"\">',\n",
       " '<li class=\"\" id=\"\"><a accesskey=\"j\" href=\"www.wikipedia.org\" title=\"\"><span>What links here</span></a></li><li class=\"\" id=\"\"><a accesskey=\"k\" href=\"www.wikipedia.org\" rel=\"\" title=\"\"><span>Related changes</span></a></li><li class=\"\" id=\"\"><a accesskey=\"u\" href=\"www.wikipedia.org\" title=\"\"><span>Upload file</span></a></li><li class=\"\" id=\"\"><a accesskey=\"q\" href=\"www.wikipedia.org\" title=\"\"><span>Special pages</span></a></li><li class=\"\" id=\"\"><a href=\"www.wikipedia.org\" title=\"\"><span>Permanent link</span></a></li><li class=\"\" id=\"\"><a href=\"www.wikipedia.org\" title=\"\"><span>Page information</span></a></li><li class=\"\" id=\"\"><a href=\"www.wikipedia.org\" title=\"\"><span>Cite this page</span></a></li><li class=\"\" id=\"\"><a href=\"www.wikipedia.org\"><span>Get shortened URL</span></a></li><li class=\"\" id=\"\"><a href=\"www.wikipedia.org\"><span>Download QR code</span></a></li><li class=\"\" id=\"\"><a accesskey=\"g\" href=\"www.wikipedia.org\" title=\"\"><span>Wikidata item</span></a></li>',\n",
       " '</ul>',\n",
       " '</div>',\n",
       " '</div>',\n",
       " '<div class=\"\" id=\"\">',\n",
       " '<div class=\"\">',\n",
       " '\\t\\tPrint/export',\n",
       " '\\t</div>',\n",
       " '<div class=\"\">',\n",
       " '<ul class=\"\">',\n",
       " '<li class=\"\" id=\"\"><a href=\"www.wikipedia.org\" title=\"\"><span>Download as PDF</span></a></li><li class=\"\" id=\"\"><a accesskey=\"p\" href=\"www.wikipedia.org\" title=\"\"><span>Printable version</span></a></li>',\n",
       " '</ul>',\n",
       " '</div>',\n",
       " '</div>',\n",
       " '<div class=\"\" id=\"\">',\n",
       " '<div class=\"\">',\n",
       " '\\t\\tIn other projects',\n",
       " '\\t</div>',\n",
       " '<div class=\"\">',\n",
       " '<ul class=\"\">',\n",
       " '<li class=\"\"><a href=\"www.wikipedia.org\" hreflang=\"en\"><span>Wikimedia Commons</span></a></li>',\n",
       " '</ul>',\n",
       " '</div>',\n",
       " '</div>',\n",
       " '</div>',\n",
       " '</div>',\n",
       " '</div>',\n",
       " '</div>',\n",
       " '</nav>',\n",
       " '</div>',\n",
       " '</div>',\n",
       " '</div>',\n",
       " '<div class=\"\">',\n",
       " '<div class=\"\">',\n",
       " '<nav aria-label=\"Page tools\" class=\"\">',\n",
       " '<div class=\"\" id=\"\">',\n",
       " '</div>',\n",
       " '</nav>',\n",
       " '<nav aria-label=\"Appearance\" class=\"\">',\n",
       " '</nav>',\n",
       " '</div>',\n",
       " '</div>',\n",
       " '<div aria-labelledby=\"firstHeading\" class=\"\" data-mw-ve-target-container=\"\" id=\"\">',\n",
       " '<div class=\"\">',\n",
       " '<div class=\"\">',\n",
       " '</div>',\n",
       " '<div class=\"\" id=\"\">From Wikipedia, the free encyclopedia</div>',\n",
       " '</div>',\n",
       " '<div id=\"\"><div id=\"\"></div></div>',\n",
       " '<div class=\"\" id=\"\"><div class=\"\" dir=\"ltr\" lang=\"en\"><table class=\"\" style=\"\">',\n",
       " '<tbody><tr>',\n",
       " '<th colspan=\"2\" style=\"\">Stits SA-7 Skycoupe',\n",
       " '</th></tr>',\n",
       " '<tr>',\n",
       " '<td colspan=\"2\" style=\"\"><span typeof=\"mw:File\"><a class=\"\" href=\"www.wikipedia.org\"><img class=\"\" data-file-height=\"2304\" data-file-width=\"3072\" decoding=\"async\" height=\"225\" src=\"//upload.wikimedia.org/wikipedia/commons/thumb/c/c6/Empire_State_Aerosciences_Museum_-_Glenville%2C_New_York_%288158375346%29.jpg/300px-Empire_State_Aerosciences_Museum_-_Glenville%2C_New_York_%288158375346%29.jpg\" srcset=\"//upload.wikimedia.org/wikipedia/commons/thumb/c/c6/Empire_State_Aerosciences_Museum_-_Glenville%2C_New_York_%288158375346%29.jpg/450px-Empire_State_Aerosciences_Museum_-_Glenville%2C_New_York_%288158375346%29.jpg 1.5x, //upload.wikimedia.org/wikipedia/commons/thumb/c/c6/Empire_State_Aerosciences_Museum_-_Glenville%2C_New_York_%288158375346%29.jpg/600px-Empire_State_Aerosciences_Museum_-_Glenville%2C_New_York_%288158375346%29.jpg 2x\" width=\"300\"/></a></span>',\n",
       " '</td></tr>',\n",
       " '<tr>',\n",
       " '<th>Role',\n",
       " '</th>',\n",
       " '<td>Homebuilt aircraft<div class=\"\" style=\"\">Type of aircraft</div>',\n",
       " '</td></tr>',\n",
       " '<tr>',\n",
       " '<th><span class=\"\">National origin</span>',\n",
       " '</th>',\n",
       " '<td>United States',\n",
       " '</td></tr>',\n",
       " '<tr>',\n",
       " '<th>Manufacturer',\n",
       " '</th>',\n",
       " '<td>Stits Aircraft',\n",
       " '</td></tr>',\n",
       " '<tr>',\n",
       " '<th>Designer',\n",
       " '</th>',\n",
       " '<td><a href=\"www.wikipedia.org\" title=\"\">Ray Stits</a>, <a class=\"\" href=\"www.wikipedia.org\" title=\"\">Harold Dale</a>',\n",
       " '</td></tr>',\n",
       " '<tr>',\n",
       " '<th>First flight',\n",
       " '</th>',\n",
       " '<td>1957',\n",
       " '</td></tr>',\n",
       " '<tr>',\n",
       " '<th>Introduction',\n",
       " '</th>',\n",
       " '<td>1957',\n",
       " '</td></tr>',\n",
       " '</tbody></table>',\n",
       " '<p>The <b>Stits SA-7 Skycoupe</b> is a two-seat, <a class=\"\" href=\"www.wikipedia.org\" title=\"\">side-by-side seating</a>, high wing <a href=\"www.wikipedia.org\" title=\"\">homebuilt aircraft</a> designed by Ray Stits.<sup class=\"\" id=\"\"><a href=\"www.wikipedia.org\">[1]</a></sup>',\n",
       " '</p>',\n",
       " '<meta property=\"mw:PageProp/toc\"/>',\n",
       " '<h2><span class=\"\" id=\"\">Design</span><span class=\"\"><span class=\"\">[</span><a href=\"www.wikipedia.org\" title=\"\"><span>edit</span></a><span class=\"\">]</span></span></h2>',\n",
       " '<p>Ray Stits designed 14 different homebuilt aircraft kits that were some of the first available to the general public built in quantity.<sup class=\"\" id=\"\"><a href=\"www.wikipedia.org\">[2]</a></sup> Stits is also known to the general public as the maker of the <a class=\"\" href=\"www.wikipedia.org\" title=\"\">Stits Junior</a>, <a href=\"www.wikipedia.org\" title=\"\">Stits SA-2A Sky Baby</a>,<sup class=\"\" id=\"\"><a href=\"www.wikipedia.org\">[3]</a></sup> and <a class=\"\" href=\"www.wikipedia.org\" title=\"\">Stits Baby Bird</a>, each of which was once the world\\'s smallest aircraft.<sup class=\"\" id=\"\"><a href=\"www.wikipedia.org\">[4]</a></sup> Engineer <a class=\"\" href=\"www.wikipedia.org\" title=\"\">Harold Dale</a> assisted in the certification process after completing his <a href=\"www.wikipedia.org\" title=\"\">Dale Weejet 800</a>.<sup class=\"\" id=\"\"><a href=\"www.wikipedia.org\">[5]</a></sup>',\n",
       " '</p><p>The Skycoupe was provided as a kit with a pre-fabricated steel tube fuselage. The surfaces are fabric covered. The aircraft was designed to accommodate engines ranging from 60 to 90\\xa0hp (45 to 67\\xa0kW).',\n",
       " '</p>',\n",
       " '<h2><span class=\"\" id=\"\">Variants</span><span class=\"\"><span class=\"\">[</span><a href=\"www.wikipedia.org\" title=\"\"><span>edit</span></a><span class=\"\">]</span></span></h2>',\n",
       " '<dl><dt>SA-7A</dt>',\n",
       " '<dt>SA-7B</dt>',\n",
       " '<dd>Powered by a <a class=\"\" href=\"www.wikipedia.org\" title=\"\">Continental C85</a></dd>',\n",
       " '<dt>SA-7C</dt>',\n",
       " '<dt>SA-7D</dt>',\n",
       " '<dd>Updated with a squared off swept tail configuration.</dd>',\n",
       " '<dt>SA-9A</dt>',\n",
       " '<dd>A type certificated version.</dd></dl>',\n",
       " '<h2><span class=\"\" id=\"\">Specifications Stits SA-7B Sky-Coupe</span><span class=\"\"><span class=\"\">[</span><a href=\"www.wikipedia.org\" title=\"\"><span>edit</span></a><span class=\"\">]</span></span></h2>',\n",
       " '<p style=\"\"><i>Data from</i> Jane\\'s All the World\\'s Aircraft 1961–62<sup class=\"\" id=\"\"><a href=\"www.wikipedia.org\">[6]</a></sup></p><p><span style=\"\"><b>General characteristics</b></span>',\n",
       " '</p><ul><li><b>Capacity:</b> 2</li>',\n",
       " '<li><b>Length:</b> 17\\xa0ft 9\\xa0in (5.41\\xa0m)</li>',\n",
       " '<li><b>Wingspan:</b> 25\\xa0ft 9\\xa0in (7.85\\xa0m)</li>',\n",
       " '<li><b>Height:</b> 6\\xa0ft 6\\xa0in (1.98\\xa0m)</li>',\n",
       " '<li><b>Wing area:</b> 120\\xa0sq\\xa0ft (11\\xa0m<sup>2</sup>)</li>',\n",
       " '<li><b><a href=\"www.wikipedia.org\" title=\"\">Aspect ratio</a>:</b> 5:1</li>',\n",
       " '<li><b><a href=\"www.wikipedia.org\" title=\"\">Airfoil</a>:</b> NACA 4412</li>',\n",
       " '<li><b>Empty weight:</b> 650\\xa0lb (295\\xa0kg)</li>',\n",
       " '<li><b>Gross weight:</b> 1,175\\xa0lb (533\\xa0kg)</li>',\n",
       " '<li><b>Fuel capacity:</b> 18\\xa0US\\xa0gal (15\\xa0imp\\xa0gal; 68\\xa0L)</li>',\n",
       " '<li><b>Powerplant:</b> 1 × <a class=\"\" href=\"www.wikipedia.org\" title=\"\">Continental C85</a> air-cooled <a class=\"\" href=\"www.wikipedia.org\" title=\"\">flat-four</a>, 85\\xa0hp (63\\xa0kW)</li></ul>',\n",
       " '<p><span style=\"\"><b>Performance</b></span>',\n",
       " '</p>',\n",
       " '<ul><li><b>Maximum speed:</b> 120\\xa0kn (138\\xa0mph, 222\\xa0km/h)</li>',\n",
       " '<li><b>Cruise speed:</b> 100\\xa0kn (115\\xa0mph, 185\\xa0km/h)</li>',\n",
       " '<li><b>Stall speed:</b> 42\\xa0kn (48\\xa0mph, 77\\xa0km/h)</li>',\n",
       " '<li><b>Range:</b> 350\\xa0nmi (400\\xa0mi, 640\\xa0km)</li>',\n",
       " '<li><b>Service ceiling:</b> 12,000\\xa0ft (3,700\\xa0m)</li>',\n",
       " '<li><b>Rate of climb:</b> 1,000\\xa0ft/min (5.1\\xa0m/s)</li></ul>',\n",
       " '<h2><span class=\"\" id=\"\">See also</span><span class=\"\"><span class=\"\">[</span><a href=\"www.wikipedia.org\" title=\"\"><span>edit</span></a><span class=\"\">]</span></span></h2>',\n",
       " '<p>',\n",
       " '<b>Related development</b>',\n",
       " '</p>',\n",
       " '<ul><li><a class=\"\" href=\"www.wikipedia.org\" title=\"\">Stits SA-3A Playboy</a></li>',\n",
       " '<li><a href=\"www.wikipedia.org\" title=\"\">Stits SA-8 Skeeto</a></li></ul>',\n",
       " '<p class=\"\">',\n",
       " '</p>',\n",
       " '<h2><span class=\"\" id=\"\">References</span><span class=\"\"><span class=\"\">[</span><a href=\"www.wikipedia.org\" title=\"\"><span>edit</span></a><span class=\"\">]</span></span></h2>',\n",
       " '<div class=\"\">',\n",
       " '<div class=\"\">',\n",
       " '<div class=\"\"><span class=\"\" typeof=\"mw:File\"><span><img alt=\"\" class=\"\" data-file-height=\"1376\" data-file-width=\"1024\" decoding=\"async\" height=\"40\" src=\"//upload.wikimedia.org/wikipedia/en/thumb/4/4a/Commons-logo.svg/30px-Commons-logo.svg.png\" srcset=\"//upload.wikimedia.org/wikipedia/en/thumb/4/4a/Commons-logo.svg/45px-Commons-logo.svg.png 1.5x, //upload.wikimedia.org/wikipedia/en/thumb/4/4a/Commons-logo.svg/59px-Commons-logo.svg.png 2x\" width=\"30\"/></span></span></div>',\n",
       " '<div class=\"\">Wikimedia Commons has media related to <span style=\"\"><a class=\"\" href=\"www.wikipedia.org\" title=\"\">Stits SA-7 Skycoupe</a></span>.</div></div>',\n",
       " '</div>',\n",
       " '<div class=\"\">',\n",
       " '<div class=\"\"><ol class=\"\">',\n",
       " '<li id=\"\"><span class=\"\"><b><a href=\"www.wikipedia.org\">^</a></b></span> <span class=\"\"><cite class=\"\" id=\"\">Leo J. Kohn (Feb 1957). \"The Latest in the Stits Line\". <i>Experimenter</i>.</cite><span class=\"\" title=\"\"></span></span>',\n",
       " '</li>',\n",
       " '<li id=\"\"><span class=\"\"><b><a href=\"www.wikipedia.org\">^</a></b></span> <span class=\"\"><link href=\"www.wikipedia.org\" rel=\"\"/><cite class=\"\"><a class=\"\" href=\"www.wikipedia.org\" rel=\"\">\"Students Restore Sky Coupe\"</a>. Archived from <a class=\"\" href=\"www.wikipedia.org\" rel=\"\">the original</a> on 22 November 2010<span class=\"\">. Retrieved <span class=\"\">27 December</span> 2010</span>.</cite><span class=\"\" title=\"\"></span></span>',\n",
       " '</li>',\n",
       " '<li id=\"\"><span class=\"\"><b><a href=\"www.wikipedia.org\">^</a></b></span> <span class=\"\"><link href=\"www.wikipedia.org\" rel=\"\"/><cite class=\"\" id=\"\">Hearst Magazines (September 1952). <a class=\"\" href=\"www.wikipedia.org\" rel=\"\">\"Seven Foot Airplane Flies 150 Miles Per Hour\"</a>. <i>Popular Mechanics</i>. Hearst Magazines. p.\\xa0117.</cite><span class=\"\" title=\"\"></span></span>',\n",
       " '</li>',\n",
       " '<li id=\"\"><span class=\"\"><b><a href=\"www.wikipedia.org\">^</a></b></span> <span class=\"\"><link href=\"www.wikipedia.org\" rel=\"\"/><cite class=\"\"><a class=\"\" href=\"www.wikipedia.org\" rel=\"\">\"Ray Stits\"</a>. Archived from <a class=\"\" href=\"www.wikipedia.org\" rel=\"\">the original</a> on 11 July 2011<span class=\"\">. Retrieved <span class=\"\">27 December</span> 2010</span>.</cite><span class=\"\" title=\"\"></span></span>',\n",
       " '</li>',\n",
       " '<li id=\"\"><span class=\"\"><b><a href=\"www.wikipedia.org\">^</a></b></span> <span class=\"\"><link href=\"www.wikipedia.org\" rel=\"\"/><cite class=\"\" id=\"\">Trefethen, Joan (May 1959). \"The \\'Weejet\\'<span class=\"\"></span>\". <i>Sport Aviation</i>: 4–5.</cite><span class=\"\" title=\"\"></span></span>',\n",
       " '</li>',\n",
       " '<li id=\"\"><span class=\"\"><b><a href=\"www.wikipedia.org\">^</a></b></span> <span class=\"\"><a href=\"www.wikipedia.org\">Taylor 1961</a>, p.\\xa0326</span>',\n",
       " '</li>',\n",
       " '</ol></div></div>',\n",
       " '<ul><li><link href=\"www.wikipedia.org\" rel=\"\"/><cite class=\"\" id=\"\"><a href=\"www.wikipedia.org\" title=\"\">Taylor, John W. R.</a> (1961). <i>Jane\\'s All the World\\'s Aircraft 1961–62</i>. London: Sampson Low, Marston &amp; Company, Ltd.</cite><span class=\"\" title=\"\"></span></li></ul>',\n",
       " '<div class=\"\"></div><div aria-labelledby=\"Aircraft_designed_by_Ray_Stits\" class=\"\" role=\"navigation\" style=\"\"><table class=\"\" style=\"\"><tbody><tr><th class=\"\" colspan=\"2\" scope=\"col\"><link href=\"www.wikipedia.org\" rel=\"\"/><div class=\"\"><ul><li class=\"\"><a href=\"www.wikipedia.org\" title=\"\"><abbr style=\"\" title=\"\">v</abbr></a></li><li class=\"\"><a href=\"www.wikipedia.org\" title=\"\"><abbr style=\"\" title=\"\">t</abbr></a></li><li class=\"\"><a href=\"www.wikipedia.org\" title=\"\"><abbr style=\"\" title=\"\">e</abbr></a></li></ul></div><div id=\"\" style=\"\">Aircraft designed by <a href=\"www.wikipedia.org\" title=\"\">Ray Stits</a></div></th></tr><tr><td class=\"\" colspan=\"2\" style=\"\"><div style=\"\">',\n",
       " '<ul><li><a href=\"www.wikipedia.org\" title=\"\">SA-1A Junior</a></li>',\n",
       " '<li><a href=\"www.wikipedia.org\" title=\"\">DS-1 Baby Bird</a></li>',\n",
       " '<li><a href=\"www.wikipedia.org\" title=\"\">SA-2A Sky Baby</a></li>',\n",
       " '<li><a href=\"www.wikipedia.org\" title=\"\">SA-3A Playboy</a></li>',\n",
       " '<li><a href=\"www.wikipedia.org\" title=\"\">SA-4A Executive</a></li>',\n",
       " '<li><a href=\"www.wikipedia.org\" title=\"\">SA-5 Flut-R-Bug</a></li>',\n",
       " '<li><a class=\"\">SA-7 Skycoupe</a></li>',\n",
       " '<li><a href=\"www.wikipedia.org\" title=\"\">SA-8 Skeeto</a></li>',\n",
       " '<li><a href=\"www.wikipedia.org\" title=\"\">SA-11A Playmate</a></li>',\n",
       " '<li><a href=\"www.wikipedia.org\" title=\"\">Stits-Besler Executive</a></li></ul>',\n",
       " '</div></td></tr></tbody></table></div>',\n",
       " '',\n",
       " '',\n",
       " '',\n",
       " '</div><noscript><img alt=\"\" height=\"1\" src=\"https://login.wikimedia.org/wiki/Special:CentralAutoLogin/start?type=1x1\" style=\"\" width=\"1\"/></noscript>',\n",
       " '<div class=\"\" data-nosnippet=\"\">Retrieved from \"<a dir=\"ltr\" href=\"www.wikipedia.org\">https://en.wikipedia.org/w/index.php?title=Stits_SA-7_Sky-Coupe&amp;oldid=1189652364</a>\"</div></div>',\n",
       " '<div class=\"\" data-mw=\"interface\" id=\"\"><div class=\"\" id=\"\"><a href=\"www.wikipedia.org\" title=\"\">Categories</a>: <ul><li><a href=\"www.wikipedia.org\" title=\"\">Single-engined tractor aircraft</a></li><li><a href=\"www.wikipedia.org\" title=\"\">High-wing homebuilt aircraft</a></li><li><a href=\"www.wikipedia.org\" title=\"\">1950s United States sport aircraft</a></li><li><a href=\"www.wikipedia.org\" title=\"\">Aircraft first flown in 1957</a></li></ul></div><div class=\"\" id=\"\">Hidden categories: <ul><li><a href=\"www.wikipedia.org\" title=\"\">Articles with short description</a></li><li><a href=\"www.wikipedia.org\" title=\"\">Short description matches Wikidata</a></li><li><a href=\"www.wikipedia.org\" title=\"\">Commons category link is on Wikidata</a></li></ul></div></div>',\n",
       " '</div>',\n",
       " '</main>',\n",
       " '</div>',\n",
       " '<div class=\"\">',\n",
       " '',\n",
       " '</div>',\n",
       " '</div>',\n",
       " '</div>',\n",
       " '<div class=\"\" id=\"\">',\n",
       " '<ul>',\n",
       " '<li>',\n",
       " '<button class=\"\" id=\"\"><span class=\"\"></span>',\n",
       " '<span>Toggle limited content width</span>',\n",
       " '</button>',\n",
       " '</li>',\n",
       " '</ul>',\n",
       " '</div>',\n",
       " '',\n",
       " '',\n",
       " '</body>']"
      ]
     },
     "execution_count": 32,
     "metadata": {},
     "output_type": "execute_result"
    }
   ],
   "source": [
    "lines"
   ]
  },
  {
   "cell_type": "markdown",
   "metadata": {},
   "source": [
    "## 1. General closure\n",
    "\n",
    "Before starting all the experiment, let's spend a moment thinking about the necessary conditions for the model to produce the token `</`, which is very uncommon in natural language. They're two:\n",
    "\n",
    "1. We are in the context of HTML text,\n",
    "2. The text inside the tag is about to end.\n",
    "\n",
    "While the first one is fairly easy to verify and we know there are neurons dedicated to that, the second is much more complex and I expect the model to not always be able to rightly predict the end-tag token. This is similar to predicting the `.` to end a phrase in natural language, it's easy in some cases but very hard in others."
   ]
  },
  {
   "cell_type": "code",
   "execution_count": 33,
   "metadata": {},
   "outputs": [
    {
     "data": {
      "application/vnd.jupyter.widget-view+json": {
       "model_id": "77134fffae0b4f9b94adffef6dbd7e92",
       "version_major": 2,
       "version_minor": 0
      },
      "text/plain": [
       "(…)2-small_blocks.8.hook_resid_pre_24576.pt:   0%|          | 0.00/151M [00:00<?, ?B/s]"
      ]
     },
     "metadata": {},
     "output_type": "display_data"
    },
    {
     "name": "stderr",
     "output_type": "stream",
     "text": [
      "Using pad_token, but it is not set yet.\n"
     ]
    },
    {
     "name": "stdout",
     "output_type": "stream",
     "text": [
      "Loaded pretrained model gpt2-small into HookedTransformer\n",
      "Moving model to device:  mps\n"
     ]
    },
    {
     "data": {
      "application/vnd.jupyter.widget-view+json": {
       "model_id": "f075824bc1394c53bfbf53fe3017b2d9",
       "version_major": 2,
       "version_minor": 0
      },
      "text/plain": [
       "Downloading builder script:   0%|          | 0.00/2.73k [00:00<?, ?B/s]"
      ]
     },
     "metadata": {},
     "output_type": "display_data"
    },
    {
     "data": {
      "application/vnd.jupyter.widget-view+json": {
       "model_id": "5262de5dd3a849d59c1d87fa1a97a192",
       "version_major": 2,
       "version_minor": 0
      },
      "text/plain": [
       "Downloading readme:   0%|          | 0.00/7.33k [00:00<?, ?B/s]"
      ]
     },
     "metadata": {},
     "output_type": "display_data"
    },
    {
     "ename": "",
     "evalue": "",
     "output_type": "error",
     "traceback": [
      "\u001b[1;31mThe Kernel crashed while executing code in the current cell or a previous cell. \n",
      "\u001b[1;31mPlease review the code in the cell(s) to identify a possible cause of the failure. \n",
      "\u001b[1;31mClick <a href='https://aka.ms/vscodeJupyterKernelCrash'>here</a> for more info. \n",
      "\u001b[1;31mView Jupyter <a href='command:jupyter.viewOutput'>log</a> for further details."
     ]
    }
   ],
   "source": [
    "import torch \n",
    "from sae_lens import LMSparseAutoencoderSessionloader\n",
    "from huggingface_hub import hf_hub_download\n",
    "\n",
    "layer = 8 # pick a layer you want.\n",
    "REPO_ID = \"jbloom/GPT2-Small-SAEs\"\n",
    "FILENAME = f\"final_sparse_autoencoder_gpt2-small_blocks.{layer}.hook_resid_pre_24576.pt\"\n",
    "path = hf_hub_download(repo_id=REPO_ID, filename=FILENAME)\n",
    "model, sparse_autoencoder, activation_store = LMSparseAutoencoderSessionloader.load_session_from_pretrained(\n",
    "    path = path\n",
    ")\n",
    "sparse_autoencoder.eval()"
   ]
  },
  {
   "cell_type": "code",
   "execution_count": 9,
   "metadata": {},
   "outputs": [
    {
     "ename": "",
     "evalue": "",
     "output_type": "error",
     "traceback": [
      "\u001b[1;31mThe Kernel crashed while executing code in the current cell or a previous cell. \n",
      "\u001b[1;31mPlease review the code in the cell(s) to identify a possible cause of the failure. \n",
      "\u001b[1;31mClick <a href='https://aka.ms/vscodeJupyterKernelCrash'>here</a> for more info. \n",
      "\u001b[1;31mView Jupyter <a href='command:jupyter.viewOutput'>log</a> for further details."
     ]
    }
   ],
   "source": [
    "bs = 4\n",
    "out = []\n",
    "\n",
    "for i in range(0, len(tokens), bs):\n",
    "    with torch.no_grad():\n",
    "        output = model(tokens[i:i+bs])\n",
    "    out.append(output)\n",
    "\n",
    "out = torch.cat(out)"
   ]
  },
  {
   "cell_type": "code",
   "execution_count": 8,
   "metadata": {},
   "outputs": [
    {
     "name": "stdout",
     "output_type": "stream",
     "text": [
      "huggingface/tokenizers: The current process just got forked, after parallelism has already been used. Disabling parallelism to avoid deadlocks...\n",
      "To disable this warning, you can either:\n",
      "\t- Avoid using `tokenizers` before the fork if possible\n",
      "\t- Explicitly set the environment variable TOKENIZERS_PARALLELISM=(true | false)\n"
     ]
    },
    {
     "name": "stderr",
     "output_type": "stream",
     "text": [
      "  0%|          | 0/63 [00:00<?, ?it/s]"
     ]
    },
    {
     "name": "stderr",
     "output_type": "stream",
     "text": [
      "100%|██████████| 63/63 [00:24<00:00,  2.57it/s]\n"
     ]
    }
   ],
   "source": [
    "from tqdm import tqdm\n",
    "\n",
    "# Collect activations\n",
    "bs = 16\n",
    "\n",
    "activations = []\n",
    "for b in tqdm(range(0, len(tokens), bs)):\n",
    "    tokens_batch = tokens[b:b+bs] # [bs, p]\n",
    "    with torch.no_grad():\n",
    "        _, cache = model.run_with_cache(tokens_batch)\n",
    "    activations.append(torch.cat([cache[f\"blocks.{i}.mlp.hook_post\"][None, :, -1] for i in range(nl)]))\n",
    "\n",
    "activations = torch.cat(activations, dim=1) # [nl, n, dm]"
   ]
  },
  {
   "cell_type": "code",
   "execution_count": 8,
   "metadata": {},
   "outputs": [
    {
     "name": "stdout",
     "output_type": "stream",
     "text": [
      "Layer 0\n",
      "P:1.00\tR: 0.92\tF1: 0.96\n",
      "Active neurons: 3/3072\n",
      "\n",
      "Layer 1\n",
      "P:0.99\tR: 0.97\tF1: 0.98\n",
      "Active neurons: 3/3072\n",
      "\n",
      "Layer 2\n",
      "P:1.00\tR: 0.90\tF1: 0.95\n",
      "Active neurons: 3/3072\n",
      "\n",
      "Layer 3\n",
      "P:0.95\tR: 0.86\tF1: 0.90\n",
      "Active neurons: 4/3072\n",
      "\n",
      "Layer 4\n",
      "P:0.93\tR: 0.84\tF1: 0.88\n",
      "Active neurons: 3/3072\n",
      "\n",
      "Layer 5\n",
      "P:1.00\tR: 0.81\tF1: 0.90\n",
      "Active neurons: 2/3072\n",
      "\n",
      "Layer 6\n",
      "P:1.00\tR: 0.84\tF1: 0.91\n",
      "Active neurons: 3/3072\n",
      "\n",
      "Layer 7\n",
      "P:0.99\tR: 0.87\tF1: 0.93\n",
      "Active neurons: 3/3072\n",
      "\n",
      "Layer 8\n",
      "P:0.99\tR: 0.80\tF1: 0.88\n",
      "Active neurons: 4/3072\n",
      "\n",
      "Layer 9\n",
      "P:0.95\tR: 0.81\tF1: 0.88\n",
      "Active neurons: 2/3072\n",
      "\n",
      "Layer 10\n",
      "P:0.99\tR: 0.75\tF1: 0.85\n",
      "Active neurons: 2/3072\n",
      "\n",
      "Layer 11\n",
      "P:0.95\tR: 0.87\tF1: 0.91\n",
      "Active neurons: 3/3072\n",
      "\n"
     ]
    }
   ],
   "source": [
    "# Build the classifier (I build one classifier for the last token position for each layer)\n",
    "from sklearn.linear_model import LogisticRegression\n",
    "from sklearn.model_selection import train_test_split\n",
    "from sklearn.metrics import f1_score, precision_score, recall_score\n",
    "import warnings\n",
    "from sklearn.exceptions import ConvergenceWarning\n",
    "import numpy as np\n",
    "\n",
    "# Hide ConvergenceWarning\n",
    "warnings.filterwarnings(\"ignore\", category=ConvergenceWarning)\n",
    "\n",
    "lr = LogisticRegression(penalty='l1', C=0.12, max_iter=500, solver='saga')\n",
    "\n",
    "active_neurons = []\n",
    "scores = []\n",
    "\n",
    "for i in range(nl):\n",
    "    X_train, X_test, y_train, y_test = train_test_split(activations[i].cpu().numpy(), data['label'], test_size=0.2, random_state=42)\n",
    "    lr.fit(X_train, y_train)\n",
    "    active_neurons.append(torch.tensor(np.nonzero(lr.coef_[0])[0], device='mps', dtype=torch.int32))\n",
    "    scores.append((\n",
    "        f1_score(y_test.values, lr.predict(X_test)),\n",
    "        precision_score(y_test.values, lr.predict(X_test)),\n",
    "        recall_score(y_test.values, lr.predict(X_test))\n",
    "    ))\n",
    "    print(f\"Layer {i}\\nP:{scores[-1][1]:.2f}\\tR: {scores[-1][2]:.2f}\\tF1: {scores[-1][0]:.2f}\\nActive neurons: {sum(lr.coef_[0] != 0)}/{lr.coef_.shape[1]}\\n\")"
   ]
  },
  {
   "cell_type": "markdown",
   "metadata": {},
   "source": [
    "Only a few neurons are active among more than three thousands and they provide good scores. More specifically, we see that the F1 score decreases for later layers; this is due to the decrease in recall which means that the neurons are more specific. They don't correspond to the general HTML feature but they could represents more precise parts of the code."
   ]
  },
  {
   "cell_type": "markdown",
   "metadata": {},
   "source": [
    "A natural question to ask ourself is whether we can touch these neurons to obtain HTML text. We can do that by attacching hooks to the model components. They allow to modify the values of neurons at generation time!"
   ]
  },
  {
   "cell_type": "code",
   "execution_count": 9,
   "metadata": {},
   "outputs": [],
   "source": [
    "from jaxtyping import Float\n",
    "from transformer_lens import ActivationCache\n",
    "from transformer_lens.hook_points import HookPoint\n",
    "from functools import partial\n",
    "from transformer_lens import utils\n",
    "\n",
    "def neurons_ablation_hook(\n",
    "    x: Float[torch.Tensor, \"batch pos d_mlp\"],\n",
    "    hook: HookPoint,\n",
    "    neurons: list[int],\n",
    "    act_store: list = None\n",
    ") -> Float[torch.Tensor, \"batch pos d_mlp\"]:\n",
    "    if act_store is not None:\n",
    "        act_store.append(x[:, -1, neurons].cpu().numpy())\n",
    "    x[:, -1, neurons] = 0\n",
    "    return x"
   ]
  },
  {
   "cell_type": "code",
   "execution_count": 10,
   "metadata": {},
   "outputs": [
    {
     "name": "stdout",
     "output_type": "stream",
     "text": [
      "Title here.\n",
      "\n",
      "The first thing I noticed about this\n",
      "<h1>Title here</h1> <p>This is a\n"
     ]
    }
   ],
   "source": [
    "print(generate(model, \"Title here\"))\n",
    "print(generate(model, \"<h1>Title here\"))"
   ]
  },
  {
   "cell_type": "code",
   "execution_count": 11,
   "metadata": {},
   "outputs": [],
   "source": [
    "text_tokens = model.to_tokens('Title here')\n",
    "html_tokens = model.to_tokens('<h1>Title here')\n",
    "\n",
    "text_neurons_values = []\n",
    "html_neurons_values = []\n",
    "\n",
    "hooks = [(\n",
    "    f\"blocks.{l}.mlp.hook_post\", \n",
    "    partial(neurons_ablation_hook, neurons=active_neurons[l], act_store=text_neurons_values)\n",
    "    ) for l in range(nl)]\n",
    "\n",
    "with torch.no_grad():\n",
    "    logits = model.run_with_hooks(text_tokens, fwd_hooks=hooks)\n",
    "\n",
    "hooks = [(\n",
    "    f\"blocks.{l}.mlp.hook_post\", \n",
    "    partial(neurons_ablation_hook, neurons=active_neurons[l], act_store=html_neurons_values)\n",
    "    ) for l in range(nl)]\n",
    "\n",
    "with torch.no_grad():\n",
    "    logits = model.run_with_hooks(html_tokens, fwd_hooks=hooks)"
   ]
  },
  {
   "cell_type": "code",
   "execution_count": 19,
   "metadata": {},
   "outputs": [
    {
     "data": {
      "application/vnd.plotly.v1+json": {
       "config": {
        "plotlyServerURL": "https://plot.ly"
       },
       "data": [
        {
         "marker": {
          "color": "blue"
         },
         "name": "text",
         "type": "bar",
         "x": [
          "486",
          "1150",
          "2442"
         ],
         "xaxis": "x",
         "y": [
          0.8672095537185669,
          0.006731141358613968,
          -0.0023682117462158203
         ],
         "yaxis": "y"
        },
        {
         "marker": {
          "color": "blue"
         },
         "name": "text",
         "type": "bar",
         "x": [
          "580",
          "842",
          "2304"
         ],
         "xaxis": "x2",
         "y": [
          0.928056538105011,
          -0.007969386875629425,
          0.08156980574131012
         ],
         "yaxis": "y2"
        },
        {
         "marker": {
          "color": "blue"
         },
         "name": "text",
         "type": "bar",
         "x": [
          "410",
          "2612",
          "2760"
         ],
         "xaxis": "x3",
         "y": [
          0.09770205616950989,
          0.01819537580013275,
          0.1424153745174408
         ],
         "yaxis": "y3"
        },
        {
         "marker": {
          "color": "blue"
         },
         "name": "text",
         "type": "bar",
         "x": [
          "1533",
          "1874",
          "2114",
          "2632"
         ],
         "xaxis": "x4",
         "y": [
          0.4053540825843811,
          -0.0007964706746861339,
          -0.0075936163775622845,
          0.13742411136627197
         ],
         "yaxis": "y4"
        },
        {
         "marker": {
          "color": "blue"
         },
         "name": "text",
         "type": "bar",
         "x": [
          "202",
          "787",
          "2264"
         ],
         "xaxis": "x5",
         "y": [
          -0.03165815770626068,
          -0.15148496627807617,
          0.05654573440551758
         ],
         "yaxis": "y5"
        },
        {
         "marker": {
          "color": "blue"
         },
         "name": "text",
         "type": "bar",
         "x": [
          "2590",
          "2865"
         ],
         "xaxis": "x6",
         "y": [
          -0.0339665487408638,
          -0.009900631383061409
         ],
         "yaxis": "y6"
        },
        {
         "marker": {
          "color": "blue"
         },
         "name": "text",
         "type": "bar",
         "x": [
          "2746",
          "2758",
          "3057"
         ],
         "xaxis": "x7",
         "y": [
          -0.0073213130235672,
          0.2596021890640259,
          0.07674708217382431
         ],
         "yaxis": "y7"
        },
        {
         "marker": {
          "color": "blue"
         },
         "name": "text",
         "type": "bar",
         "x": [
          "172",
          "1558",
          "2367"
         ],
         "xaxis": "x8",
         "y": [
          -0.012531000189483166,
          -0.09012892842292786,
          -0.17552900314331055
         ],
         "yaxis": "y8"
        },
        {
         "marker": {
          "color": "blue"
         },
         "name": "text",
         "type": "bar",
         "x": [
          "737",
          "1253",
          "1969",
          "2397"
         ],
         "xaxis": "x9",
         "y": [
          0.13667190074920654,
          0.14382457733154297,
          -0.00956033170223236,
          0.04888010025024414
         ],
         "yaxis": "y9"
        },
        {
         "marker": {
          "color": "blue"
         },
         "name": "text",
         "type": "bar",
         "x": [
          "374",
          "3039"
         ],
         "xaxis": "x10",
         "y": [
          -0.0007961541414260864,
          0.31132131814956665
         ],
         "yaxis": "y10"
        },
        {
         "marker": {
          "color": "blue"
         },
         "name": "text",
         "type": "bar",
         "x": [
          "2178",
          "2721"
         ],
         "xaxis": "x11",
         "y": [
          1.4486379623413086,
          -0.037414923310279846
         ],
         "yaxis": "y11"
        },
        {
         "marker": {
          "color": "blue"
         },
         "name": "text",
         "type": "bar",
         "x": [
          "598",
          "2214",
          "3029"
         ],
         "xaxis": "x12",
         "y": [
          -0.17348936200141907,
          0.058212533593177795,
          0
         ],
         "yaxis": "y12"
        }
       ],
       "layout": {
        "annotations": [
         {
          "font": {
           "size": 16
          },
          "showarrow": false,
          "text": "Layer 0",
          "x": 0.10625,
          "xanchor": "center",
          "xref": "paper",
          "y": 1,
          "yanchor": "bottom",
          "yref": "paper"
         },
         {
          "font": {
           "size": 16
          },
          "showarrow": false,
          "text": "Layer 1",
          "x": 0.36875,
          "xanchor": "center",
          "xref": "paper",
          "y": 1,
          "yanchor": "bottom",
          "yref": "paper"
         },
         {
          "font": {
           "size": 16
          },
          "showarrow": false,
          "text": "Layer 2",
          "x": 0.6312500000000001,
          "xanchor": "center",
          "xref": "paper",
          "y": 1,
          "yanchor": "bottom",
          "yref": "paper"
         },
         {
          "font": {
           "size": 16
          },
          "showarrow": false,
          "text": "Layer 3",
          "x": 0.89375,
          "xanchor": "center",
          "xref": "paper",
          "y": 1,
          "yanchor": "bottom",
          "yref": "paper"
         },
         {
          "font": {
           "size": 16
          },
          "showarrow": false,
          "text": "Layer 4",
          "x": 0.10625,
          "xanchor": "center",
          "xref": "paper",
          "y": 0.6111111111111112,
          "yanchor": "bottom",
          "yref": "paper"
         },
         {
          "font": {
           "size": 16
          },
          "showarrow": false,
          "text": "Layer 5",
          "x": 0.36875,
          "xanchor": "center",
          "xref": "paper",
          "y": 0.6111111111111112,
          "yanchor": "bottom",
          "yref": "paper"
         },
         {
          "font": {
           "size": 16
          },
          "showarrow": false,
          "text": "Layer 6",
          "x": 0.6312500000000001,
          "xanchor": "center",
          "xref": "paper",
          "y": 0.6111111111111112,
          "yanchor": "bottom",
          "yref": "paper"
         },
         {
          "font": {
           "size": 16
          },
          "showarrow": false,
          "text": "Layer 7",
          "x": 0.89375,
          "xanchor": "center",
          "xref": "paper",
          "y": 0.6111111111111112,
          "yanchor": "bottom",
          "yref": "paper"
         },
         {
          "font": {
           "size": 16
          },
          "showarrow": false,
          "text": "Layer 8",
          "x": 0.10625,
          "xanchor": "center",
          "xref": "paper",
          "y": 0.22222222222222224,
          "yanchor": "bottom",
          "yref": "paper"
         },
         {
          "font": {
           "size": 16
          },
          "showarrow": false,
          "text": "Layer 9",
          "x": 0.36875,
          "xanchor": "center",
          "xref": "paper",
          "y": 0.22222222222222224,
          "yanchor": "bottom",
          "yref": "paper"
         },
         {
          "font": {
           "size": 16
          },
          "showarrow": false,
          "text": "Layer 10",
          "x": 0.6312500000000001,
          "xanchor": "center",
          "xref": "paper",
          "y": 0.22222222222222224,
          "yanchor": "bottom",
          "yref": "paper"
         },
         {
          "font": {
           "size": 16
          },
          "showarrow": false,
          "text": "Layer 11",
          "x": 0.89375,
          "xanchor": "center",
          "xref": "paper",
          "y": 0.22222222222222224,
          "yanchor": "bottom",
          "yref": "paper"
         }
        ],
        "height": 1000,
        "template": {
         "data": {
          "bar": [
           {
            "error_x": {
             "color": "#2a3f5f"
            },
            "error_y": {
             "color": "#2a3f5f"
            },
            "marker": {
             "line": {
              "color": "#E5ECF6",
              "width": 0.5
             },
             "pattern": {
              "fillmode": "overlay",
              "size": 10,
              "solidity": 0.2
             }
            },
            "type": "bar"
           }
          ],
          "barpolar": [
           {
            "marker": {
             "line": {
              "color": "#E5ECF6",
              "width": 0.5
             },
             "pattern": {
              "fillmode": "overlay",
              "size": 10,
              "solidity": 0.2
             }
            },
            "type": "barpolar"
           }
          ],
          "carpet": [
           {
            "aaxis": {
             "endlinecolor": "#2a3f5f",
             "gridcolor": "white",
             "linecolor": "white",
             "minorgridcolor": "white",
             "startlinecolor": "#2a3f5f"
            },
            "baxis": {
             "endlinecolor": "#2a3f5f",
             "gridcolor": "white",
             "linecolor": "white",
             "minorgridcolor": "white",
             "startlinecolor": "#2a3f5f"
            },
            "type": "carpet"
           }
          ],
          "choropleth": [
           {
            "colorbar": {
             "outlinewidth": 0,
             "ticks": ""
            },
            "type": "choropleth"
           }
          ],
          "contour": [
           {
            "colorbar": {
             "outlinewidth": 0,
             "ticks": ""
            },
            "colorscale": [
             [
              0,
              "#0d0887"
             ],
             [
              0.1111111111111111,
              "#46039f"
             ],
             [
              0.2222222222222222,
              "#7201a8"
             ],
             [
              0.3333333333333333,
              "#9c179e"
             ],
             [
              0.4444444444444444,
              "#bd3786"
             ],
             [
              0.5555555555555556,
              "#d8576b"
             ],
             [
              0.6666666666666666,
              "#ed7953"
             ],
             [
              0.7777777777777778,
              "#fb9f3a"
             ],
             [
              0.8888888888888888,
              "#fdca26"
             ],
             [
              1,
              "#f0f921"
             ]
            ],
            "type": "contour"
           }
          ],
          "contourcarpet": [
           {
            "colorbar": {
             "outlinewidth": 0,
             "ticks": ""
            },
            "type": "contourcarpet"
           }
          ],
          "heatmap": [
           {
            "colorbar": {
             "outlinewidth": 0,
             "ticks": ""
            },
            "colorscale": [
             [
              0,
              "#0d0887"
             ],
             [
              0.1111111111111111,
              "#46039f"
             ],
             [
              0.2222222222222222,
              "#7201a8"
             ],
             [
              0.3333333333333333,
              "#9c179e"
             ],
             [
              0.4444444444444444,
              "#bd3786"
             ],
             [
              0.5555555555555556,
              "#d8576b"
             ],
             [
              0.6666666666666666,
              "#ed7953"
             ],
             [
              0.7777777777777778,
              "#fb9f3a"
             ],
             [
              0.8888888888888888,
              "#fdca26"
             ],
             [
              1,
              "#f0f921"
             ]
            ],
            "type": "heatmap"
           }
          ],
          "heatmapgl": [
           {
            "colorbar": {
             "outlinewidth": 0,
             "ticks": ""
            },
            "colorscale": [
             [
              0,
              "#0d0887"
             ],
             [
              0.1111111111111111,
              "#46039f"
             ],
             [
              0.2222222222222222,
              "#7201a8"
             ],
             [
              0.3333333333333333,
              "#9c179e"
             ],
             [
              0.4444444444444444,
              "#bd3786"
             ],
             [
              0.5555555555555556,
              "#d8576b"
             ],
             [
              0.6666666666666666,
              "#ed7953"
             ],
             [
              0.7777777777777778,
              "#fb9f3a"
             ],
             [
              0.8888888888888888,
              "#fdca26"
             ],
             [
              1,
              "#f0f921"
             ]
            ],
            "type": "heatmapgl"
           }
          ],
          "histogram": [
           {
            "marker": {
             "pattern": {
              "fillmode": "overlay",
              "size": 10,
              "solidity": 0.2
             }
            },
            "type": "histogram"
           }
          ],
          "histogram2d": [
           {
            "colorbar": {
             "outlinewidth": 0,
             "ticks": ""
            },
            "colorscale": [
             [
              0,
              "#0d0887"
             ],
             [
              0.1111111111111111,
              "#46039f"
             ],
             [
              0.2222222222222222,
              "#7201a8"
             ],
             [
              0.3333333333333333,
              "#9c179e"
             ],
             [
              0.4444444444444444,
              "#bd3786"
             ],
             [
              0.5555555555555556,
              "#d8576b"
             ],
             [
              0.6666666666666666,
              "#ed7953"
             ],
             [
              0.7777777777777778,
              "#fb9f3a"
             ],
             [
              0.8888888888888888,
              "#fdca26"
             ],
             [
              1,
              "#f0f921"
             ]
            ],
            "type": "histogram2d"
           }
          ],
          "histogram2dcontour": [
           {
            "colorbar": {
             "outlinewidth": 0,
             "ticks": ""
            },
            "colorscale": [
             [
              0,
              "#0d0887"
             ],
             [
              0.1111111111111111,
              "#46039f"
             ],
             [
              0.2222222222222222,
              "#7201a8"
             ],
             [
              0.3333333333333333,
              "#9c179e"
             ],
             [
              0.4444444444444444,
              "#bd3786"
             ],
             [
              0.5555555555555556,
              "#d8576b"
             ],
             [
              0.6666666666666666,
              "#ed7953"
             ],
             [
              0.7777777777777778,
              "#fb9f3a"
             ],
             [
              0.8888888888888888,
              "#fdca26"
             ],
             [
              1,
              "#f0f921"
             ]
            ],
            "type": "histogram2dcontour"
           }
          ],
          "mesh3d": [
           {
            "colorbar": {
             "outlinewidth": 0,
             "ticks": ""
            },
            "type": "mesh3d"
           }
          ],
          "parcoords": [
           {
            "line": {
             "colorbar": {
              "outlinewidth": 0,
              "ticks": ""
             }
            },
            "type": "parcoords"
           }
          ],
          "pie": [
           {
            "automargin": true,
            "type": "pie"
           }
          ],
          "scatter": [
           {
            "fillpattern": {
             "fillmode": "overlay",
             "size": 10,
             "solidity": 0.2
            },
            "type": "scatter"
           }
          ],
          "scatter3d": [
           {
            "line": {
             "colorbar": {
              "outlinewidth": 0,
              "ticks": ""
             }
            },
            "marker": {
             "colorbar": {
              "outlinewidth": 0,
              "ticks": ""
             }
            },
            "type": "scatter3d"
           }
          ],
          "scattercarpet": [
           {
            "marker": {
             "colorbar": {
              "outlinewidth": 0,
              "ticks": ""
             }
            },
            "type": "scattercarpet"
           }
          ],
          "scattergeo": [
           {
            "marker": {
             "colorbar": {
              "outlinewidth": 0,
              "ticks": ""
             }
            },
            "type": "scattergeo"
           }
          ],
          "scattergl": [
           {
            "marker": {
             "colorbar": {
              "outlinewidth": 0,
              "ticks": ""
             }
            },
            "type": "scattergl"
           }
          ],
          "scattermapbox": [
           {
            "marker": {
             "colorbar": {
              "outlinewidth": 0,
              "ticks": ""
             }
            },
            "type": "scattermapbox"
           }
          ],
          "scatterpolar": [
           {
            "marker": {
             "colorbar": {
              "outlinewidth": 0,
              "ticks": ""
             }
            },
            "type": "scatterpolar"
           }
          ],
          "scatterpolargl": [
           {
            "marker": {
             "colorbar": {
              "outlinewidth": 0,
              "ticks": ""
             }
            },
            "type": "scatterpolargl"
           }
          ],
          "scatterternary": [
           {
            "marker": {
             "colorbar": {
              "outlinewidth": 0,
              "ticks": ""
             }
            },
            "type": "scatterternary"
           }
          ],
          "surface": [
           {
            "colorbar": {
             "outlinewidth": 0,
             "ticks": ""
            },
            "colorscale": [
             [
              0,
              "#0d0887"
             ],
             [
              0.1111111111111111,
              "#46039f"
             ],
             [
              0.2222222222222222,
              "#7201a8"
             ],
             [
              0.3333333333333333,
              "#9c179e"
             ],
             [
              0.4444444444444444,
              "#bd3786"
             ],
             [
              0.5555555555555556,
              "#d8576b"
             ],
             [
              0.6666666666666666,
              "#ed7953"
             ],
             [
              0.7777777777777778,
              "#fb9f3a"
             ],
             [
              0.8888888888888888,
              "#fdca26"
             ],
             [
              1,
              "#f0f921"
             ]
            ],
            "type": "surface"
           }
          ],
          "table": [
           {
            "cells": {
             "fill": {
              "color": "#EBF0F8"
             },
             "line": {
              "color": "white"
             }
            },
            "header": {
             "fill": {
              "color": "#C8D4E3"
             },
             "line": {
              "color": "white"
             }
            },
            "type": "table"
           }
          ]
         },
         "layout": {
          "annotationdefaults": {
           "arrowcolor": "#2a3f5f",
           "arrowhead": 0,
           "arrowwidth": 1
          },
          "autotypenumbers": "strict",
          "coloraxis": {
           "colorbar": {
            "outlinewidth": 0,
            "ticks": ""
           }
          },
          "colorscale": {
           "diverging": [
            [
             0,
             "#8e0152"
            ],
            [
             0.1,
             "#c51b7d"
            ],
            [
             0.2,
             "#de77ae"
            ],
            [
             0.3,
             "#f1b6da"
            ],
            [
             0.4,
             "#fde0ef"
            ],
            [
             0.5,
             "#f7f7f7"
            ],
            [
             0.6,
             "#e6f5d0"
            ],
            [
             0.7,
             "#b8e186"
            ],
            [
             0.8,
             "#7fbc41"
            ],
            [
             0.9,
             "#4d9221"
            ],
            [
             1,
             "#276419"
            ]
           ],
           "sequential": [
            [
             0,
             "#0d0887"
            ],
            [
             0.1111111111111111,
             "#46039f"
            ],
            [
             0.2222222222222222,
             "#7201a8"
            ],
            [
             0.3333333333333333,
             "#9c179e"
            ],
            [
             0.4444444444444444,
             "#bd3786"
            ],
            [
             0.5555555555555556,
             "#d8576b"
            ],
            [
             0.6666666666666666,
             "#ed7953"
            ],
            [
             0.7777777777777778,
             "#fb9f3a"
            ],
            [
             0.8888888888888888,
             "#fdca26"
            ],
            [
             1,
             "#f0f921"
            ]
           ],
           "sequentialminus": [
            [
             0,
             "#0d0887"
            ],
            [
             0.1111111111111111,
             "#46039f"
            ],
            [
             0.2222222222222222,
             "#7201a8"
            ],
            [
             0.3333333333333333,
             "#9c179e"
            ],
            [
             0.4444444444444444,
             "#bd3786"
            ],
            [
             0.5555555555555556,
             "#d8576b"
            ],
            [
             0.6666666666666666,
             "#ed7953"
            ],
            [
             0.7777777777777778,
             "#fb9f3a"
            ],
            [
             0.8888888888888888,
             "#fdca26"
            ],
            [
             1,
             "#f0f921"
            ]
           ]
          },
          "colorway": [
           "#636efa",
           "#EF553B",
           "#00cc96",
           "#ab63fa",
           "#FFA15A",
           "#19d3f3",
           "#FF6692",
           "#B6E880",
           "#FF97FF",
           "#FECB52"
          ],
          "font": {
           "color": "#2a3f5f"
          },
          "geo": {
           "bgcolor": "white",
           "lakecolor": "white",
           "landcolor": "#E5ECF6",
           "showlakes": true,
           "showland": true,
           "subunitcolor": "white"
          },
          "hoverlabel": {
           "align": "left"
          },
          "hovermode": "closest",
          "mapbox": {
           "style": "light"
          },
          "paper_bgcolor": "white",
          "plot_bgcolor": "#E5ECF6",
          "polar": {
           "angularaxis": {
            "gridcolor": "white",
            "linecolor": "white",
            "ticks": ""
           },
           "bgcolor": "#E5ECF6",
           "radialaxis": {
            "gridcolor": "white",
            "linecolor": "white",
            "ticks": ""
           }
          },
          "scene": {
           "xaxis": {
            "backgroundcolor": "#E5ECF6",
            "gridcolor": "white",
            "gridwidth": 2,
            "linecolor": "white",
            "showbackground": true,
            "ticks": "",
            "zerolinecolor": "white"
           },
           "yaxis": {
            "backgroundcolor": "#E5ECF6",
            "gridcolor": "white",
            "gridwidth": 2,
            "linecolor": "white",
            "showbackground": true,
            "ticks": "",
            "zerolinecolor": "white"
           },
           "zaxis": {
            "backgroundcolor": "#E5ECF6",
            "gridcolor": "white",
            "gridwidth": 2,
            "linecolor": "white",
            "showbackground": true,
            "ticks": "",
            "zerolinecolor": "white"
           }
          },
          "shapedefaults": {
           "line": {
            "color": "#2a3f5f"
           }
          },
          "ternary": {
           "aaxis": {
            "gridcolor": "white",
            "linecolor": "white",
            "ticks": ""
           },
           "baxis": {
            "gridcolor": "white",
            "linecolor": "white",
            "ticks": ""
           },
           "bgcolor": "#E5ECF6",
           "caxis": {
            "gridcolor": "white",
            "linecolor": "white",
            "ticks": ""
           }
          },
          "title": {
           "x": 0.05
          },
          "xaxis": {
           "automargin": true,
           "gridcolor": "white",
           "linecolor": "white",
           "ticks": "",
           "title": {
            "standoff": 15
           },
           "zerolinecolor": "white",
           "zerolinewidth": 2
          },
          "yaxis": {
           "automargin": true,
           "gridcolor": "white",
           "linecolor": "white",
           "ticks": "",
           "title": {
            "standoff": 15
           },
           "zerolinecolor": "white",
           "zerolinewidth": 2
          }
         }
        },
        "title": {
         "text": "Neurons activations"
        },
        "width": 1000,
        "xaxis": {
         "anchor": "y",
         "domain": [
          0,
          0.2125
         ]
        },
        "xaxis10": {
         "anchor": "y10",
         "domain": [
          0.2625,
          0.475
         ]
        },
        "xaxis11": {
         "anchor": "y11",
         "domain": [
          0.525,
          0.7375
         ]
        },
        "xaxis12": {
         "anchor": "y12",
         "domain": [
          0.7875,
          1
         ]
        },
        "xaxis2": {
         "anchor": "y2",
         "domain": [
          0.2625,
          0.475
         ]
        },
        "xaxis3": {
         "anchor": "y3",
         "domain": [
          0.525,
          0.7375
         ]
        },
        "xaxis4": {
         "anchor": "y4",
         "domain": [
          0.7875,
          1
         ]
        },
        "xaxis5": {
         "anchor": "y5",
         "domain": [
          0,
          0.2125
         ]
        },
        "xaxis6": {
         "anchor": "y6",
         "domain": [
          0.2625,
          0.475
         ]
        },
        "xaxis7": {
         "anchor": "y7",
         "domain": [
          0.525,
          0.7375
         ]
        },
        "xaxis8": {
         "anchor": "y8",
         "domain": [
          0.7875,
          1
         ]
        },
        "xaxis9": {
         "anchor": "y9",
         "domain": [
          0,
          0.2125
         ]
        },
        "yaxis": {
         "anchor": "x",
         "domain": [
          0.7777777777777778,
          1
         ]
        },
        "yaxis10": {
         "anchor": "x10",
         "domain": [
          0,
          0.22222222222222224
         ],
         "matches": "y9",
         "showticklabels": false
        },
        "yaxis11": {
         "anchor": "x11",
         "domain": [
          0,
          0.22222222222222224
         ],
         "matches": "y9",
         "showticklabels": false
        },
        "yaxis12": {
         "anchor": "x12",
         "domain": [
          0,
          0.22222222222222224
         ],
         "matches": "y9",
         "showticklabels": false
        },
        "yaxis2": {
         "anchor": "x2",
         "domain": [
          0.7777777777777778,
          1
         ],
         "matches": "y",
         "showticklabels": false
        },
        "yaxis3": {
         "anchor": "x3",
         "domain": [
          0.7777777777777778,
          1
         ],
         "matches": "y",
         "showticklabels": false
        },
        "yaxis4": {
         "anchor": "x4",
         "domain": [
          0.7777777777777778,
          1
         ],
         "matches": "y",
         "showticklabels": false
        },
        "yaxis5": {
         "anchor": "x5",
         "domain": [
          0.3888888888888889,
          0.6111111111111112
         ]
        },
        "yaxis6": {
         "anchor": "x6",
         "domain": [
          0.3888888888888889,
          0.6111111111111112
         ],
         "matches": "y5",
         "showticklabels": false
        },
        "yaxis7": {
         "anchor": "x7",
         "domain": [
          0.3888888888888889,
          0.6111111111111112
         ],
         "matches": "y5",
         "showticklabels": false
        },
        "yaxis8": {
         "anchor": "x8",
         "domain": [
          0.3888888888888889,
          0.6111111111111112
         ],
         "matches": "y5",
         "showticklabels": false
        },
        "yaxis9": {
         "anchor": "x9",
         "domain": [
          0,
          0.22222222222222224
         ]
        }
       }
      }
     },
     "metadata": {},
     "output_type": "display_data"
    }
   ],
   "source": [
    "from plotly.subplots import make_subplots\n",
    "import plotly.graph_objects as go\n",
    "\n",
    "fig = make_subplots(rows=3, cols=4, subplot_titles=[f\"Layer {i}\" for i in range(nl)], shared_yaxes=True)\n",
    "\n",
    "for i, (text, html) in enumerate(zip(text_neurons_values, html_neurons_values)):\n",
    "    df = pd.DataFrame({\n",
    "        'delta': text[0] - html[0],\n",
    "        'neuron': active_neurons[i].cpu().numpy().astype(str)\n",
    "    })\n",
    "    fig.add_trace(go.Bar(x=df['neuron'], y=df['delta'], name='text', marker_color='blue'), row=i//4+1, col=i%4+1)\n",
    "\n",
    "fig.update_layout(height=1000, width=1000, title_text=\"Neurons activations\")\n",
    "fig.show()"
   ]
  },
  {
   "cell_type": "code",
   "execution_count": 20,
   "metadata": {},
   "outputs": [],
   "source": [
    "@torch.no_grad()\n",
    "def generate_with_hooks(model, prompt, hooks, max_new_tokens=10):\n",
    "    tokens = model.to_tokens(prompt)\n",
    "    for _ in range(max_new_tokens):\n",
    "        output = model.run_with_hooks(tokens, fwd_hooks=hooks)\n",
    "        next_token = torch.argmax(output[0, -1, :])\n",
    "        tokens = torch.cat((tokens, next_token.unsqueeze(0).unsqueeze(0)), dim=1)\n",
    "    return model.tokenizer.decode(tokens[0], skip_special_tokens=True)"
   ]
  },
  {
   "cell_type": "code",
   "execution_count": 21,
   "metadata": {},
   "outputs": [
    {
     "data": {
      "text/plain": [
       "'Title here.\\n\\nThis is a very good book.'"
      ]
     },
     "execution_count": 21,
     "metadata": {},
     "output_type": "execute_result"
    }
   ],
   "source": [
    "hooks = [(\n",
    "    f\"blocks.{l}.mlp.hook_post\", \n",
    "    partial(neurons_ablation_hook, neurons=active_neurons[l])\n",
    "    ) for l in range(nl)]\n",
    "\n",
    "generate_with_hooks(model, \"Title here\", hooks)"
   ]
  },
  {
   "cell_type": "code",
   "execution_count": 22,
   "metadata": {},
   "outputs": [],
   "source": [
    "def neurons_patching_hook(\n",
    "    x: Float[torch.Tensor, \"batch pos d_mlp\"],\n",
    "    hook: HookPoint,\n",
    "    neurons: list[int],\n",
    "    patch: torch.Tensor,\n",
    ") -> Float[torch.Tensor, \"batch pos d_mlp\"]:\n",
    "    x[:, -1, neurons] = patch[None]\n",
    "    return x"
   ]
  },
  {
   "cell_type": "code",
   "execution_count": 23,
   "metadata": {},
   "outputs": [],
   "source": [
    "text_idx = torch.tensor((data['label'] == 0).values, dtype=bool)\n",
    "html_idx = torch.tensor((data['label'] == 1).values, dtype=bool)"
   ]
  },
  {
   "cell_type": "code",
   "execution_count": 24,
   "metadata": {},
   "outputs": [],
   "source": [
    "mean_text_activations_values = [activations[l, text_idx][:, active_neurons[l]].mean(0) for l in range(nl)]\n",
    "mean_html_activations_values = [activations[l, html_idx][:, active_neurons[l]].mean(0) for l in range(nl)]"
   ]
  },
  {
   "cell_type": "code",
   "execution_count": 27,
   "metadata": {},
   "outputs": [
    {
     "data": {
      "application/vnd.plotly.v1+json": {
       "config": {
        "plotlyServerURL": "https://plot.ly"
       },
       "data": [
        {
         "marker": {
          "color": "blue"
         },
         "name": "text",
         "type": "bar",
         "x": [
          "486",
          "1150",
          "2442"
         ],
         "xaxis": "x",
         "y": [
          -0.6647868156433105,
          1.2880789041519165,
          -0.2242298126220703
         ],
         "yaxis": "y"
        },
        {
         "marker": {
          "color": "blue"
         },
         "name": "text",
         "type": "bar",
         "x": [
          "580",
          "842",
          "2304"
         ],
         "xaxis": "x2",
         "y": [
          -0.5556055307388306,
          0.28486180305480957,
          0.1995755434036255
         ],
         "yaxis": "y2"
        },
        {
         "marker": {
          "color": "blue"
         },
         "name": "text",
         "type": "bar",
         "x": [
          "410",
          "2612",
          "2760"
         ],
         "xaxis": "x3",
         "y": [
          -0.3003728687763214,
          0.21261247992515564,
          0.23798781633377075
         ],
         "yaxis": "y3"
        },
        {
         "marker": {
          "color": "blue"
         },
         "name": "text",
         "type": "bar",
         "x": [
          "1533",
          "1874",
          "2114",
          "2632"
         ],
         "xaxis": "x4",
         "y": [
          0.12971872091293335,
          -0.2559248208999634,
          -0.10800766944885254,
          0.18512621521949768
         ],
         "yaxis": "y4"
        },
        {
         "marker": {
          "color": "blue"
         },
         "name": "text",
         "type": "bar",
         "x": [
          "202",
          "787",
          "2264"
         ],
         "xaxis": "x5",
         "y": [
          0.11336970329284668,
          -0.09513187408447266,
          0.13182708621025085
         ],
         "yaxis": "y5"
        },
        {
         "marker": {
          "color": "blue"
         },
         "name": "text",
         "type": "bar",
         "x": [
          "2590",
          "2865"
         ],
         "xaxis": "x6",
         "y": [
          -0.11692696809768677,
          -0.08461472392082214
         ],
         "yaxis": "y6"
        },
        {
         "marker": {
          "color": "blue"
         },
         "name": "text",
         "type": "bar",
         "x": [
          "2746",
          "2758",
          "3057"
         ],
         "xaxis": "x7",
         "y": [
          -0.0741816982626915,
          0.0701988935470581,
          -0.09354382753372192
         ],
         "yaxis": "y7"
        },
        {
         "marker": {
          "color": "blue"
         },
         "name": "text",
         "type": "bar",
         "x": [
          "172",
          "1558",
          "2367"
         ],
         "xaxis": "x8",
         "y": [
          -0.07198351621627808,
          -0.08597719669342041,
          0.09465265274047852
         ],
         "yaxis": "y8"
        },
        {
         "marker": {
          "color": "blue"
         },
         "name": "text",
         "type": "bar",
         "x": [
          "737",
          "1253",
          "1969",
          "2397"
         ],
         "xaxis": "x9",
         "y": [
          -0.06680941581726074,
          0.08315563201904297,
          -0.061503052711486816,
          -0.06438571214675903
         ],
         "yaxis": "y9"
        },
        {
         "marker": {
          "color": "blue"
         },
         "name": "text",
         "type": "bar",
         "x": [
          "374",
          "3039"
         ],
         "xaxis": "x10",
         "y": [
          0.0569615364074707,
          -0.07934415340423584
         ],
         "yaxis": "y10"
        },
        {
         "marker": {
          "color": "blue"
         },
         "name": "text",
         "type": "bar",
         "x": [
          "2178",
          "2721"
         ],
         "xaxis": "x11",
         "y": [
          -0.11536812782287598,
          -0.08112949132919312
         ],
         "yaxis": "y11"
        },
        {
         "marker": {
          "color": "blue"
         },
         "name": "text",
         "type": "bar",
         "x": [
          "598",
          "2214",
          "3029"
         ],
         "xaxis": "x12",
         "y": [
          -0.13935601711273193,
          0.21574467420578003,
          -0.23507070541381836
         ],
         "yaxis": "y12"
        }
       ],
       "layout": {
        "annotations": [
         {
          "font": {
           "size": 16
          },
          "showarrow": false,
          "text": "Layer 0",
          "x": 0.10625,
          "xanchor": "center",
          "xref": "paper",
          "y": 1,
          "yanchor": "bottom",
          "yref": "paper"
         },
         {
          "font": {
           "size": 16
          },
          "showarrow": false,
          "text": "Layer 1",
          "x": 0.36875,
          "xanchor": "center",
          "xref": "paper",
          "y": 1,
          "yanchor": "bottom",
          "yref": "paper"
         },
         {
          "font": {
           "size": 16
          },
          "showarrow": false,
          "text": "Layer 2",
          "x": 0.6312500000000001,
          "xanchor": "center",
          "xref": "paper",
          "y": 1,
          "yanchor": "bottom",
          "yref": "paper"
         },
         {
          "font": {
           "size": 16
          },
          "showarrow": false,
          "text": "Layer 3",
          "x": 0.89375,
          "xanchor": "center",
          "xref": "paper",
          "y": 1,
          "yanchor": "bottom",
          "yref": "paper"
         },
         {
          "font": {
           "size": 16
          },
          "showarrow": false,
          "text": "Layer 4",
          "x": 0.10625,
          "xanchor": "center",
          "xref": "paper",
          "y": 0.6111111111111112,
          "yanchor": "bottom",
          "yref": "paper"
         },
         {
          "font": {
           "size": 16
          },
          "showarrow": false,
          "text": "Layer 5",
          "x": 0.36875,
          "xanchor": "center",
          "xref": "paper",
          "y": 0.6111111111111112,
          "yanchor": "bottom",
          "yref": "paper"
         },
         {
          "font": {
           "size": 16
          },
          "showarrow": false,
          "text": "Layer 6",
          "x": 0.6312500000000001,
          "xanchor": "center",
          "xref": "paper",
          "y": 0.6111111111111112,
          "yanchor": "bottom",
          "yref": "paper"
         },
         {
          "font": {
           "size": 16
          },
          "showarrow": false,
          "text": "Layer 7",
          "x": 0.89375,
          "xanchor": "center",
          "xref": "paper",
          "y": 0.6111111111111112,
          "yanchor": "bottom",
          "yref": "paper"
         },
         {
          "font": {
           "size": 16
          },
          "showarrow": false,
          "text": "Layer 8",
          "x": 0.10625,
          "xanchor": "center",
          "xref": "paper",
          "y": 0.22222222222222224,
          "yanchor": "bottom",
          "yref": "paper"
         },
         {
          "font": {
           "size": 16
          },
          "showarrow": false,
          "text": "Layer 9",
          "x": 0.36875,
          "xanchor": "center",
          "xref": "paper",
          "y": 0.22222222222222224,
          "yanchor": "bottom",
          "yref": "paper"
         },
         {
          "font": {
           "size": 16
          },
          "showarrow": false,
          "text": "Layer 10",
          "x": 0.6312500000000001,
          "xanchor": "center",
          "xref": "paper",
          "y": 0.22222222222222224,
          "yanchor": "bottom",
          "yref": "paper"
         },
         {
          "font": {
           "size": 16
          },
          "showarrow": false,
          "text": "Layer 11",
          "x": 0.89375,
          "xanchor": "center",
          "xref": "paper",
          "y": 0.22222222222222224,
          "yanchor": "bottom",
          "yref": "paper"
         }
        ],
        "height": 1000,
        "template": {
         "data": {
          "bar": [
           {
            "error_x": {
             "color": "#2a3f5f"
            },
            "error_y": {
             "color": "#2a3f5f"
            },
            "marker": {
             "line": {
              "color": "#E5ECF6",
              "width": 0.5
             },
             "pattern": {
              "fillmode": "overlay",
              "size": 10,
              "solidity": 0.2
             }
            },
            "type": "bar"
           }
          ],
          "barpolar": [
           {
            "marker": {
             "line": {
              "color": "#E5ECF6",
              "width": 0.5
             },
             "pattern": {
              "fillmode": "overlay",
              "size": 10,
              "solidity": 0.2
             }
            },
            "type": "barpolar"
           }
          ],
          "carpet": [
           {
            "aaxis": {
             "endlinecolor": "#2a3f5f",
             "gridcolor": "white",
             "linecolor": "white",
             "minorgridcolor": "white",
             "startlinecolor": "#2a3f5f"
            },
            "baxis": {
             "endlinecolor": "#2a3f5f",
             "gridcolor": "white",
             "linecolor": "white",
             "minorgridcolor": "white",
             "startlinecolor": "#2a3f5f"
            },
            "type": "carpet"
           }
          ],
          "choropleth": [
           {
            "colorbar": {
             "outlinewidth": 0,
             "ticks": ""
            },
            "type": "choropleth"
           }
          ],
          "contour": [
           {
            "colorbar": {
             "outlinewidth": 0,
             "ticks": ""
            },
            "colorscale": [
             [
              0,
              "#0d0887"
             ],
             [
              0.1111111111111111,
              "#46039f"
             ],
             [
              0.2222222222222222,
              "#7201a8"
             ],
             [
              0.3333333333333333,
              "#9c179e"
             ],
             [
              0.4444444444444444,
              "#bd3786"
             ],
             [
              0.5555555555555556,
              "#d8576b"
             ],
             [
              0.6666666666666666,
              "#ed7953"
             ],
             [
              0.7777777777777778,
              "#fb9f3a"
             ],
             [
              0.8888888888888888,
              "#fdca26"
             ],
             [
              1,
              "#f0f921"
             ]
            ],
            "type": "contour"
           }
          ],
          "contourcarpet": [
           {
            "colorbar": {
             "outlinewidth": 0,
             "ticks": ""
            },
            "type": "contourcarpet"
           }
          ],
          "heatmap": [
           {
            "colorbar": {
             "outlinewidth": 0,
             "ticks": ""
            },
            "colorscale": [
             [
              0,
              "#0d0887"
             ],
             [
              0.1111111111111111,
              "#46039f"
             ],
             [
              0.2222222222222222,
              "#7201a8"
             ],
             [
              0.3333333333333333,
              "#9c179e"
             ],
             [
              0.4444444444444444,
              "#bd3786"
             ],
             [
              0.5555555555555556,
              "#d8576b"
             ],
             [
              0.6666666666666666,
              "#ed7953"
             ],
             [
              0.7777777777777778,
              "#fb9f3a"
             ],
             [
              0.8888888888888888,
              "#fdca26"
             ],
             [
              1,
              "#f0f921"
             ]
            ],
            "type": "heatmap"
           }
          ],
          "heatmapgl": [
           {
            "colorbar": {
             "outlinewidth": 0,
             "ticks": ""
            },
            "colorscale": [
             [
              0,
              "#0d0887"
             ],
             [
              0.1111111111111111,
              "#46039f"
             ],
             [
              0.2222222222222222,
              "#7201a8"
             ],
             [
              0.3333333333333333,
              "#9c179e"
             ],
             [
              0.4444444444444444,
              "#bd3786"
             ],
             [
              0.5555555555555556,
              "#d8576b"
             ],
             [
              0.6666666666666666,
              "#ed7953"
             ],
             [
              0.7777777777777778,
              "#fb9f3a"
             ],
             [
              0.8888888888888888,
              "#fdca26"
             ],
             [
              1,
              "#f0f921"
             ]
            ],
            "type": "heatmapgl"
           }
          ],
          "histogram": [
           {
            "marker": {
             "pattern": {
              "fillmode": "overlay",
              "size": 10,
              "solidity": 0.2
             }
            },
            "type": "histogram"
           }
          ],
          "histogram2d": [
           {
            "colorbar": {
             "outlinewidth": 0,
             "ticks": ""
            },
            "colorscale": [
             [
              0,
              "#0d0887"
             ],
             [
              0.1111111111111111,
              "#46039f"
             ],
             [
              0.2222222222222222,
              "#7201a8"
             ],
             [
              0.3333333333333333,
              "#9c179e"
             ],
             [
              0.4444444444444444,
              "#bd3786"
             ],
             [
              0.5555555555555556,
              "#d8576b"
             ],
             [
              0.6666666666666666,
              "#ed7953"
             ],
             [
              0.7777777777777778,
              "#fb9f3a"
             ],
             [
              0.8888888888888888,
              "#fdca26"
             ],
             [
              1,
              "#f0f921"
             ]
            ],
            "type": "histogram2d"
           }
          ],
          "histogram2dcontour": [
           {
            "colorbar": {
             "outlinewidth": 0,
             "ticks": ""
            },
            "colorscale": [
             [
              0,
              "#0d0887"
             ],
             [
              0.1111111111111111,
              "#46039f"
             ],
             [
              0.2222222222222222,
              "#7201a8"
             ],
             [
              0.3333333333333333,
              "#9c179e"
             ],
             [
              0.4444444444444444,
              "#bd3786"
             ],
             [
              0.5555555555555556,
              "#d8576b"
             ],
             [
              0.6666666666666666,
              "#ed7953"
             ],
             [
              0.7777777777777778,
              "#fb9f3a"
             ],
             [
              0.8888888888888888,
              "#fdca26"
             ],
             [
              1,
              "#f0f921"
             ]
            ],
            "type": "histogram2dcontour"
           }
          ],
          "mesh3d": [
           {
            "colorbar": {
             "outlinewidth": 0,
             "ticks": ""
            },
            "type": "mesh3d"
           }
          ],
          "parcoords": [
           {
            "line": {
             "colorbar": {
              "outlinewidth": 0,
              "ticks": ""
             }
            },
            "type": "parcoords"
           }
          ],
          "pie": [
           {
            "automargin": true,
            "type": "pie"
           }
          ],
          "scatter": [
           {
            "fillpattern": {
             "fillmode": "overlay",
             "size": 10,
             "solidity": 0.2
            },
            "type": "scatter"
           }
          ],
          "scatter3d": [
           {
            "line": {
             "colorbar": {
              "outlinewidth": 0,
              "ticks": ""
             }
            },
            "marker": {
             "colorbar": {
              "outlinewidth": 0,
              "ticks": ""
             }
            },
            "type": "scatter3d"
           }
          ],
          "scattercarpet": [
           {
            "marker": {
             "colorbar": {
              "outlinewidth": 0,
              "ticks": ""
             }
            },
            "type": "scattercarpet"
           }
          ],
          "scattergeo": [
           {
            "marker": {
             "colorbar": {
              "outlinewidth": 0,
              "ticks": ""
             }
            },
            "type": "scattergeo"
           }
          ],
          "scattergl": [
           {
            "marker": {
             "colorbar": {
              "outlinewidth": 0,
              "ticks": ""
             }
            },
            "type": "scattergl"
           }
          ],
          "scattermapbox": [
           {
            "marker": {
             "colorbar": {
              "outlinewidth": 0,
              "ticks": ""
             }
            },
            "type": "scattermapbox"
           }
          ],
          "scatterpolar": [
           {
            "marker": {
             "colorbar": {
              "outlinewidth": 0,
              "ticks": ""
             }
            },
            "type": "scatterpolar"
           }
          ],
          "scatterpolargl": [
           {
            "marker": {
             "colorbar": {
              "outlinewidth": 0,
              "ticks": ""
             }
            },
            "type": "scatterpolargl"
           }
          ],
          "scatterternary": [
           {
            "marker": {
             "colorbar": {
              "outlinewidth": 0,
              "ticks": ""
             }
            },
            "type": "scatterternary"
           }
          ],
          "surface": [
           {
            "colorbar": {
             "outlinewidth": 0,
             "ticks": ""
            },
            "colorscale": [
             [
              0,
              "#0d0887"
             ],
             [
              0.1111111111111111,
              "#46039f"
             ],
             [
              0.2222222222222222,
              "#7201a8"
             ],
             [
              0.3333333333333333,
              "#9c179e"
             ],
             [
              0.4444444444444444,
              "#bd3786"
             ],
             [
              0.5555555555555556,
              "#d8576b"
             ],
             [
              0.6666666666666666,
              "#ed7953"
             ],
             [
              0.7777777777777778,
              "#fb9f3a"
             ],
             [
              0.8888888888888888,
              "#fdca26"
             ],
             [
              1,
              "#f0f921"
             ]
            ],
            "type": "surface"
           }
          ],
          "table": [
           {
            "cells": {
             "fill": {
              "color": "#EBF0F8"
             },
             "line": {
              "color": "white"
             }
            },
            "header": {
             "fill": {
              "color": "#C8D4E3"
             },
             "line": {
              "color": "white"
             }
            },
            "type": "table"
           }
          ]
         },
         "layout": {
          "annotationdefaults": {
           "arrowcolor": "#2a3f5f",
           "arrowhead": 0,
           "arrowwidth": 1
          },
          "autotypenumbers": "strict",
          "coloraxis": {
           "colorbar": {
            "outlinewidth": 0,
            "ticks": ""
           }
          },
          "colorscale": {
           "diverging": [
            [
             0,
             "#8e0152"
            ],
            [
             0.1,
             "#c51b7d"
            ],
            [
             0.2,
             "#de77ae"
            ],
            [
             0.3,
             "#f1b6da"
            ],
            [
             0.4,
             "#fde0ef"
            ],
            [
             0.5,
             "#f7f7f7"
            ],
            [
             0.6,
             "#e6f5d0"
            ],
            [
             0.7,
             "#b8e186"
            ],
            [
             0.8,
             "#7fbc41"
            ],
            [
             0.9,
             "#4d9221"
            ],
            [
             1,
             "#276419"
            ]
           ],
           "sequential": [
            [
             0,
             "#0d0887"
            ],
            [
             0.1111111111111111,
             "#46039f"
            ],
            [
             0.2222222222222222,
             "#7201a8"
            ],
            [
             0.3333333333333333,
             "#9c179e"
            ],
            [
             0.4444444444444444,
             "#bd3786"
            ],
            [
             0.5555555555555556,
             "#d8576b"
            ],
            [
             0.6666666666666666,
             "#ed7953"
            ],
            [
             0.7777777777777778,
             "#fb9f3a"
            ],
            [
             0.8888888888888888,
             "#fdca26"
            ],
            [
             1,
             "#f0f921"
            ]
           ],
           "sequentialminus": [
            [
             0,
             "#0d0887"
            ],
            [
             0.1111111111111111,
             "#46039f"
            ],
            [
             0.2222222222222222,
             "#7201a8"
            ],
            [
             0.3333333333333333,
             "#9c179e"
            ],
            [
             0.4444444444444444,
             "#bd3786"
            ],
            [
             0.5555555555555556,
             "#d8576b"
            ],
            [
             0.6666666666666666,
             "#ed7953"
            ],
            [
             0.7777777777777778,
             "#fb9f3a"
            ],
            [
             0.8888888888888888,
             "#fdca26"
            ],
            [
             1,
             "#f0f921"
            ]
           ]
          },
          "colorway": [
           "#636efa",
           "#EF553B",
           "#00cc96",
           "#ab63fa",
           "#FFA15A",
           "#19d3f3",
           "#FF6692",
           "#B6E880",
           "#FF97FF",
           "#FECB52"
          ],
          "font": {
           "color": "#2a3f5f"
          },
          "geo": {
           "bgcolor": "white",
           "lakecolor": "white",
           "landcolor": "#E5ECF6",
           "showlakes": true,
           "showland": true,
           "subunitcolor": "white"
          },
          "hoverlabel": {
           "align": "left"
          },
          "hovermode": "closest",
          "mapbox": {
           "style": "light"
          },
          "paper_bgcolor": "white",
          "plot_bgcolor": "#E5ECF6",
          "polar": {
           "angularaxis": {
            "gridcolor": "white",
            "linecolor": "white",
            "ticks": ""
           },
           "bgcolor": "#E5ECF6",
           "radialaxis": {
            "gridcolor": "white",
            "linecolor": "white",
            "ticks": ""
           }
          },
          "scene": {
           "xaxis": {
            "backgroundcolor": "#E5ECF6",
            "gridcolor": "white",
            "gridwidth": 2,
            "linecolor": "white",
            "showbackground": true,
            "ticks": "",
            "zerolinecolor": "white"
           },
           "yaxis": {
            "backgroundcolor": "#E5ECF6",
            "gridcolor": "white",
            "gridwidth": 2,
            "linecolor": "white",
            "showbackground": true,
            "ticks": "",
            "zerolinecolor": "white"
           },
           "zaxis": {
            "backgroundcolor": "#E5ECF6",
            "gridcolor": "white",
            "gridwidth": 2,
            "linecolor": "white",
            "showbackground": true,
            "ticks": "",
            "zerolinecolor": "white"
           }
          },
          "shapedefaults": {
           "line": {
            "color": "#2a3f5f"
           }
          },
          "ternary": {
           "aaxis": {
            "gridcolor": "white",
            "linecolor": "white",
            "ticks": ""
           },
           "baxis": {
            "gridcolor": "white",
            "linecolor": "white",
            "ticks": ""
           },
           "bgcolor": "#E5ECF6",
           "caxis": {
            "gridcolor": "white",
            "linecolor": "white",
            "ticks": ""
           }
          },
          "title": {
           "x": 0.05
          },
          "xaxis": {
           "automargin": true,
           "gridcolor": "white",
           "linecolor": "white",
           "ticks": "",
           "title": {
            "standoff": 15
           },
           "zerolinecolor": "white",
           "zerolinewidth": 2
          },
          "yaxis": {
           "automargin": true,
           "gridcolor": "white",
           "linecolor": "white",
           "ticks": "",
           "title": {
            "standoff": 15
           },
           "zerolinecolor": "white",
           "zerolinewidth": 2
          }
         }
        },
        "title": {
         "text": "Neurons activations"
        },
        "width": 1000,
        "xaxis": {
         "anchor": "y",
         "domain": [
          0,
          0.2125
         ]
        },
        "xaxis10": {
         "anchor": "y10",
         "domain": [
          0.2625,
          0.475
         ]
        },
        "xaxis11": {
         "anchor": "y11",
         "domain": [
          0.525,
          0.7375
         ]
        },
        "xaxis12": {
         "anchor": "y12",
         "domain": [
          0.7875,
          1
         ]
        },
        "xaxis2": {
         "anchor": "y2",
         "domain": [
          0.2625,
          0.475
         ]
        },
        "xaxis3": {
         "anchor": "y3",
         "domain": [
          0.525,
          0.7375
         ]
        },
        "xaxis4": {
         "anchor": "y4",
         "domain": [
          0.7875,
          1
         ]
        },
        "xaxis5": {
         "anchor": "y5",
         "domain": [
          0,
          0.2125
         ]
        },
        "xaxis6": {
         "anchor": "y6",
         "domain": [
          0.2625,
          0.475
         ]
        },
        "xaxis7": {
         "anchor": "y7",
         "domain": [
          0.525,
          0.7375
         ]
        },
        "xaxis8": {
         "anchor": "y8",
         "domain": [
          0.7875,
          1
         ]
        },
        "xaxis9": {
         "anchor": "y9",
         "domain": [
          0,
          0.2125
         ]
        },
        "yaxis": {
         "anchor": "x",
         "domain": [
          0.7777777777777778,
          1
         ]
        },
        "yaxis10": {
         "anchor": "x10",
         "domain": [
          0,
          0.22222222222222224
         ],
         "matches": "y9",
         "showticklabels": false
        },
        "yaxis11": {
         "anchor": "x11",
         "domain": [
          0,
          0.22222222222222224
         ],
         "matches": "y9",
         "showticklabels": false
        },
        "yaxis12": {
         "anchor": "x12",
         "domain": [
          0,
          0.22222222222222224
         ],
         "matches": "y9",
         "showticklabels": false
        },
        "yaxis2": {
         "anchor": "x2",
         "domain": [
          0.7777777777777778,
          1
         ],
         "matches": "y",
         "showticklabels": false
        },
        "yaxis3": {
         "anchor": "x3",
         "domain": [
          0.7777777777777778,
          1
         ],
         "matches": "y",
         "showticklabels": false
        },
        "yaxis4": {
         "anchor": "x4",
         "domain": [
          0.7777777777777778,
          1
         ],
         "matches": "y",
         "showticklabels": false
        },
        "yaxis5": {
         "anchor": "x5",
         "domain": [
          0.3888888888888889,
          0.6111111111111112
         ]
        },
        "yaxis6": {
         "anchor": "x6",
         "domain": [
          0.3888888888888889,
          0.6111111111111112
         ],
         "matches": "y5",
         "showticklabels": false
        },
        "yaxis7": {
         "anchor": "x7",
         "domain": [
          0.3888888888888889,
          0.6111111111111112
         ],
         "matches": "y5",
         "showticklabels": false
        },
        "yaxis8": {
         "anchor": "x8",
         "domain": [
          0.3888888888888889,
          0.6111111111111112
         ],
         "matches": "y5",
         "showticklabels": false
        },
        "yaxis9": {
         "anchor": "x9",
         "domain": [
          0,
          0.22222222222222224
         ]
        }
       }
      }
     },
     "metadata": {},
     "output_type": "display_data"
    }
   ],
   "source": [
    "fig = make_subplots(rows=3, cols=4, subplot_titles=[f\"Layer {i}\" for i in range(nl)], shared_yaxes=True)\n",
    "\n",
    "for i, (text, html) in enumerate(zip(mean_text_activations_values, mean_html_activations_values)):\n",
    "    df = pd.DataFrame({\n",
    "        'delta': text.cpu() - html.cpu(),\n",
    "        'neuron': active_neurons[i].cpu().numpy().astype(str)\n",
    "    })\n",
    "    fig.add_trace(go.Bar(x=df['neuron'], y=df['delta'], name='text', marker_color='blue'), row=i//4+1, col=i%4+1)\n",
    "\n",
    "fig.update_layout(height=1000, width=1000, title_text=\"Neurons activations\")\n",
    "fig.show()"
   ]
  },
  {
   "cell_type": "code",
   "execution_count": 28,
   "metadata": {},
   "outputs": [
    {
     "data": {
      "text/plain": [
       "'<p>Title here</p>TheWrap</p>The'"
      ]
     },
     "execution_count": 28,
     "metadata": {},
     "output_type": "execute_result"
    }
   ],
   "source": [
    "hooks = [(\n",
    "    f\"blocks.{l}.mlp.hook_post\", \n",
    "    partial(neurons_patching_hook, neurons=active_neurons[l], patch=mean_text_activations_values[l])\n",
    "    ) for l in range(nl)]\n",
    "\n",
    "generate_with_hooks(model, \"<p>Title here\", hooks, max_new_tokens=10)"
   ]
  },
  {
   "cell_type": "markdown",
   "metadata": {},
   "source": [
    "### Activation Patching\n",
    "\n",
    "In  this part I'll explore the "
   ]
  },
  {
   "cell_type": "code",
   "execution_count": 29,
   "metadata": {},
   "outputs": [],
   "source": [
    "from jaxtyping import Float\n",
    "from transformer_lens import ActivationCache\n",
    "from transformer_lens.hook_points import HookPoint\n",
    "from functools import partial\n",
    "from transformer_lens import utils\n",
    "\n",
    "def residual_stream_patching_hook(\n",
    "    resid_pre: Float[torch.Tensor, \"batch pos d_model\"],\n",
    "    hook: HookPoint,\n",
    "    position: int,\n",
    "    clean_cache: ActivationCache\n",
    ") -> Float[torch.Tensor, \"batch pos d_model\"]:\n",
    "    # Each HookPoint has a name attribute giving the name of the hook.\n",
    "    clean_resid_pre = clean_cache[hook.name]\n",
    "    resid_pre[:, position, :] = clean_resid_pre[:, position, :]\n",
    "    return resid_pre\n",
    "\n",
    "def logits_to_logit_diff(model, logits, correct_answer, incorrect_answer):\n",
    "    # model.to_single_token maps a string value of a single token to the token index for that token\n",
    "    # If the string is not a single token, it raises an error.\n",
    "    correct_index = model.to_single_token(correct_answer)\n",
    "    incorrect_index = model.to_single_token(incorrect_answer)\n",
    "    return logits[0, -1, correct_index] - logits[0, -1, incorrect_index]\n",
    "\n",
    "@torch.no_grad()\n",
    "def activation_patching(model, clean_prompt, corrupted_prompt, correct_answer, incorrect_answer, component=\"hook_resid_post\", run_corrupted=True):\n",
    "\n",
    "    # By default this function runs the corrupted prompt and substitute the clean activations!\n",
    "    if not run_corrupted:\n",
    "        clean_prompt, corrupted_prompt = corrupted_prompt, clean_prompt\n",
    "        correct_answer, incorrect_answer = incorrect_answer, correct_answer\n",
    "\n",
    "    clean_tokens = model.to_tokens(clean_prompt)\n",
    "    corrupted_tokens = model.to_tokens(corrupted_prompt)\n",
    "\n",
    "    # We run on the clean prompt with the cache so we store activations to patch in later.\n",
    "    clean_logits, clean_cache = model.run_with_cache(clean_tokens, device=\"mps\")\n",
    "    clean_logit_diff = logits_to_logit_diff(model, clean_logits, correct_answer=correct_answer, incorrect_answer=incorrect_answer)\n",
    "    print(f\"Clean logit difference: {clean_logit_diff.item():.3f}\")\n",
    "\n",
    "    # We don't need to cache on the corrupted prompt.\n",
    "    corrupted_logits = model(corrupted_tokens)\n",
    "    corrupted_logit_diff = logits_to_logit_diff(model, corrupted_logits, correct_answer=correct_answer, incorrect_answer=incorrect_answer)\n",
    "    print(f\"Corrupted logit difference: {corrupted_logit_diff.item():.3f}\")\n",
    "\n",
    "    # Run patching\n",
    "    print(\"Running patching...\")\n",
    "     # We make a tensor to store the results for each patching run. We put it on the model's device to avoid needing to move things between the GPU and CPU, which can be slow.\n",
    "    num_positions = len(clean_tokens[0])\n",
    "    patching_result = torch.zeros((model.cfg.n_layers, num_positions), device=model.cfg.device)\n",
    "\n",
    "    for layer in tqdm(range(model.cfg.n_layers)):\n",
    "        for position in range(num_positions):\n",
    "            # Use functools.partial to create a temporary hook function with the position fixed\n",
    "            temp_hook_fn = partial(residual_stream_patching_hook, position=position, clean_cache=clean_cache)\n",
    "            # Run the model with the patching hook\n",
    "            patched_logits = model.run_with_hooks(corrupted_tokens, fwd_hooks=[\n",
    "                (f\"blocks.{layer}.{component}\", temp_hook_fn)\n",
    "            ])\n",
    "            # Calculate the logit difference\n",
    "            patched_logit_diff = logits_to_logit_diff(model, patched_logits, correct_answer, incorrect_answer).detach()\n",
    "            # Store the result, normalizing by the clean and corrupted logit difference so it's between 0 and 1 (ish)\n",
    "            patching_result[layer, position] = (patched_logit_diff - corrupted_logit_diff)/(clean_logit_diff - corrupted_logit_diff)\n",
    "\n",
    "    return patching_result"
   ]
  },
  {
   "cell_type": "code",
   "execution_count": 30,
   "metadata": {},
   "outputs": [],
   "source": [
    "clean_prompt = \"\\nTitle here\"\n",
    "corrupted_prompt = \"<h1>Title here\""
   ]
  },
  {
   "cell_type": "code",
   "execution_count": 31,
   "metadata": {},
   "outputs": [
    {
     "name": "stdout",
     "output_type": "stream",
     "text": [
      "Clean logit difference: 9.583\n",
      "Corrupted logit difference: -4.099\n",
      "Running patching...\n"
     ]
    },
    {
     "name": "stderr",
     "output_type": "stream",
     "text": [
      "100%|██████████| 12/12 [00:02<00:00,  4.15it/s]\n"
     ]
    },
    {
     "name": "stdout",
     "output_type": "stream",
     "text": [
      "Clean logit difference: 9.583\n",
      "Corrupted logit difference: -4.099\n",
      "Running patching...\n"
     ]
    },
    {
     "name": "stderr",
     "output_type": "stream",
     "text": [
      "100%|██████████| 12/12 [00:02<00:00,  4.08it/s]\n"
     ]
    },
    {
     "name": "stdout",
     "output_type": "stream",
     "text": [
      "Clean logit difference: 9.583\n",
      "Corrupted logit difference: -4.099\n",
      "Running patching...\n"
     ]
    },
    {
     "name": "stderr",
     "output_type": "stream",
     "text": [
      "100%|██████████| 12/12 [00:02<00:00,  4.35it/s]\n"
     ]
    }
   ],
   "source": [
    "mlp_patching = activation_patching(model, clean_prompt, corrupted_prompt, \".\", \"</\", component=\"hook_mlp_out\")\n",
    "attn_patching = activation_patching(model, clean_prompt, corrupted_prompt, \".\", \"</\", component=\"hook_attn_out\")\n",
    "rs_patching = activation_patching(model, clean_prompt, corrupted_prompt, \".\", \"</\", component=\"hook_resid_post\")"
   ]
  },
  {
   "cell_type": "code",
   "execution_count": 32,
   "metadata": {},
   "outputs": [
    {
     "data": {
      "text/plain": [
       "['<|endoftext|>', '\\n', 'Title', ' here']"
      ]
     },
     "execution_count": 32,
     "metadata": {},
     "output_type": "execute_result"
    }
   ],
   "source": [
    "model.to_str_tokens(clean_prompt)"
   ]
  },
  {
   "cell_type": "code",
   "execution_count": 33,
   "metadata": {},
   "outputs": [
    {
     "data": {
      "application/vnd.plotly.v1+json": {
       "config": {
        "plotlyServerURL": "https://plot.ly"
       },
       "data": [
        {
         "coloraxis": "coloraxis",
         "hovertemplate": "x: %{x}<br>y: %{y}<br>color: %{z}<extra></extra>",
         "name": "0",
         "type": "heatmap",
         "x": [
          "\n",
          "Title",
          " here"
         ],
         "xaxis": "x",
         "y": [
          "Layer 0",
          "Layer 1",
          "Layer 2",
          "Layer 3",
          "Layer 4",
          "Layer 5",
          "Layer 6",
          "Layer 7",
          "Layer 8",
          "Layer 9",
          "Layer 10",
          "Layer 11"
         ],
         "yaxis": "y",
         "z": [
          [
           0.2825148403644562,
           0.12444905936717987,
           0.12214135378599167
          ],
          [
           0.020672690123319626,
           0.05541148781776428,
           -0.003704461734741926
          ],
          [
           0.0037358275149017572,
           0.020792996510863304,
           0.0092546371743083
          ],
          [
           0.005483888555318117,
           0.008802409283816814,
           0.026827044785022736
          ],
          [
           -0.005504241678863764,
           0.01037238072603941,
           0.037851348519325256
          ],
          [
           -0.008946134708821774,
           0.0100820017978549,
           -0.005663998890668154
          ],
          [
           0.025884460657835007,
           0.0031754919327795506,
           0.011036642827093601
          ],
          [
           0.011424326337873936,
           0.0032759327441453934,
           -0.0009981351904571056
          ],
          [
           0.01496024802327156,
           0.003912801388651133,
           -0.009602450765669346
          ],
          [
           0.021184373646974564,
           0.0029502143152058125,
           -0.008411798626184464
          ],
          [
           0.0014266641810536385,
           0.006532627623528242,
           0.007621375378221273
          ],
          [
           0,
           0,
           0
          ]
         ],
         "zmax": 1,
         "zmin": -1
        },
        {
         "coloraxis": "coloraxis",
         "hovertemplate": "x: %{x}<br>y: %{y}<br>color: %{z}<extra></extra>",
         "name": "0",
         "type": "heatmap",
         "x": [
          "\n",
          "Title",
          " here"
         ],
         "xaxis": "x2",
         "y": [
          "Layer 0",
          "Layer 1",
          "Layer 2",
          "Layer 3",
          "Layer 4",
          "Layer 5",
          "Layer 6",
          "Layer 7",
          "Layer 8",
          "Layer 9",
          "Layer 10",
          "Layer 11"
         ],
         "yaxis": "y2",
         "z": [
          [
           -0.004977014381438494,
           0.00997703056782484,
           -0.011529995128512383
          ],
          [
           0.014182023704051971,
           0.010126471519470215,
           0.006798332091420889
          ],
          [
           -0.0002406119165243581,
           0.025739062577486038,
           0.029440248385071754
          ],
          [
           0.0014456231147050858,
           0.001778520760126412,
           0.013884046114981174
          ],
          [
           0.0012179758632555604,
           0.000952828791923821,
           0.0023018447682261467
          ],
          [
           -0.0008761563804000616,
           -0.00023071421310305595,
           -0.0015939493896439672
          ],
          [
           0.002280376385897398,
           0.0013310328358784318,
           0.00806468166410923
          ],
          [
           -0.0003984176437370479,
           -0.0006832904764451087,
           0.0013628170127049088
          ],
          [
           -0.0009084981866180897,
           0.0005785280955024064,
           0.007296005729585886
          ],
          [
           -0.0006861482397653162,
           0.0005036679212935269,
           0.01072444673627615
          ],
          [
           -0.0020315395668148994,
           -0.00006356838275678456,
           0.0019884638022631407
          ],
          [
           0,
           0,
           0
          ]
         ],
         "zmax": 1,
         "zmin": -1
        },
        {
         "coloraxis": "coloraxis",
         "hovertemplate": "x: %{x}<br>y: %{y}<br>color: %{z}<extra></extra>",
         "name": "0",
         "type": "heatmap",
         "x": [
          "\n",
          "Title",
          " here"
         ],
         "xaxis": "x3",
         "y": [
          "Layer 0",
          "Layer 1",
          "Layer 2",
          "Layer 3",
          "Layer 4",
          "Layer 5",
          "Layer 6",
          "Layer 7",
          "Layer 8",
          "Layer 9",
          "Layer 10",
          "Layer 11"
         ],
         "yaxis": "y3",
         "z": [
          [
           0.3074363172054291,
           0.15666979551315308,
           0.14497822523117065
          ],
          [
           0.23791326582431793,
           0.16014695167541504,
           0.1414644718170166
          ],
          [
           0.16547463834285736,
           0.07363073527812958,
           0.0842994898557663
          ],
          [
           0.08719170838594437,
           0.04688725993037224,
           0.0863027274608612
          ],
          [
           0.0715126246213913,
           0.03720548748970032,
           0.08877269178628922
          ],
          [
           0.07579533010721207,
           0.04201208055019379,
           0.07180969417095184
          ],
          [
           0.07580537348985672,
           0.04632783308625221,
           0.060665152966976166
          ],
          [
           0.07395024597644806,
           0.042191844433546066,
           0.05710964277386665
          ],
          [
           0.05637679621577263,
           0.03747565299272537,
           0.047998592257499695
          ],
          [
           0.048317547887563705,
           0.034335989505052567,
           0.04616193845868111
          ],
          [
           0.044066064059734344,
           0.020343557000160217,
           0.04347122833132744
          ],
          [
           0,
           0,
           0
          ]
         ],
         "zmax": 1,
         "zmin": -1
        }
       ],
       "layout": {
        "annotations": [
         {
          "font": {
           "size": 16
          },
          "showarrow": false,
          "text": "MLP",
          "x": 0.14444444444444446,
          "xanchor": "center",
          "xref": "paper",
          "y": 1,
          "yanchor": "bottom",
          "yref": "paper"
         },
         {
          "font": {
           "size": 16
          },
          "showarrow": false,
          "text": "Attention",
          "x": 0.5,
          "xanchor": "center",
          "xref": "paper",
          "y": 1,
          "yanchor": "bottom",
          "yref": "paper"
         },
         {
          "font": {
           "size": 16
          },
          "showarrow": false,
          "text": "Residual Stream",
          "x": 0.8555555555555556,
          "xanchor": "center",
          "xref": "paper",
          "y": 1,
          "yanchor": "bottom",
          "yref": "paper"
         }
        ],
        "coloraxis": {
         "colorscale": [
          [
           0,
           "rgb(247,251,255)"
          ],
          [
           0.125,
           "rgb(222,235,247)"
          ],
          [
           0.25,
           "rgb(198,219,239)"
          ],
          [
           0.375,
           "rgb(158,202,225)"
          ],
          [
           0.5,
           "rgb(107,174,214)"
          ],
          [
           0.625,
           "rgb(66,146,198)"
          ],
          [
           0.75,
           "rgb(33,113,181)"
          ],
          [
           0.875,
           "rgb(8,81,156)"
          ],
          [
           1,
           "rgb(8,48,107)"
          ]
         ]
        },
        "template": {
         "data": {
          "bar": [
           {
            "error_x": {
             "color": "#2a3f5f"
            },
            "error_y": {
             "color": "#2a3f5f"
            },
            "marker": {
             "line": {
              "color": "#E5ECF6",
              "width": 0.5
             },
             "pattern": {
              "fillmode": "overlay",
              "size": 10,
              "solidity": 0.2
             }
            },
            "type": "bar"
           }
          ],
          "barpolar": [
           {
            "marker": {
             "line": {
              "color": "#E5ECF6",
              "width": 0.5
             },
             "pattern": {
              "fillmode": "overlay",
              "size": 10,
              "solidity": 0.2
             }
            },
            "type": "barpolar"
           }
          ],
          "carpet": [
           {
            "aaxis": {
             "endlinecolor": "#2a3f5f",
             "gridcolor": "white",
             "linecolor": "white",
             "minorgridcolor": "white",
             "startlinecolor": "#2a3f5f"
            },
            "baxis": {
             "endlinecolor": "#2a3f5f",
             "gridcolor": "white",
             "linecolor": "white",
             "minorgridcolor": "white",
             "startlinecolor": "#2a3f5f"
            },
            "type": "carpet"
           }
          ],
          "choropleth": [
           {
            "colorbar": {
             "outlinewidth": 0,
             "ticks": ""
            },
            "type": "choropleth"
           }
          ],
          "contour": [
           {
            "colorbar": {
             "outlinewidth": 0,
             "ticks": ""
            },
            "colorscale": [
             [
              0,
              "#0d0887"
             ],
             [
              0.1111111111111111,
              "#46039f"
             ],
             [
              0.2222222222222222,
              "#7201a8"
             ],
             [
              0.3333333333333333,
              "#9c179e"
             ],
             [
              0.4444444444444444,
              "#bd3786"
             ],
             [
              0.5555555555555556,
              "#d8576b"
             ],
             [
              0.6666666666666666,
              "#ed7953"
             ],
             [
              0.7777777777777778,
              "#fb9f3a"
             ],
             [
              0.8888888888888888,
              "#fdca26"
             ],
             [
              1,
              "#f0f921"
             ]
            ],
            "type": "contour"
           }
          ],
          "contourcarpet": [
           {
            "colorbar": {
             "outlinewidth": 0,
             "ticks": ""
            },
            "type": "contourcarpet"
           }
          ],
          "heatmap": [
           {
            "colorbar": {
             "outlinewidth": 0,
             "ticks": ""
            },
            "colorscale": [
             [
              0,
              "#0d0887"
             ],
             [
              0.1111111111111111,
              "#46039f"
             ],
             [
              0.2222222222222222,
              "#7201a8"
             ],
             [
              0.3333333333333333,
              "#9c179e"
             ],
             [
              0.4444444444444444,
              "#bd3786"
             ],
             [
              0.5555555555555556,
              "#d8576b"
             ],
             [
              0.6666666666666666,
              "#ed7953"
             ],
             [
              0.7777777777777778,
              "#fb9f3a"
             ],
             [
              0.8888888888888888,
              "#fdca26"
             ],
             [
              1,
              "#f0f921"
             ]
            ],
            "type": "heatmap"
           }
          ],
          "heatmapgl": [
           {
            "colorbar": {
             "outlinewidth": 0,
             "ticks": ""
            },
            "colorscale": [
             [
              0,
              "#0d0887"
             ],
             [
              0.1111111111111111,
              "#46039f"
             ],
             [
              0.2222222222222222,
              "#7201a8"
             ],
             [
              0.3333333333333333,
              "#9c179e"
             ],
             [
              0.4444444444444444,
              "#bd3786"
             ],
             [
              0.5555555555555556,
              "#d8576b"
             ],
             [
              0.6666666666666666,
              "#ed7953"
             ],
             [
              0.7777777777777778,
              "#fb9f3a"
             ],
             [
              0.8888888888888888,
              "#fdca26"
             ],
             [
              1,
              "#f0f921"
             ]
            ],
            "type": "heatmapgl"
           }
          ],
          "histogram": [
           {
            "marker": {
             "pattern": {
              "fillmode": "overlay",
              "size": 10,
              "solidity": 0.2
             }
            },
            "type": "histogram"
           }
          ],
          "histogram2d": [
           {
            "colorbar": {
             "outlinewidth": 0,
             "ticks": ""
            },
            "colorscale": [
             [
              0,
              "#0d0887"
             ],
             [
              0.1111111111111111,
              "#46039f"
             ],
             [
              0.2222222222222222,
              "#7201a8"
             ],
             [
              0.3333333333333333,
              "#9c179e"
             ],
             [
              0.4444444444444444,
              "#bd3786"
             ],
             [
              0.5555555555555556,
              "#d8576b"
             ],
             [
              0.6666666666666666,
              "#ed7953"
             ],
             [
              0.7777777777777778,
              "#fb9f3a"
             ],
             [
              0.8888888888888888,
              "#fdca26"
             ],
             [
              1,
              "#f0f921"
             ]
            ],
            "type": "histogram2d"
           }
          ],
          "histogram2dcontour": [
           {
            "colorbar": {
             "outlinewidth": 0,
             "ticks": ""
            },
            "colorscale": [
             [
              0,
              "#0d0887"
             ],
             [
              0.1111111111111111,
              "#46039f"
             ],
             [
              0.2222222222222222,
              "#7201a8"
             ],
             [
              0.3333333333333333,
              "#9c179e"
             ],
             [
              0.4444444444444444,
              "#bd3786"
             ],
             [
              0.5555555555555556,
              "#d8576b"
             ],
             [
              0.6666666666666666,
              "#ed7953"
             ],
             [
              0.7777777777777778,
              "#fb9f3a"
             ],
             [
              0.8888888888888888,
              "#fdca26"
             ],
             [
              1,
              "#f0f921"
             ]
            ],
            "type": "histogram2dcontour"
           }
          ],
          "mesh3d": [
           {
            "colorbar": {
             "outlinewidth": 0,
             "ticks": ""
            },
            "type": "mesh3d"
           }
          ],
          "parcoords": [
           {
            "line": {
             "colorbar": {
              "outlinewidth": 0,
              "ticks": ""
             }
            },
            "type": "parcoords"
           }
          ],
          "pie": [
           {
            "automargin": true,
            "type": "pie"
           }
          ],
          "scatter": [
           {
            "fillpattern": {
             "fillmode": "overlay",
             "size": 10,
             "solidity": 0.2
            },
            "type": "scatter"
           }
          ],
          "scatter3d": [
           {
            "line": {
             "colorbar": {
              "outlinewidth": 0,
              "ticks": ""
             }
            },
            "marker": {
             "colorbar": {
              "outlinewidth": 0,
              "ticks": ""
             }
            },
            "type": "scatter3d"
           }
          ],
          "scattercarpet": [
           {
            "marker": {
             "colorbar": {
              "outlinewidth": 0,
              "ticks": ""
             }
            },
            "type": "scattercarpet"
           }
          ],
          "scattergeo": [
           {
            "marker": {
             "colorbar": {
              "outlinewidth": 0,
              "ticks": ""
             }
            },
            "type": "scattergeo"
           }
          ],
          "scattergl": [
           {
            "marker": {
             "colorbar": {
              "outlinewidth": 0,
              "ticks": ""
             }
            },
            "type": "scattergl"
           }
          ],
          "scattermapbox": [
           {
            "marker": {
             "colorbar": {
              "outlinewidth": 0,
              "ticks": ""
             }
            },
            "type": "scattermapbox"
           }
          ],
          "scatterpolar": [
           {
            "marker": {
             "colorbar": {
              "outlinewidth": 0,
              "ticks": ""
             }
            },
            "type": "scatterpolar"
           }
          ],
          "scatterpolargl": [
           {
            "marker": {
             "colorbar": {
              "outlinewidth": 0,
              "ticks": ""
             }
            },
            "type": "scatterpolargl"
           }
          ],
          "scatterternary": [
           {
            "marker": {
             "colorbar": {
              "outlinewidth": 0,
              "ticks": ""
             }
            },
            "type": "scatterternary"
           }
          ],
          "surface": [
           {
            "colorbar": {
             "outlinewidth": 0,
             "ticks": ""
            },
            "colorscale": [
             [
              0,
              "#0d0887"
             ],
             [
              0.1111111111111111,
              "#46039f"
             ],
             [
              0.2222222222222222,
              "#7201a8"
             ],
             [
              0.3333333333333333,
              "#9c179e"
             ],
             [
              0.4444444444444444,
              "#bd3786"
             ],
             [
              0.5555555555555556,
              "#d8576b"
             ],
             [
              0.6666666666666666,
              "#ed7953"
             ],
             [
              0.7777777777777778,
              "#fb9f3a"
             ],
             [
              0.8888888888888888,
              "#fdca26"
             ],
             [
              1,
              "#f0f921"
             ]
            ],
            "type": "surface"
           }
          ],
          "table": [
           {
            "cells": {
             "fill": {
              "color": "#EBF0F8"
             },
             "line": {
              "color": "white"
             }
            },
            "header": {
             "fill": {
              "color": "#C8D4E3"
             },
             "line": {
              "color": "white"
             }
            },
            "type": "table"
           }
          ]
         },
         "layout": {
          "annotationdefaults": {
           "arrowcolor": "#2a3f5f",
           "arrowhead": 0,
           "arrowwidth": 1
          },
          "autotypenumbers": "strict",
          "coloraxis": {
           "colorbar": {
            "outlinewidth": 0,
            "ticks": ""
           }
          },
          "colorscale": {
           "diverging": [
            [
             0,
             "#8e0152"
            ],
            [
             0.1,
             "#c51b7d"
            ],
            [
             0.2,
             "#de77ae"
            ],
            [
             0.3,
             "#f1b6da"
            ],
            [
             0.4,
             "#fde0ef"
            ],
            [
             0.5,
             "#f7f7f7"
            ],
            [
             0.6,
             "#e6f5d0"
            ],
            [
             0.7,
             "#b8e186"
            ],
            [
             0.8,
             "#7fbc41"
            ],
            [
             0.9,
             "#4d9221"
            ],
            [
             1,
             "#276419"
            ]
           ],
           "sequential": [
            [
             0,
             "#0d0887"
            ],
            [
             0.1111111111111111,
             "#46039f"
            ],
            [
             0.2222222222222222,
             "#7201a8"
            ],
            [
             0.3333333333333333,
             "#9c179e"
            ],
            [
             0.4444444444444444,
             "#bd3786"
            ],
            [
             0.5555555555555556,
             "#d8576b"
            ],
            [
             0.6666666666666666,
             "#ed7953"
            ],
            [
             0.7777777777777778,
             "#fb9f3a"
            ],
            [
             0.8888888888888888,
             "#fdca26"
            ],
            [
             1,
             "#f0f921"
            ]
           ],
           "sequentialminus": [
            [
             0,
             "#0d0887"
            ],
            [
             0.1111111111111111,
             "#46039f"
            ],
            [
             0.2222222222222222,
             "#7201a8"
            ],
            [
             0.3333333333333333,
             "#9c179e"
            ],
            [
             0.4444444444444444,
             "#bd3786"
            ],
            [
             0.5555555555555556,
             "#d8576b"
            ],
            [
             0.6666666666666666,
             "#ed7953"
            ],
            [
             0.7777777777777778,
             "#fb9f3a"
            ],
            [
             0.8888888888888888,
             "#fdca26"
            ],
            [
             1,
             "#f0f921"
            ]
           ]
          },
          "colorway": [
           "#636efa",
           "#EF553B",
           "#00cc96",
           "#ab63fa",
           "#FFA15A",
           "#19d3f3",
           "#FF6692",
           "#B6E880",
           "#FF97FF",
           "#FECB52"
          ],
          "font": {
           "color": "#2a3f5f"
          },
          "geo": {
           "bgcolor": "white",
           "lakecolor": "white",
           "landcolor": "#E5ECF6",
           "showlakes": true,
           "showland": true,
           "subunitcolor": "white"
          },
          "hoverlabel": {
           "align": "left"
          },
          "hovermode": "closest",
          "mapbox": {
           "style": "light"
          },
          "paper_bgcolor": "white",
          "plot_bgcolor": "#E5ECF6",
          "polar": {
           "angularaxis": {
            "gridcolor": "white",
            "linecolor": "white",
            "ticks": ""
           },
           "bgcolor": "#E5ECF6",
           "radialaxis": {
            "gridcolor": "white",
            "linecolor": "white",
            "ticks": ""
           }
          },
          "scene": {
           "xaxis": {
            "backgroundcolor": "#E5ECF6",
            "gridcolor": "white",
            "gridwidth": 2,
            "linecolor": "white",
            "showbackground": true,
            "ticks": "",
            "zerolinecolor": "white"
           },
           "yaxis": {
            "backgroundcolor": "#E5ECF6",
            "gridcolor": "white",
            "gridwidth": 2,
            "linecolor": "white",
            "showbackground": true,
            "ticks": "",
            "zerolinecolor": "white"
           },
           "zaxis": {
            "backgroundcolor": "#E5ECF6",
            "gridcolor": "white",
            "gridwidth": 2,
            "linecolor": "white",
            "showbackground": true,
            "ticks": "",
            "zerolinecolor": "white"
           }
          },
          "shapedefaults": {
           "line": {
            "color": "#2a3f5f"
           }
          },
          "ternary": {
           "aaxis": {
            "gridcolor": "white",
            "linecolor": "white",
            "ticks": ""
           },
           "baxis": {
            "gridcolor": "white",
            "linecolor": "white",
            "ticks": ""
           },
           "bgcolor": "#E5ECF6",
           "caxis": {
            "gridcolor": "white",
            "linecolor": "white",
            "ticks": ""
           }
          },
          "title": {
           "x": 0.05
          },
          "xaxis": {
           "automargin": true,
           "gridcolor": "white",
           "linecolor": "white",
           "ticks": "",
           "title": {
            "standoff": 15
           },
           "zerolinecolor": "white",
           "zerolinewidth": 2
          },
          "yaxis": {
           "automargin": true,
           "gridcolor": "white",
           "linecolor": "white",
           "ticks": "",
           "title": {
            "standoff": 15
           },
           "zerolinecolor": "white",
           "zerolinewidth": 2
          }
         }
        },
        "title": {
         "text": "Patching results"
        },
        "xaxis": {
         "anchor": "y",
         "domain": [
          0,
          0.2888888888888889
         ]
        },
        "xaxis2": {
         "anchor": "y2",
         "domain": [
          0.35555555555555557,
          0.6444444444444445
         ]
        },
        "xaxis3": {
         "anchor": "y3",
         "domain": [
          0.7111111111111111,
          1
         ]
        },
        "yaxis": {
         "anchor": "x",
         "domain": [
          0,
          1
         ]
        },
        "yaxis2": {
         "anchor": "x2",
         "domain": [
          0,
          1
         ]
        },
        "yaxis3": {
         "anchor": "x3",
         "domain": [
          0,
          1
         ]
        }
       }
      }
     },
     "metadata": {},
     "output_type": "display_data"
    }
   ],
   "source": [
    "import plotly.express as px\n",
    "from plotly.subplots import make_subplots\n",
    "\n",
    "fig = make_subplots(rows=1, cols=3, subplot_titles=(\"MLP\", \"Attention\", \"Residual Stream\"))\n",
    "\n",
    "fig.add_trace(px.imshow(\n",
    "    mlp_patching.cpu().numpy()[:, 1:],\n",
    "    x=model.to_str_tokens(clean_prompt)[1:],\n",
    "    y=[f\"Layer {i}\" for i in range(model.cfg.n_layers)], \n",
    "    title=\"Patching result\", width=800, height=600).data[0], row=1, col=1)\n",
    "\n",
    "fig.add_trace(px.imshow(\n",
    "    attn_patching.cpu().numpy()[:, 1:],\n",
    "    x=model.to_str_tokens(clean_prompt)[1:],\n",
    "    y=[f\"Layer {i}\" for i in range(model.cfg.n_layers)],\n",
    "    title=\"Patching result\", width=800, height=600).data[0], row=1, col=2)\n",
    "\n",
    "fig.add_trace(px.imshow(\n",
    "    rs_patching.cpu().numpy()[:, 1:],\n",
    "    x=model.to_str_tokens(clean_prompt)[1:],\n",
    "    y=[f\"Layer {i}\" for i in range(model.cfg.n_layers)],\n",
    "    title=\"Patching result\", width=800, height=600).data[0], row=1, col=3)\n",
    "\n",
    "fig.update_layout(coloraxis=dict(colorscale='Blues'))\n",
    "fig.update_traces(zmin=-1, zmax=1)\n",
    "fig.update_layout(title_text=\"Patching results\")\n",
    "fig.show()"
   ]
  },
  {
   "cell_type": "markdown",
   "metadata": {},
   "source": [
    "## 2. Retrieving the right tag"
   ]
  },
  {
   "cell_type": "code",
   "execution_count": 53,
   "metadata": {},
   "outputs": [],
   "source": [
    "# Building the dataset\n",
    "code_split = []\n",
    "for c in code:\n",
    "    split = c.split('</')\n",
    "    split = ['</'.join(split[:i+1]) for i in range(len(split))]\n",
    "    code_split.extend(split)"
   ]
  },
  {
   "cell_type": "code",
   "execution_count": null,
   "metadata": {},
   "outputs": [],
   "source": [
    "tqdm.pandas()\n",
    "(pd.Series(code_split).apply(lambda x: x.replace('<!DOCTYPE html>\\n<html lang=\"en\">\\n', '')).progress_apply(lambda x: generate(model, x, max_new_tokens=1)[len(x):]) == '</').mean()"
   ]
  },
  {
   "cell_type": "markdown",
   "metadata": {},
   "source": [
    "### Sparse autoencoders"
   ]
  },
  {
   "cell_type": "markdown",
   "metadata": {},
   "source": []
  }
 ],
 "metadata": {
  "kernelspec": {
   "display_name": "Python 3",
   "language": "python",
   "name": "python3"
  },
  "language_info": {
   "codemirror_mode": {
    "name": "ipython",
    "version": 3
   },
   "file_extension": ".py",
   "mimetype": "text/x-python",
   "name": "python",
   "nbconvert_exporter": "python",
   "pygments_lexer": "ipython3",
   "version": "3.11.4"
  }
 },
 "nbformat": 4,
 "nbformat_minor": 2
}
