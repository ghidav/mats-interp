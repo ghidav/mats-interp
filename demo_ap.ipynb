{
 "cells": [
  {
   "cell_type": "code",
   "execution_count": 1,
   "metadata": {},
   "outputs": [
    {
     "name": "stdout",
     "output_type": "stream",
     "text": [
      "Loaded pretrained model gpt2 into HookedTransformer\n"
     ]
    }
   ],
   "source": [
    "from transformer_lens import HookedTransformer\n",
    "\n",
    "model = HookedTransformer.from_pretrained('gpt2')\n",
    "model.eval()\n",
    "model.set_use_attn_result(True)\n",
    "model.set_use_attn_in(True)\n",
    "model.set_use_hook_mlp_in(True)\n",
    "model.set_use_split_qkv_input(True)"
   ]
  },
  {
   "cell_type": "code",
   "execution_count": 2,
   "metadata": {},
   "outputs": [],
   "source": [
    "from importlib import reload\n",
    "import atp\n",
    "reload(atp)\n",
    "\n",
    "patching = atp.Patching(model, 'atp')"
   ]
  },
  {
   "cell_type": "code",
   "execution_count": 3,
   "metadata": {},
   "outputs": [
    {
     "name": "stdout",
     "output_type": "stream",
     "text": [
      "Clean logit difference: 3.429\n",
      "Corrupted logit difference: -4.078\n",
      "Patching...\n"
     ]
    }
   ],
   "source": [
    "x_clean = 'John and Mary went to the park. John gave a flower to'\n",
    "x_corr = 'John and Mary went to the park. Mary gave a flower to'\n",
    "\n",
    "a_clean = 'Mary'\n",
    "a_corr = 'John'\n",
    "\n",
    "patching.patching(x_clean, a_clean, x_corr, a_corr, component='attn_pattern')"
   ]
  },
  {
   "cell_type": "code",
   "execution_count": 13,
   "metadata": {},
   "outputs": [
    {
     "data": {
      "text/markdown": [
       "### Patching results"
      ],
      "text/plain": [
       "<IPython.core.display.Markdown object>"
      ]
     },
     "metadata": {},
     "output_type": "display_data"
    },
    {
     "name": "stdout",
     "output_type": "stream",
     "text": [
      "pysvelte components appear to be unbuilt or stale\n",
      "Building pysvelte components with webpack...\n"
     ]
    },
    {
     "name": "stderr",
     "output_type": "stream",
     "text": [
      "huggingface/tokenizers: The current process just got forked, after parallelism has already been used. Disabling parallelism to avoid deadlocks...\n",
      "To disable this warning, you can either:\n",
      "\t- Avoid using `tokenizers` before the fork if possible\n",
      "\t- Explicitly set the environment variable TOKENIZERS_PARALLELISM=(true | false)\n"
     ]
    },
    {
     "name": "stdout",
     "output_type": "stream",
     "text": [
      "\n",
      "> pysvelte@1.0.0 webpack\n",
      "> node ./node_modules/.bin/webpack\n",
      "\n",
      "entry: {\"loader\":\"./src/loader.js\",\"AttentionMulti\":\"./src/AttentionMulti.svelte\",\"Hello\":\"./src/Hello.svelte\",\"TextSingle\":\"./src/TextSingle.svelte\",\"TopKTable\":\"./src/TopKTable.svelte\"}\n"
     ]
    },
    {
     "name": "stderr",
     "output_type": "stream",
     "text": [
      "node:internal/crypto/hash:71\n",
      "  this[kHandle] = new _Hash(algorithm, xofLen);\n",
      "                  ^\n",
      "\n",
      "Error: error:0308010C:digital envelope routines::unsupported\n",
      "    at new Hash (node:internal/crypto/hash:71:19)\n",
      "    at Object.createHash (node:crypto:133:10)\n",
      "    at BulkUpdateDecorator.hashFactory (/Library/Frameworks/Python.framework/Versions/3.11/lib/python3.11/site-packages/pysvelte/svelte/node_modules/webpack/lib/util/createHash.js:138:18)\n",
      "    at BulkUpdateDecorator.update (/Library/Frameworks/Python.framework/Versions/3.11/lib/python3.11/site-packages/pysvelte/svelte/node_modules/webpack/lib/util/createHash.js:44:50)\n",
      "    at RawSource.updateHash (/Library/Frameworks/Python.framework/Versions/3.11/lib/python3.11/site-packages/pysvelte/svelte/node_modules/webpack-sources/lib/RawSource.js:64:8)\n",
      "    at NormalModule._initBuildHash (/Library/Frameworks/Python.framework/Versions/3.11/lib/python3.11/site-packages/pysvelte/svelte/node_modules/webpack/lib/NormalModule.js:752:17)\n",
      "    at handleParseResult (/Library/Frameworks/Python.framework/Versions/3.11/lib/python3.11/site-packages/pysvelte/svelte/node_modules/webpack/lib/NormalModule.js:816:10)\n",
      "    at /Library/Frameworks/Python.framework/Versions/3.11/lib/python3.11/site-packages/pysvelte/svelte/node_modules/webpack/lib/NormalModule.js:907:4\n",
      "    at processResult (/Library/Frameworks/Python.framework/Versions/3.11/lib/python3.11/site-packages/pysvelte/svelte/node_modules/webpack/lib/NormalModule.js:639:11)\n",
      "    at /Library/Frameworks/Python.framework/Versions/3.11/lib/python3.11/site-packages/pysvelte/svelte/node_modules/webpack/lib/NormalModule.js:691:5 {\n",
      "  opensslErrorStack: [ 'error:03000086:digital envelope routines::initialization error' ],\n",
      "  library: 'digital envelope routines',\n",
      "  reason: 'unsupported',\n",
      "  code: 'ERR_OSSL_EVP_UNSUPPORTED'\n",
      "}\n",
      "\n",
      "Node.js v18.16.1\n"
     ]
    },
    {
     "ename": "CalledProcessError",
     "evalue": "Command '['npm', 'run', 'webpack', '--env=entry=loader,AttentionMulti']' returned non-zero exit status 1.",
     "output_type": "error",
     "traceback": [
      "\u001b[0;31m---------------------------------------------------------------------------\u001b[0m",
      "\u001b[0;31mCalledProcessError\u001b[0m                        Traceback (most recent call last)",
      "File \u001b[0;32m~/Library/Python/3.11/lib/python/site-packages/IPython/core/formatters.py:344\u001b[0m, in \u001b[0;36mBaseFormatter.__call__\u001b[0;34m(self, obj)\u001b[0m\n\u001b[1;32m    342\u001b[0m     method \u001b[38;5;241m=\u001b[39m get_real_method(obj, \u001b[38;5;28mself\u001b[39m\u001b[38;5;241m.\u001b[39mprint_method)\n\u001b[1;32m    343\u001b[0m     \u001b[38;5;28;01mif\u001b[39;00m method \u001b[38;5;129;01mis\u001b[39;00m \u001b[38;5;129;01mnot\u001b[39;00m \u001b[38;5;28;01mNone\u001b[39;00m:\n\u001b[0;32m--> 344\u001b[0m         \u001b[38;5;28;01mreturn\u001b[39;00m \u001b[43mmethod\u001b[49m\u001b[43m(\u001b[49m\u001b[43m)\u001b[49m\n\u001b[1;32m    345\u001b[0m     \u001b[38;5;28;01mreturn\u001b[39;00m \u001b[38;5;28;01mNone\u001b[39;00m\n\u001b[1;32m    346\u001b[0m \u001b[38;5;28;01melse\u001b[39;00m:\n",
      "File \u001b[0;32m/Library/Frameworks/Python.framework/Versions/3.11/lib/python3.11/site-packages/pysvelte/html.py:73\u001b[0m, in \u001b[0;36mHtml._repr_html_\u001b[0;34m(self)\u001b[0m\n\u001b[1;32m     72\u001b[0m \u001b[38;5;28;01mdef\u001b[39;00m \u001b[38;5;21m_repr_html_\u001b[39m(\u001b[38;5;28mself\u001b[39m):\n\u001b[0;32m---> 73\u001b[0m     \u001b[38;5;28;01mreturn\u001b[39;00m \u001b[38;5;28;43mself\u001b[39;49m\u001b[38;5;241;43m.\u001b[39;49m\u001b[43mhtml_inline_str\u001b[49m\u001b[43m(\u001b[49m\u001b[43m)\u001b[49m\n",
      "File \u001b[0;32m/Library/Frameworks/Python.framework/Versions/3.11/lib/python3.11/site-packages/pysvelte/html.py:113\u001b[0m, in \u001b[0;36mHtml.html_inline_str\u001b[0;34m(self)\u001b[0m\n\u001b[1;32m    107\u001b[0m \u001b[38;5;28;01mdef\u001b[39;00m \u001b[38;5;21mhtml_inline_str\u001b[39m(\u001b[38;5;28mself\u001b[39m) \u001b[38;5;241m-\u001b[39m\u001b[38;5;241m>\u001b[39m \u001b[38;5;28mstr\u001b[39m:\n\u001b[1;32m    108\u001b[0m \u001b[38;5;250m    \u001b[39m\u001b[38;5;124;03m\"\"\"\u001b[39;00m\n\u001b[1;32m    109\u001b[0m \u001b[38;5;124;03m    Render the HTML in \"colab inline\" format, with javascript from script paths\u001b[39;00m\n\u001b[1;32m    110\u001b[0m \u001b[38;5;124;03m    (but ignoring \"dev mode\" and just requesting static pages, because it doesn't work in colab).\u001b[39;00m\n\u001b[1;32m    111\u001b[0m \u001b[38;5;124;03m    \"\"\"\u001b[39;00m\n\u001b[1;32m    112\u001b[0m     \u001b[38;5;28;01mreturn\u001b[39;00m \u001b[38;5;124mf\u001b[39m\u001b[38;5;124m\"\"\"\u001b[39m\n\u001b[0;32m--> 113\u001b[0m \u001b[38;5;124m    \u001b[39m\u001b[38;5;132;01m{\u001b[39;00m\u001b[43mget_script_tags\u001b[49m\u001b[43m(\u001b[49m\u001b[38;5;28;43mself\u001b[39;49m\u001b[38;5;241;43m.\u001b[39;49m\u001b[43mscript_paths\u001b[49m\u001b[43m)\u001b[49m\u001b[38;5;132;01m}\u001b[39;00m\n\u001b[1;32m    114\u001b[0m \u001b[38;5;124m    \u001b[39m\u001b[38;5;132;01m{\u001b[39;00m\u001b[38;5;28mself\u001b[39m\u001b[38;5;241m.\u001b[39mhtml_str()\u001b[38;5;132;01m}\u001b[39;00m\n\u001b[1;32m    115\u001b[0m \u001b[38;5;124m    \u001b[39m\u001b[38;5;124m\"\"\"\u001b[39m\n",
      "File \u001b[0;32m/Library/Frameworks/Python.framework/Versions/3.11/lib/python3.11/site-packages/pysvelte/javascript.py:119\u001b[0m, in \u001b[0;36mget_script_tags\u001b[0;34m(paths, dev_host)\u001b[0m\n\u001b[1;32m    107\u001b[0m \u001b[38;5;250m\u001b[39m\u001b[38;5;124;03m\"\"\"Get html <script> tags to load the visualizations at paths.\u001b[39;00m\n\u001b[1;32m    108\u001b[0m \n\u001b[1;32m    109\u001b[0m \u001b[38;5;124;03mArgs:\u001b[39;00m\n\u001b[0;32m   (...)\u001b[0m\n\u001b[1;32m    113\u001b[0m \u001b[38;5;124;03m    load it from a url based on dev_host.\u001b[39;00m\n\u001b[1;32m    114\u001b[0m \u001b[38;5;124;03m\"\"\"\u001b[39;00m\n\u001b[1;32m    115\u001b[0m \u001b[38;5;28;01mif\u001b[39;00m dev_host \u001b[38;5;129;01mis\u001b[39;00m \u001b[38;5;28;01mNone\u001b[39;00m:\n\u001b[1;32m    116\u001b[0m     \u001b[38;5;66;03m# Although the get_script_tag() below would also trigger builds,\u001b[39;00m\n\u001b[1;32m    117\u001b[0m     \u001b[38;5;66;03m# doing it like this builds all needed assets in one pass which is\u001b[39;00m\n\u001b[1;32m    118\u001b[0m     \u001b[38;5;66;03m# significantly faster.\u001b[39;00m\n\u001b[0;32m--> 119\u001b[0m     \u001b[43mwebpack_if_necessary\u001b[49m\u001b[43m(\u001b[49m\u001b[43mpaths\u001b[49m\u001b[43m)\u001b[49m\n\u001b[1;32m    120\u001b[0m tags \u001b[38;5;241m=\u001b[39m [get_script_tag(path, dev_host\u001b[38;5;241m=\u001b[39mdev_host) \u001b[38;5;28;01mfor\u001b[39;00m path \u001b[38;5;129;01min\u001b[39;00m paths]\n\u001b[1;32m    121\u001b[0m \u001b[38;5;28;01mreturn\u001b[39;00m \u001b[38;5;124m\"\u001b[39m\u001b[38;5;130;01m\\n\u001b[39;00m\u001b[38;5;124m\"\u001b[39m\u001b[38;5;241m.\u001b[39mjoin(tags)\n",
      "File \u001b[0;32m/Library/Frameworks/Python.framework/Versions/3.11/lib/python3.11/site-packages/pysvelte/javascript.py:67\u001b[0m, in \u001b[0;36mwebpack_if_necessary\u001b[0;34m(paths)\u001b[0m\n\u001b[1;32m     65\u001b[0m \u001b[38;5;28;01melse\u001b[39;00m:\n\u001b[1;32m     66\u001b[0m     env_flag \u001b[38;5;241m=\u001b[39m []\n\u001b[0;32m---> 67\u001b[0m \u001b[43msubprocess\u001b[49m\u001b[38;5;241;43m.\u001b[39;49m\u001b[43mcheck_call\u001b[49m\u001b[43m(\u001b[49m\u001b[43m[\u001b[49m\u001b[38;5;124;43m\"\u001b[39;49m\u001b[38;5;124;43mnpm\u001b[39;49m\u001b[38;5;124;43m\"\u001b[39;49m\u001b[43m,\u001b[49m\u001b[43m \u001b[49m\u001b[38;5;124;43m\"\u001b[39;49m\u001b[38;5;124;43mrun\u001b[39;49m\u001b[38;5;124;43m\"\u001b[39;49m\u001b[43m,\u001b[49m\u001b[43m \u001b[49m\u001b[38;5;124;43m\"\u001b[39;49m\u001b[38;5;124;43mwebpack\u001b[39;49m\u001b[38;5;124;43m\"\u001b[39;49m\u001b[43m]\u001b[49m\u001b[43m \u001b[49m\u001b[38;5;241;43m+\u001b[39;49m\u001b[43m \u001b[49m\u001b[43menv_flag\u001b[49m\u001b[43m,\u001b[49m\u001b[43m \u001b[49m\u001b[43mcwd\u001b[49m\u001b[38;5;241;43m=\u001b[39;49m\u001b[38;5;28;43mstr\u001b[39;49m\u001b[43m(\u001b[49m\u001b[43mPYSVELTE_ROOT\u001b[49m\u001b[43m)\u001b[49m\u001b[43m)\u001b[49m\n",
      "File \u001b[0;32m/Library/Frameworks/Python.framework/Versions/3.11/lib/python3.11/subprocess.py:413\u001b[0m, in \u001b[0;36mcheck_call\u001b[0;34m(*popenargs, **kwargs)\u001b[0m\n\u001b[1;32m    411\u001b[0m     \u001b[38;5;28;01mif\u001b[39;00m cmd \u001b[38;5;129;01mis\u001b[39;00m \u001b[38;5;28;01mNone\u001b[39;00m:\n\u001b[1;32m    412\u001b[0m         cmd \u001b[38;5;241m=\u001b[39m popenargs[\u001b[38;5;241m0\u001b[39m]\n\u001b[0;32m--> 413\u001b[0m     \u001b[38;5;28;01mraise\u001b[39;00m CalledProcessError(retcode, cmd)\n\u001b[1;32m    414\u001b[0m \u001b[38;5;28;01mreturn\u001b[39;00m \u001b[38;5;241m0\u001b[39m\n",
      "\u001b[0;31mCalledProcessError\u001b[0m: Command '['npm', 'run', 'webpack', '--env=entry=loader,AttentionMulti']' returned non-zero exit status 1."
     ]
    },
    {
     "data": {
      "text/plain": [
       "<pysvelte.html.Html at 0x2b7e44b10>"
      ]
     },
     "metadata": {},
     "output_type": "display_data"
    }
   ],
   "source": [
    "patching.plot_patch(width=1200, height=1800)"
   ]
  },
  {
   "cell_type": "code",
   "execution_count": null,
   "metadata": {},
   "outputs": [],
   "source": []
  }
 ],
 "metadata": {
  "kernelspec": {
   "display_name": "Python 3",
   "language": "python",
   "name": "python3"
  },
  "language_info": {
   "codemirror_mode": {
    "name": "ipython",
    "version": 3
   },
   "file_extension": ".py",
   "mimetype": "text/x-python",
   "name": "python",
   "nbconvert_exporter": "python",
   "pygments_lexer": "ipython3",
   "version": "3.11.4"
  }
 },
 "nbformat": 4,
 "nbformat_minor": 2
}
