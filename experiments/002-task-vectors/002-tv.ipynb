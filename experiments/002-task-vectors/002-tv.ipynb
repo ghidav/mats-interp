{
 "cells": [
  {
   "cell_type": "code",
   "execution_count": 222,
   "metadata": {},
   "outputs": [
    {
     "name": "stdout",
     "output_type": "stream",
     "text": [
      "Device: cuda\n"
     ]
    },
    {
     "data": {
      "text/html": [
       "        <script type=\"text/javascript\">\n",
       "        window.PlotlyConfig = {MathJaxConfig: 'local'};\n",
       "        if (window.MathJax && window.MathJax.Hub && window.MathJax.Hub.Config) {window.MathJax.Hub.Config({SVG: {font: \"STIX-Web\"}});}\n",
       "        if (typeof require !== 'undefined') {\n",
       "        require.undef(\"plotly\");\n",
       "        requirejs.config({\n",
       "            paths: {\n",
       "                'plotly': ['https://cdn.plot.ly/plotly-2.32.0.min']\n",
       "            }\n",
       "        });\n",
       "        require(['plotly'], function(Plotly) {\n",
       "            window._Plotly = Plotly;\n",
       "        });\n",
       "        }\n",
       "        </script>\n",
       "        "
      ]
     },
     "metadata": {},
     "output_type": "display_data"
    }
   ],
   "source": [
    "import os\n",
    "os.environ['HF_HOME'] = '/workspace/huggingface'\n",
    "\n",
    "from transformer_lens import HookedTransformer, ActivationCache, utils\n",
    "import torch\n",
    "\n",
    "if torch.backends.mps.is_available():\n",
    "    device = \"mps\"\n",
    "else:\n",
    "    device = \"cuda\" if torch.cuda.is_available() else \"cpu\"\n",
    "\n",
    "print(f\"Device: {device}\")\n",
    "\n",
    "import plotly.graph_objects as go\n",
    "from plotly.offline import init_notebook_mode, iplot\n",
    "\n",
    "from tqdm import tqdm\n",
    "import matplotlib.pyplot as plt\n",
    "import seaborn as sns\n",
    "\n",
    "init_notebook_mode(connected=True)"
   ]
  },
  {
   "cell_type": "code",
   "execution_count": 243,
   "metadata": {},
   "outputs": [
    {
     "name": "stderr",
     "output_type": "stream",
     "text": [
      "/usr/local/lib/python3.10/dist-packages/huggingface_hub/file_download.py:1132: FutureWarning:\n",
      "\n",
      "`resume_download` is deprecated and will be removed in version 1.0.0. Downloads always resume when possible. If you want to force a new download, use `force_download=True`.\n",
      "\n"
     ]
    },
    {
     "name": "stdout",
     "output_type": "stream",
     "text": [
      "Loaded pretrained model gpt2 into HookedTransformer\n"
     ]
    }
   ],
   "source": [
    "model = HookedTransformer.from_pretrained('gpt2', device=device)\n",
    "\n",
    "model.eval()\n",
    "model.set_use_attn_result(True)\n",
    "model.set_use_attn_in(True)\n",
    "model.set_use_hook_mlp_in(True)\n",
    "model.set_use_split_qkv_input(True)"
   ]
  },
  {
   "cell_type": "code",
   "execution_count": 362,
   "metadata": {},
   "outputs": [],
   "source": [
    "clean_prompt = '''I'm Davide, I'm 20 years old and I live in Rome.\n",
    "{\n",
    "    \"name\": \"Davide\",\n",
    "    \"age\": \"20\",\n",
    "    \"city\": \"Rome\"\n",
    "}\n",
    "\n",
    "My name is Paul and I live in San Francisco. I've just turned 12.\n",
    "{'''\n",
    "\n",
    "corrupted_prompt = '''I'm Davide and I'm 20 years old.\n",
    "{\n",
    "    \"name\": \"Davide\",\n",
    "    \"age\": \"20\"\n",
    "}\n",
    "\n",
    "Hi, I'm Laura and I'm 25.\n",
    "{\n",
    "    \"name\": \"'''\n",
    "\n",
    "#My name is Paul and I've just turned 12.\n",
    "#{\n",
    "#    \"name\": \"Paul\",\n",
    "#    \"age\": 12\n",
    "#} Hi, I'm Laura and I'm 25.\n",
    "\n",
    "clean_prompt = '''Davide is a student at Stanford and Mary works at McDonald.\n",
    "{\n",
    "    \"entities\": [\n",
    "        {\"id\": 0, \"name\": \"Davide\"},\n",
    "        {\"id\": 1, \"name\": \"Stanford\"},\n",
    "        {\"id\": 2, \"name\": \"Mary\"},\n",
    "        {\"id\": 3, \"name\": \"McDonald\"}\n",
    "    ]\n",
    "}\n",
    "\n",
    "Susan works at Walmart while John studies at NYU.\n",
    "{\n",
    "    \"entities\":'''"
   ]
  },
  {
   "cell_type": "markdown",
   "metadata": {},
   "source": [
    "### Patching"
   ]
  },
  {
   "cell_type": "code",
   "execution_count": 350,
   "metadata": {},
   "outputs": [
    {
     "name": "stdout",
     "output_type": "stream",
     "text": [
      "Tokenized prompt: ['<|endoftext|>', 'D', 'av', 'ide', ' is', ' a', ' student', ' at', ' Stanford', ' and', ' Mary', ' works', ' at', ' McDonald', '.', '\\n', '{', '\\n', ' ', ' ', ' ', ' \"', 'ent', 'ities', '\":', ' [', '\\n', ' ', ' ', ' ', ' ', ' ', ' ', ' ', ' {\"', 'id', '\":', ' 0', ',', ' \"', 'name', '\":', ' \"', 'D', 'av', 'ide', '\"},', '\\n', ' ', ' ', ' ', ' ', ' ', ' ', ' ', ' {\"', 'id', '\":', ' 1', ',', ' \"', 'name', '\":', ' \"', 'Stan', 'ford', '\"},', '\\n', ' ', ' ', ' ', ' ', ' ', ' ', ' ', ' {\"', 'id', '\":', ' 2', ',', ' \"', 'name', '\":', ' \"', 'Mary', '\"},', '\\n', ' ', ' ', ' ', ' ', ' ', ' ', ' ', ' {\"', 'id', '\":', ' 3', ',', ' \"', 'name', '\":', ' \"', 'Mc', 'Donald', '\"},', '\\n', ' ', ' ', ' ', ' ],', '\\n', ' ', ' ', ' ', ' \"', 'relations', '\":', ' [', '\\n', ' ', ' ', ' ', ' ', ' ', ' ', ' ', ' {\"', 'id', '_', 'a', '\":', ' 0', ',', ' \"', 'id', '_', 'b', '\":', ' 1', ',', ' \"', 'relation', '\":', ' \"', 'study', '\"}', '\\n', ' ', ' ', ' ', ' ', ' ', ' ', ' ', ' {\"', 'id', '_', 'a', '\":', ' 2', ',', ' \"', 'id', '_', 'b', '\":', ' 3', ',', ' \"', 'relation', '\":', ' \"', 'work', '\"}', '\\n', ' ', ' ', ' ', ' ]', '\\n', '}', '\\n', '\\n', 'Susan', ' works', ' at', ' Walmart', ' while', ' John', ' studies', ' at', ' NYU', '.', '\\n', '{']\n",
      "Tokenized answer: [' Sarah']\n"
     ]
    },
    {
     "data": {
      "text/html": [
       "<pre style=\"white-space:pre;overflow-x:auto;line-height:normal;font-family:Menlo,'DejaVu Sans Mono',consolas,'Courier New',monospace\">Performance on answer token:\n",
       "<span style=\"font-weight: bold\">Rank: </span><span style=\"color: #008080; text-decoration-color: #008080; font-weight: bold\">2817</span><span style=\"font-weight: bold\">     Logit:  </span><span style=\"color: #008080; text-decoration-color: #008080; font-weight: bold\">3.21</span><span style=\"font-weight: bold\"> Prob:  </span><span style=\"color: #008080; text-decoration-color: #008080; font-weight: bold\">0.00</span><span style=\"font-weight: bold\">% Token: | Sarah|</span>\n",
       "</pre>\n"
      ],
      "text/plain": [
       "Performance on answer token:\n",
       "\u001b[1mRank: \u001b[0m\u001b[1;36m2817\u001b[0m\u001b[1m     Logit:  \u001b[0m\u001b[1;36m3.21\u001b[0m\u001b[1m Prob:  \u001b[0m\u001b[1;36m0.00\u001b[0m\u001b[1m% Token: | Sarah|\u001b[0m\n"
      ]
     },
     "metadata": {},
     "output_type": "display_data"
    },
    {
     "name": "stdout",
     "output_type": "stream",
     "text": [
      "Top 0th token. Logit: 15.80 Prob: 72.93% Token: |\n",
      "|\n",
      "Top 1th token. Logit: 14.09 Prob: 13.22% Token: | |\n",
      "Top 2th token. Logit: 12.22 Prob:  2.04% Token: | }|\n",
      "Top 3th token. Logit: 12.13 Prob:  1.86% Token: |  |\n",
      "Top 4th token. Logit: 11.68 Prob:  1.18% Token: | \"|\n",
      "Top 5th token. Logit: 10.89 Prob:  0.54% Token: | {|\n",
      "Top 6th token. Logit: 10.76 Prob:  0.47% Token: |<|endoftext|>|\n",
      "Top 7th token. Logit: 10.58 Prob:  0.39% Token: | \\|\n",
      "Top 8th token. Logit: 10.35 Prob:  0.31% Token: | |\n",
      "Top 9th token. Logit: 10.28 Prob:  0.29% Token: | id|\n"
     ]
    },
    {
     "data": {
      "text/html": [
       "<pre style=\"white-space:pre;overflow-x:auto;line-height:normal;font-family:Menlo,'DejaVu Sans Mono',consolas,'Courier New',monospace\"><span style=\"font-weight: bold\">Ranks of the answer tokens:</span> <span style=\"font-weight: bold\">[(</span><span style=\"color: #008000; text-decoration-color: #008000\">' Sarah'</span>, <span style=\"color: #008080; text-decoration-color: #008080; font-weight: bold\">2817</span><span style=\"font-weight: bold\">)]</span>\n",
       "</pre>\n"
      ],
      "text/plain": [
       "\u001b[1mRanks of the answer tokens:\u001b[0m \u001b[1m[\u001b[0m\u001b[1m(\u001b[0m\u001b[32m' Sarah'\u001b[0m, \u001b[1;36m2817\u001b[0m\u001b[1m)\u001b[0m\u001b[1m]\u001b[0m\n"
      ]
     },
     "metadata": {},
     "output_type": "display_data"
    }
   ],
   "source": [
    "from transformer_lens.utils import test_prompt\n",
    "\n",
    "test_prompt(clean_prompt, 'Sarah', model)"
   ]
  },
  {
   "cell_type": "code",
   "execution_count": 305,
   "metadata": {},
   "outputs": [],
   "source": [
    "import os\n",
    "import sys\n",
    "\n",
    "current_dir = os.getcwd()\n",
    "atp_dir = os.path.abspath(os.path.join(current_dir, '..', '..'))\n",
    "sys.path.append(atp_dir)\n",
    "\n",
    "from atp import Patching\n",
    "\n",
    "patching = Patching(model, 'atp')"
   ]
  },
  {
   "cell_type": "code",
   "execution_count": 306,
   "metadata": {},
   "outputs": [
    {
     "name": "stdout",
     "output_type": "stream",
     "text": [
      "Clean logit difference: 7.589\n",
      "Corrupted logit difference: -7.148\n",
      "Patching...\n"
     ]
    }
   ],
   "source": [
    "a_clean = 'Sarah'\n",
    "a_corr = 'Laura'\n",
    "\n",
    "patching.patching(clean_prompt, a_clean, corrupted_prompt, a_corr, component='attn_all')"
   ]
  },
  {
   "cell_type": "code",
   "execution_count": 307,
   "metadata": {},
   "outputs": [],
   "source": [
    "fig = patching.plot()\n",
    "fig.write_html(\"fig.html\")"
   ]
  },
  {
   "cell_type": "code",
   "execution_count": 335,
   "metadata": {},
   "outputs": [],
   "source": [
    "def head_modifier_hook(x, hook, head_id, lam=1.2):\n",
    "    x[:, -1, head_id, :] = lam * x[:, -1, head_id, :]\n",
    "    return x"
   ]
  },
  {
   "cell_type": "code",
   "execution_count": 342,
   "metadata": {},
   "outputs": [
    {
     "name": "stdout",
     "output_type": "stream",
     "text": [
      "Tokenized prompt: ['<|endoftext|>', 'I', \"'m\", ' Dav', 'ide', ',', ' I', \"'m\", ' 20', ' years', ' old', ' and', ' I', ' live', ' in', ' Rome', '.', '\\n', '{', '\\n', ' ', ' ', ' ', ' \"', 'name', '\":', ' \"', 'D', 'av', 'ide', '\",', '\\n', ' ', ' ', ' ', ' \"', 'age', '\":', ' \"', '20', '\",', '\\n', ' ', ' ', ' ', ' \"', 'city', '\":', ' \"', 'R', 'ome', '\"', '\\n', '}', '\\n', '\\n', 'My', ' name', ' is', ' Paul', ' and', ' I', ' live', ' in', ' San', ' Francisco', '.', ' I', \"'ve\", ' just', ' turned', ' 12', '.', '\\n', '{']\n",
      "Tokenized answer: [' Sarah']\n"
     ]
    },
    {
     "data": {
      "text/html": [
       "<pre style=\"white-space:pre;overflow-x:auto;line-height:normal;font-family:Menlo,'DejaVu Sans Mono',consolas,'Courier New',monospace\">Performance on answer token:\n",
       "<span style=\"font-weight: bold\">Rank: </span><span style=\"color: #008080; text-decoration-color: #008080; font-weight: bold\">4269</span><span style=\"font-weight: bold\">     Logit:  </span><span style=\"color: #008080; text-decoration-color: #008080; font-weight: bold\">3.01</span><span style=\"font-weight: bold\"> Prob:  </span><span style=\"color: #008080; text-decoration-color: #008080; font-weight: bold\">0.00</span><span style=\"font-weight: bold\">% Token: | Sarah|</span>\n",
       "</pre>\n"
      ],
      "text/plain": [
       "Performance on answer token:\n",
       "\u001b[1mRank: \u001b[0m\u001b[1;36m4269\u001b[0m\u001b[1m     Logit:  \u001b[0m\u001b[1;36m3.01\u001b[0m\u001b[1m Prob:  \u001b[0m\u001b[1;36m0.00\u001b[0m\u001b[1m% Token: | Sarah|\u001b[0m\n"
      ]
     },
     "metadata": {},
     "output_type": "display_data"
    },
    {
     "name": "stdout",
     "output_type": "stream",
     "text": [
      "Top 0th token. Logit: 14.79 Prob: 44.28% Token: | |\n",
      "Top 1th token. Logit: 14.43 Prob: 30.95% Token: |\n",
      "|\n",
      "Top 2th token. Logit: 12.43 Prob:  4.20% Token: | }|\n",
      "Top 3th token. Logit: 12.37 Prob:  3.94% Token: |  |\n",
      "Top 4th token. Logit: 11.61 Prob:  1.85% Token: | \"|\n",
      "Top 5th token. Logit: 10.48 Prob:  0.60% Token: | |\n",
      "Top 6th token. Logit: 10.10 Prob:  0.41% Token: | {|\n",
      "Top 7th token. Logit: 10.00 Prob:  0.37% Token: | I|\n",
      "Top 8th token. Logit:  9.95 Prob:  0.35% Token: |<|endoftext|>|\n",
      "Top 9th token. Logit:  9.90 Prob:  0.33% Token: |I|\n"
     ]
    },
    {
     "data": {
      "text/html": [
       "<pre style=\"white-space:pre;overflow-x:auto;line-height:normal;font-family:Menlo,'DejaVu Sans Mono',consolas,'Courier New',monospace\"><span style=\"font-weight: bold\">Ranks of the answer tokens:</span> <span style=\"font-weight: bold\">[(</span><span style=\"color: #008000; text-decoration-color: #008000\">' Sarah'</span>, <span style=\"color: #008080; text-decoration-color: #008080; font-weight: bold\">4269</span><span style=\"font-weight: bold\">)]</span>\n",
       "</pre>\n"
      ],
      "text/plain": [
       "\u001b[1mRanks of the answer tokens:\u001b[0m \u001b[1m[\u001b[0m\u001b[1m(\u001b[0m\u001b[32m' Sarah'\u001b[0m, \u001b[1;36m4269\u001b[0m\u001b[1m)\u001b[0m\u001b[1m]\u001b[0m\n"
      ]
     },
     "metadata": {},
     "output_type": "display_data"
    }
   ],
   "source": [
    "test_prompt(clean_prompt, 'Sarah', model)"
   ]
  },
  {
   "cell_type": "code",
   "execution_count": 363,
   "metadata": {},
   "outputs": [
    {
     "name": "stderr",
     "output_type": "stream",
     "text": [
      "100%|██████████| 50/50 [00:01<00:00, 34.06it/s]\n"
     ]
    }
   ],
   "source": [
    "heads = [(8, 11), (9, 6), (9, 9), (10, 0), (10, 1), (10, 10)]\n",
    "top_token_probas = []\n",
    "second_token_probas = []\n",
    "lams = np.linspace(1, 5, 50)\n",
    "\n",
    "for lam in tqdm(lams):\n",
    "    with torch.no_grad():\n",
    "        vals, idxs = model.run_with_hooks(\n",
    "            model.to_tokens(clean_prompt),\n",
    "            fwd_hooks=[\n",
    "                (\n",
    "                    f\"blocks.{l}.attn.hook_result\",\n",
    "                    partial(head_modifier_hook, head_id=h, lam=lam),\n",
    "                ) for l, h in heads\n",
    "            ]\n",
    "        ).softmax(-1).topk(10, dim=-1)\n",
    "\n",
    "        top_token_probas.append(vals[0, -1, 0].item())\n",
    "        second_token_probas.append(vals[0, -1, 1].item())"
   ]
  },
  {
   "cell_type": "code",
   "execution_count": 364,
   "metadata": {},
   "outputs": [
    {
     "data": {
      "image/png": "[encoded data removed]",
      "text/plain": [
       "<Figure size 1200x600 with 1 Axes>"
      ]
     },
     "metadata": {},
     "output_type": "display_data"
    }
   ],
   "source": [
    "import pandas as pd\n",
    "fig = plt.figure(figsize=(8, 4), dpi=150)\n",
    "data = pd.DataFrame({\n",
    "    'Lambda': lams,\n",
    "    'p(Top Token)': top_token_probas,\n",
    "    'p(Second Token)': second_token_probas,\n",
    "}).melt(id_vars='Lambda', var_name='Token Type', value_name='Probability')\n",
    "ax = sns.lineplot(data=data, x='Lambda', y='Probability', hue='Token Type', marker='o')"
   ]
  },
  {
   "cell_type": "code",
   "execution_count": 365,
   "metadata": {},
   "outputs": [
    {
     "name": "stderr",
     "output_type": "stream",
     "text": [
      "100%|██████████| 32/32 [00:01<00:00, 30.69it/s]"
     ]
    },
    {
     "name": "stdout",
     "output_type": "stream",
     "text": [
      "<|endoftext|>Davide is a student at Stanford and Mary works at McDonald.\n",
      "{\n",
      "    \"entities\": [\n",
      "        {\"id\": 0, \"name\": \"Davide\"},\n",
      "        {\"id\": 1, \"name\": \"Stanford\"},\n",
      "        {\"id\": 2, \"name\": \"Mary\"},\n",
      "        {\"id\": 3, \"name\": \"McDonald\"}\n",
      "    ]\n",
      "}\n",
      "\n",
      "Susan works at Walmart while John studies at NYU.\n",
      "{\n",
      "    \"entities\": [\n",
      "\n",
      "{\n",
      "\n",
      "\"id\": 1, \"name\": \"John\",\n",
      "\n",
      "\"id\": 2, \"name\": \"John\"},\n",
      "\n",
      "\n"
     ]
    },
    {
     "name": "stderr",
     "output_type": "stream",
     "text": [
      "\n"
     ]
    }
   ],
   "source": [
    "heads = [(8, 11), (9, 6), (9, 9), (10, 0), (10, 1), (10, 10)]\n",
    "lam = 5\n",
    "\n",
    "tokens = model.to_tokens(clean_prompt)\n",
    "max_new_tokens = 32\n",
    "\n",
    "for i in tqdm(range(max_new_tokens)): \n",
    "    with torch.no_grad():\n",
    "        new_tok = model.run_with_hooks(\n",
    "            tokens,\n",
    "            fwd_hooks=[\n",
    "                (\n",
    "                    f\"blocks.{l}.attn.hook_result\",\n",
    "                    partial(head_modifier_hook, head_id=h, lam=lam),\n",
    "                ) for l, h in heads\n",
    "            ]\n",
    "        ).argmax(-1)[:, -1, None]\n",
    "\n",
    "    tokens = torch.cat([tokens, new_tok], dim=-1)\n",
    "\n",
    "print(model.to_string(tokens)[0])"
   ]
  },
  {
   "cell_type": "markdown",
   "metadata": {},
   "source": [
    "### AtP"
   ]
  },
  {
   "cell_type": "code",
   "execution_count": 355,
   "metadata": {},
   "outputs": [],
   "source": [
    "patching = Patching(model, 'atp')"
   ]
  },
  {
   "cell_type": "code",
   "execution_count": 6,
   "metadata": {},
   "outputs": [
    {
     "name": "stdout",
     "output_type": "stream",
     "text": [
      "Clean logit difference: 11.632\n",
      "Corrupted logit difference: -10.022\n",
      "Patching...\n"
     ]
    }
   ],
   "source": [
    "x_clean = clean_prompt\n",
    "x_corr = corrupted_prompt\n",
    "\n",
    "a_clean = 'Sarah'\n",
    "a_corr = 'Laura'\n",
    "\n",
    "patching.patching(x_clean, a_clean, x_corr, a_corr, component='attn_all')"
   ]
  },
  {
   "cell_type": "code",
   "execution_count": 7,
   "metadata": {},
   "outputs": [],
   "source": [
    "fig = patching.plot()\n",
    "fig.write_html(\"fig.html\")"
   ]
  },
  {
   "cell_type": "markdown",
   "metadata": {},
   "source": [
    "Promoting heads: L8H11, L9H6, L9H9, L10H0, L10H1, L10H10\n",
    "\n",
    "Suppression heads: L10H7, L10H11"
   ]
  },
  {
   "cell_type": "code",
   "execution_count": 88,
   "metadata": {},
   "outputs": [],
   "source": [
    "prompt = '''I'm Davide and I'm 20 years old.\n",
    "{\n",
    "    \"name\": \"Davide\",\n",
    "    \"age\": 20\n",
    "}\n",
    "\n",
    "I'm Paul and I'm 12 years old.\n",
    "{\n",
    "    \"name\": \"Paul\",\n",
    "    \"age\": 12\n",
    "}'''\n",
    "\n",
    "prompt = \"John and Mary went to the store, then John gave a bottle of milk to\""
   ]
  },
  {
   "cell_type": "code",
   "execution_count": 74,
   "metadata": {},
   "outputs": [],
   "source": [
    "def logits_diff(logits, ans, topk=5):\n",
    "    top_tokens = logits[0, -1].topk(topk).indices.tolist()\n",
    "    if isinstance(ans, str):\n",
    "        ans = model.to_single_token(ans)\n",
    "\n",
    "    if ans in top_tokens:\n",
    "        top_tokens.remove(ans)\n",
    "        \n",
    "    return logits[0, -1, ans] - logits[0, -1, top_tokens].mean(-1)\n",
    "    \n",
    "def get_cache_fwd_and_bwd(tokens, ans):\n",
    "        filter_not_qkv_input = lambda name: \"_input\" not in name\n",
    "        model.reset_hooks()\n",
    "        cache = {}\n",
    "\n",
    "        def forward_cache_hook(act, hook):\n",
    "            cache[hook.name] = act.detach()\n",
    "\n",
    "        model.add_hook(filter_not_qkv_input, forward_cache_hook, \"fwd\")\n",
    "\n",
    "        grad_cache = {}\n",
    "\n",
    "        def backward_cache_hook(act, hook):\n",
    "            grad_cache[hook.name] = act.detach()\n",
    "\n",
    "        model.add_hook(filter_not_qkv_input, backward_cache_hook, \"bwd\")\n",
    "\n",
    "        value = logits_diff(model(tokens), ans, topk=10)\n",
    "        value.backward()\n",
    "        model.reset_hooks()\n",
    "        return (\n",
    "            value.item(),\n",
    "            ActivationCache(cache, model),\n",
    "            ActivationCache(grad_cache, model),\n",
    "        )"
   ]
  },
  {
   "cell_type": "code",
   "execution_count": 89,
   "metadata": {},
   "outputs": [
    {
     "data": {
      "text/plain": [
       "[(0, '<|endoftext|>'),\n",
       " (1, 'John'),\n",
       " (2, ' and'),\n",
       " (3, ' Mary'),\n",
       " (4, ' went'),\n",
       " (5, ' to'),\n",
       " (6, ' the'),\n",
       " (7, ' store'),\n",
       " (8, ','),\n",
       " (9, ' then'),\n",
       " (10, ' John'),\n",
       " (11, ' gave'),\n",
       " (12, ' a'),\n",
       " (13, ' bottle'),\n",
       " (14, ' of'),\n",
       " (15, ' milk'),\n",
       " (16, ' to')]"
      ]
     },
     "execution_count": 89,
     "metadata": {},
     "output_type": "execute_result"
    }
   ],
   "source": [
    "tokens = model.to_tokens(prompt)\n",
    "list(enumerate(model.to_str_tokens(prompt)))"
   ]
  },
  {
   "cell_type": "code",
   "execution_count": 76,
   "metadata": {},
   "outputs": [
    {
     "name": "stderr",
     "output_type": "stream",
     "text": [
      "100%|██████████| 1/1 [00:00<00:00,  7.83it/s]\n"
     ]
    }
   ],
   "source": [
    "import einops\n",
    "from tqdm import tqdm\n",
    "\n",
    "first_output_token_id = 17\n",
    "\n",
    "patch = torch.zeros(144, len(tokens[0]) - first_output_token_id)\n",
    "\n",
    "for i in tqdm(range(first_output_token_id, len(tokens[0]))):\n",
    "    _, cache, grad_cache = get_cache_fwd_and_bwd(tokens[:, :i], tokens[0, i])\n",
    "\n",
    "    act = cache.stack_head_results(-1)\n",
    "    grad_act = grad_cache.stack_head_results(-1)\n",
    "\n",
    "    patch[:, i-first_output_token_id] = einops.reduce(\n",
    "                grad_act *  act,\n",
    "                \"component batch pos d_model -> component pos\",\n",
    "                \"sum\",\n",
    "            )[:, -1]"
   ]
  },
  {
   "cell_type": "code",
   "execution_count": 62,
   "metadata": {},
   "outputs": [],
   "source": [
    "patch = patch_1 - patch_2\n",
    "patch[patch.abs() < 0.2] = 0"
   ]
  },
  {
   "cell_type": "code",
   "execution_count": 77,
   "metadata": {},
   "outputs": [],
   "source": [
    "import plotly.express as px\n",
    "ys = [f'L{i}H{j}' for i in range(model.cfg.n_layers) for j in range(model.cfg.n_heads)]\n",
    "xs = [f\"{tok} | {i}\" for i, tok in enumerate(model.to_str_tokens(prompt)[first_output_token_id:])]\n",
    "\n",
    "fig = px.imshow(\n",
    "    patch.cpu().numpy(), \n",
    "    x=xs,\n",
    "    y=ys,\n",
    "    title=f\"Patching results for AtP method\",\n",
    "    color_continuous_scale='RdBu', zmin=-1, zmax=1, aspect='auto'\n",
    ")\n",
    "fig.write_html(\"fig.html\")"
   ]
  },
  {
   "cell_type": "code",
   "execution_count": 148,
   "metadata": {},
   "outputs": [
    {
     "data": {
      "image/png": "[encoded data removed]",
      "text/plain": [
       "<Figure size 1800x1500 with 2 Axes>"
      ]
     },
     "metadata": {},
     "output_type": "display_data"
    }
   ],
   "source": [
    "import seaborn as sns\n",
    "import matplotlib.pyplot as plt\n",
    "layer_id = 9\n",
    "head_id = 6\n",
    "\n",
    "data = cache[f'blocks.{layer_id}.attn.hook_pattern'][0, head_id].cpu()\n",
    "labels = model.to_str_tokens(prompt)[:-1]\n",
    "# Set up the matplotlib figure\n",
    "plt.figure(figsize=(12, 10), dpi=150)\n",
    "\n",
    "# Draw the heatmap\n",
    "ax = sns.heatmap(data, cmap='Blues', vmin=0, vmax=1)\n",
    "\n",
    "# Set tick labels\n",
    "ax.set_xticks([i + 0.5 for i in range(len(labels))])  # Set x-ticks every 10 columns\n",
    "ax.set_yticks([i + 0.5 for i in range(len(labels))])  # Set y-ticks every 10 rows\n",
    "\n",
    "# Set tick labels with optional custom labeling\n",
    "ax.set_xticklabels(labels)\n",
    "ax.set_yticklabels(labels)\n",
    "\n",
    "# Rotate tick labels for better visibility\n",
    "plt.xticks(rotation=35)\n",
    "plt.yticks(rotation=0)\n",
    "\n",
    "# Title and labels (optional)\n",
    "plt.title(f'Attention patter at head {head_id} of layer {layer_id}')\n",
    "plt.xlabel('Keys')\n",
    "plt.ylabel('Queries')\n",
    "\n",
    "# Show the plot\n",
    "plt.show()"
   ]
  },
  {
   "cell_type": "markdown",
   "metadata": {},
   "source": [
    "## SAEs"
   ]
  },
  {
   "cell_type": "code",
   "execution_count": 80,
   "metadata": {},
   "outputs": [
    {
     "data": {
      "application/vnd.jupyter.widget-view+json": {
       "model_id": "2bee1b3b031b4a299f2fc97cf52135be",
       "version_major": 2,
       "version_minor": 0
      },
      "text/plain": [
       "Fetching 41 files:   0%|          | 0/41 [00:00<?, ?it/s]"
      ]
     },
     "metadata": {},
     "output_type": "display_data"
    }
   ],
   "source": [
    "from huggingface_hub import snapshot_download\n",
    "\n",
    "REPO_ID = \"jbloom/GPT2-Small-SAEs-Reformatted\"\n",
    "path = snapshot_download(repo_id=REPO_ID)"
   ]
  },
  {
   "cell_type": "code",
   "execution_count": 82,
   "metadata": {},
   "outputs": [
    {
     "name": "stderr",
     "output_type": "stream",
     "text": [
      "  0%|          | 0/12 [00:00<?, ?it/s]"
     ]
    },
    {
     "name": "stdout",
     "output_type": "stream",
     "text": [
      "Loaded pretrained model gpt2-small into HookedTransformer\n",
      "Moving model to device:  cuda\n"
     ]
    },
    {
     "name": "stderr",
     "output_type": "stream",
     "text": [
      "  8%|▊         | 1/12 [00:05<01:04,  5.89s/it]"
     ]
    },
    {
     "name": "stdout",
     "output_type": "stream",
     "text": [
      "Loaded pretrained model gpt2-small into HookedTransformer\n",
      "Moving model to device:  cuda\n"
     ]
    },
    {
     "name": "stderr",
     "output_type": "stream",
     "text": [
      " 17%|█▋        | 2/12 [00:29<02:43, 16.35s/it]"
     ]
    },
    {
     "name": "stdout",
     "output_type": "stream",
     "text": [
      "Loaded pretrained model gpt2-small into HookedTransformer\n",
      "Moving model to device:  cuda\n"
     ]
    },
    {
     "name": "stderr",
     "output_type": "stream",
     "text": [
      " 25%|██▌       | 3/12 [00:39<02:00, 13.37s/it]"
     ]
    },
    {
     "name": "stdout",
     "output_type": "stream",
     "text": [
      "Loaded pretrained model gpt2-small into HookedTransformer\n",
      "Moving model to device:  cuda\n"
     ]
    },
    {
     "name": "stderr",
     "output_type": "stream",
     "text": [
      " 33%|███▎      | 4/12 [00:45<01:24, 10.59s/it]"
     ]
    },
    {
     "name": "stdout",
     "output_type": "stream",
     "text": [
      "Loaded pretrained model gpt2-small into HookedTransformer\n",
      "Moving model to device:  cuda\n"
     ]
    },
    {
     "name": "stderr",
     "output_type": "stream",
     "text": [
      " 42%|████▏     | 5/12 [01:05<01:37, 13.90s/it]"
     ]
    },
    {
     "name": "stdout",
     "output_type": "stream",
     "text": [
      "Loaded pretrained model gpt2-small into HookedTransformer\n",
      "Moving model to device:  cuda\n"
     ]
    },
    {
     "name": "stderr",
     "output_type": "stream",
     "text": [
      " 50%|█████     | 6/12 [01:18<01:22, 13.70s/it]"
     ]
    },
    {
     "name": "stdout",
     "output_type": "stream",
     "text": [
      "Loaded pretrained model gpt2-small into HookedTransformer\n",
      "Moving model to device:  cuda\n"
     ]
    },
    {
     "name": "stderr",
     "output_type": "stream",
     "text": [
      " 58%|█████▊    | 7/12 [01:24<00:55, 11.05s/it]"
     ]
    },
    {
     "name": "stdout",
     "output_type": "stream",
     "text": [
      "Loaded pretrained model gpt2-small into HookedTransformer\n",
      "Moving model to device:  cuda\n"
     ]
    },
    {
     "name": "stderr",
     "output_type": "stream",
     "text": [
      " 67%|██████▋   | 8/12 [01:30<00:37,  9.47s/it]"
     ]
    },
    {
     "name": "stdout",
     "output_type": "stream",
     "text": [
      "Loaded pretrained model gpt2-small into HookedTransformer\n",
      "Moving model to device:  cuda\n"
     ]
    },
    {
     "name": "stderr",
     "output_type": "stream",
     "text": [
      " 75%|███████▌  | 9/12 [01:36<00:24,  8.30s/it]"
     ]
    },
    {
     "name": "stdout",
     "output_type": "stream",
     "text": [
      "Loaded pretrained model gpt2-small into HookedTransformer\n",
      "Moving model to device:  cuda\n"
     ]
    },
    {
     "name": "stderr",
     "output_type": "stream",
     "text": [
      " 83%|████████▎ | 10/12 [01:42<00:15,  7.74s/it]"
     ]
    },
    {
     "name": "stdout",
     "output_type": "stream",
     "text": [
      "Loaded pretrained model gpt2-small into HookedTransformer\n",
      "Moving model to device:  cuda\n"
     ]
    },
    {
     "name": "stderr",
     "output_type": "stream",
     "text": [
      " 92%|█████████▏| 11/12 [01:48<00:07,  7.25s/it]"
     ]
    },
    {
     "name": "stdout",
     "output_type": "stream",
     "text": [
      "Loaded pretrained model gpt2-small into HookedTransformer\n",
      "Moving model to device:  cuda\n"
     ]
    },
    {
     "name": "stderr",
     "output_type": "stream",
     "text": [
      "100%|██████████| 12/12 [03:58<00:00, 19.86s/it]\n"
     ]
    }
   ],
   "source": [
    "from sae_lens import LMSparseAutoencoderSessionloader\n",
    "from tqdm import tqdm\n",
    "import os\n",
    "\n",
    "saes = []\n",
    "\n",
    "for l in tqdm(range(model.cfg.n_layers)):\n",
    "    model, sae_group, activation_store = LMSparseAutoencoderSessionloader.load_pretrained_sae(\n",
    "        path = os.path.join(path, f\"blocks.{l}.hook_resid_pre\"), device=device\n",
    "    )\n",
    "    sae_group.eval()\n",
    "    saes.append(sae_group[f'blocks.{l}.hook_resid_pre'])"
   ]
  },
  {
   "cell_type": "code",
   "execution_count": 172,
   "metadata": {},
   "outputs": [],
   "source": [
    "sae_cache = {}\n",
    "sae_grad_cache = {}\n",
    "\n",
    "def reconstr_hook(x, hook, sae):\n",
    "    sae_out, f_act, *_ = sae(x)\n",
    "    \n",
    "    # Function to capture the gradient\n",
    "    def capture_grad(grad):\n",
    "        sae_grad_cache[hook.name] = grad.clone()\n",
    "\n",
    "    # Register the hook to capture the gradient\n",
    "    if f_act.requires_grad:\n",
    "        f_act.register_hook(capture_grad)\n",
    "    \n",
    "    sae_cache[hook.name] = f_act.detach()\n",
    "    return sae_out"
   ]
  },
  {
   "cell_type": "code",
   "execution_count": 195,
   "metadata": {},
   "outputs": [],
   "source": [
    "from functools import partial\n",
    "\n",
    "component = 'resid_pre'\n",
    "\n",
    "out = model.run_with_hooks(\n",
    "            tokens,\n",
    "            fwd_hooks=[\n",
    "                (\n",
    "                    utils.get_act_name(component, layer_id),\n",
    "                    partial(reconstr_hook, sae=saes[layer_id]),\n",
    "                )\n",
    "            for layer_id in range(model.cfg.n_layers)]\n",
    "        ).log_softmax(-1)\n",
    "\n",
    "ans = model.to_single_token(' John')\n",
    "loss = - out[0, -1, ans]\n",
    "\n",
    "loss.backward()"
   ]
  },
  {
   "cell_type": "code",
   "execution_count": 196,
   "metadata": {},
   "outputs": [],
   "source": [
    "act = torch.stack(list(sae_cache.values()))\n",
    "grad_act = torch.stack(list(sae_grad_cache.values()))\n",
    "\n",
    "patch = einops.reduce(\n",
    "                grad_act, # *  act,\n",
    "                \"component batch pos d_model -> component pos d_model\",\n",
    "                \"sum\",\n",
    "            )"
   ]
  },
  {
   "cell_type": "code",
   "execution_count": 218,
   "metadata": {},
   "outputs": [],
   "source": [
    "vals, idxs = patch.mean(1).topk(10, dim=-1)"
   ]
  },
  {
   "cell_type": "code",
   "execution_count": 220,
   "metadata": {},
   "outputs": [
    {
     "data": {
      "text/plain": [
       "tensor([[ 9605, 18058,  7804, 17313, 16201, 11473,  4310,  9587,  5052, 14589],\n",
       "        [ 8879, 23151,  3987,  8277,  3731, 16536,  8802,  4699,  9002,  5021],\n",
       "        [18298,    47,  3354, 24502,  4260, 14826, 21381,  6626,  3032, 20655],\n",
       "        [21978, 18920,  2010, 16498, 13643,  1259, 22231,  4571,  7771, 23099],\n",
       "        [16087, 20434, 16715, 14797, 20387,  2516, 15879,  6552,  7979,  5682],\n",
       "        [ 5295, 13063, 17733, 22578, 23870, 19012,  4947, 24235, 18854, 13496],\n",
       "        [ 5343,   970, 18424, 11438, 13646, 11765,  4622, 18924, 15842, 10520],\n",
       "        [23261, 14548, 23496,  6993, 20789, 18579, 18766, 24482, 20386, 20186],\n",
       "        [20373, 20342, 24421,  6980,  6026,  2659, 12804, 19885, 23616, 10226],\n",
       "        [11548,  5007,  5908,  5889, 15079, 19757, 15038, 10633, 23706,  8168],\n",
       "        [20964, 15797,  2159,  9553, 18292,  9564, 22951,  9639,  9347, 10883],\n",
       "        [11070, 21122,  1622, 17396, 14100, 14909, 10327, 14110, 12301, 21858]],\n",
       "       device='cuda:0')"
      ]
     },
     "execution_count": 220,
     "metadata": {},
     "output_type": "execute_result"
    }
   ],
   "source": [
    "idxs"
   ]
  },
  {
   "cell_type": "code",
   "execution_count": 153,
   "metadata": {},
   "outputs": [
    {
     "data": {
      "image/png": "[encoded data removed]",
      "text/plain": [
       "<Figure size 1800x1200 with 2 Axes>"
      ]
     },
     "metadata": {},
     "output_type": "display_data"
    }
   ],
   "source": [
    "plt.figure(figsize=(12, 8), dpi=150)\n",
    "\n",
    "ys = [f\"L{i}\" for i in range(model.cfg.n_layers)]\n",
    "\n",
    "# Draw the heatmap\n",
    "ax = sns.heatmap(patch.cpu().sum(-1), cmap='Blues', vmin=0, vmax=1)\n",
    "\n",
    "# Set tick labels\n",
    "ax.set_xticks([i + 0.5 for i in range(len(labels))])  # Set x-ticks every 10 columns\n",
    "ax.set_yticks([i + 0.5 for i in range(len(ys))])  # Set y-ticks every 10 rows\n",
    "\n",
    "# Set tick labels with optional custom labeling\n",
    "ax.set_xticklabels(labels)\n",
    "ax.set_yticklabels(ys)\n",
    "\n",
    "# Rotate tick labels for better visibility\n",
    "plt.xticks(rotation=35)\n",
    "plt.yticks(rotation=0)\n",
    "\n",
    "# Title and labels (optional)\n",
    "plt.title('Feature AtP aggregated by layer')\n",
    "plt.xlabel('Tokens')\n",
    "plt.ylabel('Layer')\n",
    "\n",
    "# Show the plot\n",
    "plt.show()"
   ]
  },
  {
   "cell_type": "code",
   "execution_count": 170,
   "metadata": {},
   "outputs": [],
   "source": [
    "def reconstr_hook(x, hook, sae):\n",
    "    sae_out, f_act, *_ = sae(x)\n",
    "    sae_cache[hook.name] = f_act  # Store for reference; not detach here as we need gradients\n",
    "    return sae_out\n",
    "\n",
    "def interpolate(input, baseline, steps=50):\n",
    "    return [baseline + (float(i) / steps) * (input - baseline) for i in range(steps + 1)]\n"
   ]
  },
  {
   "cell_type": "code",
   "execution_count": 171,
   "metadata": {},
   "outputs": [
    {
     "ename": "IndexError",
     "evalue": "tensors used as indices must be long, int, byte or bool tensors",
     "output_type": "error",
     "traceback": [
      "\u001b[0;31m---------------------------------------------------------------------------\u001b[0m",
      "\u001b[0;31mIndexError\u001b[0m                                Traceback (most recent call last)",
      "Cell \u001b[0;32mIn[171], line 15\u001b[0m\n\u001b[1;32m     11\u001b[0m accumulated_grads \u001b[38;5;241m=\u001b[39m []\n\u001b[1;32m     13\u001b[0m \u001b[38;5;28;01mfor\u001b[39;00m interp_tokens \u001b[38;5;129;01min\u001b[39;00m interpolated_inputs:\n\u001b[1;32m     14\u001b[0m     \u001b[38;5;66;03m# Run model forward with hooks\u001b[39;00m\n\u001b[0;32m---> 15\u001b[0m     out \u001b[38;5;241m=\u001b[39m \u001b[43mmodel\u001b[49m\u001b[38;5;241;43m.\u001b[39;49m\u001b[43mrun_with_hooks\u001b[49m\u001b[43m(\u001b[49m\n\u001b[1;32m     16\u001b[0m \u001b[43m                \u001b[49m\u001b[43minterp_tokens\u001b[49m\u001b[43m,\u001b[49m\n\u001b[1;32m     17\u001b[0m \u001b[43m                \u001b[49m\u001b[43mfwd_hooks\u001b[49m\u001b[38;5;241;43m=\u001b[39;49m\u001b[43m[\u001b[49m\n\u001b[1;32m     18\u001b[0m \u001b[43m                    \u001b[49m\u001b[43m(\u001b[49m\n\u001b[1;32m     19\u001b[0m \u001b[43m                        \u001b[49m\u001b[43mutils\u001b[49m\u001b[38;5;241;43m.\u001b[39;49m\u001b[43mget_act_name\u001b[49m\u001b[43m(\u001b[49m\u001b[43mcomponent\u001b[49m\u001b[43m,\u001b[49m\u001b[43m \u001b[49m\u001b[43mlayer_id\u001b[49m\u001b[43m)\u001b[49m\u001b[43m,\u001b[49m\n\u001b[1;32m     20\u001b[0m \u001b[43m                        \u001b[49m\u001b[43mpartial\u001b[49m\u001b[43m(\u001b[49m\u001b[43mreconstr_hook\u001b[49m\u001b[43m,\u001b[49m\u001b[43m \u001b[49m\u001b[43msae\u001b[49m\u001b[38;5;241;43m=\u001b[39;49m\u001b[43msaes\u001b[49m\u001b[43m[\u001b[49m\u001b[43mlayer_id\u001b[49m\u001b[43m]\u001b[49m\u001b[43m)\u001b[49m\u001b[43m,\u001b[49m\n\u001b[1;32m     21\u001b[0m \u001b[43m                    \u001b[49m\u001b[43m)\u001b[49m\u001b[43m \u001b[49m\u001b[38;5;28;43;01mfor\u001b[39;49;00m\u001b[43m \u001b[49m\u001b[43mlayer_id\u001b[49m\u001b[43m \u001b[49m\u001b[38;5;129;43;01min\u001b[39;49;00m\u001b[43m \u001b[49m\u001b[38;5;28;43mrange\u001b[39;49m\u001b[43m(\u001b[49m\u001b[43mmodel\u001b[49m\u001b[38;5;241;43m.\u001b[39;49m\u001b[43mcfg\u001b[49m\u001b[38;5;241;43m.\u001b[39;49m\u001b[43mn_layers\u001b[49m\u001b[43m)\u001b[49m\n\u001b[1;32m     22\u001b[0m \u001b[43m                \u001b[49m\u001b[43m]\u001b[49m\n\u001b[1;32m     23\u001b[0m \u001b[43m            \u001b[49m\u001b[43m)\u001b[49m\u001b[38;5;241m.\u001b[39mlog_softmax(\u001b[38;5;241m-\u001b[39m\u001b[38;5;241m1\u001b[39m)\n\u001b[1;32m     25\u001b[0m     \u001b[38;5;66;03m# Target token\u001b[39;00m\n\u001b[1;32m     26\u001b[0m     ans \u001b[38;5;241m=\u001b[39m model\u001b[38;5;241m.\u001b[39mto_single_token(\u001b[38;5;124m'\u001b[39m\u001b[38;5;124mMary\u001b[39m\u001b[38;5;124m'\u001b[39m)\n",
      "File \u001b[0;32m/usr/local/lib/python3.10/dist-packages/transformer_lens/hook_points.py:358\u001b[0m, in \u001b[0;36mHookedRootModule.run_with_hooks\u001b[0;34m(self, fwd_hooks, bwd_hooks, reset_hooks_end, clear_contexts, *model_args, **model_kwargs)\u001b[0m\n\u001b[1;32m    353\u001b[0m     logging\u001b[38;5;241m.\u001b[39mwarning(\n\u001b[1;32m    354\u001b[0m         \u001b[38;5;124m\"\u001b[39m\u001b[38;5;124mWARNING: Hooks will be reset at the end of run_with_hooks. This removes the backward hooks before a backward pass can occur.\u001b[39m\u001b[38;5;124m\"\u001b[39m\n\u001b[1;32m    355\u001b[0m     )\n\u001b[1;32m    357\u001b[0m \u001b[38;5;28;01mwith\u001b[39;00m \u001b[38;5;28mself\u001b[39m\u001b[38;5;241m.\u001b[39mhooks(fwd_hooks, bwd_hooks, reset_hooks_end, clear_contexts) \u001b[38;5;28;01mas\u001b[39;00m hooked_model:\n\u001b[0;32m--> 358\u001b[0m     \u001b[38;5;28;01mreturn\u001b[39;00m \u001b[43mhooked_model\u001b[49m\u001b[38;5;241;43m.\u001b[39;49m\u001b[43mforward\u001b[49m\u001b[43m(\u001b[49m\u001b[38;5;241;43m*\u001b[39;49m\u001b[43mmodel_args\u001b[49m\u001b[43m,\u001b[49m\u001b[43m \u001b[49m\u001b[38;5;241;43m*\u001b[39;49m\u001b[38;5;241;43m*\u001b[39;49m\u001b[43mmodel_kwargs\u001b[49m\u001b[43m)\u001b[49m\n",
      "File \u001b[0;32m/usr/local/lib/python3.10/dist-packages/transformer_lens/HookedTransformer.py:522\u001b[0m, in \u001b[0;36mHookedTransformer.forward\u001b[0;34m(self, input, return_type, loss_per_token, prepend_bos, padding_side, start_at_layer, tokens, shortformer_pos_embed, attention_mask, stop_at_layer, past_kv_cache)\u001b[0m\n\u001b[1;32m    513\u001b[0m \u001b[38;5;28;01mwith\u001b[39;00m utils\u001b[38;5;241m.\u001b[39mLocallyOverridenDefaults(\n\u001b[1;32m    514\u001b[0m     \u001b[38;5;28mself\u001b[39m, prepend_bos\u001b[38;5;241m=\u001b[39mprepend_bos, padding_side\u001b[38;5;241m=\u001b[39mpadding_side\n\u001b[1;32m    515\u001b[0m ):\n\u001b[1;32m    516\u001b[0m     \u001b[38;5;28;01mif\u001b[39;00m start_at_layer \u001b[38;5;129;01mis\u001b[39;00m \u001b[38;5;28;01mNone\u001b[39;00m:\n\u001b[1;32m    517\u001b[0m         (\n\u001b[1;32m    518\u001b[0m             residual,\n\u001b[1;32m    519\u001b[0m             tokens,\n\u001b[1;32m    520\u001b[0m             shortformer_pos_embed,\n\u001b[1;32m    521\u001b[0m             attention_mask,\n\u001b[0;32m--> 522\u001b[0m         ) \u001b[38;5;241m=\u001b[39m \u001b[38;5;28;43mself\u001b[39;49m\u001b[38;5;241;43m.\u001b[39;49m\u001b[43minput_to_embed\u001b[49m\u001b[43m(\u001b[49m\n\u001b[1;32m    523\u001b[0m \u001b[43m            \u001b[49m\u001b[38;5;28;43minput\u001b[39;49m\u001b[43m,\u001b[49m\n\u001b[1;32m    524\u001b[0m \u001b[43m            \u001b[49m\u001b[43mprepend_bos\u001b[49m\u001b[38;5;241;43m=\u001b[39;49m\u001b[43mprepend_bos\u001b[49m\u001b[43m,\u001b[49m\n\u001b[1;32m    525\u001b[0m \u001b[43m            \u001b[49m\u001b[43mpadding_side\u001b[49m\u001b[38;5;241;43m=\u001b[39;49m\u001b[43mpadding_side\u001b[49m\u001b[43m,\u001b[49m\n\u001b[1;32m    526\u001b[0m \u001b[43m            \u001b[49m\u001b[43mpast_kv_cache\u001b[49m\u001b[38;5;241;43m=\u001b[39;49m\u001b[43mpast_kv_cache\u001b[49m\u001b[43m,\u001b[49m\n\u001b[1;32m    527\u001b[0m \u001b[43m        \u001b[49m\u001b[43m)\u001b[49m\n\u001b[1;32m    528\u001b[0m     \u001b[38;5;28;01melse\u001b[39;00m:\n\u001b[1;32m    529\u001b[0m         \u001b[38;5;28;01massert\u001b[39;00m \u001b[38;5;28mtype\u001b[39m(\u001b[38;5;28minput\u001b[39m) \u001b[38;5;241m==\u001b[39m torch\u001b[38;5;241m.\u001b[39mTensor\n",
      "File \u001b[0;32m/usr/local/lib/python3.10/dist-packages/transformer_lens/HookedTransformer.py:330\u001b[0m, in \u001b[0;36mHookedTransformer.input_to_embed\u001b[0;34m(self, input, prepend_bos, padding_side, past_kv_cache)\u001b[0m\n\u001b[1;32m    328\u001b[0m \u001b[38;5;28;01mif\u001b[39;00m \u001b[38;5;28mself\u001b[39m\u001b[38;5;241m.\u001b[39mcfg\u001b[38;5;241m.\u001b[39muse_hook_tokens:\n\u001b[1;32m    329\u001b[0m     tokens \u001b[38;5;241m=\u001b[39m \u001b[38;5;28mself\u001b[39m\u001b[38;5;241m.\u001b[39mhook_tokens(tokens)\n\u001b[0;32m--> 330\u001b[0m embed \u001b[38;5;241m=\u001b[39m \u001b[38;5;28mself\u001b[39m\u001b[38;5;241m.\u001b[39mhook_embed(\u001b[38;5;28;43mself\u001b[39;49m\u001b[38;5;241;43m.\u001b[39;49m\u001b[43membed\u001b[49m\u001b[43m(\u001b[49m\u001b[43mtokens\u001b[49m\u001b[43m)\u001b[49m)  \u001b[38;5;66;03m# [batch, pos, d_model]\u001b[39;00m\n\u001b[1;32m    331\u001b[0m \u001b[38;5;28;01mif\u001b[39;00m \u001b[38;5;28mself\u001b[39m\u001b[38;5;241m.\u001b[39mcfg\u001b[38;5;241m.\u001b[39mpositional_embedding_type \u001b[38;5;241m==\u001b[39m \u001b[38;5;124m\"\u001b[39m\u001b[38;5;124mstandard\u001b[39m\u001b[38;5;124m\"\u001b[39m:\n\u001b[1;32m    332\u001b[0m     pos_embed \u001b[38;5;241m=\u001b[39m \u001b[38;5;28mself\u001b[39m\u001b[38;5;241m.\u001b[39mhook_pos_embed(\n\u001b[1;32m    333\u001b[0m         \u001b[38;5;28mself\u001b[39m\u001b[38;5;241m.\u001b[39mpos_embed(tokens, pos_offset, attention_mask)\n\u001b[1;32m    334\u001b[0m     )  \u001b[38;5;66;03m# [batch, pos, d_model]\u001b[39;00m\n",
      "File \u001b[0;32m/usr/local/lib/python3.10/dist-packages/torch/nn/modules/module.py:1501\u001b[0m, in \u001b[0;36mModule._call_impl\u001b[0;34m(self, *args, **kwargs)\u001b[0m\n\u001b[1;32m   1496\u001b[0m \u001b[38;5;66;03m# If we don't have any hooks, we want to skip the rest of the logic in\u001b[39;00m\n\u001b[1;32m   1497\u001b[0m \u001b[38;5;66;03m# this function, and just call forward.\u001b[39;00m\n\u001b[1;32m   1498\u001b[0m \u001b[38;5;28;01mif\u001b[39;00m \u001b[38;5;129;01mnot\u001b[39;00m (\u001b[38;5;28mself\u001b[39m\u001b[38;5;241m.\u001b[39m_backward_hooks \u001b[38;5;129;01mor\u001b[39;00m \u001b[38;5;28mself\u001b[39m\u001b[38;5;241m.\u001b[39m_backward_pre_hooks \u001b[38;5;129;01mor\u001b[39;00m \u001b[38;5;28mself\u001b[39m\u001b[38;5;241m.\u001b[39m_forward_hooks \u001b[38;5;129;01mor\u001b[39;00m \u001b[38;5;28mself\u001b[39m\u001b[38;5;241m.\u001b[39m_forward_pre_hooks\n\u001b[1;32m   1499\u001b[0m         \u001b[38;5;129;01mor\u001b[39;00m _global_backward_pre_hooks \u001b[38;5;129;01mor\u001b[39;00m _global_backward_hooks\n\u001b[1;32m   1500\u001b[0m         \u001b[38;5;129;01mor\u001b[39;00m _global_forward_hooks \u001b[38;5;129;01mor\u001b[39;00m _global_forward_pre_hooks):\n\u001b[0;32m-> 1501\u001b[0m     \u001b[38;5;28;01mreturn\u001b[39;00m \u001b[43mforward_call\u001b[49m\u001b[43m(\u001b[49m\u001b[38;5;241;43m*\u001b[39;49m\u001b[43margs\u001b[49m\u001b[43m,\u001b[49m\u001b[43m \u001b[49m\u001b[38;5;241;43m*\u001b[39;49m\u001b[38;5;241;43m*\u001b[39;49m\u001b[43mkwargs\u001b[49m\u001b[43m)\u001b[49m\n\u001b[1;32m   1502\u001b[0m \u001b[38;5;66;03m# Do not call functions when jit is used\u001b[39;00m\n\u001b[1;32m   1503\u001b[0m full_backward_hooks, non_full_backward_hooks \u001b[38;5;241m=\u001b[39m [], []\n",
      "File \u001b[0;32m/usr/local/lib/python3.10/dist-packages/transformer_lens/components.py:60\u001b[0m, in \u001b[0;36mEmbed.forward\u001b[0;34m(self, tokens)\u001b[0m\n\u001b[1;32m     58\u001b[0m \u001b[38;5;28;01mif\u001b[39;00m \u001b[38;5;28mself\u001b[39m\u001b[38;5;241m.\u001b[39mcfg\u001b[38;5;241m.\u001b[39mpost_embedding_ln:\n\u001b[1;32m     59\u001b[0m     \u001b[38;5;28;01mreturn\u001b[39;00m \u001b[38;5;28mself\u001b[39m\u001b[38;5;241m.\u001b[39mln(\u001b[38;5;28mself\u001b[39m\u001b[38;5;241m.\u001b[39mW_E[tokens, :])\n\u001b[0;32m---> 60\u001b[0m \u001b[38;5;28;01mreturn\u001b[39;00m \u001b[38;5;28;43mself\u001b[39;49m\u001b[38;5;241;43m.\u001b[39;49m\u001b[43mW_E\u001b[49m\u001b[43m[\u001b[49m\u001b[43mtokens\u001b[49m\u001b[43m,\u001b[49m\u001b[43m \u001b[49m\u001b[43m:\u001b[49m\u001b[43m]\u001b[49m\n",
      "\u001b[0;31mIndexError\u001b[0m: tensors used as indices must be long, int, byte or bool tensors"
     ]
    }
   ],
   "source": [
    "# IG\n",
    "from functools import partial\n",
    "\n",
    "# Generate baseline\n",
    "baseline_tokens = torch.zeros_like(tokens)\n",
    "\n",
    "# Interpolate between baseline and actual tokens\n",
    "interpolated_inputs = interpolate(tokens, baseline_tokens, steps=50)\n",
    "\n",
    "# Container for accumulated gradients\n",
    "accumulated_grads = []\n",
    "\n",
    "for interp_tokens in interpolated_inputs:\n",
    "    # Run model forward with hooks\n",
    "    out = model.run_with_hooks(\n",
    "                interp_tokens,\n",
    "                fwd_hooks=[\n",
    "                    (\n",
    "                        utils.get_act_name(component, layer_id),\n",
    "                        partial(reconstr_hook, sae=saes[layer_id]),\n",
    "                    ) for layer_id in range(model.cfg.n_layers)\n",
    "                ]\n",
    "            ).log_softmax(-1)\n",
    "    \n",
    "    # Target token\n",
    "    ans = model.to_single_token('Mary')\n",
    "    loss = -out[0, -1, ans]  # Assuming scalar output for simplification\n",
    "\n",
    "    # Backward to get gradients on interpolated inputs\n",
    "    loss.backward()\n",
    "\n",
    "    # Collect gradients from SAE features\n",
    "    for name in sae_cache:\n",
    "        if sae_cache[name].grad is not None:\n",
    "            if name not in accumulated_grads:\n",
    "                accumulated_grads[name] = []\n",
    "            accumulated_grads[name].append(sae_cache[name].grad.clone())\n",
    "\n",
    "    # Zero all gradients for the next iteration\n",
    "    model.zero_grad()\n",
    "\n",
    "# Average the gradients across all steps\n",
    "integrated_gradients = {name: torch.stack(grads).mean(0) * (tokens - baseline_tokens) for name, grads in accumulated_grads.items()}\n"
   ]
  },
  {
   "cell_type": "code",
   "execution_count": 23,
   "metadata": {},
   "outputs": [],
   "source": [
    "json_text = \"\"\"{\n",
    "    \"question\": \"What's the capital of France?\",\n",
    "    \"answer\": Paris\n",
    "    }\"\"\"\n",
    "\n",
    "non_json_text = [\n",
    "    \"\"\"What's the capital of France?\n",
    "Paris\"\"\",\n",
    "    \"\"\"These are the things I love:\n",
    "1. Food,\n",
    "2. Sea,\n",
    "3. Friends\"\"\",\n",
    "    \"\"\"An old man once told me: \"You will succeed in life\".\n",
    "I hope him to be true.\"\"\"\n",
    "]"
   ]
  },
  {
   "cell_type": "code",
   "execution_count": 7,
   "metadata": {},
   "outputs": [],
   "source": [
    "features_dict = {l: [] for l in range(model.cfg.n_layers)}\n",
    "\n",
    "with open(\"json_features.txt\", \"r\") as f:\n",
    "    features = f.readlines()\n",
    "\n",
    "for f in features:\n",
    "    f = f.strip().split('-')\n",
    "    layer = int(f[0])\n",
    "    features_dict[layer].append(f[1])"
   ]
  },
  {
   "cell_type": "code",
   "execution_count": 26,
   "metadata": {},
   "outputs": [],
   "source": [
    "features_act_dict = {\n",
    "    'L': [],\n",
    "    'N': [],\n",
    "    'JSON Activation': [],\n",
    "    'Non-JSON Activation': []\n",
    "}\n",
    "\n",
    "with torch.no_grad():\n",
    "    _, json_cache = model.run_with_cache(model.to_tokens(json_text))\n",
    "    _, non_json_cache = model.run_with_cache(model.to_tokens(non_json_text[2]))\n",
    "\n",
    "for l in range(model.cfg.n_layers):\n",
    "    json_activations = json_cache[f'blocks.{l}.hook_resid_pre'] # [1 p dm]\n",
    "    non_json_activations = non_json_cache[f'blocks.{l}.hook_resid_pre'] # [1 p dm]\n",
    "\n",
    "    with torch.no_grad():\n",
    "        _, json_features_act, *_ = saes[l](json_activations)\n",
    "        _, non_json_features_act, *_ = saes[l](non_json_activations)\n",
    "\n",
    "    for f in features_dict[l]:\n",
    "        f = int(f)\n",
    "        features_act_dict['L'].append(l)\n",
    "        features_act_dict['N'].append(f)\n",
    "        val, ix = json_features_act[0, :, f].max(0)\n",
    "        features_act_dict['JSON Activation'].append([val.item(), ix.item()])\n",
    "        val, ix = non_json_features_act[0, :, f].max(0)\n",
    "        features_act_dict['Non-JSON Activation'].append([val.item(), ix.item()])        "
   ]
  },
  {
   "cell_type": "code",
   "execution_count": 27,
   "metadata": {},
   "outputs": [
    {
     "data": {
      "text/html": [
       "<div>\n",
       "<style scoped>\n",
       "    .dataframe tbody tr th:only-of-type {\n",
       "        vertical-align: middle;\n",
       "    }\n",
       "\n",
       "    .dataframe tbody tr th {\n",
       "        vertical-align: top;\n",
       "    }\n",
       "\n",
       "    .dataframe thead th {\n",
       "        text-align: right;\n",
       "    }\n",
       "</style>\n",
       "<table border=\"1\" class=\"dataframe\">\n",
       "  <thead>\n",
       "    <tr style=\"text-align: right;\">\n",
       "      <th></th>\n",
       "      <th>L</th>\n",
       "      <th>N</th>\n",
       "      <th>JSON Activation</th>\n",
       "      <th>Non-JSON Activation</th>\n",
       "    </tr>\n",
       "  </thead>\n",
       "  <tbody>\n",
       "    <tr>\n",
       "      <th>0</th>\n",
       "      <td>0</td>\n",
       "      <td>23622</td>\n",
       "      <td>[0.0, 0]</td>\n",
       "      <td>[0.0, 0]</td>\n",
       "    </tr>\n",
       "    <tr>\n",
       "      <th>1</th>\n",
       "      <td>1</td>\n",
       "      <td>5310</td>\n",
       "      <td>[20.185184478759766, 8]</td>\n",
       "      <td>[0.0, 0]</td>\n",
       "    </tr>\n",
       "    <tr>\n",
       "      <th>2</th>\n",
       "      <td>2</td>\n",
       "      <td>10521</td>\n",
       "      <td>[25.650108337402344, 8]</td>\n",
       "      <td>[0.0, 0]</td>\n",
       "    </tr>\n",
       "    <tr>\n",
       "      <th>3</th>\n",
       "      <td>4</td>\n",
       "      <td>21672</td>\n",
       "      <td>[3.7655177116394043, 9]</td>\n",
       "      <td>[0.0, 0]</td>\n",
       "    </tr>\n",
       "    <tr>\n",
       "      <th>4</th>\n",
       "      <td>4</td>\n",
       "      <td>8148</td>\n",
       "      <td>[1.687551736831665, 18]</td>\n",
       "      <td>[0.0, 0]</td>\n",
       "    </tr>\n",
       "    <tr>\n",
       "      <th>5</th>\n",
       "      <td>6</td>\n",
       "      <td>5682</td>\n",
       "      <td>[24.25801658630371, 23]</td>\n",
       "      <td>[0.0, 0]</td>\n",
       "    </tr>\n",
       "    <tr>\n",
       "      <th>6</th>\n",
       "      <td>6</td>\n",
       "      <td>3596</td>\n",
       "      <td>[21.313154220581055, 2]</td>\n",
       "      <td>[0.0, 0]</td>\n",
       "    </tr>\n",
       "    <tr>\n",
       "      <th>7</th>\n",
       "      <td>6</td>\n",
       "      <td>13428</td>\n",
       "      <td>[0.9894517660140991, 8]</td>\n",
       "      <td>[0.0, 0]</td>\n",
       "    </tr>\n",
       "    <tr>\n",
       "      <th>8</th>\n",
       "      <td>6</td>\n",
       "      <td>2164</td>\n",
       "      <td>[0.0, 0]</td>\n",
       "      <td>[0.0, 0]</td>\n",
       "    </tr>\n",
       "    <tr>\n",
       "      <th>9</th>\n",
       "      <td>7</td>\n",
       "      <td>20690</td>\n",
       "      <td>[25.253623962402344, 23]</td>\n",
       "      <td>[0.0, 0]</td>\n",
       "    </tr>\n",
       "    <tr>\n",
       "      <th>10</th>\n",
       "      <td>7</td>\n",
       "      <td>8693</td>\n",
       "      <td>[2.6024036407470703, 6]</td>\n",
       "      <td>[0.0, 0]</td>\n",
       "    </tr>\n",
       "    <tr>\n",
       "      <th>11</th>\n",
       "      <td>8</td>\n",
       "      <td>2568</td>\n",
       "      <td>[31.663217544555664, 23]</td>\n",
       "      <td>[0.0, 0]</td>\n",
       "    </tr>\n",
       "    <tr>\n",
       "      <th>12</th>\n",
       "      <td>8</td>\n",
       "      <td>21507</td>\n",
       "      <td>[0.7290031313896179, 6]</td>\n",
       "      <td>[0.0, 0]</td>\n",
       "    </tr>\n",
       "    <tr>\n",
       "      <th>13</th>\n",
       "      <td>8</td>\n",
       "      <td>19802</td>\n",
       "      <td>[0.0, 0]</td>\n",
       "      <td>[0.0, 0]</td>\n",
       "    </tr>\n",
       "    <tr>\n",
       "      <th>14</th>\n",
       "      <td>9</td>\n",
       "      <td>80</td>\n",
       "      <td>[32.37556457519531, 23]</td>\n",
       "      <td>[0.0, 0]</td>\n",
       "    </tr>\n",
       "    <tr>\n",
       "      <th>15</th>\n",
       "      <td>9</td>\n",
       "      <td>5486</td>\n",
       "      <td>[7.141540050506592, 16]</td>\n",
       "      <td>[0.0, 0]</td>\n",
       "    </tr>\n",
       "    <tr>\n",
       "      <th>16</th>\n",
       "      <td>10</td>\n",
       "      <td>10955</td>\n",
       "      <td>[37.13043975830078, 23]</td>\n",
       "      <td>[0.0, 0]</td>\n",
       "    </tr>\n",
       "    <tr>\n",
       "      <th>17</th>\n",
       "      <td>10</td>\n",
       "      <td>20084</td>\n",
       "      <td>[10.953446388244629, 21]</td>\n",
       "      <td>[0.0, 0]</td>\n",
       "    </tr>\n",
       "    <tr>\n",
       "      <th>18</th>\n",
       "      <td>11</td>\n",
       "      <td>13988</td>\n",
       "      <td>[41.046669006347656, 23]</td>\n",
       "      <td>[0.0, 0]</td>\n",
       "    </tr>\n",
       "    <tr>\n",
       "      <th>19</th>\n",
       "      <td>11</td>\n",
       "      <td>17223</td>\n",
       "      <td>[19.30836296081543, 6]</td>\n",
       "      <td>[0.0, 0]</td>\n",
       "    </tr>\n",
       "    <tr>\n",
       "      <th>20</th>\n",
       "      <td>11</td>\n",
       "      <td>5989</td>\n",
       "      <td>[57.765098571777344, 1]</td>\n",
       "      <td>[0.0, 0]</td>\n",
       "    </tr>\n",
       "  </tbody>\n",
       "</table>\n",
       "</div>"
      ],
      "text/plain": [
       "     L      N           JSON Activation Non-JSON Activation\n",
       "0    0  23622                  [0.0, 0]            [0.0, 0]\n",
       "1    1   5310   [20.185184478759766, 8]            [0.0, 0]\n",
       "2    2  10521   [25.650108337402344, 8]            [0.0, 0]\n",
       "3    4  21672   [3.7655177116394043, 9]            [0.0, 0]\n",
       "4    4   8148   [1.687551736831665, 18]            [0.0, 0]\n",
       "5    6   5682   [24.25801658630371, 23]            [0.0, 0]\n",
       "6    6   3596   [21.313154220581055, 2]            [0.0, 0]\n",
       "7    6  13428   [0.9894517660140991, 8]            [0.0, 0]\n",
       "8    6   2164                  [0.0, 0]            [0.0, 0]\n",
       "9    7  20690  [25.253623962402344, 23]            [0.0, 0]\n",
       "10   7   8693   [2.6024036407470703, 6]            [0.0, 0]\n",
       "11   8   2568  [31.663217544555664, 23]            [0.0, 0]\n",
       "12   8  21507   [0.7290031313896179, 6]            [0.0, 0]\n",
       "13   8  19802                  [0.0, 0]            [0.0, 0]\n",
       "14   9     80   [32.37556457519531, 23]            [0.0, 0]\n",
       "15   9   5486   [7.141540050506592, 16]            [0.0, 0]\n",
       "16  10  10955   [37.13043975830078, 23]            [0.0, 0]\n",
       "17  10  20084  [10.953446388244629, 21]            [0.0, 0]\n",
       "18  11  13988  [41.046669006347656, 23]            [0.0, 0]\n",
       "19  11  17223    [19.30836296081543, 6]            [0.0, 0]\n",
       "20  11   5989   [57.765098571777344, 1]            [0.0, 0]"
      ]
     },
     "execution_count": 27,
     "metadata": {},
     "output_type": "execute_result"
    }
   ],
   "source": [
    "import pandas as pd\n",
    "\n",
    "pd.DataFrame(features_act_dict)"
   ]
  },
  {
   "cell_type": "code",
   "execution_count": 21,
   "metadata": {},
   "outputs": [
    {
     "data": {
      "text/plain": [
       "[(0, '<|endoftext|>'),\n",
       " (1, '{'),\n",
       " (2, '\\n'),\n",
       " (3, ' '),\n",
       " (4, ' '),\n",
       " (5, ' '),\n",
       " (6, ' \"'),\n",
       " (7, 'question'),\n",
       " (8, '\":'),\n",
       " (9, ' \"'),\n",
       " (10, 'What'),\n",
       " (11, \"'s\"),\n",
       " (12, ' the'),\n",
       " (13, ' capital'),\n",
       " (14, ' of'),\n",
       " (15, ' France'),\n",
       " (16, '?\",'),\n",
       " (17, '\\n'),\n",
       " (18, ' '),\n",
       " (19, ' '),\n",
       " (20, ' '),\n",
       " (21, ' \"'),\n",
       " (22, 'answer'),\n",
       " (23, '\":'),\n",
       " (24, ' Paris'),\n",
       " (25, '\\n'),\n",
       " (26, ' '),\n",
       " (27, ' '),\n",
       " (28, ' '),\n",
       " (29, ' }')]"
      ]
     },
     "execution_count": 21,
     "metadata": {},
     "output_type": "execute_result"
    }
   ],
   "source": [
    "list(enumerate(model.to_str_tokens(json_text)))"
   ]
  },
  {
   "cell_type": "code",
   "execution_count": null,
   "metadata": {},
   "outputs": [],
   "source": []
  }
 ],
 "metadata": {
  "kernelspec": {
   "display_name": "mats-interp",
   "language": "python",
   "name": "myenv"
  },
  "language_info": {
   "codemirror_mode": {
    "name": "ipython",
    "version": 3
   },
   "file_extension": ".py",
   "mimetype": "text/x-python",
   "name": "python",
   "nbconvert_exporter": "python",
   "pygments_lexer": "ipython3",
   "version": "3.10.12"
  }
 },
 "nbformat": 4,
 "nbformat_minor": 4
}
