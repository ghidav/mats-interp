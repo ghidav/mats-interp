{
 "cells": [
  {
   "cell_type": "code",
   "execution_count": 1,
   "metadata": {},
   "outputs": [
    {
     "name": "stdout",
     "output_type": "stream",
     "text": [
      "Device: cuda\n"
     ]
    },
    {
     "data": {
      "text/html": [
       "        <script type=\"text/javascript\">\n",
       "        window.PlotlyConfig = {MathJaxConfig: 'local'};\n",
       "        if (window.MathJax && window.MathJax.Hub && window.MathJax.Hub.Config) {window.MathJax.Hub.Config({SVG: {font: \"STIX-Web\"}});}\n",
       "        if (typeof require !== 'undefined') {\n",
       "        require.undef(\"plotly\");\n",
       "        requirejs.config({\n",
       "            paths: {\n",
       "                'plotly': ['https://cdn.plot.ly/plotly-2.32.0.min']\n",
       "            }\n",
       "        });\n",
       "        require(['plotly'], function(Plotly) {\n",
       "            window._Plotly = Plotly;\n",
       "        });\n",
       "        }\n",
       "        </script>\n",
       "        "
      ]
     },
     "metadata": {},
     "output_type": "display_data"
    }
   ],
   "source": [
    "import os\n",
    "os.environ['HF_HOME'] = '/workspace/huggingface'\n",
    "\n",
    "from transformer_lens import HookedTransformer, ActivationCache, utils\n",
    "import torch\n",
    "\n",
    "if torch.backends.mps.is_available():\n",
    "    device = \"mps\"\n",
    "else:\n",
    "    device = \"cuda\" if torch.cuda.is_available() else \"cpu\"\n",
    "\n",
    "print(f\"Device: {device}\")\n",
    "\n",
    "import plotly.graph_objects as go\n",
    "from plotly.offline import init_notebook_mode, iplot\n",
    "import numpy as np\n",
    "import pandas as pd\n",
    "from tqdm import tqdm\n",
    "import matplotlib.pyplot as plt\n",
    "import seaborn as sns\n",
    "from functools import partial\n",
    "\n",
    "init_notebook_mode(connected=True)"
   ]
  },
  {
   "cell_type": "code",
   "execution_count": 2,
   "metadata": {},
   "outputs": [
    {
     "name": "stderr",
     "output_type": "stream",
     "text": [
      "/workspace/venv/lib/python3.10/site-packages/huggingface_hub/file_download.py:1132: FutureWarning:\n",
      "\n",
      "`resume_download` is deprecated and will be removed in version 1.0.0. Downloads always resume when possible. If you want to force a new download, use `force_download=True`.\n",
      "\n"
     ]
    },
    {
     "name": "stdout",
     "output_type": "stream",
     "text": [
      "Loaded pretrained model gpt2 into HookedTransformer\n"
     ]
    }
   ],
   "source": [
    "model = HookedTransformer.from_pretrained('gpt2', device=device)\n",
    "\n",
    "model.eval()\n",
    "model.set_use_attn_result(True)\n",
    "model.set_use_attn_in(True)\n",
    "model.set_use_hook_mlp_in(True)\n",
    "model.set_use_split_qkv_input(True)"
   ]
  },
  {
   "cell_type": "code",
   "execution_count": 80,
   "metadata": {},
   "outputs": [],
   "source": [
    "clean_prompt = '''I'm Davide, I'm 20 years old and I live in Rome.\n",
    "{\n",
    "    \"name\": \"Davide\",\n",
    "    \"age\": \"20\",\n",
    "    \"city\": \"Rome\"\n",
    "}\n",
    "\n",
    "My name is Paul and I live in San Francisco. I've just turned 12.\n",
    "{'''\n",
    "\n",
    "corrupted_prompt = '''I'm Davide and I'm 20 years old.\n",
    "{\n",
    "    \"name\": \"Davide\",\n",
    "    \"age\": \"20\"\n",
    "}\n",
    "\n",
    "Hi, I'm Laura and I'm 25.\n",
    "{\n",
    "    \"name\": \"'''\n",
    "\n",
    "#My name is Paul and I've just turned 12.\n",
    "#{\n",
    "#    \"name\": \"Paul\",\n",
    "#    \"age\": 12\n",
    "#} Hi, I'm Laura and I'm 25.\n",
    "\n",
    "clean_prompt = '''David is a student at Stanford and Mary works at McDonald.\n",
    "{\n",
    "    \"entities\": [\n",
    "        {\"id\": 0, \"name\": \"Davide\"},\n",
    "        {\"id\": 1, \"name\": \"Stanford\"},\n",
    "        {\"id\": 2, \"name\": \"Mary\"},\n",
    "        {\"id\": 3, \"name\": \"McDonald\"}\n",
    "    ]\n",
    "}\n",
    "\n",
    "Susan works at Walmart while John studies at NYU.\n",
    "{\n",
    "    \"entities\": [\n",
    "        {\"id\": 0, \"name\": \"'''\n",
    "\n",
    "corrupted_prompt = '''David is a student at Stanford and Mary works at McDonald.\n",
    "{\n",
    "    \"entities\": [\n",
    "        {\"id\": 0, \"name\": \"Davide\"},\n",
    "        {\"id\": 1, \"name\": \"Stanford\"},\n",
    "        {\"id\": 2, \"name\": \"Mary\"},\n",
    "        {\"id\": 3, \"name\": \"McDonald\"}\n",
    "    ]\n",
    "}\n",
    "\n",
    "John works at Walmart while Susan studies at NYU.\n",
    "{\n",
    "    \"entities\": [\n",
    "        {\"id\": 0, \"name\": \"'''\n",
    "\n",
    "clean_prompt = \"This is amazing | positive\\nIt has been a shame | negative\\nIt was good overall |\"\n",
    "corrupted_prompt = \"This is amazing | positive\\nIt has been a shame | negative\\nIt was bad overall |\""
   ]
  },
  {
   "cell_type": "markdown",
   "metadata": {},
   "source": [
    "### Patching"
   ]
  },
  {
   "cell_type": "code",
   "execution_count": 81,
   "metadata": {},
   "outputs": [
    {
     "name": "stdout",
     "output_type": "stream",
     "text": [
      "Tokenized prompt: ['<|endoftext|>', 'This', ' is', ' amazing', ' |', ' positive', '\\n', 'It', ' has', ' been', ' a', ' shame', ' |', ' negative', '\\n', 'It', ' was', ' good', ' overall', ' |']\n",
      "Tokenized answer: [' positive']\n"
     ]
    },
    {
     "data": {
      "text/html": [
       "<pre style=\"white-space:pre;overflow-x:auto;line-height:normal;font-family:Menlo,'DejaVu Sans Mono',consolas,'Courier New',monospace\">Performance on answer token:\n",
       "<span style=\"font-weight: bold\">Rank: </span><span style=\"color: #008080; text-decoration-color: #008080; font-weight: bold\">0</span><span style=\"font-weight: bold\">        Logit: </span><span style=\"color: #008080; text-decoration-color: #008080; font-weight: bold\">17.24</span><span style=\"font-weight: bold\"> Prob: </span><span style=\"color: #008080; text-decoration-color: #008080; font-weight: bold\">70.66</span><span style=\"font-weight: bold\">% Token: | positive|</span>\n",
       "</pre>\n"
      ],
      "text/plain": [
       "Performance on answer token:\n",
       "\u001b[1mRank: \u001b[0m\u001b[1;36m0\u001b[0m\u001b[1m        Logit: \u001b[0m\u001b[1;36m17.24\u001b[0m\u001b[1m Prob: \u001b[0m\u001b[1;36m70.66\u001b[0m\u001b[1m% Token: | positive|\u001b[0m\n"
      ]
     },
     "metadata": {},
     "output_type": "display_data"
    },
    {
     "name": "stdout",
     "output_type": "stream",
     "text": [
      "Top 0th token. Logit: 17.24 Prob: 70.66% Token: | positive|\n",
      "Top 1th token. Logit: 15.19 Prob:  9.04% Token: | negative|\n",
      "Top 2th token. Logit: 14.84 Prob:  6.41% Token: | good|\n",
      "Top 3th token. Logit: 13.56 Prob:  1.78% Token: | bad|\n",
      "Top 4th token. Logit: 12.37 Prob:  0.54% Token: | great|\n",
      "Top 5th token. Logit: 12.15 Prob:  0.43% Token: | positives|\n",
      "Top 6th token. Logit: 11.87 Prob:  0.33% Token: | very|\n",
      "Top 7th token. Logit: 11.86 Prob:  0.32% Token: | nice|\n",
      "Top 8th token. Logit: 11.80 Prob:  0.30% Token: | happy|\n",
      "Top 9th token. Logit: 11.36 Prob:  0.20% Token: | awesome|\n"
     ]
    },
    {
     "data": {
      "text/html": [
       "<pre style=\"white-space:pre;overflow-x:auto;line-height:normal;font-family:Menlo,'DejaVu Sans Mono',consolas,'Courier New',monospace\"><span style=\"font-weight: bold\">Ranks of the answer tokens:</span> <span style=\"font-weight: bold\">[(</span><span style=\"color: #008000; text-decoration-color: #008000\">' positive'</span>, <span style=\"color: #008080; text-decoration-color: #008080; font-weight: bold\">0</span><span style=\"font-weight: bold\">)]</span>\n",
       "</pre>\n"
      ],
      "text/plain": [
       "\u001b[1mRanks of the answer tokens:\u001b[0m \u001b[1m[\u001b[0m\u001b[1m(\u001b[0m\u001b[32m' positive'\u001b[0m, \u001b[1;36m0\u001b[0m\u001b[1m)\u001b[0m\u001b[1m]\u001b[0m\n"
      ]
     },
     "metadata": {},
     "output_type": "display_data"
    }
   ],
   "source": [
    "from transformer_lens.utils import test_prompt\n",
    "\n",
    "test_prompt(clean_prompt, 'positive', model)"
   ]
  },
  {
   "cell_type": "code",
   "execution_count": 82,
   "metadata": {},
   "outputs": [],
   "source": [
    "import os\n",
    "import sys\n",
    "\n",
    "current_dir = os.getcwd()\n",
    "atp_dir = os.path.abspath(os.path.join(current_dir, '..', '..'))\n",
    "sys.path.append(atp_dir)\n",
    "\n",
    "from atp import Patching\n",
    "\n",
    "patching = Patching(model, 'atp')"
   ]
  },
  {
   "cell_type": "code",
   "execution_count": 83,
   "metadata": {},
   "outputs": [
    {
     "name": "stdout",
     "output_type": "stream",
     "text": [
      "Clean logit difference: 2.056\n",
      "Corrupted logit difference: 1.425\n",
      "Patching...\n"
     ]
    }
   ],
   "source": [
    "a_clean = ' positive'\n",
    "a_corr = ' negative'\n",
    "\n",
    "a_clean_token = model.to_single_token(a_clean)\n",
    "\n",
    "patching.patching(clean_prompt, a_clean, corrupted_prompt, a_corr, component='attn_all')"
   ]
  },
  {
   "cell_type": "code",
   "execution_count": 84,
   "metadata": {},
   "outputs": [],
   "source": [
    "fig = patching.plot()\n",
    "fig.write_html(\"fig.html\")"
   ]
  },
  {
   "cell_type": "code",
   "execution_count": 85,
   "metadata": {},
   "outputs": [],
   "source": [
    "def head_modifier_hook(x, hook, head_id, lam=1.2):\n",
    "    x[:, -1, head_id, :] = lam * x[:, -1, head_id, :]\n",
    "    return x"
   ]
  },
  {
   "cell_type": "code",
   "execution_count": 88,
   "metadata": {},
   "outputs": [
    {
     "name": "stderr",
     "output_type": "stream",
     "text": [
      "100%|██████████| 50/50 [00:01<00:00, 30.32it/s]\n"
     ]
    }
   ],
   "source": [
    "# [(8, 11, -1), (9, 6, 1), (9, 9, 1), (10, 0, 1), (10, 1, 1), (10, 7, -1), (10, 10, 1), (11, 10, -1)]\n",
    "heads = [(8, 11), (9, 6), (10, 0), (10, 1)]\n",
    "# 9,9\n",
    "topk_token_probas = []  # List to store topk token probabilities\n",
    "lams = np.linspace(1, 10, 50)\n",
    "\n",
    "for lam in tqdm(lams):\n",
    "    with torch.no_grad():\n",
    "        proba = model.run_with_hooks(\n",
    "            model.to_tokens(corrupted_prompt),\n",
    "            fwd_hooks=[\n",
    "                (\n",
    "                    f\"blocks.{l}.attn.hook_result\",\n",
    "                    partial(head_modifier_hook, head_id=h, lam=lam),\n",
    "                ) for l, h in heads\n",
    "            ]\n",
    "        ).softmax(-1)\n",
    "        \n",
    "        if lam == 1:\n",
    "            vals, idxs = proba.topk(8, dim=-1)\n",
    "            initial_tokens = idxs[0, -1].cpu().tolist()\n",
    "            if a_clean_token not in initial_tokens:\n",
    "                initial_tokens.append(a_clean_token)\n",
    "        else:\n",
    "            vals = proba[..., initial_tokens]\n",
    "        \n",
    "        topk_token_probas.append(vals[0, -1, :].cpu().numpy().tolist())\n"
   ]
  },
  {
   "cell_type": "code",
   "execution_count": 89,
   "metadata": {},
   "outputs": [
    {
     "data": {
      "image/png": "[encoded data removed]",
      "text/plain": [
       "<Figure size 1200x600 with 1 Axes>"
      ]
     },
     "metadata": {},
     "output_type": "display_data"
    }
   ],
   "source": [
    "import pandas as pd\n",
    "\n",
    "fig = plt.figure(figsize=(8, 4), dpi=150)\n",
    "\n",
    "data = pd.DataFrame(topk_token_probas, columns=[f\"p({tok})\" for tok in model.to_str_tokens(torch.tensor(initial_tokens))])\n",
    "data['Lambda'] = lams\n",
    "data = data.melt(id_vars='Lambda', var_name='Token Type', value_name='Probability')\n",
    "\n",
    "ax = sns.lineplot(data=data, x='Lambda', y='Probability', hue='Token Type', marker='o')\n",
    "tmp =[line.set_markersize(4) for line in ax.lines]"
   ]
  },
  {
   "cell_type": "code",
   "execution_count": 22,
   "metadata": {},
   "outputs": [
    {
     "name": "stderr",
     "output_type": "stream",
     "text": [
      "100%|██████████| 64/64 [00:01<00:00, 36.37it/s]"
     ]
    },
    {
     "name": "stdout",
     "output_type": "stream",
     "text": [
      "<|endoftext|>David is a student at Stanford and Mary works at McDonald.\n",
      "{\n",
      "    \"entities\": [\n",
      "        {\"id\": 0, \"name\": \"Davide\"},\n",
      "        {\"id\": 1, \"name\": \"Stanford\"},\n",
      "        {\"id\": 2, \"name\": \"Mary\"},\n",
      "        {\"id\": 3, \"name\": \"McDonald\"}\n",
      "    ]\n",
      "}\n",
      "\n",
      "Susan works at Walmart while John studies at NYU.\n",
      "{\n",
      "    \"entities\": [\n",
      "        {\"id\": 0, \"name\": \"John\"},\n",
      "        {\"id\": 1, \"name\": \"McDonald\"},\n",
      "       {\"id\": 2, \"name\": \"McDonald\"},\n",
      "       {\"id\": 3, \"name\": \"McDonald\"},\n",
      "\n",
      "{\n",
      "\n"
     ]
    },
    {
     "name": "stderr",
     "output_type": "stream",
     "text": [
      "\n"
     ]
    }
   ],
   "source": [
    "heads = [(8, 11), (9, 6), (10, 0), (10, 1), (11, 10)]\n",
    "lam = 3\n",
    "\n",
    "tokens = model.to_tokens(clean_prompt)\n",
    "max_new_tokens = 64\n",
    "\n",
    "for i in tqdm(range(max_new_tokens)): \n",
    "    with torch.no_grad():\n",
    "        new_tok = model.run_with_hooks(\n",
    "            tokens,\n",
    "            fwd_hooks=[\n",
    "                (\n",
    "                    f\"blocks.{l}.attn.hook_result\",\n",
    "                    partial(head_modifier_hook, head_id=h, lam=lam),\n",
    "                ) for l, h in heads\n",
    "            ]\n",
    "        ).argmax(-1)[:, -1, None]\n",
    "\n",
    "    tokens = torch.cat([tokens, new_tok], dim=-1)\n",
    "\n",
    "print(model.to_string(tokens)[0])"
   ]
  },
  {
   "cell_type": "markdown",
   "metadata": {
    "jp-MarkdownHeadingCollapsed": true
   },
   "source": [
    "### AtP"
   ]
  },
  {
   "cell_type": "code",
   "execution_count": 103,
   "metadata": {},
   "outputs": [],
   "source": [
    "patching = Patching(model, 'atp')"
   ]
  },
  {
   "cell_type": "code",
   "execution_count": 106,
   "metadata": {},
   "outputs": [
    {
     "name": "stdout",
     "output_type": "stream",
     "text": [
      "Clean logit difference: -2.828\n",
      "Corrupted logit difference: -2.330\n",
      "Patching...\n"
     ]
    }
   ],
   "source": [
    "x_clean = clean_prompt\n",
    "x_corr = corrupted_prompt\n",
    "\n",
    "a_clean = 'Susan'\n",
    "a_corr = 'John'\n",
    "\n",
    "patching.patching(x_clean, a_clean, x_corr, a_corr, component='attn_k')"
   ]
  },
  {
   "cell_type": "code",
   "execution_count": 107,
   "metadata": {},
   "outputs": [],
   "source": [
    "fig = patching.plot()\n",
    "fig.write_html(\"fig.html\")"
   ]
  },
  {
   "cell_type": "markdown",
   "metadata": {},
   "source": [
    "Promoting heads: L8H11, L9H6, L9H9, L10H0, L10H1, L10H10\n",
    "\n",
    "Suppression heads: L10H7, L10H11"
   ]
  },
  {
   "cell_type": "code",
   "execution_count": 245,
   "metadata": {},
   "outputs": [],
   "source": [
    "prompt = '''David is a student at Stanford and Mary works at McDonald.\n",
    "{\n",
    "    \"entities\": [\n",
    "        {\"id\": 0, \"name\": \"Davide\"},\n",
    "        {\"id\": 1, \"name\": \"Stanford\"},\n",
    "        {\"id\": 2, \"name\": \"Mary\"},\n",
    "        {\"id\": 3, \"name\": \"McDonald\"}\n",
    "    ]\n",
    "}\n",
    "\n",
    "Susan works at Walmart while John studies at NYU.\n",
    "{\n",
    "    \"entities\": [\n",
    "        {\"id\": 0, \"name\": \"John\"},\n",
    "        {\"id\": 1, \"name\": \"Walmart\"},\n",
    "        {\"id\": 2, \"name\": \"Susan\"},'''"
   ]
  },
  {
   "cell_type": "code",
   "execution_count": 246,
   "metadata": {},
   "outputs": [],
   "source": [
    "def logits_diff(logits, ans, topk=5):\n",
    "    top_tokens = logits[0, -1].topk(topk).indices.tolist()\n",
    "    if isinstance(ans, str):\n",
    "        ans = model.to_single_token(ans)\n",
    "\n",
    "    if ans in top_tokens:\n",
    "        top_tokens.remove(ans)\n",
    "        \n",
    "    return logits[0, -1, ans] - logits[0, -1, top_tokens].mean(-1)\n",
    "    \n",
    "def get_cache_fwd_and_bwd(tokens, ans):\n",
    "        filter_not_qkv_input = lambda name: \"_input\" not in name\n",
    "        model.reset_hooks()\n",
    "        cache = {}\n",
    "\n",
    "        def forward_cache_hook(act, hook):\n",
    "            cache[hook.name] = act.detach()\n",
    "\n",
    "        model.add_hook(filter_not_qkv_input, forward_cache_hook, \"fwd\")\n",
    "\n",
    "        grad_cache = {}\n",
    "\n",
    "        def backward_cache_hook(act, hook):\n",
    "            grad_cache[hook.name] = act.detach()\n",
    "\n",
    "        model.add_hook(filter_not_qkv_input, backward_cache_hook, \"bwd\")\n",
    "\n",
    "        value = logits_diff(model(tokens), ans, topk=10)\n",
    "        value.backward()\n",
    "        model.reset_hooks()\n",
    "        return (\n",
    "            value.item(),\n",
    "            ActivationCache(cache, model),\n",
    "            ActivationCache(grad_cache, model),\n",
    "        )"
   ]
  },
  {
   "cell_type": "code",
   "execution_count": 247,
   "metadata": {},
   "outputs": [
    {
     "data": {
      "text/plain": [
       "[(0, '<|endoftext|>'),\n",
       " (1, 'David'),\n",
       " (2, ' is'),\n",
       " (3, ' a'),\n",
       " (4, ' student'),\n",
       " (5, ' at'),\n",
       " (6, ' Stanford'),\n",
       " (7, ' and'),\n",
       " (8, ' Mary'),\n",
       " (9, ' works'),\n",
       " (10, ' at'),\n",
       " (11, ' McDonald'),\n",
       " (12, '.'),\n",
       " (13, '\\n'),\n",
       " (14, '{'),\n",
       " (15, '\\n'),\n",
       " (16, ' '),\n",
       " (17, ' '),\n",
       " (18, ' '),\n",
       " (19, ' \"'),\n",
       " (20, 'ent'),\n",
       " (21, 'ities'),\n",
       " (22, '\":'),\n",
       " (23, ' ['),\n",
       " (24, '\\n'),\n",
       " (25, ' '),\n",
       " (26, ' '),\n",
       " (27, ' '),\n",
       " (28, ' '),\n",
       " (29, ' '),\n",
       " (30, ' '),\n",
       " (31, ' '),\n",
       " (32, ' {\"'),\n",
       " (33, 'id'),\n",
       " (34, '\":'),\n",
       " (35, ' 0'),\n",
       " (36, ','),\n",
       " (37, ' \"'),\n",
       " (38, 'name'),\n",
       " (39, '\":'),\n",
       " (40, ' \"'),\n",
       " (41, 'D'),\n",
       " (42, 'av'),\n",
       " (43, 'ide'),\n",
       " (44, '\"},'),\n",
       " (45, '\\n'),\n",
       " (46, ' '),\n",
       " (47, ' '),\n",
       " (48, ' '),\n",
       " (49, ' '),\n",
       " (50, ' '),\n",
       " (51, ' '),\n",
       " (52, ' '),\n",
       " (53, ' {\"'),\n",
       " (54, 'id'),\n",
       " (55, '\":'),\n",
       " (56, ' 1'),\n",
       " (57, ','),\n",
       " (58, ' \"'),\n",
       " (59, 'name'),\n",
       " (60, '\":'),\n",
       " (61, ' \"'),\n",
       " (62, 'Stan'),\n",
       " (63, 'ford'),\n",
       " (64, '\"},'),\n",
       " (65, '\\n'),\n",
       " (66, ' '),\n",
       " (67, ' '),\n",
       " (68, ' '),\n",
       " (69, ' '),\n",
       " (70, ' '),\n",
       " (71, ' '),\n",
       " (72, ' '),\n",
       " (73, ' {\"'),\n",
       " (74, 'id'),\n",
       " (75, '\":'),\n",
       " (76, ' 2'),\n",
       " (77, ','),\n",
       " (78, ' \"'),\n",
       " (79, 'name'),\n",
       " (80, '\":'),\n",
       " (81, ' \"'),\n",
       " (82, 'Mary'),\n",
       " (83, '\"},'),\n",
       " (84, '\\n'),\n",
       " (85, ' '),\n",
       " (86, ' '),\n",
       " (87, ' '),\n",
       " (88, ' '),\n",
       " (89, ' '),\n",
       " (90, ' '),\n",
       " (91, ' '),\n",
       " (92, ' {\"'),\n",
       " (93, 'id'),\n",
       " (94, '\":'),\n",
       " (95, ' 3'),\n",
       " (96, ','),\n",
       " (97, ' \"'),\n",
       " (98, 'name'),\n",
       " (99, '\":'),\n",
       " (100, ' \"'),\n",
       " (101, 'Mc'),\n",
       " (102, 'Donald'),\n",
       " (103, '\"}'),\n",
       " (104, '\\n'),\n",
       " (105, ' '),\n",
       " (106, ' '),\n",
       " (107, ' '),\n",
       " (108, ' ]'),\n",
       " (109, '\\n'),\n",
       " (110, '}'),\n",
       " (111, '\\n'),\n",
       " (112, '\\n'),\n",
       " (113, 'Susan'),\n",
       " (114, ' works'),\n",
       " (115, ' at'),\n",
       " (116, ' Walmart'),\n",
       " (117, ' while'),\n",
       " (118, ' John'),\n",
       " (119, ' studies'),\n",
       " (120, ' at'),\n",
       " (121, ' NYU'),\n",
       " (122, '.'),\n",
       " (123, '\\n'),\n",
       " (124, '{'),\n",
       " (125, '\\n'),\n",
       " (126, ' '),\n",
       " (127, ' '),\n",
       " (128, ' '),\n",
       " (129, ' \"'),\n",
       " (130, 'ent'),\n",
       " (131, 'ities'),\n",
       " (132, '\":'),\n",
       " (133, ' ['),\n",
       " (134, '\\n'),\n",
       " (135, ' '),\n",
       " (136, ' '),\n",
       " (137, ' '),\n",
       " (138, ' '),\n",
       " (139, ' '),\n",
       " (140, ' '),\n",
       " (141, ' '),\n",
       " (142, ' {\"'),\n",
       " (143, 'id'),\n",
       " (144, '\":'),\n",
       " (145, ' 0'),\n",
       " (146, ','),\n",
       " (147, ' \"'),\n",
       " (148, 'name'),\n",
       " (149, '\":'),\n",
       " (150, ' \"'),\n",
       " (151, 'John'),\n",
       " (152, '\"},'),\n",
       " (153, '\\n'),\n",
       " (154, ' '),\n",
       " (155, ' '),\n",
       " (156, ' '),\n",
       " (157, ' '),\n",
       " (158, ' '),\n",
       " (159, ' '),\n",
       " (160, ' '),\n",
       " (161, ' {\"'),\n",
       " (162, 'id'),\n",
       " (163, '\":'),\n",
       " (164, ' 1'),\n",
       " (165, ','),\n",
       " (166, ' \"'),\n",
       " (167, 'name'),\n",
       " (168, '\":'),\n",
       " (169, ' \"'),\n",
       " (170, 'Wal'),\n",
       " (171, 'mart'),\n",
       " (172, '\"},'),\n",
       " (173, '\\n'),\n",
       " (174, ' '),\n",
       " (175, ' '),\n",
       " (176, ' '),\n",
       " (177, ' '),\n",
       " (178, ' '),\n",
       " (179, ' '),\n",
       " (180, ' '),\n",
       " (181, ' {\"'),\n",
       " (182, 'id'),\n",
       " (183, '\":'),\n",
       " (184, ' 2'),\n",
       " (185, ','),\n",
       " (186, ' \"'),\n",
       " (187, 'name'),\n",
       " (188, '\":'),\n",
       " (189, ' \"'),\n",
       " (190, 'Susan'),\n",
       " (191, '\"},')]"
      ]
     },
     "execution_count": 247,
     "metadata": {},
     "output_type": "execute_result"
    }
   ],
   "source": [
    "tokens = model.to_tokens(prompt)\n",
    "list(enumerate(model.to_str_tokens(prompt)))"
   ]
  },
  {
   "cell_type": "code",
   "execution_count": 248,
   "metadata": {},
   "outputs": [
    {
     "name": "stderr",
     "output_type": "stream",
     "text": [
      "100%|██████████| 68/68 [00:08<00:00,  8.20it/s]\n"
     ]
    }
   ],
   "source": [
    "import einops\n",
    "from tqdm import tqdm\n",
    "\n",
    "first_output_token_id = 124\n",
    "\n",
    "patch = torch.zeros(144, len(tokens[0]) - first_output_token_id)\n",
    "\n",
    "for i in tqdm(range(first_output_token_id, len(tokens[0]))):\n",
    "    _, cache, grad_cache = get_cache_fwd_and_bwd(tokens[:, :i], tokens[0, i])\n",
    "\n",
    "    act = cache.stack_head_results(-1)\n",
    "    grad_act = grad_cache.stack_head_results(-1)\n",
    "\n",
    "    patch[:, i-first_output_token_id] = einops.reduce(\n",
    "                grad_act *  act,\n",
    "                \"component batch pos d_model -> component pos\",\n",
    "                \"sum\",\n",
    "            )[:, -1]"
   ]
  },
  {
   "cell_type": "code",
   "execution_count": 249,
   "metadata": {},
   "outputs": [],
   "source": [
    "import plotly.express as px\n",
    "ys = [f'L{i}H{j}' for i in range(model.cfg.n_layers) for j in range(model.cfg.n_heads)]\n",
    "xs = [f\"{tok} | {i}\" for i, tok in enumerate(model.to_str_tokens(prompt)[first_output_token_id:])]\n",
    "\n",
    "fig = px.imshow(\n",
    "    patch.cpu().numpy(), \n",
    "    x=xs,\n",
    "    y=ys,\n",
    "    title=f\"Patching results for AtP method\",\n",
    "    color_continuous_scale='RdBu', zmin=-1, zmax=1, aspect='auto'\n",
    ")\n",
    "fig.write_html(\"fig.html\")"
   ]
  },
  {
   "cell_type": "code",
   "execution_count": 250,
   "metadata": {},
   "outputs": [],
   "source": [
    "import plotly.express as px\n",
    "import numpy as np\n",
    "\n",
    "layer_id = 8\n",
    "head_id = 11\n",
    "\n",
    "data = cache[f'blocks.{layer_id}.attn.hook_pattern'][0, head_id].cpu()\n",
    "labels = [f\"{tok} ({i})\" for i, tok in enumerate(model.to_str_tokens(prompt)[:-1])]\n",
    "\n",
    "# Create the plot using Plotly Express\n",
    "fig = px.imshow(\n",
    "    data,\n",
    "    labels=dict(x=\"Keys\", y=\"Queries\", color=\"Attention Score\"),\n",
    "    x=labels,\n",
    "    y=labels,\n",
    "    title=f'Attention patter at head {head_id} of layer {layer_id}',\n",
    "    color_continuous_scale=\"Blues\"\n",
    ")\n",
    "\n",
    "# Adjust the layout for better readability\n",
    "fig.update_xaxes(tickangle=35)\n",
    "fig.update_layout(coloraxis_colorbar=dict(title=\"Score\"))\n",
    "\n",
    "# Show the plot\n",
    "fig.write_html(\"attn_pattern.html\")"
   ]
  },
  {
   "cell_type": "code",
   "execution_count": 336,
   "metadata": {},
   "outputs": [],
   "source": [
    "# Pattern modifier\n",
    "start = 113\n",
    "end = 123\n",
    "\n",
    "def pattern_modifier_hook(x, hook, head_id, pos):\n",
    "    name_tokens = start + x[:, head_id, pos, start:end].sort(descending=True).indices[0, :4]\n",
    "    #x[:, head_id, pos, name_tokens] = x[:, head_id, pos, name_tokens].sum() / len(name_tokens)\n",
    "    #print(name_tokens)\n",
    "    x[:, head_id, pos, 113] = x[:, head_id, pos, 113] + 10\n",
    "    #x[:, head_id, pos] = x[:, head_id, pos].softmax(-1)\n",
    "    return x"
   ]
  },
  {
   "cell_type": "code",
   "execution_count": 337,
   "metadata": {},
   "outputs": [],
   "source": [
    "prompt = '''David is a student at Stanford and Mary works at McDonald.\n",
    "{\n",
    "    \"entities\": [\n",
    "        {\"id\": 0, \"name\": \"Davide\"},\n",
    "        {\"id\": 1, \"name\": \"Stanford\"},\n",
    "        {\"id\": 2, \"name\": \"Mary\"},\n",
    "        {\"id\": 3, \"name\": \"McDonald\"}\n",
    "    ]\n",
    "}\n",
    "\n",
    "Susan works at Walmart while John studies at NYU.\n",
    "{\n",
    "    \"entities\": [\n",
    "        {\"id\": 0, \"name\": \"'''"
   ]
  },
  {
   "cell_type": "code",
   "execution_count": 338,
   "metadata": {},
   "outputs": [
    {
     "data": {
      "application/vnd.jupyter.widget-view+json": {
       "model_id": "00c6b54b0e7f44888d4d4f1a8790a037",
       "version_major": 2,
       "version_minor": 0
      },
      "text/plain": [
       "  0%|          | 0/32 [00:00<?, ?it/s]"
      ]
     },
     "metadata": {},
     "output_type": "display_data"
    },
    {
     "name": "stdout",
     "output_type": "stream",
     "text": [
      "David is a student at Stanford and Mary works at McDonald.\n",
      "{\n",
      "    \"entities\": [\n",
      "        {\"id\": 0, \"name\": \"Davide\"},\n",
      "        {\"id\": 1, \"name\": \"Stanford\"},\n",
      "        {\"id\": 2, \"name\": \"Mary\"},\n",
      "        {\"id\": 3, \"name\": \"McDonald\"}\n",
      "    ]\n",
      "}\n",
      "\n",
      "Susan works at Walmart while John studies at NYU.\n",
      "{\n",
      "    \"entities\": [\n",
      "        {\"id\": 0, \"name\": \"John\"},\n",
      "        {\"id\": 1, \"name\": \"John\"},\n",
      "        {\"id\":\n"
     ]
    }
   ],
   "source": [
    "print(model.generate(prompt, max_new_tokens=32, temperature=0))"
   ]
  },
  {
   "cell_type": "code",
   "execution_count": 339,
   "metadata": {},
   "outputs": [
    {
     "name": "stderr",
     "output_type": "stream",
     "text": [
      "100%|██████████| 32/32 [00:00<00:00, 38.12it/s]\n"
     ]
    }
   ],
   "source": [
    "heads = [(8, 3), (8, 11)]\n",
    "token_ids = [model.to_single_token(tok) for tok in ['Susan', 'John']]\n",
    "pos = -1\n",
    "\n",
    "tokens = model.to_tokens(clean_prompt)\n",
    "max_new_tokens = 32\n",
    "\n",
    "for i in tqdm(range(max_new_tokens)): \n",
    "    with torch.no_grad():\n",
    "        new_tok = model.run_with_hooks(\n",
    "            tokens,\n",
    "            fwd_hooks=[\n",
    "                (\n",
    "                    f\"blocks.{l}.attn.hook_pattern\",\n",
    "                    partial(pattern_modifier_hook, head_id=h, pos=pos),\n",
    "                ) for l, h in heads\n",
    "            ]\n",
    "        ).argmax(-1)[:, -1, None]\n",
    "        \n",
    "        probas = proba[..., token_ids]\n",
    "        tokens = torch.cat([tokens, new_tok], dim=-1)"
   ]
  },
  {
   "cell_type": "code",
   "execution_count": 342,
   "metadata": {},
   "outputs": [
    {
     "name": "stdout",
     "output_type": "stream",
     "text": [
      "<|endoftext|>David is a student at Stanford and Mary works at McDonald.\n",
      "{\n",
      "    \"entities\": [\n",
      "        {\"id\": 0, \"name\": \"Davide\"},\n",
      "        {\"id\": 1, \"name\": \"Stanford\"},\n",
      "        {\"id\": 2, \"name\": \"Mary\"},\n",
      "        {\"id\": 3, \"name\": \"McDonald\"}\n",
      "    ]\n",
      "}\n",
      "\n",
      "Susan works at Walmart while John studies at NYU.\n",
      "{\n",
      "    \"entities\": [\n",
      "        {\"id\": 0, \"name\": \"Susan Susan Susan Susan Susan Susan Susan Susan Susan Susan Susan Susan Susan Susan Susan Susan Susan Susan Susan Susan Susan Susan Susan Susan Susan Susan Susan Susan Susan Susan Susan Susan\n"
     ]
    }
   ],
   "source": [
    "print(model.to_string(tokens)[0])"
   ]
  },
  {
   "cell_type": "code",
   "execution_count": 341,
   "metadata": {},
   "outputs": [
    {
     "data": {
      "text/plain": [
       "tensor([0.0002, 0.0006], device='cuda:0')"
      ]
     },
     "execution_count": 341,
     "metadata": {},
     "output_type": "execute_result"
    }
   ],
   "source": [
    "probas[0, -1]"
   ]
  },
  {
   "cell_type": "markdown",
   "metadata": {},
   "source": [
    "## SAEs"
   ]
  },
  {
   "cell_type": "code",
   "execution_count": 35,
   "metadata": {},
   "outputs": [
    {
     "data": {
      "application/vnd.jupyter.widget-view+json": {
       "model_id": "2a14b10e094a4e9d8f27a7b7c99cbf93",
       "version_major": 2,
       "version_minor": 0
      },
      "text/plain": [
       "Fetching 41 files:   0%|          | 0/41 [00:00<?, ?it/s]"
      ]
     },
     "metadata": {},
     "output_type": "display_data"
    }
   ],
   "source": [
    "from huggingface_hub import snapshot_download\n",
    "\n",
    "REPO_ID = \"jbloom/GPT2-Small-SAEs-Reformatted\"\n",
    "path = snapshot_download(repo_id=REPO_ID)"
   ]
  },
  {
   "cell_type": "code",
   "execution_count": 36,
   "metadata": {},
   "outputs": [
    {
     "name": "stderr",
     "output_type": "stream",
     "text": [
      "  0%|          | 0/12 [00:00<?, ?it/s]/usr/local/lib/python3.10/dist-packages/huggingface_hub/file_download.py:1132: FutureWarning:\n",
      "\n",
      "`resume_download` is deprecated and will be removed in version 1.0.0. Downloads always resume when possible. If you want to force a new download, use `force_download=True`.\n",
      "\n"
     ]
    },
    {
     "name": "stdout",
     "output_type": "stream",
     "text": [
      "Loaded pretrained model gpt2-small into HookedTransformer\n",
      "Moving model to device:  cuda\n"
     ]
    },
    {
     "name": "stderr",
     "output_type": "stream",
     "text": [
      "/usr/local/lib/python3.10/dist-packages/datasets/load.py:1486: FutureWarning:\n",
      "\n",
      "The repository for Skylion007/openwebtext contains custom code which must be executed to correctly load the dataset. You can inspect the repository content at https://hf.co/datasets/Skylion007/openwebtext\n",
      "You can avoid this message in future by passing the argument `trust_remote_code=True`.\n",
      "Passing `trust_remote_code=True` will be mandatory to load this dataset from the next major release of `datasets`.\n",
      "\n",
      "  8%|▊         | 1/12 [00:12<02:15, 12.29s/it]"
     ]
    },
    {
     "name": "stdout",
     "output_type": "stream",
     "text": [
      "Loaded pretrained model gpt2-small into HookedTransformer\n",
      "Moving model to device:  cuda\n"
     ]
    },
    {
     "name": "stderr",
     "output_type": "stream",
     "text": [
      " 17%|█▋        | 2/12 [00:22<01:50, 11.05s/it]"
     ]
    },
    {
     "name": "stdout",
     "output_type": "stream",
     "text": [
      "Loaded pretrained model gpt2-small into HookedTransformer\n",
      "Moving model to device:  cuda\n"
     ]
    },
    {
     "name": "stderr",
     "output_type": "stream",
     "text": [
      " 25%|██▌       | 3/12 [00:28<01:20,  8.96s/it]"
     ]
    },
    {
     "name": "stdout",
     "output_type": "stream",
     "text": [
      "Loaded pretrained model gpt2-small into HookedTransformer\n",
      "Moving model to device:  cuda\n"
     ]
    },
    {
     "name": "stderr",
     "output_type": "stream",
     "text": [
      " 33%|███▎      | 4/12 [00:35<01:03,  7.88s/it]"
     ]
    },
    {
     "name": "stdout",
     "output_type": "stream",
     "text": [
      "Loaded pretrained model gpt2-small into HookedTransformer\n",
      "Moving model to device:  cuda\n"
     ]
    },
    {
     "name": "stderr",
     "output_type": "stream",
     "text": [
      " 42%|████▏     | 5/12 [00:40<00:48,  6.93s/it]"
     ]
    },
    {
     "name": "stdout",
     "output_type": "stream",
     "text": [
      "Loaded pretrained model gpt2-small into HookedTransformer\n",
      "Moving model to device:  cuda\n"
     ]
    },
    {
     "name": "stderr",
     "output_type": "stream",
     "text": [
      " 50%|█████     | 6/12 [00:50<00:48,  8.02s/it]"
     ]
    },
    {
     "name": "stdout",
     "output_type": "stream",
     "text": [
      "Loaded pretrained model gpt2-small into HookedTransformer\n",
      "Moving model to device:  cuda\n"
     ]
    },
    {
     "name": "stderr",
     "output_type": "stream",
     "text": [
      " 58%|█████▊    | 7/12 [00:57<00:38,  7.77s/it]"
     ]
    },
    {
     "name": "stdout",
     "output_type": "stream",
     "text": [
      "Loaded pretrained model gpt2-small into HookedTransformer\n",
      "Moving model to device:  cuda\n"
     ]
    },
    {
     "name": "stderr",
     "output_type": "stream",
     "text": [
      " 67%|██████▋   | 8/12 [01:03<00:28,  7.24s/it]"
     ]
    },
    {
     "name": "stdout",
     "output_type": "stream",
     "text": [
      "Loaded pretrained model gpt2-small into HookedTransformer\n",
      "Moving model to device:  cuda\n"
     ]
    },
    {
     "name": "stderr",
     "output_type": "stream",
     "text": [
      " 75%|███████▌  | 9/12 [01:09<00:20,  6.80s/it]"
     ]
    },
    {
     "name": "stdout",
     "output_type": "stream",
     "text": [
      "Loaded pretrained model gpt2-small into HookedTransformer\n",
      "Moving model to device:  cuda\n"
     ]
    },
    {
     "name": "stderr",
     "output_type": "stream",
     "text": [
      " 83%|████████▎ | 10/12 [01:25<00:18,  9.43s/it]"
     ]
    },
    {
     "name": "stdout",
     "output_type": "stream",
     "text": [
      "Loaded pretrained model gpt2-small into HookedTransformer\n",
      "Moving model to device:  cuda\n"
     ]
    },
    {
     "name": "stderr",
     "output_type": "stream",
     "text": [
      " 92%|█████████▏| 11/12 [01:39<00:10, 10.96s/it]"
     ]
    },
    {
     "name": "stdout",
     "output_type": "stream",
     "text": [
      "Loaded pretrained model gpt2-small into HookedTransformer\n",
      "Moving model to device:  cuda\n"
     ]
    },
    {
     "name": "stderr",
     "output_type": "stream",
     "text": [
      "100%|██████████| 12/12 [01:45<00:00,  8.82s/it]\n"
     ]
    }
   ],
   "source": [
    "from sae_lens import LMSparseAutoencoderSessionloader\n",
    "from tqdm import tqdm\n",
    "import os\n",
    "\n",
    "saes = []\n",
    "\n",
    "for l in tqdm(range(model.cfg.n_layers)):\n",
    "    _, sae_group, activation_store = LMSparseAutoencoderSessionloader.load_pretrained_sae(\n",
    "        path = os.path.join(path, f\"blocks.{l}.hook_resid_pre\"), device=device\n",
    "    )\n",
    "    sae_group.eval()\n",
    "    saes.append(sae_group[f'blocks.{l}.hook_resid_pre'])"
   ]
  },
  {
   "cell_type": "code",
   "execution_count": 38,
   "metadata": {},
   "outputs": [],
   "source": [
    "prompt = '''David is a student at Stanford and Mary works at McDonald.\n",
    "{\n",
    "    \"entities\": [\n",
    "        {\"id\": 0, \"name\": \"Davide\"},\n",
    "        {\"id\": 1, \"name\": \"Stanford\"},\n",
    "        {\"id\": 2, \"name\": \"Mary\"},\n",
    "        {\"id\": 3, \"name\": \"McDonald\"}\n",
    "    ]\n",
    "}\n",
    "\n",
    "Susan works at Walmart while John studies at NYU.\n",
    "{\n",
    "    \"entities\": [\n",
    "        {\"id\": 0, \"name\": \"'''\n",
    "\n",
    "tokens = model.to_tokens(prompt)"
   ]
  },
  {
   "cell_type": "code",
   "execution_count": 39,
   "metadata": {},
   "outputs": [],
   "source": [
    "from fancy_einsum import einsum\n",
    "sae_cache = {}\n",
    "sae_grad_cache = {}\n",
    "\n",
    "def feature_edit_hook(x, hook, sae, f_id, pos, lam=2):\n",
    "    sae_out, f_act, *_ = sae(x)\n",
    "    f_act[:, pos, f_id] = f_act[:, pos, f_id] * lam\n",
    "    edit = einsum(\n",
    "        'b p dsae, dsae dm -> b p dm',\n",
    "        f_act, sae.W_dec\n",
    "    ) + sae.b_dec\n",
    "\n",
    "def reconstr_hook(x, hook, sae):\n",
    "    sae_out, f_act, *_ = sae(x)\n",
    "    \n",
    "    # Function to capture the gradient\n",
    "    def capture_grad(grad):\n",
    "        sae_grad_cache[hook.name] = grad.clone()\n",
    "\n",
    "    # Register the hook to capture the gradient\n",
    "    if f_act.requires_grad:\n",
    "        f_act.register_hook(capture_grad)\n",
    "    \n",
    "    sae_cache[hook.name] = f_act.detach()\n",
    "    return sae_out"
   ]
  },
  {
   "cell_type": "code",
   "execution_count": 40,
   "metadata": {},
   "outputs": [
    {
     "data": {
      "text/plain": [
       "[(0, '<|endoftext|>'),\n",
       " (1, 'David'),\n",
       " (2, ' is'),\n",
       " (3, ' a'),\n",
       " (4, ' student'),\n",
       " (5, ' at'),\n",
       " (6, ' Stanford'),\n",
       " (7, ' and'),\n",
       " (8, ' Mary'),\n",
       " (9, ' works'),\n",
       " (10, ' at'),\n",
       " (11, ' McDonald'),\n",
       " (12, '.'),\n",
       " (13, '\\n'),\n",
       " (14, '{'),\n",
       " (15, '\\n'),\n",
       " (16, ' '),\n",
       " (17, ' '),\n",
       " (18, ' '),\n",
       " (19, ' \"'),\n",
       " (20, 'ent'),\n",
       " (21, 'ities'),\n",
       " (22, '\":'),\n",
       " (23, ' ['),\n",
       " (24, '\\n'),\n",
       " (25, ' '),\n",
       " (26, ' '),\n",
       " (27, ' '),\n",
       " (28, ' '),\n",
       " (29, ' '),\n",
       " (30, ' '),\n",
       " (31, ' '),\n",
       " (32, ' {\"'),\n",
       " (33, 'id'),\n",
       " (34, '\":'),\n",
       " (35, ' 0'),\n",
       " (36, ','),\n",
       " (37, ' \"'),\n",
       " (38, 'name'),\n",
       " (39, '\":'),\n",
       " (40, ' \"'),\n",
       " (41, 'D'),\n",
       " (42, 'av'),\n",
       " (43, 'ide'),\n",
       " (44, '\"},'),\n",
       " (45, '\\n'),\n",
       " (46, ' '),\n",
       " (47, ' '),\n",
       " (48, ' '),\n",
       " (49, ' '),\n",
       " (50, ' '),\n",
       " (51, ' '),\n",
       " (52, ' '),\n",
       " (53, ' {\"'),\n",
       " (54, 'id'),\n",
       " (55, '\":'),\n",
       " (56, ' 1'),\n",
       " (57, ','),\n",
       " (58, ' \"'),\n",
       " (59, 'name'),\n",
       " (60, '\":'),\n",
       " (61, ' \"'),\n",
       " (62, 'Stan'),\n",
       " (63, 'ford'),\n",
       " (64, '\"},'),\n",
       " (65, '\\n'),\n",
       " (66, ' '),\n",
       " (67, ' '),\n",
       " (68, ' '),\n",
       " (69, ' '),\n",
       " (70, ' '),\n",
       " (71, ' '),\n",
       " (72, ' '),\n",
       " (73, ' {\"'),\n",
       " (74, 'id'),\n",
       " (75, '\":'),\n",
       " (76, ' 2'),\n",
       " (77, ','),\n",
       " (78, ' \"'),\n",
       " (79, 'name'),\n",
       " (80, '\":'),\n",
       " (81, ' \"'),\n",
       " (82, 'Mary'),\n",
       " (83, '\"},'),\n",
       " (84, '\\n'),\n",
       " (85, ' '),\n",
       " (86, ' '),\n",
       " (87, ' '),\n",
       " (88, ' '),\n",
       " (89, ' '),\n",
       " (90, ' '),\n",
       " (91, ' '),\n",
       " (92, ' {\"'),\n",
       " (93, 'id'),\n",
       " (94, '\":'),\n",
       " (95, ' 3'),\n",
       " (96, ','),\n",
       " (97, ' \"'),\n",
       " (98, 'name'),\n",
       " (99, '\":'),\n",
       " (100, ' \"'),\n",
       " (101, 'Mc'),\n",
       " (102, 'Donald'),\n",
       " (103, '\"}'),\n",
       " (104, '\\n'),\n",
       " (105, ' '),\n",
       " (106, ' '),\n",
       " (107, ' '),\n",
       " (108, ' ]'),\n",
       " (109, '\\n'),\n",
       " (110, '}'),\n",
       " (111, '\\n'),\n",
       " (112, '\\n'),\n",
       " (113, 'Susan'),\n",
       " (114, ' works'),\n",
       " (115, ' at'),\n",
       " (116, ' Walmart'),\n",
       " (117, ' while'),\n",
       " (118, ' John'),\n",
       " (119, ' studies'),\n",
       " (120, ' at'),\n",
       " (121, ' NYU'),\n",
       " (122, '.'),\n",
       " (123, '\\n'),\n",
       " (124, '{'),\n",
       " (125, '\\n'),\n",
       " (126, ' '),\n",
       " (127, ' '),\n",
       " (128, ' '),\n",
       " (129, ' \"'),\n",
       " (130, 'ent'),\n",
       " (131, 'ities'),\n",
       " (132, '\":'),\n",
       " (133, ' ['),\n",
       " (134, '\\n'),\n",
       " (135, ' '),\n",
       " (136, ' '),\n",
       " (137, ' '),\n",
       " (138, ' '),\n",
       " (139, ' '),\n",
       " (140, ' '),\n",
       " (141, ' '),\n",
       " (142, ' {\"'),\n",
       " (143, 'id'),\n",
       " (144, '\":'),\n",
       " (145, ' 0'),\n",
       " (146, ','),\n",
       " (147, ' \"'),\n",
       " (148, 'name'),\n",
       " (149, '\":'),\n",
       " (150, ' \"')]"
      ]
     },
     "execution_count": 40,
     "metadata": {},
     "output_type": "execute_result"
    }
   ],
   "source": [
    "list(enumerate(model.to_str_tokens(prompt)))"
   ]
  },
  {
   "cell_type": "code",
   "execution_count": 59,
   "metadata": {},
   "outputs": [],
   "source": [
    "def feature_editing(model, prompt, tokens):\n",
    "    \n",
    "    tokens = [model.to_single_token(tok) for tok in tokens]\n",
    "\n",
    "    with torch.no_grad():\n",
    "        proba = model(model.to_tokens(clean_prompt)).softmax(-1)\n",
    "    \n",
    "    vals = proba[..., tokens]\n",
    "    return vals[0, -1, :].cpu().numpy().tolist()"
   ]
  },
  {
   "cell_type": "code",
   "execution_count": 98,
   "metadata": {},
   "outputs": [
    {
     "name": "stderr",
     "output_type": "stream",
     "text": [
      "100%|██████████| 20/20 [00:01<00:00, 11.23it/s]\n"
     ]
    }
   ],
   "source": [
    "# Feature Editing\n",
    "tokens = [model.to_single_token(tok) for tok in ['John', 'Susan']]\n",
    "\n",
    "#features = [(10, 13299)] \n",
    "pos = 113\n",
    "\n",
    "hook_point = f'blocks.{layer_id}.hook_resid_pre'\n",
    "\n",
    "token_probas = []\n",
    "\n",
    "lams = np.linspace(-5, 5, 20)\n",
    "\n",
    "for lam in tqdm(lams):\n",
    "\n",
    "\n",
    "\n",
    "    \n",
    "    with model.hooks(\n",
    "        fwd_hooks=[\n",
    "            (\n",
    "                hook_point,\n",
    "                partial(feature_edit_hook, sae=saes[layer_id], f_id=f_id, pos=pos, lam=lam),\n",
    "            ) for layer_id, f_id in features\n",
    "        ]\n",
    "    ): token_probas.append(feature_editing(model, prompt, ['Susan', 'John']))"
   ]
  },
  {
   "cell_type": "code",
   "execution_count": 100,
   "metadata": {},
   "outputs": [
    {
     "data": {
      "text/plain": [
       "[[0.008649192750453949, 0.14631010591983795],\n",
       " [0.008649192750453949, 0.14631010591983795],\n",
       " [0.008649192750453949, 0.14631010591983795],\n",
       " [0.008649192750453949, 0.14631010591983795],\n",
       " [0.008649192750453949, 0.14631010591983795],\n",
       " [0.008649192750453949, 0.14631010591983795],\n",
       " [0.008649192750453949, 0.14631010591983795],\n",
       " [0.008649192750453949, 0.14631010591983795],\n",
       " [0.008649192750453949, 0.14631010591983795],\n",
       " [0.008649192750453949, 0.14631010591983795],\n",
       " [0.008649192750453949, 0.14631010591983795],\n",
       " [0.008649192750453949, 0.14631010591983795],\n",
       " [0.008649192750453949, 0.14631010591983795],\n",
       " [0.008649192750453949, 0.14631010591983795],\n",
       " [0.008649192750453949, 0.14631010591983795],\n",
       " [0.008649192750453949, 0.14631010591983795],\n",
       " [0.008649192750453949, 0.14631010591983795],\n",
       " [0.008649192750453949, 0.14631010591983795],\n",
       " [0.008649192750453949, 0.14631010591983795],\n",
       " [0.008649192750453949, 0.14631010591983795]]"
      ]
     },
     "execution_count": 100,
     "metadata": {},
     "output_type": "execute_result"
    }
   ],
   "source": [
    "token_probas"
   ]
  },
  {
   "cell_type": "code",
   "execution_count": 76,
   "metadata": {},
   "outputs": [],
   "source": [
    "from functools import partial\n",
    "\n",
    "component = 'resid_pre'\n",
    "\n",
    "out = model.run_with_hooks(\n",
    "            tokens,\n",
    "            fwd_hooks=[\n",
    "                (\n",
    "                    utils.get_act_name(component, layer_id),\n",
    "                    partial(reconstr_hook, sae=saes[layer_id]),\n",
    "                )\n",
    "            for layer_id in range(model.cfg.n_layers)]\n",
    "        ).log_softmax(-1)\n",
    "\n",
    "ans = model.to_single_token('Susan')\n",
    "loss = - out[0, -1, ans]\n",
    "\n",
    "loss.backward()"
   ]
  },
  {
   "cell_type": "code",
   "execution_count": 77,
   "metadata": {},
   "outputs": [],
   "source": [
    "act = torch.stack(list(sae_cache.values()))\n",
    "grad_act = torch.stack(list(sae_grad_cache.values()))\n",
    "\n",
    "patch = einops.reduce(\n",
    "                grad_act *  act,\n",
    "                \"component batch pos d_model -> component pos d_model\",\n",
    "                \"sum\",\n",
    "            )"
   ]
  },
  {
   "cell_type": "code",
   "execution_count": 102,
   "metadata": {},
   "outputs": [
    {
     "data": {
      "text/plain": [
       "tensor([[19419,  2670,  1318],\n",
       "        [14858,     1,     0],\n",
       "        [13070, 13411, 19241],\n",
       "        [ 8524,  1294, 17696],\n",
       "        [10433,     1,     0],\n",
       "        [ 6677, 18816, 13863],\n",
       "        [14243, 22334, 23861],\n",
       "        [15585,  2650,  2028],\n",
       "        [21490, 22557, 18215],\n",
       "        [17803, 16510, 22344],\n",
       "        [15266,  3565, 16895],\n",
       "        [ 2665, 23640, 17467]], device='cuda:0')"
      ]
     },
     "execution_count": 102,
     "metadata": {},
     "output_type": "execute_result"
    }
   ],
   "source": [
    "patch[:, 113].topk(3, -1).indices"
   ]
  },
  {
   "cell_type": "code",
   "execution_count": 65,
   "metadata": {},
   "outputs": [],
   "source": [
    "p1_act = act[:, 0, 113]\n",
    "p2_act = act[:, 0, 118]\n",
    "delta_act = p2_act - p1_act"
   ]
  },
  {
   "cell_type": "code",
   "execution_count": 97,
   "metadata": {},
   "outputs": [
    {
     "data": {
      "text/plain": [
       "[(0, 19419),\n",
       " (0, 2670),\n",
       " (0, 1318),\n",
       " (1, 14858),\n",
       " (1, 1),\n",
       " (1, 0),\n",
       " (2, 13070),\n",
       " (2, 13411),\n",
       " (2, 19241),\n",
       " (3, 8524),\n",
       " (3, 1294),\n",
       " (3, 17696),\n",
       " (4, 10433),\n",
       " (4, 1),\n",
       " (4, 0),\n",
       " (5, 6677),\n",
       " (5, 18816),\n",
       " (5, 13863),\n",
       " (6, 14243),\n",
       " (6, 22334),\n",
       " (6, 23861),\n",
       " (7, 15585),\n",
       " (7, 2650),\n",
       " (7, 2028),\n",
       " (8, 21490),\n",
       " (8, 22557),\n",
       " (8, 18215),\n",
       " (9, 17803),\n",
       " (9, 16510),\n",
       " (9, 22344),\n",
       " (10, 15266),\n",
       " (10, 3565),\n",
       " (10, 16895),\n",
       " (11, 2665),\n",
       " (11, 23640),\n",
       " (11, 17467)]"
      ]
     },
     "execution_count": 97,
     "metadata": {},
     "output_type": "execute_result"
    }
   ],
   "source": [
    "features = []\n",
    "for l, fs in zip(range(12), patch[:, 113].topk(3, -1).indices.tolist()):\n",
    "    for f in fs:\n",
    "        features.append((l, f))\n",
    "\n",
    "features"
   ]
  },
  {
   "cell_type": "code",
   "execution_count": 48,
   "metadata": {},
   "outputs": [],
   "source": [
    "vals, idxs = patch.mean(1).topk(5, dim=-1)"
   ]
  },
  {
   "cell_type": "code",
   "execution_count": 55,
   "metadata": {},
   "outputs": [
    {
     "data": {
      "text/plain": [
       "torch.Size([12, 1, 151, 24576])"
      ]
     },
     "execution_count": 55,
     "metadata": {},
     "output_type": "execute_result"
    }
   ],
   "source": [
    "act.shape"
   ]
  },
  {
   "cell_type": "code",
   "execution_count": 153,
   "metadata": {},
   "outputs": [
    {
     "data": {
      "image/png": "[encoded data removed]",
      "text/plain": [
       "<Figure size 1800x1200 with 2 Axes>"
      ]
     },
     "metadata": {},
     "output_type": "display_data"
    }
   ],
   "source": [
    "plt.figure(figsize=(12, 8), dpi=150)\n",
    "\n",
    "ys = [f\"L{i}\" for i in range(model.cfg.n_layers)]\n",
    "\n",
    "# Draw the heatmap\n",
    "ax = sns.heatmap(patch.cpu().sum(-1), cmap='Blues', vmin=0, vmax=1)\n",
    "\n",
    "# Set tick labels\n",
    "ax.set_xticks([i + 0.5 for i in range(len(labels))])  # Set x-ticks every 10 columns\n",
    "ax.set_yticks([i + 0.5 for i in range(len(ys))])  # Set y-ticks every 10 rows\n",
    "\n",
    "# Set tick labels with optional custom labeling\n",
    "ax.set_xticklabels(labels)\n",
    "ax.set_yticklabels(ys)\n",
    "\n",
    "# Rotate tick labels for better visibility\n",
    "plt.xticks(rotation=35)\n",
    "plt.yticks(rotation=0)\n",
    "\n",
    "# Title and labels (optional)\n",
    "plt.title('Feature AtP aggregated by layer')\n",
    "plt.xlabel('Tokens')\n",
    "plt.ylabel('Layer')\n",
    "\n",
    "# Show the plot\n",
    "plt.show()"
   ]
  },
  {
   "cell_type": "code",
   "execution_count": 170,
   "metadata": {},
   "outputs": [],
   "source": [
    "def reconstr_hook(x, hook, sae):\n",
    "    sae_out, f_act, *_ = sae(x)\n",
    "    sae_cache[hook.name] = f_act  # Store for reference; not detach here as we need gradients\n",
    "    return sae_out\n",
    "\n",
    "def interpolate(input, baseline, steps=50):\n",
    "    return [baseline + (float(i) / steps) * (input - baseline) for i in range(steps + 1)]\n"
   ]
  },
  {
   "cell_type": "code",
   "execution_count": 171,
   "metadata": {},
   "outputs": [
    {
     "ename": "IndexError",
     "evalue": "tensors used as indices must be long, int, byte or bool tensors",
     "output_type": "error",
     "traceback": [
      "\u001b[0;31m---------------------------------------------------------------------------\u001b[0m",
      "\u001b[0;31mIndexError\u001b[0m                                Traceback (most recent call last)",
      "Cell \u001b[0;32mIn[171], line 15\u001b[0m\n\u001b[1;32m     11\u001b[0m accumulated_grads \u001b[38;5;241m=\u001b[39m []\n\u001b[1;32m     13\u001b[0m \u001b[38;5;28;01mfor\u001b[39;00m interp_tokens \u001b[38;5;129;01min\u001b[39;00m interpolated_inputs:\n\u001b[1;32m     14\u001b[0m     \u001b[38;5;66;03m# Run model forward with hooks\u001b[39;00m\n\u001b[0;32m---> 15\u001b[0m     out \u001b[38;5;241m=\u001b[39m \u001b[43mmodel\u001b[49m\u001b[38;5;241;43m.\u001b[39;49m\u001b[43mrun_with_hooks\u001b[49m\u001b[43m(\u001b[49m\n\u001b[1;32m     16\u001b[0m \u001b[43m                \u001b[49m\u001b[43minterp_tokens\u001b[49m\u001b[43m,\u001b[49m\n\u001b[1;32m     17\u001b[0m \u001b[43m                \u001b[49m\u001b[43mfwd_hooks\u001b[49m\u001b[38;5;241;43m=\u001b[39;49m\u001b[43m[\u001b[49m\n\u001b[1;32m     18\u001b[0m \u001b[43m                    \u001b[49m\u001b[43m(\u001b[49m\n\u001b[1;32m     19\u001b[0m \u001b[43m                        \u001b[49m\u001b[43mutils\u001b[49m\u001b[38;5;241;43m.\u001b[39;49m\u001b[43mget_act_name\u001b[49m\u001b[43m(\u001b[49m\u001b[43mcomponent\u001b[49m\u001b[43m,\u001b[49m\u001b[43m \u001b[49m\u001b[43mlayer_id\u001b[49m\u001b[43m)\u001b[49m\u001b[43m,\u001b[49m\n\u001b[1;32m     20\u001b[0m \u001b[43m                        \u001b[49m\u001b[43mpartial\u001b[49m\u001b[43m(\u001b[49m\u001b[43mreconstr_hook\u001b[49m\u001b[43m,\u001b[49m\u001b[43m \u001b[49m\u001b[43msae\u001b[49m\u001b[38;5;241;43m=\u001b[39;49m\u001b[43msaes\u001b[49m\u001b[43m[\u001b[49m\u001b[43mlayer_id\u001b[49m\u001b[43m]\u001b[49m\u001b[43m)\u001b[49m\u001b[43m,\u001b[49m\n\u001b[1;32m     21\u001b[0m \u001b[43m                    \u001b[49m\u001b[43m)\u001b[49m\u001b[43m \u001b[49m\u001b[38;5;28;43;01mfor\u001b[39;49;00m\u001b[43m \u001b[49m\u001b[43mlayer_id\u001b[49m\u001b[43m \u001b[49m\u001b[38;5;129;43;01min\u001b[39;49;00m\u001b[43m \u001b[49m\u001b[38;5;28;43mrange\u001b[39;49m\u001b[43m(\u001b[49m\u001b[43mmodel\u001b[49m\u001b[38;5;241;43m.\u001b[39;49m\u001b[43mcfg\u001b[49m\u001b[38;5;241;43m.\u001b[39;49m\u001b[43mn_layers\u001b[49m\u001b[43m)\u001b[49m\n\u001b[1;32m     22\u001b[0m \u001b[43m                \u001b[49m\u001b[43m]\u001b[49m\n\u001b[1;32m     23\u001b[0m \u001b[43m            \u001b[49m\u001b[43m)\u001b[49m\u001b[38;5;241m.\u001b[39mlog_softmax(\u001b[38;5;241m-\u001b[39m\u001b[38;5;241m1\u001b[39m)\n\u001b[1;32m     25\u001b[0m     \u001b[38;5;66;03m# Target token\u001b[39;00m\n\u001b[1;32m     26\u001b[0m     ans \u001b[38;5;241m=\u001b[39m model\u001b[38;5;241m.\u001b[39mto_single_token(\u001b[38;5;124m'\u001b[39m\u001b[38;5;124mMary\u001b[39m\u001b[38;5;124m'\u001b[39m)\n",
      "File \u001b[0;32m/usr/local/lib/python3.10/dist-packages/transformer_lens/hook_points.py:358\u001b[0m, in \u001b[0;36mHookedRootModule.run_with_hooks\u001b[0;34m(self, fwd_hooks, bwd_hooks, reset_hooks_end, clear_contexts, *model_args, **model_kwargs)\u001b[0m\n\u001b[1;32m    353\u001b[0m     logging\u001b[38;5;241m.\u001b[39mwarning(\n\u001b[1;32m    354\u001b[0m         \u001b[38;5;124m\"\u001b[39m\u001b[38;5;124mWARNING: Hooks will be reset at the end of run_with_hooks. This removes the backward hooks before a backward pass can occur.\u001b[39m\u001b[38;5;124m\"\u001b[39m\n\u001b[1;32m    355\u001b[0m     )\n\u001b[1;32m    357\u001b[0m \u001b[38;5;28;01mwith\u001b[39;00m \u001b[38;5;28mself\u001b[39m\u001b[38;5;241m.\u001b[39mhooks(fwd_hooks, bwd_hooks, reset_hooks_end, clear_contexts) \u001b[38;5;28;01mas\u001b[39;00m hooked_model:\n\u001b[0;32m--> 358\u001b[0m     \u001b[38;5;28;01mreturn\u001b[39;00m \u001b[43mhooked_model\u001b[49m\u001b[38;5;241;43m.\u001b[39;49m\u001b[43mforward\u001b[49m\u001b[43m(\u001b[49m\u001b[38;5;241;43m*\u001b[39;49m\u001b[43mmodel_args\u001b[49m\u001b[43m,\u001b[49m\u001b[43m \u001b[49m\u001b[38;5;241;43m*\u001b[39;49m\u001b[38;5;241;43m*\u001b[39;49m\u001b[43mmodel_kwargs\u001b[49m\u001b[43m)\u001b[49m\n",
      "File \u001b[0;32m/usr/local/lib/python3.10/dist-packages/transformer_lens/HookedTransformer.py:522\u001b[0m, in \u001b[0;36mHookedTransformer.forward\u001b[0;34m(self, input, return_type, loss_per_token, prepend_bos, padding_side, start_at_layer, tokens, shortformer_pos_embed, attention_mask, stop_at_layer, past_kv_cache)\u001b[0m\n\u001b[1;32m    513\u001b[0m \u001b[38;5;28;01mwith\u001b[39;00m utils\u001b[38;5;241m.\u001b[39mLocallyOverridenDefaults(\n\u001b[1;32m    514\u001b[0m     \u001b[38;5;28mself\u001b[39m, prepend_bos\u001b[38;5;241m=\u001b[39mprepend_bos, padding_side\u001b[38;5;241m=\u001b[39mpadding_side\n\u001b[1;32m    515\u001b[0m ):\n\u001b[1;32m    516\u001b[0m     \u001b[38;5;28;01mif\u001b[39;00m start_at_layer \u001b[38;5;129;01mis\u001b[39;00m \u001b[38;5;28;01mNone\u001b[39;00m:\n\u001b[1;32m    517\u001b[0m         (\n\u001b[1;32m    518\u001b[0m             residual,\n\u001b[1;32m    519\u001b[0m             tokens,\n\u001b[1;32m    520\u001b[0m             shortformer_pos_embed,\n\u001b[1;32m    521\u001b[0m             attention_mask,\n\u001b[0;32m--> 522\u001b[0m         ) \u001b[38;5;241m=\u001b[39m \u001b[38;5;28;43mself\u001b[39;49m\u001b[38;5;241;43m.\u001b[39;49m\u001b[43minput_to_embed\u001b[49m\u001b[43m(\u001b[49m\n\u001b[1;32m    523\u001b[0m \u001b[43m            \u001b[49m\u001b[38;5;28;43minput\u001b[39;49m\u001b[43m,\u001b[49m\n\u001b[1;32m    524\u001b[0m \u001b[43m            \u001b[49m\u001b[43mprepend_bos\u001b[49m\u001b[38;5;241;43m=\u001b[39;49m\u001b[43mprepend_bos\u001b[49m\u001b[43m,\u001b[49m\n\u001b[1;32m    525\u001b[0m \u001b[43m            \u001b[49m\u001b[43mpadding_side\u001b[49m\u001b[38;5;241;43m=\u001b[39;49m\u001b[43mpadding_side\u001b[49m\u001b[43m,\u001b[49m\n\u001b[1;32m    526\u001b[0m \u001b[43m            \u001b[49m\u001b[43mpast_kv_cache\u001b[49m\u001b[38;5;241;43m=\u001b[39;49m\u001b[43mpast_kv_cache\u001b[49m\u001b[43m,\u001b[49m\n\u001b[1;32m    527\u001b[0m \u001b[43m        \u001b[49m\u001b[43m)\u001b[49m\n\u001b[1;32m    528\u001b[0m     \u001b[38;5;28;01melse\u001b[39;00m:\n\u001b[1;32m    529\u001b[0m         \u001b[38;5;28;01massert\u001b[39;00m \u001b[38;5;28mtype\u001b[39m(\u001b[38;5;28minput\u001b[39m) \u001b[38;5;241m==\u001b[39m torch\u001b[38;5;241m.\u001b[39mTensor\n",
      "File \u001b[0;32m/usr/local/lib/python3.10/dist-packages/transformer_lens/HookedTransformer.py:330\u001b[0m, in \u001b[0;36mHookedTransformer.input_to_embed\u001b[0;34m(self, input, prepend_bos, padding_side, past_kv_cache)\u001b[0m\n\u001b[1;32m    328\u001b[0m \u001b[38;5;28;01mif\u001b[39;00m \u001b[38;5;28mself\u001b[39m\u001b[38;5;241m.\u001b[39mcfg\u001b[38;5;241m.\u001b[39muse_hook_tokens:\n\u001b[1;32m    329\u001b[0m     tokens \u001b[38;5;241m=\u001b[39m \u001b[38;5;28mself\u001b[39m\u001b[38;5;241m.\u001b[39mhook_tokens(tokens)\n\u001b[0;32m--> 330\u001b[0m embed \u001b[38;5;241m=\u001b[39m \u001b[38;5;28mself\u001b[39m\u001b[38;5;241m.\u001b[39mhook_embed(\u001b[38;5;28;43mself\u001b[39;49m\u001b[38;5;241;43m.\u001b[39;49m\u001b[43membed\u001b[49m\u001b[43m(\u001b[49m\u001b[43mtokens\u001b[49m\u001b[43m)\u001b[49m)  \u001b[38;5;66;03m# [batch, pos, d_model]\u001b[39;00m\n\u001b[1;32m    331\u001b[0m \u001b[38;5;28;01mif\u001b[39;00m \u001b[38;5;28mself\u001b[39m\u001b[38;5;241m.\u001b[39mcfg\u001b[38;5;241m.\u001b[39mpositional_embedding_type \u001b[38;5;241m==\u001b[39m \u001b[38;5;124m\"\u001b[39m\u001b[38;5;124mstandard\u001b[39m\u001b[38;5;124m\"\u001b[39m:\n\u001b[1;32m    332\u001b[0m     pos_embed \u001b[38;5;241m=\u001b[39m \u001b[38;5;28mself\u001b[39m\u001b[38;5;241m.\u001b[39mhook_pos_embed(\n\u001b[1;32m    333\u001b[0m         \u001b[38;5;28mself\u001b[39m\u001b[38;5;241m.\u001b[39mpos_embed(tokens, pos_offset, attention_mask)\n\u001b[1;32m    334\u001b[0m     )  \u001b[38;5;66;03m# [batch, pos, d_model]\u001b[39;00m\n",
      "File \u001b[0;32m/usr/local/lib/python3.10/dist-packages/torch/nn/modules/module.py:1501\u001b[0m, in \u001b[0;36mModule._call_impl\u001b[0;34m(self, *args, **kwargs)\u001b[0m\n\u001b[1;32m   1496\u001b[0m \u001b[38;5;66;03m# If we don't have any hooks, we want to skip the rest of the logic in\u001b[39;00m\n\u001b[1;32m   1497\u001b[0m \u001b[38;5;66;03m# this function, and just call forward.\u001b[39;00m\n\u001b[1;32m   1498\u001b[0m \u001b[38;5;28;01mif\u001b[39;00m \u001b[38;5;129;01mnot\u001b[39;00m (\u001b[38;5;28mself\u001b[39m\u001b[38;5;241m.\u001b[39m_backward_hooks \u001b[38;5;129;01mor\u001b[39;00m \u001b[38;5;28mself\u001b[39m\u001b[38;5;241m.\u001b[39m_backward_pre_hooks \u001b[38;5;129;01mor\u001b[39;00m \u001b[38;5;28mself\u001b[39m\u001b[38;5;241m.\u001b[39m_forward_hooks \u001b[38;5;129;01mor\u001b[39;00m \u001b[38;5;28mself\u001b[39m\u001b[38;5;241m.\u001b[39m_forward_pre_hooks\n\u001b[1;32m   1499\u001b[0m         \u001b[38;5;129;01mor\u001b[39;00m _global_backward_pre_hooks \u001b[38;5;129;01mor\u001b[39;00m _global_backward_hooks\n\u001b[1;32m   1500\u001b[0m         \u001b[38;5;129;01mor\u001b[39;00m _global_forward_hooks \u001b[38;5;129;01mor\u001b[39;00m _global_forward_pre_hooks):\n\u001b[0;32m-> 1501\u001b[0m     \u001b[38;5;28;01mreturn\u001b[39;00m \u001b[43mforward_call\u001b[49m\u001b[43m(\u001b[49m\u001b[38;5;241;43m*\u001b[39;49m\u001b[43margs\u001b[49m\u001b[43m,\u001b[49m\u001b[43m \u001b[49m\u001b[38;5;241;43m*\u001b[39;49m\u001b[38;5;241;43m*\u001b[39;49m\u001b[43mkwargs\u001b[49m\u001b[43m)\u001b[49m\n\u001b[1;32m   1502\u001b[0m \u001b[38;5;66;03m# Do not call functions when jit is used\u001b[39;00m\n\u001b[1;32m   1503\u001b[0m full_backward_hooks, non_full_backward_hooks \u001b[38;5;241m=\u001b[39m [], []\n",
      "File \u001b[0;32m/usr/local/lib/python3.10/dist-packages/transformer_lens/components.py:60\u001b[0m, in \u001b[0;36mEmbed.forward\u001b[0;34m(self, tokens)\u001b[0m\n\u001b[1;32m     58\u001b[0m \u001b[38;5;28;01mif\u001b[39;00m \u001b[38;5;28mself\u001b[39m\u001b[38;5;241m.\u001b[39mcfg\u001b[38;5;241m.\u001b[39mpost_embedding_ln:\n\u001b[1;32m     59\u001b[0m     \u001b[38;5;28;01mreturn\u001b[39;00m \u001b[38;5;28mself\u001b[39m\u001b[38;5;241m.\u001b[39mln(\u001b[38;5;28mself\u001b[39m\u001b[38;5;241m.\u001b[39mW_E[tokens, :])\n\u001b[0;32m---> 60\u001b[0m \u001b[38;5;28;01mreturn\u001b[39;00m \u001b[38;5;28;43mself\u001b[39;49m\u001b[38;5;241;43m.\u001b[39;49m\u001b[43mW_E\u001b[49m\u001b[43m[\u001b[49m\u001b[43mtokens\u001b[49m\u001b[43m,\u001b[49m\u001b[43m \u001b[49m\u001b[43m:\u001b[49m\u001b[43m]\u001b[49m\n",
      "\u001b[0;31mIndexError\u001b[0m: tensors used as indices must be long, int, byte or bool tensors"
     ]
    }
   ],
   "source": [
    "# IG\n",
    "from functools import partial\n",
    "\n",
    "# Generate baseline\n",
    "baseline_tokens = torch.zeros_like(tokens)\n",
    "\n",
    "# Interpolate between baseline and actual tokens\n",
    "interpolated_inputs = interpolate(tokens, baseline_tokens, steps=50)\n",
    "\n",
    "# Container for accumulated gradients\n",
    "accumulated_grads = []\n",
    "\n",
    "for interp_tokens in interpolated_inputs:\n",
    "    # Run model forward with hooks\n",
    "    out = model.run_with_hooks(\n",
    "                interp_tokens,\n",
    "                fwd_hooks=[\n",
    "                    (\n",
    "                        utils.get_act_name(component, layer_id),\n",
    "                        partial(reconstr_hook, sae=saes[layer_id]),\n",
    "                    ) for layer_id in range(model.cfg.n_layers)\n",
    "                ]\n",
    "            ).log_softmax(-1)\n",
    "    \n",
    "    # Target token\n",
    "    ans = model.to_single_token('Mary')\n",
    "    loss = -out[0, -1, ans]  # Assuming scalar output for simplification\n",
    "\n",
    "    # Backward to get gradients on interpolated inputs\n",
    "    loss.backward()\n",
    "\n",
    "    # Collect gradients from SAE features\n",
    "    for name in sae_cache:\n",
    "        if sae_cache[name].grad is not None:\n",
    "            if name not in accumulated_grads:\n",
    "                accumulated_grads[name] = []\n",
    "            accumulated_grads[name].append(sae_cache[name].grad.clone())\n",
    "\n",
    "    # Zero all gradients for the next iteration\n",
    "    model.zero_grad()\n",
    "\n",
    "# Average the gradients across all steps\n",
    "integrated_gradients = {name: torch.stack(grads).mean(0) * (tokens - baseline_tokens) for name, grads in accumulated_grads.items()}\n"
   ]
  },
  {
   "cell_type": "code",
   "execution_count": 23,
   "metadata": {},
   "outputs": [],
   "source": [
    "json_text = \"\"\"{\n",
    "    \"question\": \"What's the capital of France?\",\n",
    "    \"answer\": Paris\n",
    "    }\"\"\"\n",
    "\n",
    "non_json_text = [\n",
    "    \"\"\"What's the capital of France?\n",
    "Paris\"\"\",\n",
    "    \"\"\"These are the things I love:\n",
    "1. Food,\n",
    "2. Sea,\n",
    "3. Friends\"\"\",\n",
    "    \"\"\"An old man once told me: \"You will succeed in life\".\n",
    "I hope him to be true.\"\"\"\n",
    "]"
   ]
  },
  {
   "cell_type": "code",
   "execution_count": 7,
   "metadata": {},
   "outputs": [],
   "source": [
    "features_dict = {l: [] for l in range(model.cfg.n_layers)}\n",
    "\n",
    "with open(\"json_features.txt\", \"r\") as f:\n",
    "    features = f.readlines()\n",
    "\n",
    "for f in features:\n",
    "    f = f.strip().split('-')\n",
    "    layer = int(f[0])\n",
    "    features_dict[layer].append(f[1])"
   ]
  },
  {
   "cell_type": "code",
   "execution_count": 26,
   "metadata": {},
   "outputs": [],
   "source": [
    "features_act_dict = {\n",
    "    'L': [],\n",
    "    'N': [],\n",
    "    'JSON Activation': [],\n",
    "    'Non-JSON Activation': []\n",
    "}\n",
    "\n",
    "with torch.no_grad():\n",
    "    _, json_cache = model.run_with_cache(model.to_tokens(json_text))\n",
    "    _, non_json_cache = model.run_with_cache(model.to_tokens(non_json_text[2]))\n",
    "\n",
    "for l in range(model.cfg.n_layers):\n",
    "    json_activations = json_cache[f'blocks.{l}.hook_resid_pre'] # [1 p dm]\n",
    "    non_json_activations = non_json_cache[f'blocks.{l}.hook_resid_pre'] # [1 p dm]\n",
    "\n",
    "    with torch.no_grad():\n",
    "        _, json_features_act, *_ = saes[l](json_activations)\n",
    "        _, non_json_features_act, *_ = saes[l](non_json_activations)\n",
    "\n",
    "    for f in features_dict[l]:\n",
    "        f = int(f)\n",
    "        features_act_dict['L'].append(l)\n",
    "        features_act_dict['N'].append(f)\n",
    "        val, ix = json_features_act[0, :, f].max(0)\n",
    "        features_act_dict['JSON Activation'].append([val.item(), ix.item()])\n",
    "        val, ix = non_json_features_act[0, :, f].max(0)\n",
    "        features_act_dict['Non-JSON Activation'].append([val.item(), ix.item()])        "
   ]
  },
  {
   "cell_type": "code",
   "execution_count": 27,
   "metadata": {},
   "outputs": [
    {
     "data": {
      "text/html": [
       "<div>\n",
       "<style scoped>\n",
       "    .dataframe tbody tr th:only-of-type {\n",
       "        vertical-align: middle;\n",
       "    }\n",
       "\n",
       "    .dataframe tbody tr th {\n",
       "        vertical-align: top;\n",
       "    }\n",
       "\n",
       "    .dataframe thead th {\n",
       "        text-align: right;\n",
       "    }\n",
       "</style>\n",
       "<table border=\"1\" class=\"dataframe\">\n",
       "  <thead>\n",
       "    <tr style=\"text-align: right;\">\n",
       "      <th></th>\n",
       "      <th>L</th>\n",
       "      <th>N</th>\n",
       "      <th>JSON Activation</th>\n",
       "      <th>Non-JSON Activation</th>\n",
       "    </tr>\n",
       "  </thead>\n",
       "  <tbody>\n",
       "    <tr>\n",
       "      <th>0</th>\n",
       "      <td>0</td>\n",
       "      <td>23622</td>\n",
       "      <td>[0.0, 0]</td>\n",
       "      <td>[0.0, 0]</td>\n",
       "    </tr>\n",
       "    <tr>\n",
       "      <th>1</th>\n",
       "      <td>1</td>\n",
       "      <td>5310</td>\n",
       "      <td>[20.185184478759766, 8]</td>\n",
       "      <td>[0.0, 0]</td>\n",
       "    </tr>\n",
       "    <tr>\n",
       "      <th>2</th>\n",
       "      <td>2</td>\n",
       "      <td>10521</td>\n",
       "      <td>[25.650108337402344, 8]</td>\n",
       "      <td>[0.0, 0]</td>\n",
       "    </tr>\n",
       "    <tr>\n",
       "      <th>3</th>\n",
       "      <td>4</td>\n",
       "      <td>21672</td>\n",
       "      <td>[3.7655177116394043, 9]</td>\n",
       "      <td>[0.0, 0]</td>\n",
       "    </tr>\n",
       "    <tr>\n",
       "      <th>4</th>\n",
       "      <td>4</td>\n",
       "      <td>8148</td>\n",
       "      <td>[1.687551736831665, 18]</td>\n",
       "      <td>[0.0, 0]</td>\n",
       "    </tr>\n",
       "    <tr>\n",
       "      <th>5</th>\n",
       "      <td>6</td>\n",
       "      <td>5682</td>\n",
       "      <td>[24.25801658630371, 23]</td>\n",
       "      <td>[0.0, 0]</td>\n",
       "    </tr>\n",
       "    <tr>\n",
       "      <th>6</th>\n",
       "      <td>6</td>\n",
       "      <td>3596</td>\n",
       "      <td>[21.313154220581055, 2]</td>\n",
       "      <td>[0.0, 0]</td>\n",
       "    </tr>\n",
       "    <tr>\n",
       "      <th>7</th>\n",
       "      <td>6</td>\n",
       "      <td>13428</td>\n",
       "      <td>[0.9894517660140991, 8]</td>\n",
       "      <td>[0.0, 0]</td>\n",
       "    </tr>\n",
       "    <tr>\n",
       "      <th>8</th>\n",
       "      <td>6</td>\n",
       "      <td>2164</td>\n",
       "      <td>[0.0, 0]</td>\n",
       "      <td>[0.0, 0]</td>\n",
       "    </tr>\n",
       "    <tr>\n",
       "      <th>9</th>\n",
       "      <td>7</td>\n",
       "      <td>20690</td>\n",
       "      <td>[25.253623962402344, 23]</td>\n",
       "      <td>[0.0, 0]</td>\n",
       "    </tr>\n",
       "    <tr>\n",
       "      <th>10</th>\n",
       "      <td>7</td>\n",
       "      <td>8693</td>\n",
       "      <td>[2.6024036407470703, 6]</td>\n",
       "      <td>[0.0, 0]</td>\n",
       "    </tr>\n",
       "    <tr>\n",
       "      <th>11</th>\n",
       "      <td>8</td>\n",
       "      <td>2568</td>\n",
       "      <td>[31.663217544555664, 23]</td>\n",
       "      <td>[0.0, 0]</td>\n",
       "    </tr>\n",
       "    <tr>\n",
       "      <th>12</th>\n",
       "      <td>8</td>\n",
       "      <td>21507</td>\n",
       "      <td>[0.7290031313896179, 6]</td>\n",
       "      <td>[0.0, 0]</td>\n",
       "    </tr>\n",
       "    <tr>\n",
       "      <th>13</th>\n",
       "      <td>8</td>\n",
       "      <td>19802</td>\n",
       "      <td>[0.0, 0]</td>\n",
       "      <td>[0.0, 0]</td>\n",
       "    </tr>\n",
       "    <tr>\n",
       "      <th>14</th>\n",
       "      <td>9</td>\n",
       "      <td>80</td>\n",
       "      <td>[32.37556457519531, 23]</td>\n",
       "      <td>[0.0, 0]</td>\n",
       "    </tr>\n",
       "    <tr>\n",
       "      <th>15</th>\n",
       "      <td>9</td>\n",
       "      <td>5486</td>\n",
       "      <td>[7.141540050506592, 16]</td>\n",
       "      <td>[0.0, 0]</td>\n",
       "    </tr>\n",
       "    <tr>\n",
       "      <th>16</th>\n",
       "      <td>10</td>\n",
       "      <td>10955</td>\n",
       "      <td>[37.13043975830078, 23]</td>\n",
       "      <td>[0.0, 0]</td>\n",
       "    </tr>\n",
       "    <tr>\n",
       "      <th>17</th>\n",
       "      <td>10</td>\n",
       "      <td>20084</td>\n",
       "      <td>[10.953446388244629, 21]</td>\n",
       "      <td>[0.0, 0]</td>\n",
       "    </tr>\n",
       "    <tr>\n",
       "      <th>18</th>\n",
       "      <td>11</td>\n",
       "      <td>13988</td>\n",
       "      <td>[41.046669006347656, 23]</td>\n",
       "      <td>[0.0, 0]</td>\n",
       "    </tr>\n",
       "    <tr>\n",
       "      <th>19</th>\n",
       "      <td>11</td>\n",
       "      <td>17223</td>\n",
       "      <td>[19.30836296081543, 6]</td>\n",
       "      <td>[0.0, 0]</td>\n",
       "    </tr>\n",
       "    <tr>\n",
       "      <th>20</th>\n",
       "      <td>11</td>\n",
       "      <td>5989</td>\n",
       "      <td>[57.765098571777344, 1]</td>\n",
       "      <td>[0.0, 0]</td>\n",
       "    </tr>\n",
       "  </tbody>\n",
       "</table>\n",
       "</div>"
      ],
      "text/plain": [
       "     L      N           JSON Activation Non-JSON Activation\n",
       "0    0  23622                  [0.0, 0]            [0.0, 0]\n",
       "1    1   5310   [20.185184478759766, 8]            [0.0, 0]\n",
       "2    2  10521   [25.650108337402344, 8]            [0.0, 0]\n",
       "3    4  21672   [3.7655177116394043, 9]            [0.0, 0]\n",
       "4    4   8148   [1.687551736831665, 18]            [0.0, 0]\n",
       "5    6   5682   [24.25801658630371, 23]            [0.0, 0]\n",
       "6    6   3596   [21.313154220581055, 2]            [0.0, 0]\n",
       "7    6  13428   [0.9894517660140991, 8]            [0.0, 0]\n",
       "8    6   2164                  [0.0, 0]            [0.0, 0]\n",
       "9    7  20690  [25.253623962402344, 23]            [0.0, 0]\n",
       "10   7   8693   [2.6024036407470703, 6]            [0.0, 0]\n",
       "11   8   2568  [31.663217544555664, 23]            [0.0, 0]\n",
       "12   8  21507   [0.7290031313896179, 6]            [0.0, 0]\n",
       "13   8  19802                  [0.0, 0]            [0.0, 0]\n",
       "14   9     80   [32.37556457519531, 23]            [0.0, 0]\n",
       "15   9   5486   [7.141540050506592, 16]            [0.0, 0]\n",
       "16  10  10955   [37.13043975830078, 23]            [0.0, 0]\n",
       "17  10  20084  [10.953446388244629, 21]            [0.0, 0]\n",
       "18  11  13988  [41.046669006347656, 23]            [0.0, 0]\n",
       "19  11  17223    [19.30836296081543, 6]            [0.0, 0]\n",
       "20  11   5989   [57.765098571777344, 1]            [0.0, 0]"
      ]
     },
     "execution_count": 27,
     "metadata": {},
     "output_type": "execute_result"
    }
   ],
   "source": [
    "import pandas as pd\n",
    "\n",
    "pd.DataFrame(features_act_dict)"
   ]
  },
  {
   "cell_type": "code",
   "execution_count": 21,
   "metadata": {},
   "outputs": [
    {
     "data": {
      "text/plain": [
       "[(0, '<|endoftext|>'),\n",
       " (1, '{'),\n",
       " (2, '\\n'),\n",
       " (3, ' '),\n",
       " (4, ' '),\n",
       " (5, ' '),\n",
       " (6, ' \"'),\n",
       " (7, 'question'),\n",
       " (8, '\":'),\n",
       " (9, ' \"'),\n",
       " (10, 'What'),\n",
       " (11, \"'s\"),\n",
       " (12, ' the'),\n",
       " (13, ' capital'),\n",
       " (14, ' of'),\n",
       " (15, ' France'),\n",
       " (16, '?\",'),\n",
       " (17, '\\n'),\n",
       " (18, ' '),\n",
       " (19, ' '),\n",
       " (20, ' '),\n",
       " (21, ' \"'),\n",
       " (22, 'answer'),\n",
       " (23, '\":'),\n",
       " (24, ' Paris'),\n",
       " (25, '\\n'),\n",
       " (26, ' '),\n",
       " (27, ' '),\n",
       " (28, ' '),\n",
       " (29, ' }')]"
      ]
     },
     "execution_count": 21,
     "metadata": {},
     "output_type": "execute_result"
    }
   ],
   "source": [
    "list(enumerate(model.to_str_tokens(json_text)))"
   ]
  },
  {
   "cell_type": "markdown",
   "metadata": {},
   "source": [
    "## Sentiment Analysis"
   ]
  },
  {
   "cell_type": "markdown",
   "metadata": {},
   "source": [
    "### Baseline"
   ]
  },
  {
   "cell_type": "code",
   "execution_count": null,
   "metadata": {},
   "outputs": [],
   "source": []
  },
  {
   "cell_type": "code",
   "execution_count": null,
   "metadata": {},
   "outputs": [],
   "source": []
  }
 ],
 "metadata": {
  "kernelspec": {
   "display_name": "mats-interp",
   "language": "python",
   "name": "myenv"
  },
  "language_info": {
   "codemirror_mode": {
    "name": "ipython",
    "version": 3
   },
   "file_extension": ".py",
   "mimetype": "text/x-python",
   "name": "python",
   "nbconvert_exporter": "python",
   "pygments_lexer": "ipython3",
   "version": "3.10.12"
  }
 },
 "nbformat": 4,
 "nbformat_minor": 4
}
