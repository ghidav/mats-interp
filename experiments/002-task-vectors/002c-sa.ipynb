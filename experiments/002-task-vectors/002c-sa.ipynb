{
 "cells": [
  {
   "cell_type": "markdown",
   "id": "385ec6af-e3ab-48ed-a305-fa4d026bdc3c",
   "metadata": {},
   "source": [
    "# Sentiment Analysis"
   ]
  },
  {
   "cell_type": "code",
   "execution_count": 1,
   "id": "36174ee8-9ada-4b35-92a1-0bc72e25dd94",
   "metadata": {},
   "outputs": [
    {
     "name": "stdout",
     "output_type": "stream",
     "text": [
      "Device: cuda\n"
     ]
    },
    {
     "data": {
      "text/html": [
       "        <script type=\"text/javascript\">\n",
       "        window.PlotlyConfig = {MathJaxConfig: 'local'};\n",
       "        if (window.MathJax && window.MathJax.Hub && window.MathJax.Hub.Config) {window.MathJax.Hub.Config({SVG: {font: \"STIX-Web\"}});}\n",
       "        if (typeof require !== 'undefined') {\n",
       "        require.undef(\"plotly\");\n",
       "        requirejs.config({\n",
       "            paths: {\n",
       "                'plotly': ['https://cdn.plot.ly/plotly-2.32.0.min']\n",
       "            }\n",
       "        });\n",
       "        require(['plotly'], function(Plotly) {\n",
       "            window._Plotly = Plotly;\n",
       "        });\n",
       "        }\n",
       "        </script>\n",
       "        "
      ]
     },
     "metadata": {},
     "output_type": "display_data"
    }
   ],
   "source": [
    "import os\n",
    "os.environ['HF_HOME'] = '/workspace/huggingface'\n",
    "\n",
    "from transformer_lens import HookedTransformer, ActivationCache, utils\n",
    "import torch\n",
    "\n",
    "if torch.backends.mps.is_available():\n",
    "    device = \"mps\"\n",
    "else:\n",
    "    device = \"cuda\" if torch.cuda.is_available() else \"cpu\"\n",
    "\n",
    "print(f\"Device: {device}\")\n",
    "\n",
    "import plotly.graph_objects as go\n",
    "from plotly.offline import init_notebook_mode, iplot\n",
    "import numpy as np\n",
    "import pandas as pd\n",
    "from tqdm import tqdm\n",
    "import matplotlib.pyplot as plt\n",
    "import seaborn as sns\n",
    "from functools import partial\n",
    "tqdm.pandas()\n",
    "\n",
    "init_notebook_mode(connected=True)"
   ]
  },
  {
   "cell_type": "markdown",
   "id": "9082fcbc-dd89-49e9-b1d8-46c38d7fec9a",
   "metadata": {},
   "source": [
    "### Dataset preparation"
   ]
  },
  {
   "cell_type": "code",
   "execution_count": null,
   "id": "61b8797a-88d5-4336-ac0a-bb537747def5",
   "metadata": {},
   "outputs": [],
   "source": [
    "from datasets import load_dataset\n",
    "from openai import OpenAI\n",
    "\n",
    "llm = OpenAI(\n",
    "           base_url = \"https://api.endpoints.anyscale.com/v1\",\n",
    "           api_key=os.environ['ANYSCALE_API_KEY'],\n",
    "        )"
   ]
  },
  {
   "cell_type": "code",
   "execution_count": null,
   "id": "cfab74b7-232f-4912-b835-0a0f49132e29",
   "metadata": {},
   "outputs": [],
   "source": [
    "imdb = load_dataset('stanfordnlp/imdb')"
   ]
  },
  {
   "cell_type": "code",
   "execution_count": null,
   "id": "810e7470-045a-4072-b883-5048ae4da792",
   "metadata": {},
   "outputs": [],
   "source": [
    "import re\n",
    "import json\n",
    "\n",
    "def summarize(prompt, max_new_tokens=256):\n",
    "    try:\n",
    "        response = llm.chat.completions.create(\n",
    "                    model = \"meta-llama/Meta-Llama-3-70B-Instruct\",\n",
    "                    messages = [\n",
    "                            {'role': 'user', 'content': f\"Rewrite the following text in one sentence. Output only a single json file with a single field 'new_text'.\\n{prompt}\"},\n",
    "                        ],\n",
    "                    temperature=1,\n",
    "                    max_tokens=max_new_tokens,\n",
    "                )\n",
    "                \n",
    "        out = response.choices[0].message.content\n",
    "\n",
    "        json_pattern = r\"{.*?}\"\n",
    "\n",
    "        # Find all occurrences of JSON in the text\n",
    "        match = re.findall(json_pattern, out)[0]\n",
    "        json_data = json.loads(match)\n",
    "        new_text = json_data[\"new_text\"]\n",
    "\n",
    "        return new_text\n",
    "    except Exception as e:\n",
    "        return out"
   ]
  },
  {
   "cell_type": "code",
   "execution_count": null,
   "id": "fa304058-af74-42df-b4e8-3a2d6ecc6dbc",
   "metadata": {},
   "outputs": [],
   "source": [
    "df = pd.DataFrame(imdb['train']).groupby('label').sample(250, random_state=42)\n",
    "df['summary'] = df['text'].progress_apply(summarize)"
   ]
  },
  {
   "cell_type": "markdown",
   "id": "60030238-5fcd-4004-a57b-6dd768545e9c",
   "metadata": {},
   "source": [
    "### Data and model loading"
   ]
  },
  {
   "cell_type": "code",
   "execution_count": 2,
   "id": "bcc1ddcd-da43-4d43-a307-dc3887b3e19e",
   "metadata": {},
   "outputs": [
    {
     "data": {
      "text/plain": [
       "(200, 100, 200)"
      ]
     },
     "execution_count": 2,
     "metadata": {},
     "output_type": "execute_result"
    }
   ],
   "source": [
    "df = pd.read_csv(\"imdb.csv\")\n",
    "\n",
    "train = pd.concat([\n",
    "    df.iloc[:100],\n",
    "    df.iloc[250:350],\n",
    "], axis=0)\n",
    "\n",
    "val = pd.concat([\n",
    "    df.iloc[100:150],\n",
    "    df.iloc[350:400],\n",
    "], axis=0)\n",
    "\n",
    "test = pd.concat([\n",
    "    df.iloc[150:250],\n",
    "    df.iloc[400:500],\n",
    "], axis=0)\n",
    "\n",
    "len(train), len(val), len(test)"
   ]
  },
  {
   "cell_type": "code",
   "execution_count": 3,
   "id": "263530bb-8c2c-49dc-abf3-c7638bf74dba",
   "metadata": {},
   "outputs": [
    {
     "name": "stderr",
     "output_type": "stream",
     "text": [
      "`config.hidden_act` is ignored, you should use `config.hidden_activation` instead.\n",
      "Gemma's activation function will be set to `gelu_pytorch_tanh`. Please, use\n",
      "`config.hidden_activation` if you want to override this behaviour.\n",
      "See https://github.com/huggingface/transformers/pull/29402 for more details.\n"
     ]
    },
    {
     "data": {
      "application/vnd.jupyter.widget-view+json": {
       "model_id": "2b215623b9f94e3d9de8caee941f800a",
       "version_major": 2,
       "version_minor": 0
      },
      "text/plain": [
       "Loading checkpoint shards:   0%|          | 0/2 [00:00<?, ?it/s]"
      ]
     },
     "metadata": {},
     "output_type": "display_data"
    },
    {
     "name": "stderr",
     "output_type": "stream",
     "text": [
      "WARNING:root:You are not using LayerNorm, so the writing weights can't be centered! Skipping\n"
     ]
    },
    {
     "name": "stdout",
     "output_type": "stream",
     "text": [
      "Loaded pretrained model gemma-2b into HookedTransformer\n"
     ]
    }
   ],
   "source": [
    "model = HookedTransformer.from_pretrained('gemma-2b')\n",
    "\n",
    "model.eval()\n",
    "model.set_use_attn_result(True)\n",
    "model.set_use_attn_in(True)\n",
    "model.set_use_hook_mlp_in(True)\n",
    "model.set_use_split_qkv_input(True)"
   ]
  },
  {
   "cell_type": "markdown",
   "id": "eb662c1e-8d8c-47f7-a90f-caf42bf22ad3",
   "metadata": {},
   "source": [
    "### Baseline"
   ]
  },
  {
   "cell_type": "code",
   "execution_count": 4,
   "id": "d3c2b861-0909-4ece-b725-e69984971dff",
   "metadata": {},
   "outputs": [
    {
     "data": {
      "text/plain": [
       "(200, 2)"
      ]
     },
     "execution_count": 4,
     "metadata": {},
     "output_type": "execute_result"
    }
   ],
   "source": [
    "n_shots = 2\n",
    "\n",
    "shots = pd.concat([\n",
    "    val.iloc[:n_shots//2],\n",
    "    val.iloc[50:50+n_shots//2],\n",
    "], axis=0)\n",
    "\n",
    "len(train), len(shots)"
   ]
  },
  {
   "cell_type": "code",
   "execution_count": 5,
   "id": "4cfe0a96-56b8-442f-a812-be388cb824bd",
   "metadata": {},
   "outputs": [],
   "source": [
    "import random\n",
    "\n",
    "map = {\n",
    "    1: 'positive',\n",
    "    0: 'negative'\n",
    "}\n",
    "\n",
    "def generate_prompt(x, shots):\n",
    "    prompt = \"\"\n",
    "\n",
    "    for i in random.sample(range(n_shots), n_shots):\n",
    "        shot = shots.iloc[i]\n",
    "        prompt += f\"{shot['summary']} | {map[shot['label']]}\\n\\n\"\n",
    "\n",
    "    prompt += x + \" |\"\n",
    "    return prompt"
   ]
  },
  {
   "cell_type": "code",
   "execution_count": null,
   "id": "64e9a101-de8c-4248-8d3a-e9d74b6485e5",
   "metadata": {},
   "outputs": [],
   "source": [
    "tokens = [model.to_single_token(tok) for tok in [' positive', ' negative']]\n",
    "preds = []\n",
    "for i in tqdm(range(len(train))):\n",
    "    x = test.iloc[i]\n",
    "    prompt = generate_prompt(x['summary'], shots)\n",
    "    \n",
    "    with torch.no_grad():\n",
    "        proba = model(model.to_tokens(prompt)).softmax(-1)\n",
    "\n",
    "    preds.append(proba[0, -1, tokens].tolist())\n",
    "\n",
    "preds = np.array(preds)\n",
    "train['pred_positive'] = preds[:, 0]\n",
    "train['pred_negative'] = preds[:, 1]"
   ]
  },
  {
   "cell_type": "code",
   "execution_count": null,
   "id": "ee909a16-6195-45df-bea2-01e3193faac7",
   "metadata": {},
   "outputs": [],
   "source": [
    "train['pred'] = train.apply(lambda x: 1 if x['pred_positive'] > x['pred_negative'] else 0, axis=1)\n",
    "train['correct'] = train['label'] == train['pred']"
   ]
  },
  {
   "cell_type": "code",
   "execution_count": null,
   "id": "8ecd5a93-7e8c-4e17-8cda-e7fda91d1ae9",
   "metadata": {},
   "outputs": [],
   "source": [
    "train.groupby('label')['correct'].mean()"
   ]
  },
  {
   "cell_type": "code",
   "execution_count": null,
   "id": "7cdb87dc-da16-442a-827d-3f06a74337ac",
   "metadata": {},
   "outputs": [],
   "source": [
    "results_df = pd.DataFrame({\n",
    "    'shots': [2, 4, 6, 8, 10],\n",
    "    'pos_score': [0.97, 0.96, 0.94, 0.94, 0.94],\n",
    "    'neg_score': [0.93, 0.93, 0.97, 0.96, 0.94]\n",
    "})\n",
    "\n",
    "sns.lineplot(\n",
    "    results_df.melt(id_vars='shots', var_name='score'),\n",
    "    x='shots', y='value', hue='score'\n",
    ")"
   ]
  },
  {
   "cell_type": "markdown",
   "id": "390bd48c-2a27-4199-be63-9c14cecfce6d",
   "metadata": {},
   "source": [
    "## Attribution Pathcing "
   ]
  },
  {
   "cell_type": "code",
   "execution_count": 7,
   "id": "3828596a-e62c-475a-939d-791848e5d676",
   "metadata": {},
   "outputs": [],
   "source": [
    "def get_cache_fwd_and_bwd(tokens, ans_clean, ans_corr=None):\n",
    "        filter_not_qkv_input = lambda name: \"_input\" not in name\n",
    "        model.reset_hooks()\n",
    "        cache = {}\n",
    "\n",
    "        def forward_cache_hook(act, hook):\n",
    "            cache[hook.name] = act.detach()\n",
    "\n",
    "        model.add_hook(filter_not_qkv_input, forward_cache_hook, \"fwd\")\n",
    "\n",
    "        grad_cache = {}\n",
    "\n",
    "        def backward_cache_hook(act, hook):\n",
    "            grad_cache[hook.name] = act.detach()\n",
    "\n",
    "        model.add_hook(filter_not_qkv_input, backward_cache_hook, \"bwd\")\n",
    "\n",
    "        logits = model(tokens)\n",
    "        value = logits[:, -1, ans_clean]\n",
    "        if ans_corr is not None:\n",
    "            value -= logits[:, -1, ans_corr]\n",
    "        value.backward()\n",
    "        model.reset_hooks()\n",
    "        return (\n",
    "            value.item(),\n",
    "            ActivationCache(cache, model),\n",
    "            ActivationCache(grad_cache, model),\n",
    "        )"
   ]
  },
  {
   "cell_type": "code",
   "execution_count": 10,
   "id": "9d794541-29bd-4855-9998-85ed6aaeda2d",
   "metadata": {},
   "outputs": [
    {
     "name": "stderr",
     "output_type": "stream",
     "text": [
      "100%|██████████| 200/200 [01:12<00:00,  2.75it/s]\n"
     ]
    }
   ],
   "source": [
    "import einops\n",
    "\n",
    "ans_tokens = [model.to_single_token(tok) for tok in [' negative', ' positive']]\n",
    "attn_patches = []\n",
    "mlp_patches = []\n",
    "\n",
    "for i in tqdm(range(len(train))):\n",
    "    x = test.iloc[i]\n",
    "    \n",
    "    y = x.label\n",
    "    a_clean = ans_tokens[y]\n",
    "    a_corr = ans_tokens[1 - y]\n",
    "    \n",
    "    prompt = generate_prompt(x['summary'], shots)\n",
    "\n",
    "    #\n",
    "    _, cache, grad_cache = get_cache_fwd_and_bwd(model.to_tokens(prompt), a_clean, a_corr)\n",
    "\n",
    "    attn_act = cache.stack_head_results(-1)\n",
    "    attn_grad_act = grad_cache.stack_head_results(-1)\n",
    "\n",
    "    mlp_act = cache.stack_activation('mlp_out')\n",
    "    mlp_grad_act = grad_cache.stack_activation('mlp_out')\n",
    "\n",
    "    attn_patches.append(einops.reduce(\n",
    "                attn_grad_act *  attn_act,\n",
    "                \"component batch pos d_model -> component pos\",\n",
    "                \"sum\",\n",
    "        )[:, -1])\n",
    "\n",
    "    mlp_patches.append(einops.reduce(\n",
    "                mlp_grad_act *  mlp_act,\n",
    "                \"component batch pos d_model -> component pos\",\n",
    "                \"sum\",\n",
    "        )[:, -1])\n",
    "\n",
    "attn_patches = torch.stack(attn_patches).mean(0)\n",
    "mlp_patches = torch.stack(mlp_patches).mean(0)\n",
    "\n",
    "attn_patch = attn_patches.reshape(model.cfg.n_layers, -1).detach().cpu()\n",
    "mlp_patch = mlp_patches.reshape(model.cfg.n_layers, -1).detach().cpu()"
   ]
  },
  {
   "cell_type": "code",
   "execution_count": 12,
   "id": "465dd47a-4d75-4adb-9564-025353155c29",
   "metadata": {},
   "outputs": [],
   "source": [
    "import plotly.express as px\n",
    "from plotly.subplots import make_subplots\n",
    "import plotly.graph_objects as go\n",
    "\n",
    "xs = [f\"L{l}\" for l in range(model.cfg.n_layers)]\n",
    "ys = [f\"H{h}\" for h in range(model.cfg.n_heads)]\n",
    "\n",
    "# Create a subplot with 1 row and 2 columns\n",
    "fig = make_subplots(rows=1, cols=2, subplot_titles=(\"Attention\", \"MLP\"))\n",
    "\n",
    "# First imshow plot\n",
    "fig1 = px.imshow(attn_patch, zmin=-1, zmax=1, color_continuous_scale='RdBu')\n",
    "fig1.update_layout(\n",
    "    yaxis=dict(\n",
    "        tickmode='array',\n",
    "        tickvals=list(range(len(xs))),\n",
    "        ticktext=xs\n",
    "    ),\n",
    "    xaxis=dict(\n",
    "        tickmode='array',\n",
    "        tickvals=list(range(len(ys))),\n",
    "        ticktext=ys\n",
    "    )\n",
    ")\n",
    "\n",
    "# Second imshow plot\n",
    "fig2 = px.imshow(mlp_patch, zmin=-1, zmax=1, color_continuous_scale='RdBu')\n",
    "fig2.update_layout(\n",
    "    yaxis=dict(\n",
    "        tickmode='array',\n",
    "        tickvals=list(range(len(xs))),\n",
    "        ticktext=xs\n",
    "    ),\n",
    "    xaxis=dict(\n",
    "        tickmode='array',\n",
    "        tickvals=list(range(len(ys))),\n",
    "        ticktext=ys\n",
    "    )\n",
    ")\n",
    "\n",
    "\n",
    "for trace in fig1.data:\n",
    "    fig.add_trace(trace, row=1, col=1)\n",
    "\n",
    "for trace in fig2.data:\n",
    "    fig.add_trace(trace, row=1, col=2)\n",
    "\n",
    "# Update layout\n",
    "fig.update_layout(\n",
    "    height=800,\n",
    "    showlegend=False\n",
    ")\n",
    "\n",
    "fig.write_html('patch.html')"
   ]
  },
  {
   "cell_type": "markdown",
   "id": "57dca5b2-dc55-43e7-a9f6-f2378036a725",
   "metadata": {},
   "source": [
    "### Heads Boost"
   ]
  },
  {
   "cell_type": "code",
   "execution_count": 23,
   "id": "5d49943a-2d66-4ef8-a8ee-337d083578ca",
   "metadata": {},
   "outputs": [],
   "source": [
    "def head_modifier_hook(x, hook, lam):\n",
    "    x = lam[None, None, :, None] * x # b pos head dim\n",
    "    return x\n",
    "\n",
    "def mlp_modifier_hook(x, hook, gam):\n",
    "    x = gam[None, :, None] * x # b pos dim\n",
    "    return x"
   ]
  },
  {
   "cell_type": "code",
   "execution_count": 24,
   "id": "98ca054e-53b5-4696-8f00-c1b4a553acd4",
   "metadata": {},
   "outputs": [],
   "source": [
    "start_layer = 6"
   ]
  },
  {
   "cell_type": "code",
   "execution_count": 26,
   "id": "754ef36d-de11-4c51-b061-7938ff0211dc",
   "metadata": {},
   "outputs": [
    {
     "name": "stderr",
     "output_type": "stream",
     "text": [
      "100%|██████████| 200/200 [00:26<00:00,  7.52it/s]\n"
     ]
    }
   ],
   "source": [
    "ans_tokens = [model.to_single_token(tok) for tok in [' positive', ' negative']]\n",
    "preds = []\n",
    "\n",
    "for i in tqdm(range(len(train))):\n",
    "    x = test.iloc[i]\n",
    "    prompt = generate_prompt(x['summary'], shots)\n",
    "    \n",
    "    with torch.no_grad():\n",
    "        proba = model.run_with_hooks(\n",
    "            model.to_tokens(prompt),\n",
    "            fwd_hooks=[(\n",
    "                        f\"blocks.{l}.attn.hook_result\",\n",
    "                        partial(head_modifier_hook, lam=1+attn_patch[l - start_layer].to(device)),\n",
    "                    ) for l in range(start_layer, model.cfg.n_layers)] + \n",
    "                    [(\n",
    "                        f\"blocks.{l}.hook_mlp_out\",\n",
    "                        partial(mlp_modifier_hook, gam=1+mlp_patch[l - start_layer].to(device)),\n",
    "                    ) for l in range(start_layer, model.cfg.n_layers)]\n",
    "        ).softmax(-1)\n",
    "\n",
    "    preds.append(proba[0, -1, ans_tokens].tolist())\n",
    "\n",
    "preds = np.array(preds)\n",
    "train['pred_positive'] = preds[:, 0]\n",
    "train['pred_negative'] = preds[:, 1]"
   ]
  },
  {
   "cell_type": "code",
   "execution_count": 27,
   "id": "6bf3280b-8bc2-47eb-831c-f29f81607a48",
   "metadata": {},
   "outputs": [],
   "source": [
    "train['pred'] = train.apply(lambda x: 1 if x['pred_positive'] > x['pred_negative'] else 0, axis=1)\n",
    "train['correct'] = train['label'] == train['pred']"
   ]
  },
  {
   "cell_type": "code",
   "execution_count": 28,
   "id": "a8afe016-50f9-4693-92d2-9db3cd298952",
   "metadata": {},
   "outputs": [
    {
     "data": {
      "text/plain": [
       "label\n",
       "0    0.96\n",
       "1    0.97\n",
       "Name: correct, dtype: float64"
      ]
     },
     "execution_count": 28,
     "metadata": {},
     "output_type": "execute_result"
    }
   ],
   "source": [
    "train.groupby('label')['correct'].mean()"
   ]
  },
  {
   "cell_type": "markdown",
   "id": "7f58b378-6f57-42ac-873a-06ca6e3ee48e",
   "metadata": {},
   "source": [
    "### Testing"
   ]
  },
  {
   "cell_type": "code",
   "execution_count": 36,
   "id": "3ae3aa77-78c0-4e73-89b7-16f0d666ef66",
   "metadata": {},
   "outputs": [
    {
     "name": "stderr",
     "output_type": "stream",
     "text": [
      "100%|██████████| 200/200 [00:50<00:00,  3.95it/s]\n",
      "100%|██████████| 200/200 [01:01<00:00,  3.24it/s]\n",
      "100%|██████████| 200/200 [01:15<00:00,  2.64it/s]\n",
      "100%|██████████| 200/200 [01:24<00:00,  2.37it/s]\n"
     ]
    }
   ],
   "source": [
    "raw_scores = []\n",
    "boost_scores = []\n",
    "\n",
    "for n_shots in (2,4,6,8):\n",
    "\n",
    "    shots = pd.concat([\n",
    "        val.iloc[:n_shots//2],\n",
    "        val.iloc[50:50+n_shots//2],\n",
    "    ], axis=0)\n",
    "\n",
    "    ans_tokens = [model.to_single_token(tok) for tok in [' positive', ' negative']]\n",
    "    raw_preds = []\n",
    "    boost_preds = []\n",
    "    \n",
    "    for i in tqdm(range(len(test))):\n",
    "        x = test.iloc[i]\n",
    "        prompt = generate_prompt(x['summary'], shots)\n",
    "    \n",
    "        # Raw preds\n",
    "        with torch.no_grad():\n",
    "            proba = model(model.to_tokens(prompt)).softmax(-1)\n",
    "    \n",
    "        raw_preds.append(proba[0, -1, tokens].tolist())\n",
    "    \n",
    "        # Boost preds\n",
    "        proba = model.run_with_hooks(\n",
    "                    model.to_tokens(prompt),\n",
    "                    fwd_hooks=[(\n",
    "                                f\"blocks.{l}.attn.hook_result\",\n",
    "                                partial(head_modifier_hook, lam=1+attn_patch[l - start_layer].to(device)),\n",
    "                            ) for l in range(start_layer, model.cfg.n_layers)] + \n",
    "                            [(\n",
    "                                f\"blocks.{l}.hook_mlp_out\",\n",
    "                                partial(mlp_modifier_hook, gam=1+mlp_patch[l - start_layer].to(device)),\n",
    "                            ) for l in range(start_layer, model.cfg.n_layers)]\n",
    "                ).softmax(-1)\n",
    "        \n",
    "        boost_preds.append(proba[0, -1, ans_tokens].tolist())\n",
    "    \n",
    "    raw_preds = np.array(raw_preds)\n",
    "    boost_preds = np.array(boost_preds)\n",
    "    test['raw_pred_positive'] = raw_preds[:, 0]\n",
    "    test['raw_pred_negative'] = raw_preds[:, 1]\n",
    "    \n",
    "    boost_preds = np.array(boost_preds)\n",
    "    boost_preds = np.array(boost_preds)\n",
    "    test['boost_pred_positive'] = boost_preds[:, 0]\n",
    "    test['boost_pred_negative'] = boost_preds[:, 1]\n",
    "\n",
    "    test['raw_pred'] = test.apply(lambda x: 1 if x['raw_pred_positive'] > x['raw_pred_negative'] else 0, axis=1)\n",
    "    test['boost_pred'] = test.apply(lambda x: 1 if x['boost_pred_positive'] > x['boost_pred_negative'] else 0, axis=1)\n",
    "    \n",
    "    test['raw_correct'] = test['label'] == test['raw_pred']\n",
    "    test['boost_correct'] = test['label'] == test['boost_pred']\n",
    "\n",
    "    raw_scores.append(test.groupby('label')['raw_correct'].mean().tolist())\n",
    "    boost_scores.append(test.groupby('label')['boost_correct'].mean().tolist())"
   ]
  },
  {
   "cell_type": "code",
   "execution_count": 37,
   "id": "bcb78337-914c-4bae-913f-f219ee50a03d",
   "metadata": {},
   "outputs": [
    {
     "data": {
      "text/plain": [
       "([[0.94, 0.97], [0.96, 0.94], [0.97, 0.92], [0.95, 0.96]],\n",
       " [[0.96, 0.95], [0.97, 0.92], [0.97, 0.89], [0.97, 0.94]])"
      ]
     },
     "execution_count": 37,
     "metadata": {},
     "output_type": "execute_result"
    }
   ],
   "source": [
    "raw_scores, boost_scores"
   ]
  },
  {
   "cell_type": "markdown",
   "id": "41f0244c-f67a-4efb-8b21-6b3e4e061d44",
   "metadata": {},
   "source": [
    "## SAEs"
   ]
  },
  {
   "cell_type": "code",
   "execution_count": 35,
   "id": "19c7a8c6-590b-472a-b3ed-8b445c61ce96",
   "metadata": {},
   "outputs": [
    {
     "data": {
      "application/vnd.jupyter.widget-view+json": {
       "model_id": "2a14b10e094a4e9d8f27a7b7c99cbf93",
       "version_major": 2,
       "version_minor": 0
      },
      "text/plain": [
       "Fetching 41 files:   0%|          | 0/41 [00:00<?, ?it/s]"
      ]
     },
     "metadata": {},
     "output_type": "display_data"
    }
   ],
   "source": [
    "from huggingface_hub import snapshot_download\n",
    "\n",
    "REPO_ID = \"jbloom/GPT2-Small-SAEs-Reformatted\"\n",
    "path = snapshot_download(repo_id=REPO_ID)"
   ]
  },
  {
   "cell_type": "code",
   "execution_count": 36,
   "id": "fe0102ba-11a1-4e1f-9c4a-b7bab713810e",
   "metadata": {},
   "outputs": [
    {
     "name": "stderr",
     "output_type": "stream",
     "text": [
      "  0%|          | 0/12 [00:00<?, ?it/s]/usr/local/lib/python3.10/dist-packages/huggingface_hub/file_download.py:1132: FutureWarning:\n",
      "\n",
      "`resume_download` is deprecated and will be removed in version 1.0.0. Downloads always resume when possible. If you want to force a new download, use `force_download=True`.\n",
      "\n"
     ]
    },
    {
     "name": "stdout",
     "output_type": "stream",
     "text": [
      "Loaded pretrained model gpt2-small into HookedTransformer\n",
      "Moving model to device:  cuda\n"
     ]
    },
    {
     "name": "stderr",
     "output_type": "stream",
     "text": [
      "/usr/local/lib/python3.10/dist-packages/datasets/load.py:1486: FutureWarning:\n",
      "\n",
      "The repository for Skylion007/openwebtext contains custom code which must be executed to correctly load the dataset. You can inspect the repository content at https://hf.co/datasets/Skylion007/openwebtext\n",
      "You can avoid this message in future by passing the argument `trust_remote_code=True`.\n",
      "Passing `trust_remote_code=True` will be mandatory to load this dataset from the next major release of `datasets`.\n",
      "\n",
      "  8%|▊         | 1/12 [00:12<02:15, 12.29s/it]"
     ]
    },
    {
     "name": "stdout",
     "output_type": "stream",
     "text": [
      "Loaded pretrained model gpt2-small into HookedTransformer\n",
      "Moving model to device:  cuda\n"
     ]
    },
    {
     "name": "stderr",
     "output_type": "stream",
     "text": [
      " 17%|█▋        | 2/12 [00:22<01:50, 11.05s/it]"
     ]
    },
    {
     "name": "stdout",
     "output_type": "stream",
     "text": [
      "Loaded pretrained model gpt2-small into HookedTransformer\n",
      "Moving model to device:  cuda\n"
     ]
    },
    {
     "name": "stderr",
     "output_type": "stream",
     "text": [
      " 25%|██▌       | 3/12 [00:28<01:20,  8.96s/it]"
     ]
    },
    {
     "name": "stdout",
     "output_type": "stream",
     "text": [
      "Loaded pretrained model gpt2-small into HookedTransformer\n",
      "Moving model to device:  cuda\n"
     ]
    },
    {
     "name": "stderr",
     "output_type": "stream",
     "text": [
      " 33%|███▎      | 4/12 [00:35<01:03,  7.88s/it]"
     ]
    },
    {
     "name": "stdout",
     "output_type": "stream",
     "text": [
      "Loaded pretrained model gpt2-small into HookedTransformer\n",
      "Moving model to device:  cuda\n"
     ]
    },
    {
     "name": "stderr",
     "output_type": "stream",
     "text": [
      " 42%|████▏     | 5/12 [00:40<00:48,  6.93s/it]"
     ]
    },
    {
     "name": "stdout",
     "output_type": "stream",
     "text": [
      "Loaded pretrained model gpt2-small into HookedTransformer\n",
      "Moving model to device:  cuda\n"
     ]
    },
    {
     "name": "stderr",
     "output_type": "stream",
     "text": [
      " 50%|█████     | 6/12 [00:50<00:48,  8.02s/it]"
     ]
    },
    {
     "name": "stdout",
     "output_type": "stream",
     "text": [
      "Loaded pretrained model gpt2-small into HookedTransformer\n",
      "Moving model to device:  cuda\n"
     ]
    },
    {
     "name": "stderr",
     "output_type": "stream",
     "text": [
      " 58%|█████▊    | 7/12 [00:57<00:38,  7.77s/it]"
     ]
    },
    {
     "name": "stdout",
     "output_type": "stream",
     "text": [
      "Loaded pretrained model gpt2-small into HookedTransformer\n",
      "Moving model to device:  cuda\n"
     ]
    },
    {
     "name": "stderr",
     "output_type": "stream",
     "text": [
      " 67%|██████▋   | 8/12 [01:03<00:28,  7.24s/it]"
     ]
    },
    {
     "name": "stdout",
     "output_type": "stream",
     "text": [
      "Loaded pretrained model gpt2-small into HookedTransformer\n",
      "Moving model to device:  cuda\n"
     ]
    },
    {
     "name": "stderr",
     "output_type": "stream",
     "text": [
      " 75%|███████▌  | 9/12 [01:09<00:20,  6.80s/it]"
     ]
    },
    {
     "name": "stdout",
     "output_type": "stream",
     "text": [
      "Loaded pretrained model gpt2-small into HookedTransformer\n",
      "Moving model to device:  cuda\n"
     ]
    },
    {
     "name": "stderr",
     "output_type": "stream",
     "text": [
      " 83%|████████▎ | 10/12 [01:25<00:18,  9.43s/it]"
     ]
    },
    {
     "name": "stdout",
     "output_type": "stream",
     "text": [
      "Loaded pretrained model gpt2-small into HookedTransformer\n",
      "Moving model to device:  cuda\n"
     ]
    },
    {
     "name": "stderr",
     "output_type": "stream",
     "text": [
      " 92%|█████████▏| 11/12 [01:39<00:10, 10.96s/it]"
     ]
    },
    {
     "name": "stdout",
     "output_type": "stream",
     "text": [
      "Loaded pretrained model gpt2-small into HookedTransformer\n",
      "Moving model to device:  cuda\n"
     ]
    },
    {
     "name": "stderr",
     "output_type": "stream",
     "text": [
      "100%|██████████| 12/12 [01:45<00:00,  8.82s/it]\n"
     ]
    }
   ],
   "source": [
    "from sae_lens import LMSparseAutoencoderSessionloader\n",
    "from tqdm import tqdm\n",
    "import os\n",
    "\n",
    "layer = 13\n",
    "_, sae_group, activation_store = LMSparseAutoencoderSessionloader.load_pretrained_sae(\n",
    "    path = os.path.join(path, f\"blocks.{layer}.hook_resid_pre\"), device=device\n",
    ")\n",
    "sae_group.eval()\n",
    "sae = sae_group[f'blocks.{layer}.hook_resid_pre']"
   ]
  },
  {
   "cell_type": "code",
   "execution_count": 39,
   "id": "3b074fb7-0673-4f0b-98ca-6c2f39956e7d",
   "metadata": {},
   "outputs": [],
   "source": [
    "from fancy_einsum import einsum\n",
    "sae_cache = {}\n",
    "sae_grad_cache = {}\n",
    "\n",
    "def feature_edit_hook(x, hook, sae, f_id, pos, lam=2):\n",
    "    sae_out, f_act, *_ = sae(x)\n",
    "    f_act[:, pos, f_id] = f_act[:, pos, f_id] * lam\n",
    "    edit = einsum(\n",
    "        'b p dsae, dsae dm -> b p dm',\n",
    "        f_act, sae.W_dec\n",
    "    ) + sae.b_dec\n",
    "\n",
    "def reconstr_hook(x, hook, sae):\n",
    "    sae_out, f_act, *_ = sae(x)\n",
    "    \n",
    "    # Function to capture the gradient\n",
    "    def capture_grad(grad):\n",
    "        sae_grad_cache[hook.name] = grad.clone()\n",
    "\n",
    "    # Register the hook to capture the gradient\n",
    "    if f_act.requires_grad:\n",
    "        f_act.register_hook(capture_grad)\n",
    "    \n",
    "    sae_cache[hook.name] = f_act.detach()\n",
    "    return sae_out"
   ]
  },
  {
   "cell_type": "code",
   "execution_count": 59,
   "id": "ab5a8e8a-a0e3-4c00-bcb4-d8b0c7c863fa",
   "metadata": {},
   "outputs": [],
   "source": [
    "def feature_editing(model, prompt, tokens):\n",
    "    \n",
    "    tokens = [model.to_single_token(tok) for tok in tokens]\n",
    "\n",
    "    with torch.no_grad():\n",
    "        proba = model(model.to_tokens(clean_prompt)).softmax(-1)\n",
    "    \n",
    "    vals = proba[..., tokens]\n",
    "    return vals[0, -1, :].cpu().numpy().tolist()"
   ]
  },
  {
   "cell_type": "code",
   "execution_count": 98,
   "id": "00053174-e87e-4c5f-bd89-6059c3e4a623",
   "metadata": {},
   "outputs": [
    {
     "name": "stderr",
     "output_type": "stream",
     "text": [
      "100%|██████████| 20/20 [00:01<00:00, 11.23it/s]\n"
     ]
    }
   ],
   "source": [
    "# Feature Editing\n",
    "tokens = [model.to_single_token(tok) for tok in ['John', 'Susan']]\n",
    "\n",
    "#features = [(10, 13299)] \n",
    "pos = 113\n",
    "\n",
    "hook_point = f'blocks.{layer_id}.hook_resid_pre'\n",
    "\n",
    "token_probas = []\n",
    "\n",
    "lams = np.linspace(-5, 5, 20)\n",
    "\n",
    "for lam in tqdm(lams):\n",
    "\n",
    "\n",
    "\n",
    "    \n",
    "    with model.hooks(\n",
    "        fwd_hooks=[\n",
    "            (\n",
    "                hook_point,\n",
    "                partial(feature_edit_hook, sae=saes[layer_id], f_id=f_id, pos=pos, lam=lam),\n",
    "            ) for layer_id, f_id in features\n",
    "        ]\n",
    "    ): token_probas.append(feature_editing(model, prompt, ['Susan', 'John']))"
   ]
  },
  {
   "cell_type": "code",
   "execution_count": 100,
   "id": "5eab08ba-ef1d-4bd8-87ec-0f56300fea0d",
   "metadata": {},
   "outputs": [
    {
     "data": {
      "text/plain": [
       "[[0.008649192750453949, 0.14631010591983795],\n",
       " [0.008649192750453949, 0.14631010591983795],\n",
       " [0.008649192750453949, 0.14631010591983795],\n",
       " [0.008649192750453949, 0.14631010591983795],\n",
       " [0.008649192750453949, 0.14631010591983795],\n",
       " [0.008649192750453949, 0.14631010591983795],\n",
       " [0.008649192750453949, 0.14631010591983795],\n",
       " [0.008649192750453949, 0.14631010591983795],\n",
       " [0.008649192750453949, 0.14631010591983795],\n",
       " [0.008649192750453949, 0.14631010591983795],\n",
       " [0.008649192750453949, 0.14631010591983795],\n",
       " [0.008649192750453949, 0.14631010591983795],\n",
       " [0.008649192750453949, 0.14631010591983795],\n",
       " [0.008649192750453949, 0.14631010591983795],\n",
       " [0.008649192750453949, 0.14631010591983795],\n",
       " [0.008649192750453949, 0.14631010591983795],\n",
       " [0.008649192750453949, 0.14631010591983795],\n",
       " [0.008649192750453949, 0.14631010591983795],\n",
       " [0.008649192750453949, 0.14631010591983795],\n",
       " [0.008649192750453949, 0.14631010591983795]]"
      ]
     },
     "execution_count": 100,
     "metadata": {},
     "output_type": "execute_result"
    }
   ],
   "source": [
    "token_probas"
   ]
  },
  {
   "cell_type": "code",
   "execution_count": 76,
   "id": "1ed8c8ca-fb94-493c-8387-4843686c655a",
   "metadata": {},
   "outputs": [],
   "source": [
    "from functools import partial\n",
    "\n",
    "component = 'resid_pre'\n",
    "\n",
    "out = model.run_with_hooks(\n",
    "            tokens,\n",
    "            fwd_hooks=[\n",
    "                (\n",
    "                    utils.get_act_name(component, layer_id),\n",
    "                    partial(reconstr_hook, sae=saes[layer_id]),\n",
    "                )\n",
    "            for layer_id in range(model.cfg.n_layers)]\n",
    "        ).log_softmax(-1)\n",
    "\n",
    "ans = model.to_single_token('Susan')\n",
    "loss = - out[0, -1, ans]\n",
    "\n",
    "loss.backward()"
   ]
  },
  {
   "cell_type": "code",
   "execution_count": 77,
   "id": "444c6bac-7a75-4ecc-ba49-218b002ac2c0",
   "metadata": {},
   "outputs": [],
   "source": [
    "act = torch.stack(list(sae_cache.values()))\n",
    "grad_act = torch.stack(list(sae_grad_cache.values()))\n",
    "\n",
    "patch = einops.reduce(\n",
    "                grad_act *  act,\n",
    "                \"component batch pos d_model -> component pos d_model\",\n",
    "                \"sum\",\n",
    "            )"
   ]
  },
  {
   "cell_type": "code",
   "execution_count": 102,
   "id": "1da85144-d63b-43a6-979e-5cbed79fe01f",
   "metadata": {},
   "outputs": [
    {
     "data": {
      "text/plain": [
       "tensor([[19419,  2670,  1318],\n",
       "        [14858,     1,     0],\n",
       "        [13070, 13411, 19241],\n",
       "        [ 8524,  1294, 17696],\n",
       "        [10433,     1,     0],\n",
       "        [ 6677, 18816, 13863],\n",
       "        [14243, 22334, 23861],\n",
       "        [15585,  2650,  2028],\n",
       "        [21490, 22557, 18215],\n",
       "        [17803, 16510, 22344],\n",
       "        [15266,  3565, 16895],\n",
       "        [ 2665, 23640, 17467]], device='cuda:0')"
      ]
     },
     "execution_count": 102,
     "metadata": {},
     "output_type": "execute_result"
    }
   ],
   "source": [
    "patch[:, 113].topk(3, -1).indices"
   ]
  },
  {
   "cell_type": "code",
   "execution_count": 65,
   "id": "30a5388e-dd57-4522-a7bf-bfe7f54ede61",
   "metadata": {},
   "outputs": [],
   "source": [
    "p1_act = act[:, 0, 113]\n",
    "p2_act = act[:, 0, 118]\n",
    "delta_act = p2_act - p1_act"
   ]
  },
  {
   "cell_type": "code",
   "execution_count": 97,
   "id": "0d17a2c8-262b-451b-9a3c-ab5a95a6080d",
   "metadata": {},
   "outputs": [
    {
     "data": {
      "text/plain": [
       "[(0, 19419),\n",
       " (0, 2670),\n",
       " (0, 1318),\n",
       " (1, 14858),\n",
       " (1, 1),\n",
       " (1, 0),\n",
       " (2, 13070),\n",
       " (2, 13411),\n",
       " (2, 19241),\n",
       " (3, 8524),\n",
       " (3, 1294),\n",
       " (3, 17696),\n",
       " (4, 10433),\n",
       " (4, 1),\n",
       " (4, 0),\n",
       " (5, 6677),\n",
       " (5, 18816),\n",
       " (5, 13863),\n",
       " (6, 14243),\n",
       " (6, 22334),\n",
       " (6, 23861),\n",
       " (7, 15585),\n",
       " (7, 2650),\n",
       " (7, 2028),\n",
       " (8, 21490),\n",
       " (8, 22557),\n",
       " (8, 18215),\n",
       " (9, 17803),\n",
       " (9, 16510),\n",
       " (9, 22344),\n",
       " (10, 15266),\n",
       " (10, 3565),\n",
       " (10, 16895),\n",
       " (11, 2665),\n",
       " (11, 23640),\n",
       " (11, 17467)]"
      ]
     },
     "execution_count": 97,
     "metadata": {},
     "output_type": "execute_result"
    }
   ],
   "source": [
    "features = []\n",
    "for l, fs in zip(range(12), patch[:, 113].topk(3, -1).indices.tolist()):\n",
    "    for f in fs:\n",
    "        features.append((l, f))\n",
    "\n",
    "features"
   ]
  },
  {
   "cell_type": "code",
   "execution_count": 48,
   "id": "7230d95b-308c-417f-bf83-65148afe9e44",
   "metadata": {},
   "outputs": [],
   "source": [
    "vals, idxs = patch.mean(1).topk(5, dim=-1)"
   ]
  },
  {
   "cell_type": "code",
   "execution_count": 55,
   "id": "c68998f5-445d-4d4c-b2e4-1b1976e524c9",
   "metadata": {},
   "outputs": [
    {
     "data": {
      "text/plain": [
       "torch.Size([12, 1, 151, 24576])"
      ]
     },
     "execution_count": 55,
     "metadata": {},
     "output_type": "execute_result"
    }
   ],
   "source": [
    "act.shape"
   ]
  },
  {
   "cell_type": "code",
   "execution_count": 153,
   "id": "d76cb651-dc9e-4ec2-91f6-ec912abd5e53",
   "metadata": {},
   "outputs": [
    {
     "data": {
      "image/png": "[encoded data removed]",
      "text/plain": [
       "<Figure size 1800x1200 with 2 Axes>"
      ]
     },
     "metadata": {},
     "output_type": "display_data"
    }
   ],
   "source": [
    "plt.figure(figsize=(12, 8), dpi=150)\n",
    "\n",
    "ys = [f\"L{i}\" for i in range(model.cfg.n_layers)]\n",
    "\n",
    "# Draw the heatmap\n",
    "ax = sns.heatmap(patch.cpu().sum(-1), cmap='Blues', vmin=0, vmax=1)\n",
    "\n",
    "# Set tick labels\n",
    "ax.set_xticks([i + 0.5 for i in range(len(labels))])  # Set x-ticks every 10 columns\n",
    "ax.set_yticks([i + 0.5 for i in range(len(ys))])  # Set y-ticks every 10 rows\n",
    "\n",
    "# Set tick labels with optional custom labeling\n",
    "ax.set_xticklabels(labels)\n",
    "ax.set_yticklabels(ys)\n",
    "\n",
    "# Rotate tick labels for better visibility\n",
    "plt.xticks(rotation=35)\n",
    "plt.yticks(rotation=0)\n",
    "\n",
    "# Title and labels (optional)\n",
    "plt.title('Feature AtP aggregated by layer')\n",
    "plt.xlabel('Tokens')\n",
    "plt.ylabel('Layer')\n",
    "\n",
    "# Show the plot\n",
    "plt.show()"
   ]
  },
  {
   "cell_type": "code",
   "execution_count": null,
   "id": "7470f83f-3197-4996-bf2b-69b29afad0ff",
   "metadata": {},
   "outputs": [],
   "source": []
  }
 ],
 "metadata": {
  "kernelspec": {
   "display_name": "mats-interp",
   "language": "python",
   "name": "myenv"
  },
  "language_info": {
   "codemirror_mode": {
    "name": "ipython",
    "version": 3
   },
   "file_extension": ".py",
   "mimetype": "text/x-python",
   "name": "python",
   "nbconvert_exporter": "python",
   "pygments_lexer": "ipython3",
   "version": "3.10.12"
  }
 },
 "nbformat": 4,
 "nbformat_minor": 5
}
