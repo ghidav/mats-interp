{
 "cells": [
  {
   "cell_type": "markdown",
   "id": "385ec6af-e3ab-48ed-a305-fa4d026bdc3c",
   "metadata": {},
   "source": [
    "# Sentiment Analysis"
   ]
  },
  {
   "cell_type": "code",
   "execution_count": 1,
   "id": "36174ee8-9ada-4b35-92a1-0bc72e25dd94",
   "metadata": {},
   "outputs": [
    {
     "name": "stdout",
     "output_type": "stream",
     "text": [
      "Device: cuda\n"
     ]
    },
    {
     "data": {
      "text/html": [
       "        <script type=\"text/javascript\">\n",
       "        window.PlotlyConfig = {MathJaxConfig: 'local'};\n",
       "        if (window.MathJax && window.MathJax.Hub && window.MathJax.Hub.Config) {window.MathJax.Hub.Config({SVG: {font: \"STIX-Web\"}});}\n",
       "        if (typeof require !== 'undefined') {\n",
       "        require.undef(\"plotly\");\n",
       "        requirejs.config({\n",
       "            paths: {\n",
       "                'plotly': ['https://cdn.plot.ly/plotly-2.32.0.min']\n",
       "            }\n",
       "        });\n",
       "        require(['plotly'], function(Plotly) {\n",
       "            window._Plotly = Plotly;\n",
       "        });\n",
       "        }\n",
       "        </script>\n",
       "        "
      ]
     },
     "metadata": {},
     "output_type": "display_data"
    }
   ],
   "source": [
    "import os\n",
    "os.environ['HF_HOME'] = '/workspace/huggingface'\n",
    "\n",
    "from transformer_lens import HookedTransformer, ActivationCache, utils\n",
    "import torch\n",
    "\n",
    "if torch.backends.mps.is_available():\n",
    "    device = \"mps\"\n",
    "else:\n",
    "    device = \"cuda\" if torch.cuda.is_available() else \"cpu\"\n",
    "\n",
    "print(f\"Device: {device}\")\n",
    "\n",
    "import plotly.graph_objects as go\n",
    "from plotly.offline import init_notebook_mode, iplot\n",
    "import numpy as np\n",
    "import pandas as pd\n",
    "from tqdm import tqdm\n",
    "import matplotlib.pyplot as plt\n",
    "import seaborn as sns\n",
    "from functools import partial\n",
    "tqdm.pandas()\n",
    "\n",
    "init_notebook_mode(connected=True)"
   ]
  },
  {
   "cell_type": "markdown",
   "id": "9082fcbc-dd89-49e9-b1d8-46c38d7fec9a",
   "metadata": {},
   "source": [
    "### Dataset preparation"
   ]
  },
  {
   "cell_type": "code",
   "execution_count": null,
   "id": "61b8797a-88d5-4336-ac0a-bb537747def5",
   "metadata": {},
   "outputs": [],
   "source": [
    "from datasets import load_dataset\n",
    "from openai import OpenAI\n",
    "\n",
    "llm = OpenAI(\n",
    "           base_url = \"https://api.endpoints.anyscale.com/v1\",\n",
    "           api_key=os.environ['ANYSCALE_API_KEY'],\n",
    "        )"
   ]
  },
  {
   "cell_type": "code",
   "execution_count": null,
   "id": "cfab74b7-232f-4912-b835-0a0f49132e29",
   "metadata": {},
   "outputs": [],
   "source": [
    "imdb = load_dataset('stanfordnlp/imdb')"
   ]
  },
  {
   "cell_type": "code",
   "execution_count": null,
   "id": "810e7470-045a-4072-b883-5048ae4da792",
   "metadata": {},
   "outputs": [],
   "source": [
    "import re\n",
    "import json\n",
    "\n",
    "def summarize(prompt, max_new_tokens=256):\n",
    "    try:\n",
    "        response = llm.chat.completions.create(\n",
    "                    model = \"meta-llama/Meta-Llama-3-70B-Instruct\",\n",
    "                    messages = [\n",
    "                            {'role': 'user', 'content': f\"Rewrite the following text in one sentence. Output only a single json file with a single field 'new_text'.\\n{prompt}\"},\n",
    "                        ],\n",
    "                    temperature=1,\n",
    "                    max_tokens=max_new_tokens,\n",
    "                )\n",
    "                \n",
    "        out = response.choices[0].message.content\n",
    "\n",
    "        json_pattern = r\"{.*?}\"\n",
    "\n",
    "        # Find all occurrences of JSON in the text\n",
    "        match = re.findall(json_pattern, out)[0]\n",
    "        json_data = json.loads(match)\n",
    "        new_text = json_data[\"new_text\"]\n",
    "\n",
    "        return new_text\n",
    "    except Exception as e:\n",
    "        return out"
   ]
  },
  {
   "cell_type": "code",
   "execution_count": null,
   "id": "fa304058-af74-42df-b4e8-3a2d6ecc6dbc",
   "metadata": {},
   "outputs": [],
   "source": [
    "df = pd.DataFrame(imdb['train']).groupby('label').sample(250, random_state=42)\n",
    "df['summary'] = df['text'].progress_apply(summarize)"
   ]
  },
  {
   "cell_type": "markdown",
   "id": "60030238-5fcd-4004-a57b-6dd768545e9c",
   "metadata": {},
   "source": [
    "### Data and model loading"
   ]
  },
  {
   "cell_type": "code",
   "execution_count": 3,
   "id": "bcc1ddcd-da43-4d43-a307-dc3887b3e19e",
   "metadata": {},
   "outputs": [
    {
     "data": {
      "text/plain": [
       "(200, 100, 200)"
      ]
     },
     "execution_count": 3,
     "metadata": {},
     "output_type": "execute_result"
    }
   ],
   "source": [
    "df = pd.read_csv(\"imdb.csv\")\n",
    "\n",
    "train = pd.concat([\n",
    "    df.iloc[:100],\n",
    "    df.iloc[250:350],\n",
    "], axis=0)\n",
    "\n",
    "val = pd.concat([\n",
    "    df.iloc[100:150],\n",
    "    df.iloc[350:400],\n",
    "], axis=0)\n",
    "\n",
    "test = pd.concat([\n",
    "    df.iloc[150:250],\n",
    "    df.iloc[400:500],\n",
    "], axis=0)\n",
    "\n",
    "len(train), len(val), len(test)"
   ]
  },
  {
   "cell_type": "code",
   "execution_count": 4,
   "id": "263530bb-8c2c-49dc-abf3-c7638bf74dba",
   "metadata": {},
   "outputs": [
    {
     "name": "stderr",
     "output_type": "stream",
     "text": [
      "`config.hidden_act` is ignored, you should use `config.hidden_activation` instead.\n",
      "Gemma's activation function will be set to `gelu_pytorch_tanh`. Please, use\n",
      "`config.hidden_activation` if you want to override this behaviour.\n",
      "See https://github.com/huggingface/transformers/pull/29402 for more details.\n"
     ]
    },
    {
     "data": {
      "application/vnd.jupyter.widget-view+json": {
       "model_id": "0039b45471634252ac29ff0e29ef26fa",
       "version_major": 2,
       "version_minor": 0
      },
      "text/plain": [
       "Loading checkpoint shards:   0%|          | 0/2 [00:00<?, ?it/s]"
      ]
     },
     "metadata": {},
     "output_type": "display_data"
    },
    {
     "name": "stderr",
     "output_type": "stream",
     "text": [
      "WARNING:root:You are not using LayerNorm, so the writing weights can't be centered! Skipping\n"
     ]
    },
    {
     "name": "stdout",
     "output_type": "stream",
     "text": [
      "Loaded pretrained model gemma-2b into HookedTransformer\n"
     ]
    }
   ],
   "source": [
    "model = HookedTransformer.from_pretrained('gemma-2b')\n",
    "\n",
    "model.eval()\n",
    "model.set_use_attn_result(True)\n",
    "model.set_use_attn_in(True)\n",
    "model.set_use_hook_mlp_in(True)\n",
    "model.set_use_split_qkv_input(True)"
   ]
  },
  {
   "cell_type": "markdown",
   "id": "eb662c1e-8d8c-47f7-a90f-caf42bf22ad3",
   "metadata": {},
   "source": [
    "### Baseline"
   ]
  },
  {
   "cell_type": "code",
   "execution_count": 5,
   "id": "d3c2b861-0909-4ece-b725-e69984971dff",
   "metadata": {},
   "outputs": [
    {
     "data": {
      "text/plain": [
       "(200, 4)"
      ]
     },
     "execution_count": 5,
     "metadata": {},
     "output_type": "execute_result"
    }
   ],
   "source": [
    "n_shots = 4\n",
    "\n",
    "shots = pd.concat([\n",
    "    val.iloc[:n_shots//2],\n",
    "    val.iloc[50:50+n_shots//2],\n",
    "], axis=0)\n",
    "\n",
    "len(train), len(shots)"
   ]
  },
  {
   "cell_type": "code",
   "execution_count": 6,
   "id": "4cfe0a96-56b8-442f-a812-be388cb824bd",
   "metadata": {},
   "outputs": [],
   "source": [
    "import random\n",
    "\n",
    "map = {\n",
    "    1: 'positive',\n",
    "    0: 'negative'\n",
    "}\n",
    "\n",
    "def generate_prompt(x, shots):\n",
    "    prompt = \"\"\n",
    "\n",
    "    for i in random.sample(range(n_shots), n_shots):\n",
    "        shot = shots.iloc[i]\n",
    "        prompt += f\"{shot['summary']} | {map[shot['label']]}\\n\\n\"\n",
    "\n",
    "    prompt += x + \" |\"\n",
    "    return prompt"
   ]
  },
  {
   "cell_type": "code",
   "execution_count": null,
   "id": "64e9a101-de8c-4248-8d3a-e9d74b6485e5",
   "metadata": {},
   "outputs": [],
   "source": [
    "tokens = [model.to_single_token(tok) for tok in [' positive', ' negative']]\n",
    "preds = []\n",
    "for i in tqdm(range(len(train))):\n",
    "    x = test.iloc[i]\n",
    "    prompt = generate_prompt(x['summary'], shots)\n",
    "    \n",
    "    with torch.no_grad():\n",
    "        proba = model(model.to_tokens(prompt)).softmax(-1)\n",
    "\n",
    "    preds.append(proba[0, -1, tokens].tolist())\n",
    "\n",
    "preds = np.array(preds)\n",
    "train['pred_positive'] = preds[:, 0]\n",
    "train['pred_negative'] = preds[:, 1]"
   ]
  },
  {
   "cell_type": "code",
   "execution_count": null,
   "id": "ee909a16-6195-45df-bea2-01e3193faac7",
   "metadata": {},
   "outputs": [],
   "source": [
    "train['pred'] = train.apply(lambda x: 1 if x['pred_positive'] > x['pred_negative'] else 0, axis=1)\n",
    "train['correct'] = train['label'] == train['pred']"
   ]
  },
  {
   "cell_type": "code",
   "execution_count": null,
   "id": "8ecd5a93-7e8c-4e17-8cda-e7fda91d1ae9",
   "metadata": {},
   "outputs": [],
   "source": [
    "train.groupby('label')['correct'].mean()"
   ]
  },
  {
   "cell_type": "code",
   "execution_count": null,
   "id": "7cdb87dc-da16-442a-827d-3f06a74337ac",
   "metadata": {},
   "outputs": [],
   "source": [
    "results_df = pd.DataFrame({\n",
    "    'shots': [2, 4, 6, 8, 10],\n",
    "    'pos_score': [0.97, 0.96, 0.94, 0.94, 0.94],\n",
    "    'neg_score': [0.93, 0.93, 0.97, 0.96, 0.94]\n",
    "})\n",
    "\n",
    "sns.lineplot(\n",
    "    results_df.melt(id_vars='shots', var_name='score'),\n",
    "    x='shots', y='value', hue='score'\n",
    ")"
   ]
  },
  {
   "cell_type": "markdown",
   "id": "390bd48c-2a27-4199-be63-9c14cecfce6d",
   "metadata": {},
   "source": [
    "## Attribution Pathcing "
   ]
  },
  {
   "cell_type": "code",
   "execution_count": 7,
   "id": "3828596a-e62c-475a-939d-791848e5d676",
   "metadata": {},
   "outputs": [],
   "source": [
    "def get_cache_fwd_and_bwd(tokens, ans_clean, ans_corr=None):\n",
    "        filter_not_qkv_input = lambda name: \"_input\" not in name\n",
    "        model.reset_hooks()\n",
    "        cache = {}\n",
    "\n",
    "        def forward_cache_hook(act, hook):\n",
    "            cache[hook.name] = act.detach()\n",
    "\n",
    "        model.add_hook(filter_not_qkv_input, forward_cache_hook, \"fwd\")\n",
    "\n",
    "        grad_cache = {}\n",
    "\n",
    "        def backward_cache_hook(act, hook):\n",
    "            grad_cache[hook.name] = act.detach()\n",
    "\n",
    "        model.add_hook(filter_not_qkv_input, backward_cache_hook, \"bwd\")\n",
    "\n",
    "        logits = model(tokens)\n",
    "        value = logits[:, -1, ans_clean]\n",
    "        if ans_corr is not None:\n",
    "            value -= logits[:, -1, ans_corr]\n",
    "        value.backward()\n",
    "        model.reset_hooks()\n",
    "        return (\n",
    "            value.item(),\n",
    "            ActivationCache(cache, model),\n",
    "            ActivationCache(grad_cache, model),\n",
    "        )"
   ]
  },
  {
   "cell_type": "code",
   "execution_count": 8,
   "id": "9d794541-29bd-4855-9998-85ed6aaeda2d",
   "metadata": {},
   "outputs": [
    {
     "name": "stderr",
     "output_type": "stream",
     "text": [
      "  0%|          | 0/200 [00:00<?, ?it/s]\n"
     ]
    },
    {
     "ename": "OutOfMemoryError",
     "evalue": "CUDA out of memory. Tried to allocate 128.00 MiB (GPU 0; 23.68 GiB total capacity; 23.31 GiB already allocated; 79.62 MiB free; 23.35 GiB reserved in total by PyTorch) If reserved memory is >> allocated memory try setting max_split_size_mb to avoid fragmentation.  See documentation for Memory Management and PYTORCH_CUDA_ALLOC_CONF",
     "output_type": "error",
     "traceback": [
      "\u001b[0;31m---------------------------------------------------------------------------\u001b[0m",
      "\u001b[0;31mOutOfMemoryError\u001b[0m                          Traceback (most recent call last)",
      "Cell \u001b[0;32mIn[8], line 14\u001b[0m\n\u001b[1;32m     11\u001b[0m prompt \u001b[38;5;241m=\u001b[39m generate_prompt(x[\u001b[38;5;124m'\u001b[39m\u001b[38;5;124msummary\u001b[39m\u001b[38;5;124m'\u001b[39m], shots)\n\u001b[1;32m     13\u001b[0m \u001b[38;5;66;03m#\u001b[39;00m\n\u001b[0;32m---> 14\u001b[0m _, cache, grad_cache \u001b[38;5;241m=\u001b[39m \u001b[43mget_cache_fwd_and_bwd\u001b[49m\u001b[43m(\u001b[49m\u001b[43mmodel\u001b[49m\u001b[38;5;241;43m.\u001b[39;49m\u001b[43mto_tokens\u001b[49m\u001b[43m(\u001b[49m\u001b[43mprompt\u001b[49m\u001b[43m)\u001b[49m\u001b[43m,\u001b[49m\u001b[43m \u001b[49m\u001b[43ma_clean\u001b[49m\u001b[43m,\u001b[49m\u001b[43m \u001b[49m\u001b[43ma_corr\u001b[49m\u001b[43m)\u001b[49m\n\u001b[1;32m     16\u001b[0m act \u001b[38;5;241m=\u001b[39m cache\u001b[38;5;241m.\u001b[39mstack_head_results(\u001b[38;5;241m-\u001b[39m\u001b[38;5;241m1\u001b[39m)\n\u001b[1;32m     17\u001b[0m grad_act \u001b[38;5;241m=\u001b[39m grad_cache\u001b[38;5;241m.\u001b[39mstack_head_results(\u001b[38;5;241m-\u001b[39m\u001b[38;5;241m1\u001b[39m)\n",
      "Cell \u001b[0;32mIn[7], line 22\u001b[0m, in \u001b[0;36mget_cache_fwd_and_bwd\u001b[0;34m(tokens, ans_clean, ans_corr)\u001b[0m\n\u001b[1;32m     20\u001b[0m \u001b[38;5;28;01mif\u001b[39;00m ans_corr \u001b[38;5;129;01mis\u001b[39;00m \u001b[38;5;129;01mnot\u001b[39;00m \u001b[38;5;28;01mNone\u001b[39;00m:\n\u001b[1;32m     21\u001b[0m     value \u001b[38;5;241m-\u001b[39m\u001b[38;5;241m=\u001b[39m logits[:, \u001b[38;5;241m-\u001b[39m\u001b[38;5;241m1\u001b[39m, ans_corr]\n\u001b[0;32m---> 22\u001b[0m \u001b[43mvalue\u001b[49m\u001b[38;5;241;43m.\u001b[39;49m\u001b[43mbackward\u001b[49m\u001b[43m(\u001b[49m\u001b[43m)\u001b[49m\n\u001b[1;32m     23\u001b[0m model\u001b[38;5;241m.\u001b[39mreset_hooks()\n\u001b[1;32m     24\u001b[0m \u001b[38;5;28;01mreturn\u001b[39;00m (\n\u001b[1;32m     25\u001b[0m     value\u001b[38;5;241m.\u001b[39mitem(),\n\u001b[1;32m     26\u001b[0m     ActivationCache(cache, model),\n\u001b[1;32m     27\u001b[0m     ActivationCache(grad_cache, model),\n\u001b[1;32m     28\u001b[0m )\n",
      "File \u001b[0;32m/usr/local/lib/python3.10/dist-packages/torch/_tensor.py:487\u001b[0m, in \u001b[0;36mTensor.backward\u001b[0;34m(self, gradient, retain_graph, create_graph, inputs)\u001b[0m\n\u001b[1;32m    477\u001b[0m \u001b[38;5;28;01mif\u001b[39;00m has_torch_function_unary(\u001b[38;5;28mself\u001b[39m):\n\u001b[1;32m    478\u001b[0m     \u001b[38;5;28;01mreturn\u001b[39;00m handle_torch_function(\n\u001b[1;32m    479\u001b[0m         Tensor\u001b[38;5;241m.\u001b[39mbackward,\n\u001b[1;32m    480\u001b[0m         (\u001b[38;5;28mself\u001b[39m,),\n\u001b[0;32m   (...)\u001b[0m\n\u001b[1;32m    485\u001b[0m         inputs\u001b[38;5;241m=\u001b[39minputs,\n\u001b[1;32m    486\u001b[0m     )\n\u001b[0;32m--> 487\u001b[0m \u001b[43mtorch\u001b[49m\u001b[38;5;241;43m.\u001b[39;49m\u001b[43mautograd\u001b[49m\u001b[38;5;241;43m.\u001b[39;49m\u001b[43mbackward\u001b[49m\u001b[43m(\u001b[49m\n\u001b[1;32m    488\u001b[0m \u001b[43m    \u001b[49m\u001b[38;5;28;43mself\u001b[39;49m\u001b[43m,\u001b[49m\u001b[43m \u001b[49m\u001b[43mgradient\u001b[49m\u001b[43m,\u001b[49m\u001b[43m \u001b[49m\u001b[43mretain_graph\u001b[49m\u001b[43m,\u001b[49m\u001b[43m \u001b[49m\u001b[43mcreate_graph\u001b[49m\u001b[43m,\u001b[49m\u001b[43m \u001b[49m\u001b[43minputs\u001b[49m\u001b[38;5;241;43m=\u001b[39;49m\u001b[43minputs\u001b[49m\n\u001b[1;32m    489\u001b[0m \u001b[43m\u001b[49m\u001b[43m)\u001b[49m\n",
      "File \u001b[0;32m/usr/local/lib/python3.10/dist-packages/torch/autograd/__init__.py:200\u001b[0m, in \u001b[0;36mbackward\u001b[0;34m(tensors, grad_tensors, retain_graph, create_graph, grad_variables, inputs)\u001b[0m\n\u001b[1;32m    195\u001b[0m     retain_graph \u001b[38;5;241m=\u001b[39m create_graph\n\u001b[1;32m    197\u001b[0m \u001b[38;5;66;03m# The reason we repeat same the comment below is that\u001b[39;00m\n\u001b[1;32m    198\u001b[0m \u001b[38;5;66;03m# some Python versions print out the first line of a multi-line function\u001b[39;00m\n\u001b[1;32m    199\u001b[0m \u001b[38;5;66;03m# calls in the traceback and some print out the last line\u001b[39;00m\n\u001b[0;32m--> 200\u001b[0m \u001b[43mVariable\u001b[49m\u001b[38;5;241;43m.\u001b[39;49m\u001b[43m_execution_engine\u001b[49m\u001b[38;5;241;43m.\u001b[39;49m\u001b[43mrun_backward\u001b[49m\u001b[43m(\u001b[49m\u001b[43m  \u001b[49m\u001b[38;5;66;43;03m# Calls into the C++ engine to run the backward pass\u001b[39;49;00m\n\u001b[1;32m    201\u001b[0m \u001b[43m    \u001b[49m\u001b[43mtensors\u001b[49m\u001b[43m,\u001b[49m\u001b[43m \u001b[49m\u001b[43mgrad_tensors_\u001b[49m\u001b[43m,\u001b[49m\u001b[43m \u001b[49m\u001b[43mretain_graph\u001b[49m\u001b[43m,\u001b[49m\u001b[43m \u001b[49m\u001b[43mcreate_graph\u001b[49m\u001b[43m,\u001b[49m\u001b[43m \u001b[49m\u001b[43minputs\u001b[49m\u001b[43m,\u001b[49m\n\u001b[1;32m    202\u001b[0m \u001b[43m    \u001b[49m\u001b[43mallow_unreachable\u001b[49m\u001b[38;5;241;43m=\u001b[39;49m\u001b[38;5;28;43;01mTrue\u001b[39;49;00m\u001b[43m,\u001b[49m\u001b[43m \u001b[49m\u001b[43maccumulate_grad\u001b[49m\u001b[38;5;241;43m=\u001b[39;49m\u001b[38;5;28;43;01mTrue\u001b[39;49;00m\u001b[43m)\u001b[49m\n",
      "\u001b[0;31mOutOfMemoryError\u001b[0m: CUDA out of memory. Tried to allocate 128.00 MiB (GPU 0; 23.68 GiB total capacity; 23.31 GiB already allocated; 79.62 MiB free; 23.35 GiB reserved in total by PyTorch) If reserved memory is >> allocated memory try setting max_split_size_mb to avoid fragmentation.  See documentation for Memory Management and PYTORCH_CUDA_ALLOC_CONF"
     ]
    }
   ],
   "source": [
    "ans_tokens = [model.to_single_token(tok) for tok in [' negative', ' positive']]\n",
    "patches = []\n",
    "\n",
    "for i in tqdm(range(len(train))):\n",
    "    x = test.iloc[i]\n",
    "    \n",
    "    y = x.label\n",
    "    a_clean = ans_tokens[y]\n",
    "    a_corr = ans_tokens[1 - y]\n",
    "    \n",
    "    prompt = generate_prompt(x['summary'], shots)\n",
    "\n",
    "    #\n",
    "    _, cache, grad_cache = get_cache_fwd_and_bwd(model.to_tokens(prompt), a_clean, a_corr)\n",
    "\n",
    "    act = cache.stack_head_results(-1)\n",
    "    grad_act = grad_cache.stack_head_results(-1)\n",
    "\n",
    "    patches.append(einops.reduce(\n",
    "                grad_act *  act,\n",
    "                \"component batch pos d_model -> component pos\",\n",
    "                \"sum\",\n",
    "        ))\n",
    "\n",
    "    break"
   ]
  },
  {
   "cell_type": "markdown",
   "id": "57dca5b2-dc55-43e7-a9f6-f2378036a725",
   "metadata": {},
   "source": [
    "### Heads Boost"
   ]
  },
  {
   "cell_type": "code",
   "execution_count": 274,
   "id": "5d49943a-2d66-4ef8-a8ee-337d083578ca",
   "metadata": {},
   "outputs": [],
   "source": [
    "def head_modifier_hook(x, hook, head_id, lam=1.2):\n",
    "    x[:, -1, head_id, :] = lam * x[:, -1, head_id, :]\n",
    "    return x"
   ]
  },
  {
   "cell_type": "code",
   "execution_count": 276,
   "id": "5ca83dd2-6ba3-4fd0-b634-2500498105f8",
   "metadata": {},
   "outputs": [
    {
     "name": "stdout",
     "output_type": "stream",
     "text": [
      "This film about a vengeful ghost is an unremarkable combination of GASLIGHT and LES DIABOLIQUES, featuring 10 big-name stars, including Cliff Robertson and Jean Simmons, despite its cliché-ridden and mediocre script. | negative\n",
      "\n",
      "I saw The Glacier Fox at age nine and have been searching for it on video, hoping it will be re-released or picked up by a new distributor for regular showings, as it's a captivating film with a great soundtrack that would resonate with today's audiences. | positive\n",
      "\n",
      "Reed Hadley's serial features the best theme song and Yakima Canutt's incredible stagecoach stunt, making it a must-see despite its lower budget and Hadley's less impressive portrayal of Zorro. | positive\n",
      "\n",
      "This film chronicles the attempts of an elderly saxophone player to reform her all-girl band from WWII, featuring an all-star cast including Ian Holm, Judi Dench, and Leslie Caron, in a nostalgic and entertaining romp down memory lane. | positive\n",
      "\n",
      "The movie 'The Wayward Cloud' features disturbing and bizarre scenes, including sex with watermelons and dead people, which the author finds revolting and gross with no apparent message or meaning. | negative\n",
      "\n",
      "The film was a boring, stupid, mess with ripped-off special effects, a non-existent story, and bad acting, especially from the Buffy actress, who is as talented as Barbie, and its PG-13 rating helped it at the box office, but it would have bombed if it were rated R. | negative\n",
      "\n",
      "This mini-series is a complete waste of time and money, an embarrassing adaptation of Bob Ludlum's work that fails to live up to the standard set by previous adaptations like the Bourne Identity with Richard Chamberlain. | negative\n",
      "\n",
      "This film is a must-see for anyone interested in or affected by eating disorders, featuring an outstanding performance by Alison Lohman and Mare Winningham as a bulimic teenager and her mother, respectively, and is an astonishing achievement in portraying the emotional turmoil and desperation of those suffering from this disorder. | positive\n",
      "\n",
      "The film 'The Notorious Bettie Page' directed by Mary Harron offers a stylized look at the American sexual psyche through the lens of Bettie Page, with Gretchen Mol delivering an Oscar-worthy performance that perfectly captures the essence of the Queen of Curves. |\n"
     ]
    }
   ],
   "source": [
    "prompt = generate_prompt(test.iloc[-2]['summary'], train)\n",
    "print(prompt)"
   ]
  },
  {
   "cell_type": "code",
   "execution_count": 279,
   "id": "1846e058-cd0c-4d65-ad88-a244171e44c5",
   "metadata": {},
   "outputs": [
    {
     "name": "stderr",
     "output_type": "stream",
     "text": [
      "100%|██████████| 20/20 [00:11<00:00,  1.77it/s]\n"
     ]
    }
   ],
   "source": [
    "# [(8, 11, -1), (9, 6, 1), (9, 9, 1), (10, 0, 1), (10, 1, 1), (10, 7, -1), (10, 10, 1), (11, 10, -1)]\n",
    "heads = [(8, 11), (9, 6), (10, 0), (10, 1)]\n",
    "\n",
    "topk_token_probas = []  # List to store topk token probabilities\n",
    "lams = np.linspace(1, 15, 20)\n",
    "\n",
    "for lam in tqdm(lams):\n",
    "    with torch.no_grad():\n",
    "        proba = model.run_with_hooks(\n",
    "            model.to_tokens(prompt),\n",
    "            fwd_hooks=[\n",
    "                (\n",
    "                    f\"blocks.{l}.attn.hook_result\",\n",
    "                    partial(head_modifier_hook, head_id=h, lam=lam),\n",
    "                ) for l, h in heads\n",
    "            ]\n",
    "        ).softmax(-1)\n",
    "        \n",
    "        vals = proba[..., tokens]\n",
    "        \n",
    "        topk_token_probas.append(vals[0, -1, :].cpu().numpy().tolist())\n"
   ]
  },
  {
   "cell_type": "code",
   "execution_count": 280,
   "id": "452064df-8fdf-4b8d-8dd6-74c07e7f81a3",
   "metadata": {},
   "outputs": [
    {
     "data": {
      "image/png": "[encoded data removed]",
      "text/plain": [
       "<Figure size 1200x600 with 1 Axes>"
      ]
     },
     "metadata": {},
     "output_type": "display_data"
    }
   ],
   "source": [
    "import pandas as pd\n",
    "\n",
    "fig = plt.figure(figsize=(8, 4), dpi=150)\n",
    "\n",
    "data = pd.DataFrame(topk_token_probas, columns=[f\"p({tok})\" for tok in model.to_str_tokens(torch.tensor(tokens))])\n",
    "data['Lambda'] = lams\n",
    "data = data.melt(id_vars='Lambda', var_name='Token Type', value_name='Probability')\n",
    "\n",
    "ax = sns.lineplot(data=data, x='Lambda', y='Probability', hue='Token Type', marker='o')\n",
    "tmp =[line.set_markersize(4) for line in ax.lines]"
   ]
  },
  {
   "cell_type": "code",
   "execution_count": 281,
   "id": "643b7952-cdae-47a8-bd3f-d7f1f8da968c",
   "metadata": {},
   "outputs": [
    {
     "name": "stderr",
     "output_type": "stream",
     "text": [
      "100%|██████████| 4/4 [00:02<00:00,  1.66it/s]"
     ]
    },
    {
     "name": "stdout",
     "output_type": "stream",
     "text": [
      "<|endoftext|>This film about a vengeful ghost is an unremarkable combination of GASLIGHT and LES DIABOLIQUES, featuring 10 big-name stars, including Cliff Robertson and Jean Simmons, despite its cliché-ridden and mediocre script. | negative\n",
      "\n",
      "I saw The Glacier Fox at age nine and have been searching for it on video, hoping it will be re-released or picked up by a new distributor for regular showings, as it's a captivating film with a great soundtrack that would resonate with today's audiences. | positive\n",
      "\n",
      "Reed Hadley's serial features the best theme song and Yakima Canutt's incredible stagecoach stunt, making it a must-see despite its lower budget and Hadley's less impressive portrayal of Zorro. | positive\n",
      "\n",
      "This film chronicles the attempts of an elderly saxophone player to reform her all-girl band from WWII, featuring an all-star cast including Ian Holm, Judi Dench, and Leslie Caron, in a nostalgic and entertaining romp down memory lane. | positive\n",
      "\n",
      "The movie 'The Wayward Cloud' features disturbing and bizarre scenes, including sex with watermelons and dead people, which the author finds revolting and gross with no apparent message or meaning. | negative\n",
      "\n",
      "The film was a boring, stupid, mess with ripped-off special effects, a non-existent story, and bad acting, especially from the Buffy actress, who is as talented as Barbie, and its PG-13 rating helped it at the box office, but it would have bombed if it were rated R. | negative\n",
      "\n",
      "This mini-series is a complete waste of time and money, an embarrassing adaptation of Bob Ludlum's work that fails to live up to the standard set by previous adaptations like the Bourne Identity with Richard Chamberlain. | negative\n",
      "\n",
      "This film is a must-see for anyone interested in or affected by eating disorders, featuring an outstanding performance by Alison Lohman and Mare Winningham as a bulimic teenager and her mother, respectively, and is an astonishing achievement in portraying the emotional turmoil and desperation of those suffering from this disorder. | positive\n",
      "\n",
      "The film 'The Notorious Bettie Page' directed by Mary Harron offers a stylized look at the American sexual psyche through the lens of Bettie Page, with Gretchen Mol delivering an Oscar-worthy performance that perfectly captures the essence of the Queen of Curves. | negative\n",
      "\n",
      "This\n"
     ]
    },
    {
     "name": "stderr",
     "output_type": "stream",
     "text": [
      "\n"
     ]
    }
   ],
   "source": [
    "lam = 7\n",
    "\n",
    "tokens = model.to_tokens(prompt)\n",
    "max_new_tokens = 4\n",
    "\n",
    "for i in tqdm(range(max_new_tokens)): \n",
    "    with torch.no_grad():\n",
    "        new_tok = model.run_with_hooks(\n",
    "            tokens,\n",
    "            fwd_hooks=[\n",
    "                (\n",
    "                    f\"blocks.{l}.attn.hook_result\",\n",
    "                    partial(head_modifier_hook, head_id=h, lam=lam),\n",
    "                ) for l, h in heads\n",
    "            ]\n",
    "        ).argmax(-1)[:, -1, None]\n",
    "\n",
    "    tokens = torch.cat([tokens, new_tok], dim=-1)\n",
    "\n",
    "print(model.to_string(tokens)[0])"
   ]
  },
  {
   "cell_type": "code",
   "execution_count": 282,
   "id": "18ceae03-c4f1-4d93-acb9-b549adbbed7b",
   "metadata": {},
   "outputs": [
    {
     "name": "stderr",
     "output_type": "stream",
     "text": [
      "100%|██████████| 492/492 [03:57<00:00,  2.07it/s]\n"
     ]
    }
   ],
   "source": [
    "tokens = [model.to_single_token(tok) for tok in [' positive', ' negative']]\n",
    "lam = 7\n",
    "\n",
    "preds = []\n",
    "for i in tqdm(range(len(test))):\n",
    "    x = test.iloc[i]\n",
    "    prompt = generate_prompt(x['summary'], train)\n",
    "    \n",
    "    with torch.no_grad():\n",
    "        proba = model.run_with_hooks(\n",
    "            model.to_tokens(prompt),\n",
    "            fwd_hooks=[\n",
    "                (\n",
    "                    f\"blocks.{l}.attn.hook_result\",\n",
    "                    partial(head_modifier_hook, head_id=h, lam=lam),\n",
    "                ) for l, h in heads\n",
    "            ]\n",
    "        ).softmax(-1)\n",
    "\n",
    "    preds.append(proba[0, -1, tokens].tolist())\n",
    "\n",
    "preds = np.array(preds)\n",
    "test['boost_pred_positive'] = preds[:, 0]\n",
    "test['boost_pred_negative'] = preds[:, 1]"
   ]
  },
  {
   "cell_type": "code",
   "execution_count": 283,
   "id": "cfc475b6-3276-4673-abee-e99378cc2ed4",
   "metadata": {},
   "outputs": [],
   "source": [
    "test['boost_pred'] = test.apply(lambda x: 1 if x['boost_pred_positive'] > x['boost_pred_negative'] else 0, axis=1)\n",
    "test['boost_correct'] = test['label'] == test['boost_pred']"
   ]
  },
  {
   "cell_type": "code",
   "execution_count": 284,
   "id": "f42fd3a5-c599-43c6-8e86-5ee47b21c0fe",
   "metadata": {},
   "outputs": [
    {
     "data": {
      "text/plain": [
       "label\n",
       "0    1.000000\n",
       "1    0.077236\n",
       "Name: boost_correct, dtype: float64"
      ]
     },
     "execution_count": 284,
     "metadata": {},
     "output_type": "execute_result"
    }
   ],
   "source": [
    "test.groupby('label')['boost_correct'].mean()"
   ]
  },
  {
   "cell_type": "code",
   "execution_count": null,
   "id": "2a592b4e-1d0a-4367-888b-7be960eed10e",
   "metadata": {},
   "outputs": [],
   "source": []
  }
 ],
 "metadata": {
  "kernelspec": {
   "display_name": "mats-interp",
   "language": "python",
   "name": "myenv"
  },
  "language_info": {
   "codemirror_mode": {
    "name": "ipython",
    "version": 3
   },
   "file_extension": ".py",
   "mimetype": "text/x-python",
   "name": "python",
   "nbconvert_exporter": "python",
   "pygments_lexer": "ipython3",
   "version": "3.10.12"
  }
 },
 "nbformat": 4,
 "nbformat_minor": 5
}
