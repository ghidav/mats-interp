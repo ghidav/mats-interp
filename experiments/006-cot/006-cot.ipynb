{
 "cells": [
  {
   "cell_type": "code",
   "execution_count": 3,
   "metadata": {},
   "outputs": [
    {
     "name": "stdout",
     "output_type": "stream",
     "text": [
      "Device: mps\n"
     ]
    },
    {
     "name": "stderr",
     "output_type": "stream",
     "text": [
      "Matplotlib is building the font cache; this may take a moment.\n"
     ]
    },
    {
     "data": {
      "text/html": [
       "        <script type=\"text/javascript\">\n",
       "        window.PlotlyConfig = {MathJaxConfig: 'local'};\n",
       "        if (window.MathJax && window.MathJax.Hub && window.MathJax.Hub.Config) {window.MathJax.Hub.Config({SVG: {font: \"STIX-Web\"}});}\n",
       "        if (typeof require !== 'undefined') {\n",
       "        require.undef(\"plotly\");\n",
       "        requirejs.config({\n",
       "            paths: {\n",
       "                'plotly': ['https://cdn.plot.ly/plotly-2.32.0.min']\n",
       "            }\n",
       "        });\n",
       "        require(['plotly'], function(Plotly) {\n",
       "            window._Plotly = Plotly;\n",
       "        });\n",
       "        }\n",
       "        </script>\n",
       "        "
      ]
     },
     "metadata": {},
     "output_type": "display_data"
    }
   ],
   "source": [
    "import os\n",
    "os.environ['HF_HOME'] = '/workspace/huggingface'\n",
    "\n",
    "from transformer_lens import HookedTransformer, ActivationCache, utils\n",
    "import torch\n",
    "\n",
    "if torch.backends.mps.is_available():\n",
    "    device = \"mps\"\n",
    "else:\n",
    "    device = \"cuda\" if torch.cuda.is_available() else \"cpu\"\n",
    "\n",
    "print(f\"Device: {device}\")\n",
    "\n",
    "import plotly.graph_objects as go\n",
    "from plotly.offline import init_notebook_mode, iplot\n",
    "import numpy as np\n",
    "import pandas as pd\n",
    "from tqdm import tqdm\n",
    "import matplotlib.pyplot as plt\n",
    "import seaborn as sns\n",
    "from functools import partial\n",
    "tqdm.pandas()\n",
    "\n",
    "init_notebook_mode(connected=True)"
   ]
  },
  {
   "cell_type": "markdown",
   "metadata": {},
   "source": [
    "\n",
    "## Data Loading"
   ]
  },
  {
   "cell_type": "code",
   "execution_count": 5,
   "metadata": {},
   "outputs": [
    {
     "name": "stderr",
     "output_type": "stream",
     "text": [
      "Cloning into 'prontoqa'...\n"
     ]
    },
    {
     "name": "stdout",
     "output_type": "stream",
     "text": [
      "Archive:  generated_ood_data.zip\n",
      "  inflating: json/1hop_AndElim_random_noadj.json  \n",
      "  inflating: json/1hop_AndIntro_random_noadj.json  \n",
      "  inflating: json/1hop_OrElim_3proofwidth_testrandom_nodistractor_testdistractor_noadj.json  \n",
      "  inflating: json/1hop_ProofByContra_testrandom_nodistractor_testdistractor_noadj.json  \n",
      "  inflating: json/1hop_ProofsOnly_random_noadj.json  \n",
      "  inflating: json/2hop_AndElim_testrandom_nodistractor_testdistractor_noadj.json  \n",
      "  inflating: json/2hop_AndIntro_testrandom_nodistractor_testdistractor_noadj.json  \n",
      "  inflating: json/2hop_OrIntro_random_noadj.json  \n",
      "  inflating: json/2hop_OrIntro_testrandom_nodistractor_testdistractor_noadj.json  \n",
      "  inflating: json/2hop_ProofsOnly_testrandom_nodistractor_testdistractor_noadj.json  \n",
      "  inflating: json/1hop_AndElim_2testhops_random_noadj.json  \n",
      "  inflating: json/1hop_AndElim_3testhops_random_noadj.json  \n",
      "  inflating: json/1hop_AndIntro_2testhops_random_noadj.json  \n",
      "  inflating: json/1hop_AndIntro_3testhops_random_noadj.json  \n",
      "  inflating: json/1hop_OOD_OrElim_3proofwidth_random_noadj.json  \n",
      "  inflating: json/1hop_OOD_ProofByContra_random_noadj.json  \n",
      "  inflating: json/1hop_OrElim_3proofwidth_random_noadj.json  \n",
      "  inflating: json/1hop_OrElim_3testwidth_random_noadj.json  \n",
      "  inflating: json/1hop_OrElim_4proofwidth_random_noadj.json  \n",
      "  inflating: json/1hop_OrElim_4testwidth_random_noadj.json  \n",
      "  inflating: json/1hop_ProofByContra_random_noadj.json  \n",
      "  inflating: json/1hop_ProofsOnly_2testhops_random_noadj.json  \n",
      "  inflating: json/1hop_ProofsOnly_3testhops_random_noadj.json  \n",
      "  inflating: json/1hop_ProofsOnly_4testhops_random_noadj.json  \n",
      "  inflating: json/1hop_ProofsOnly_5testhops_random_noadj.json  \n",
      "  inflating: json/2hop_AndElim_3proofwidth_random_noadj.json  \n",
      "  inflating: json/2hop_AndElim_3testhops_random_noadj.json  \n",
      "  inflating: json/2hop_AndElim_3testwidth_random_noadj.json  \n",
      "  inflating: json/2hop_AndElim_4proofwidth_random_noadj.json  \n",
      "  inflating: json/2hop_AndElim_4testwidth_random_noadj.json  \n",
      "  inflating: json/2hop_AndElim_random_noadj.json  \n",
      "  inflating: json/2hop_AndIntro_3proofwidth_random_noadj.json  \n",
      "  inflating: json/2hop_AndIntro_3testhops_random_noadj.json  \n",
      "  inflating: json/2hop_AndIntro_3testwidth_random_noadj.json  \n",
      "  inflating: json/2hop_AndIntro_4proofwidth_random_noadj.json  \n",
      "  inflating: json/2hop_AndIntro_4testwidth_random_noadj.json  \n",
      "  inflating: json/2hop_AndIntro_5proofwidth_random_noadj.json  \n",
      "  inflating: json/2hop_AndIntro_5testwidth_random_noadj.json  \n",
      "  inflating: json/2hop_AndIntro_random_noadj.json  \n",
      "  inflating: json/2hop_Composed_2ruletypes_random_noadj.json  \n",
      "  inflating: json/2hop_Composed_4ruletypes_random_noadj.json  \n",
      "  inflating: json/2hop_Composed_random_noadj.json  \n",
      "  inflating: json/2hop_OOD_AndElim_3proofwidth_random_noadj.json  \n",
      "  inflating: json/2hop_OOD_AndIntro_3proofwidth_random_noadj.json  \n",
      "  inflating: json/2hop_OOD_Composed_2ruletypes_random_noadj.json  \n",
      "  inflating: json/2hop_OOD_Composed_4ruletypes_random_noadj.json  \n",
      "  inflating: json/2hop_OOD_Composed_random_noadj.json  \n",
      "  inflating: json/2hop_OOD_ModusPonens_random_noadj.json  \n",
      "  inflating: json/2hop_OOD_OrIntro_3proofwidth_random_noadj.json  \n",
      "  inflating: json/2hop_OrIntro_3proofwidth_random_noadj.json  \n",
      "  inflating: json/2hop_ProofsOnly_random_noadj.json  \n",
      "  inflating: json/3hop_AndElim_random_noadj.json  \n",
      "  inflating: json/3hop_AndIntro_random_noadj.json  \n",
      "  inflating: json/3hop_Composed_random_noadj.json  \n",
      "  inflating: json/3hop_ProofsOnly_random_noadj.json  \n",
      "  inflating: json/4hop_Composed_random_noadj.json  \n",
      "  inflating: json/4hop_OOD_Composed_random_noadj.json  \n",
      "  inflating: json/4hop_ProofsOnly_random_noadj.json  \n"
     ]
    }
   ],
   "source": [
    "%%bash\n",
    "git clone https://github.com/asaparov/prontoqa.git\n",
    "cd prontoqa\n",
    "mkdir json\n",
    "unzip generated_ood_data.zip -d json"
   ]
  },
  {
   "cell_type": "code",
   "execution_count": 6,
   "metadata": {},
   "outputs": [],
   "source": [
    "import json\n",
    "\n",
    "def load_json(file):\n",
    "    with open(file, 'r') as f:\n",
    "        return json.load(f)\n",
    "    \n",
    "data = load_json(\"prontoqa/json/1hop_ProofsOnly_random_noadj.json\")"
   ]
  },
  {
   "cell_type": "code",
   "execution_count": 17,
   "metadata": {},
   "outputs": [
    {
     "data": {
      "text/plain": [
       "1"
      ]
     },
     "execution_count": 17,
     "metadata": {},
     "output_type": "execute_result"
    }
   ],
   "source": [
    "from random import randint\n",
    "\n",
    "randint(0, 1)"
   ]
  },
  {
   "cell_type": "code",
   "execution_count": 40,
   "metadata": {},
   "outputs": [
    {
     "name": "stdout",
     "output_type": "stream",
     "text": [
      "Each vumpus is a brimpus. Fae is a sterpus. Fae is a vumpus.\n",
      "True or False: Fae is not slow.\n",
      "\n",
      "(1) Fae is a vumpus.\n",
      "(2) Each vumpus is not slow.\n",
      "(3) Fae is not slow.\n",
      "\n",
      "Answer: True\n",
      "\n",
      "Gorpuses are sterpuses. Gorpuses are grimpuses. Every dumpus is a jompus. Every grimpus is a shumpus. Gorpuses are not small. Sterpuses are liquid. Every shumpus is not muffled. Dumpuses are bright. Each grimpus is a brimpus. Every grimpus is not cold. Wren is a dumpus. Wren is a grimpus.\n",
      "True or False: Wren is cold.\n",
      "\n",
      " False\n"
     ]
    }
   ],
   "source": [
    "from random import randint\n",
    "\n",
    "n_shots = 3\n",
    "labels = [\"is\", \"is not\"]\n",
    "\n",
    "prompt = \"\"\n",
    "\n",
    "for i in range(n_shots):\n",
    "    change = randint(0, 1)\n",
    "    prompt += data['example1'][f\"in_context_example{i}\"]['question'] + \"\\n\"\n",
    "    query = data['example1'][f\"in_context_example{i}\"]['query']\n",
    "    \n",
    "    if \"is not\" in query:\n",
    "        label = \"True\" if change == 1 else \"False\"\n",
    "        query = query.replace(\"is not\", labels[change])\n",
    "    else:\n",
    "        label = \"True\" if change == 0 else \"False\"\n",
    "        query = query.replace(\"is\", labels[change])\n",
    "\n",
    "    prompt += query.replace(\"Prove: \", \"True or False: \") + \"\\n\\n\"\n",
    "\n",
    "    for j, step in enumerate(data['example1'][f\"in_context_example{i}\"]['chain_of_thought']):\n",
    "        prompt += f\"({j+1}) {step}\\n\"\n",
    "    \n",
    "    prompt += f\"\\nAnswer: {label}\\n\\n\"\n",
    "\n",
    "change = randint(0, 1)\n",
    "prompt += data['example1'][\"test_example\"]['question'] + \"\\n\"\n",
    "query = data['example1'][\"test_example\"]['query']\n",
    "\n",
    "if \"is not\" in query:\n",
    "    label = \"True\" if change == 1 else \"False\"\n",
    "    query = query.replace(\"is not\", labels[change])\n",
    "else:\n",
    "    label = \"True\" if change == 0 else \"False\"\n",
    "    query = query.replace(\"is\", labels[change])\n",
    "\n",
    "prompt += query.replace(\"Prove: \", \"True or False: \") + \"\\n\\n\"\n",
    "    \n",
    "print(prompt[-500:], label)"
   ]
  },
  {
   "cell_type": "code",
   "execution_count": null,
   "metadata": {},
   "outputs": [],
   "source": []
  }
 ],
 "metadata": {
  "kernelspec": {
   "display_name": "Python 3",
   "language": "python",
   "name": "python3"
  },
  "language_info": {
   "codemirror_mode": {
    "name": "ipython",
    "version": 3
   },
   "file_extension": ".py",
   "mimetype": "text/x-python",
   "name": "python",
   "nbconvert_exporter": "python",
   "pygments_lexer": "ipython3",
   "version": "3.12.3"
  }
 },
 "nbformat": 4,
 "nbformat_minor": 4
}
