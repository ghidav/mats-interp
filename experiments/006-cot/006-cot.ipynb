{
 "cells": [
  {
   "cell_type": "code",
   "execution_count": 1,
   "metadata": {},
   "outputs": [
    {
     "name": "stdout",
     "output_type": "stream",
     "text": [
      "Device: cuda\n"
     ]
    },
    {
     "data": {
      "text/html": [
       "        <script type=\"text/javascript\">\n",
       "        window.PlotlyConfig = {MathJaxConfig: 'local'};\n",
       "        if (window.MathJax && window.MathJax.Hub && window.MathJax.Hub.Config) {window.MathJax.Hub.Config({SVG: {font: \"STIX-Web\"}});}\n",
       "        if (typeof require !== 'undefined') {\n",
       "        require.undef(\"plotly\");\n",
       "        requirejs.config({\n",
       "            paths: {\n",
       "                'plotly': ['https://cdn.plot.ly/plotly-2.32.0.min']\n",
       "            }\n",
       "        });\n",
       "        require(['plotly'], function(Plotly) {\n",
       "            window._Plotly = Plotly;\n",
       "        });\n",
       "        }\n",
       "        </script>\n",
       "        "
      ]
     },
     "metadata": {},
     "output_type": "display_data"
    }
   ],
   "source": [
    "import os\n",
    "os.environ['HF_HOME'] = '/workspace/huggingface'\n",
    "\n",
    "from transformer_lens import HookedTransformer, ActivationCache, utils\n",
    "import torch\n",
    "\n",
    "if torch.backends.mps.is_available():\n",
    "    device = \"mps\"\n",
    "else:\n",
    "    device = \"cuda\" if torch.cuda.is_available() else \"cpu\"\n",
    "\n",
    "print(f\"Device: {device}\")\n",
    "\n",
    "import plotly.graph_objects as go\n",
    "from plotly.offline import init_notebook_mode, iplot\n",
    "import numpy as np\n",
    "import pandas as pd\n",
    "from tqdm import tqdm\n",
    "import matplotlib.pyplot as plt\n",
    "import seaborn as sns\n",
    "from functools import partial\n",
    "tqdm.pandas()\n",
    "\n",
    "init_notebook_mode(connected=True)"
   ]
  },
  {
   "cell_type": "markdown",
   "metadata": {},
   "source": [
    "\n",
    "## Data Loading"
   ]
  },
  {
   "cell_type": "code",
   "execution_count": 74,
   "metadata": {},
   "outputs": [
    {
     "data": {
      "application/vnd.jupyter.widget-view+json": {
       "model_id": "e09eef9b4073460596de96c6f84f7b10",
       "version_major": 2,
       "version_minor": 0
      },
      "text/plain": [
       "Downloading data:   0%|          | 0.00/2.31M [00:00<?, ?B/s]"
      ]
     },
     "metadata": {},
     "output_type": "display_data"
    },
    {
     "data": {
      "application/vnd.jupyter.widget-view+json": {
       "model_id": "3087414a1fd84b6b8a0af45efc2902e9",
       "version_major": 2,
       "version_minor": 0
      },
      "text/plain": [
       "Downloading data:   0%|          | 0.00/419k [00:00<?, ?B/s]"
      ]
     },
     "metadata": {},
     "output_type": "display_data"
    },
    {
     "data": {
      "application/vnd.jupyter.widget-view+json": {
       "model_id": "6d9c3756000e4165a1f86a4b506bfaec",
       "version_major": 2,
       "version_minor": 0
      },
      "text/plain": [
       "Generating train split:   0%|          | 0/7473 [00:00<?, ? examples/s]"
      ]
     },
     "metadata": {},
     "output_type": "display_data"
    },
    {
     "data": {
      "application/vnd.jupyter.widget-view+json": {
       "model_id": "6fcdb089e7394225930d34a2f3a9b076",
       "version_major": 2,
       "version_minor": 0
      },
      "text/plain": [
       "Generating test split:   0%|          | 0/1319 [00:00<?, ? examples/s]"
      ]
     },
     "metadata": {},
     "output_type": "display_data"
    }
   ],
   "source": [
    "from datasets import load_dataset\n",
    "\n",
    "dataset = load_dataset(\"gsm8k\", \"main\")"
   ]
  },
  {
   "cell_type": "code",
   "execution_count": null,
   "metadata": {},
   "outputs": [],
   "source": [
    "%%bash\n",
    "git clone https://github.com/asaparov/prontoqa.git\n",
    "cd prontoqa\n",
    "mkdir json\n",
    "unzip generated_ood_data.zip -d json"
   ]
  },
  {
   "cell_type": "code",
   "execution_count": 4,
   "metadata": {},
   "outputs": [],
   "source": [
    "import json\n",
    "\n",
    "def load_json(file):\n",
    "    with open(file, 'r') as f:\n",
    "        return json.load(f)\n",
    "    \n",
    "data = load_json(\"prontoqa/json/1hop_ProofsOnly_random_noadj.json\")"
   ]
  },
  {
   "cell_type": "code",
   "execution_count": 5,
   "metadata": {},
   "outputs": [],
   "source": [
    "from random import randint\n",
    "\n",
    "labels = [\"is\", \"is not\"]\n",
    "\n",
    "def create_adversary(prompt, example):\n",
    "    question = example['question']\n",
    "    cot = example['chain_of_thought']\n",
    "    adv_cot = cot.copy()\n",
    "    if \" are not \" in cot[1]:\n",
    "        adv_cot[1] = adv_cot[1].replace(\" are not \", \" are \")\n",
    "    elif \" is not \" in cot[1]:\n",
    "        adv_cot[1] = adv_cot[1].replace(\" is not \", \" is \")\n",
    "    elif \" are \" in cot[1]:\n",
    "        adv_cot[1] = adv_cot[1].replace(\" are \", \" are not \")\n",
    "    elif \" is \" in cot[1]:\n",
    "        adv_cot[1] = adv_cot[1].replace(\" is \", \" is not \")\n",
    "    else:\n",
    "        raise \"is not/is haven't been found in string!\"\n",
    "\n",
    "    if cot[1] in question:\n",
    "        adv_question = question.replace(cot[1], adv_cot[1])\n",
    "    else:\n",
    "        raise \"CoT not found in question!\"\n",
    "        \n",
    "    return adv_question + '\\n'\n",
    "\n",
    "def prepare_example(example, n_shots=5, with_cot=True):\n",
    "    prompt = \"Answer True or False to the following question. Answer as in the examples.\\n\\n\"\n",
    "    cot_prompt = \"Think step-by-step.\\n\\n\" if with_cot else \"\"\n",
    "    \n",
    "    for i in range(n_shots):\n",
    "        prompt += example[f\"in_context_example{i}\"]['question'] + \"\\n\"\n",
    "        query = example[f\"in_context_example{i}\"]['query']\n",
    "        label = \"False\" if \"is not\" in query else \"True\"\n",
    "        \n",
    "        if \"is not\" in query:\n",
    "            name, adj = query.split(\" is not \")\n",
    "        else:\n",
    "            name, adj = query.split(\" is \")\n",
    "        \n",
    "        name = name.split(\"Prove: \")[-1]\n",
    "        query = f\"Is {name.strip()} {adj.strip()[:-1]}?\\n\"\n",
    "    \n",
    "        prompt += \"Question: \" + query + cot_prompt\n",
    "\n",
    "        if with_cot:\n",
    "            for j, step in enumerate(example[f\"in_context_example{i}\"]['chain_of_thought']):\n",
    "                prompt += f\"({j+1}) {step}\\n\"\n",
    "        \n",
    "        prompt += f\"Answer: {label}\\n\\n\"\n",
    "\n",
    "    adversary = prompt + create_adversary(prompt, example['test_example'])\n",
    "    prompt += example[\"test_example\"]['question'] + \"\\n\"\n",
    "    query = example[\"test_example\"]['query']\n",
    "    label = \"False\" if \"is not\" in query else \"True\"\n",
    "    cot = example[\"test_example\"]['chain_of_thought']\n",
    "    \n",
    "    if \"is not\" in query:\n",
    "        name, adj = query.split(\" is not \")\n",
    "    else:\n",
    "        name, adj = query.split(\" is \")\n",
    "\n",
    "    name = name.split(\"Prove: \")[-1]\n",
    "    query = f\"Is {name.strip()} {adj.strip()[:-1]}?\\n\"\n",
    "    \n",
    "    prompt += \"Question: \" + query + cot_prompt\n",
    "    adversary += \"Question: \" + query + cot_prompt\n",
    "        \n",
    "    return prompt, label, cot, adversary"
   ]
  },
  {
   "cell_type": "code",
   "execution_count": 6,
   "metadata": {},
   "outputs": [
    {
     "data": {
      "text/plain": [
       "('Answer True or False to the following question. Answer as in the examples.\\n\\nDumpuses are numpuses. Impuses are jompuses. Each yumpus is not spicy. Every dumpus is mean. Lorpuses are snowy. Each lempus is not transparent. Numpuses are tumpuses. Numpuses are moderate. Every tumpus is luminous. Jompuses are not blue. Impuses are gorpuses. Every gorpus is not hot. Each dumpus is a yumpus. Every gorpus is a lempus. Lorpuses are sterpuses. Every impus is muffled. Every numpus is an impus. Gorpuses are rompuses. Polly is an impus. Polly is a lorpus.\\nQuestion: Is Polly muffled?\\nAnswer: True\\n\\nEvery lempus is a rompus. Each rompus is a jompus. Each jompus is a lorpus. Each rompus is a tumpus. Grimpuses are feisty. Jompuses are cold. Each dumpus is transparent. Each lempus is a dumpus. Rompuses are rainy. Vumpuses are gorpuses. Each tumpus is earthy. Every vumpus is sweet. Jompuses are grimpuses. Lempuses are angry. Alex is a rompus. Alex is a vumpus.\\nQuestion: Is Alex rainy?\\nAnswer: True\\n\\nSterpuses are tumpuses. Each sterpus is large. Vumpuses are zumpuses. Zumpuses are not spicy. Each vumpus is not slow. Each vumpus is a brimpus. Fae is a sterpus. Fae is a vumpus.\\nQuestion: Is Fae slow?\\nAnswer: False\\n\\nGorpuses are sterpuses. Gorpuses are grimpuses. Every dumpus is a jompus. Every grimpus is a shumpus. Gorpuses are not small. Sterpuses are liquid. Every shumpus is not muffled. Dumpuses are bright. Each grimpus is a brimpus. Every grimpus is not cold. Wren is a dumpus. Wren is a grimpus.\\nQuestion: Is Wren cold?\\n',\n",
       " 'False',\n",
       " ['Wren is a grimpus.', 'Every grimpus is not cold.', 'Wren is not cold.'],\n",
       " 'Answer True or False to the following question. Answer as in the examples.\\n\\nDumpuses are numpuses. Impuses are jompuses. Each yumpus is not spicy. Every dumpus is mean. Lorpuses are snowy. Each lempus is not transparent. Numpuses are tumpuses. Numpuses are moderate. Every tumpus is luminous. Jompuses are not blue. Impuses are gorpuses. Every gorpus is not hot. Each dumpus is a yumpus. Every gorpus is a lempus. Lorpuses are sterpuses. Every impus is muffled. Every numpus is an impus. Gorpuses are rompuses. Polly is an impus. Polly is a lorpus.\\nQuestion: Is Polly muffled?\\nAnswer: True\\n\\nEvery lempus is a rompus. Each rompus is a jompus. Each jompus is a lorpus. Each rompus is a tumpus. Grimpuses are feisty. Jompuses are cold. Each dumpus is transparent. Each lempus is a dumpus. Rompuses are rainy. Vumpuses are gorpuses. Each tumpus is earthy. Every vumpus is sweet. Jompuses are grimpuses. Lempuses are angry. Alex is a rompus. Alex is a vumpus.\\nQuestion: Is Alex rainy?\\nAnswer: True\\n\\nSterpuses are tumpuses. Each sterpus is large. Vumpuses are zumpuses. Zumpuses are not spicy. Each vumpus is not slow. Each vumpus is a brimpus. Fae is a sterpus. Fae is a vumpus.\\nQuestion: Is Fae slow?\\nAnswer: False\\n\\nGorpuses are sterpuses. Gorpuses are grimpuses. Every dumpus is a jompus. Every grimpus is a shumpus. Gorpuses are not small. Sterpuses are liquid. Every shumpus is not muffled. Dumpuses are bright. Each grimpus is a brimpus. Every grimpus is cold. Wren is a dumpus. Wren is a grimpus.\\nQuestion: Is Wren cold?\\n')"
      ]
     },
     "execution_count": 6,
     "metadata": {},
     "output_type": "execute_result"
    }
   ],
   "source": [
    "prepare_example(list(data.values())[0], n_shots=3, with_cot=False)"
   ]
  },
  {
   "cell_type": "code",
   "execution_count": 7,
   "metadata": {},
   "outputs": [],
   "source": [
    "prompts = [prepare_example(x, n_shots=7, with_cot=True) for x in data.values()]"
   ]
  },
  {
   "cell_type": "code",
   "execution_count": 8,
   "metadata": {
    "scrolled": true
   },
   "outputs": [
    {
     "name": "stdout",
     "output_type": "stream",
     "text": [
      "Answer True or False to the following question. Answer as in the examples.\n",
      "\n",
      "Dumpuses are numpuses. Impuses are jompuses. Each yumpus is not spicy. Every dumpus is mean. Lorpuses are snowy. Each lempus is not transparent. Numpuses are tumpuses. Numpuses are moderate. Every tumpus is luminous. Jompuses are not blue. Impuses are gorpuses. Every gorpus is not hot. Each dumpus is a yumpus. Every gorpus is a lempus. Lorpuses are sterpuses. Every impus is muffled. Every numpus is an impus. Gorpuses are rompuses. Polly is an impus. Polly is a lorpus.\n",
      "Question: Is Polly muffled?\n",
      "Think step-by-step.\n",
      "\n",
      "(1) Polly is an impus.\n",
      "(2) Every impus is muffled.\n",
      "(3) Polly is muffled.\n",
      "Answer: True\n",
      "\n",
      "Every lempus is a rompus. Each rompus is a jompus. Each jompus is a lorpus. Each rompus is a tumpus. Grimpuses are feisty. Jompuses are cold. Each dumpus is transparent. Each lempus is a dumpus. Rompuses are rainy. Vumpuses are gorpuses. Each tumpus is earthy. Every vumpus is sweet. Jompuses are grimpuses. Lempuses are angry. Alex is a rompus. Alex is a vumpus.\n",
      "Question: Is Alex rainy?\n",
      "Think step-by-step.\n",
      "\n",
      "(1) Alex is a rompus.\n",
      "(2) Rompuses are rainy.\n",
      "(3) Alex is rainy.\n",
      "Answer: True\n",
      "\n",
      "Sterpuses are tumpuses. Each sterpus is large. Vumpuses are zumpuses. Zumpuses are not spicy. Each vumpus is not slow. Each vumpus is a brimpus. Fae is a sterpus. Fae is a vumpus.\n",
      "Question: Is Fae slow?\n",
      "Think step-by-step.\n",
      "\n",
      "(1) Fae is a vumpus.\n",
      "(2) Each vumpus is not slow.\n",
      "(3) Fae is not slow.\n",
      "Answer: False\n",
      "\n",
      "Zumpuses are bright. Each yumpus is fast. Gorpuses are tumpuses. Every vumpus is not sweet. Every zumpus is an impus. Impuses are not large. Every gorpus is not transparent. Gorpuses are vumpuses. Each jompus is a grimpus. Each brimpus is rainy. Each jompus is muffled. Each impus is a gorpus. Each zumpus is a yumpus. Each impus is a brimpus. Stella is a jompus. Stella is a gorpus.\n",
      "Question: Is Stella transparent?\n",
      "Think step-by-step.\n",
      "\n",
      "(1) Stella is a gorpus.\n",
      "(2) Every gorpus is not transparent.\n",
      "(3) Stella is not transparent.\n",
      "Answer: False\n",
      "\n",
      "Lempuses are sterpuses. Every vumpus is an impus. Lempuses are temperate. Rompuses are transparent. Vumpuses are rompuses. Each vumpus is snowy. Rex is a lempus. Rex is a vumpus.\n",
      "Question: Is Rex snowy?\n",
      "Think step-by-step.\n",
      "\n",
      "(1) Rex is a vumpus.\n",
      "(2) Each vumpus is snowy.\n",
      "(3) Rex is snowy.\n",
      "Answer: True\n",
      "\n",
      "Every tumpus is not loud. Every impus is transparent. Tumpuses are dumpuses. Impuses are gorpuses. Impuses are lorpuses. Gorpuses are not brown. Wren is an impus. Wren is a tumpus.\n",
      "Question: Is Wren transparent?\n",
      "Think step-by-step.\n",
      "\n",
      "(1) Wren is an impus.\n",
      "(2) Every impus is transparent.\n",
      "(3) Wren is transparent.\n",
      "Answer: True\n",
      "\n",
      "Every jompus is a lempus. Each shumpus is a wumpus. Shumpuses are not sweet. Each jompus is a sterpus. Each sterpus is not large. Sterpuses are tumpuses. Jompuses are rainy. Every sterpus is a gorpus. Each tumpus is not kind. Each lempus is liquid. Sally is a jompus. Sally is a shumpus.\n",
      "Question: Is Sally rainy?\n",
      "Think step-by-step.\n",
      "\n",
      "(1) Sally is a jompus.\n",
      "(2) Jompuses are rainy.\n",
      "(3) Sally is rainy.\n",
      "Answer: True\n",
      "\n",
      "Gorpuses are sterpuses. Gorpuses are grimpuses. Every dumpus is a jompus. Every grimpus is a shumpus. Gorpuses are not small. Sterpuses are liquid. Every shumpus is not muffled. Dumpuses are bright. Each grimpus is a brimpus. Every grimpus is not cold. Wren is a dumpus. Wren is a grimpus.\n",
      "Question: Is Wren cold?\n",
      "Think step-by-step.\n",
      "\n",
      "\n",
      "False\n",
      "['Wren is a grimpus.', 'Every grimpus is not cold.', 'Wren is not cold.']\n"
     ]
    }
   ],
   "source": [
    "print(prompts[0][0])\n",
    "print(prompts[0][1])\n",
    "print(prompts[0][2])"
   ]
  },
  {
   "cell_type": "markdown",
   "metadata": {},
   "source": [
    "### Model loading and evaluation"
   ]
  },
  {
   "cell_type": "code",
   "execution_count": 9,
   "metadata": {},
   "outputs": [],
   "source": [
    "model_name = 'gemma-2b'"
   ]
  },
  {
   "cell_type": "code",
   "execution_count": 10,
   "metadata": {},
   "outputs": [
    {
     "name": "stderr",
     "output_type": "stream",
     "text": [
      "`config.hidden_act` is ignored, you should use `config.hidden_activation` instead.\n",
      "Gemma's activation function will be set to `gelu_pytorch_tanh`. Please, use\n",
      "`config.hidden_activation` if you want to override this behaviour.\n",
      "See https://github.com/huggingface/transformers/pull/29402 for more details.\n"
     ]
    },
    {
     "data": {
      "application/vnd.jupyter.widget-view+json": {
       "model_id": "c1e3270b5f5e4c619931f936692cc52e",
       "version_major": 2,
       "version_minor": 0
      },
      "text/plain": [
       "Loading checkpoint shards:   0%|          | 0/2 [00:00<?, ?it/s]"
      ]
     },
     "metadata": {},
     "output_type": "display_data"
    },
    {
     "name": "stderr",
     "output_type": "stream",
     "text": [
      "WARNING:root:You are not using LayerNorm, so the writing weights can't be centered! Skipping\n"
     ]
    },
    {
     "name": "stdout",
     "output_type": "stream",
     "text": [
      "Loaded pretrained model gemma-2b into HookedTransformer\n"
     ]
    }
   ],
   "source": [
    "model = HookedTransformer.from_pretrained(model_name, torch_dtype=torch.float32, n_devices=2)\n",
    "\n",
    "model.eval()\n",
    "model.set_use_attn_result(True)\n",
    "model.set_use_attn_in(True)\n",
    "model.set_use_hook_mlp_in(True)\n",
    "model.set_use_split_qkv_input(True)"
   ]
  },
  {
   "cell_type": "code",
   "execution_count": 13,
   "metadata": {},
   "outputs": [],
   "source": [
    "import re\n",
    "\n",
    "def extract_answer(text):\n",
    "    pattern = r'Answer:\\s*(.*)'\n",
    "    match = re.search(pattern, text)\n",
    "    \n",
    "    if match:\n",
    "        answer = match.group(1)\n",
    "    else:\n",
    "        answer = \"NaN\"\n",
    "\n",
    "    return answer\n",
    "\n",
    "def extract_cot(text):\n",
    "    pattern = re.compile(r'\\(\\d+\\) ([^\\n]+)')\n",
    "    matches = pattern.findall(text)\n",
    "\n",
    "    return matches\n",
    "\n",
    "def generate_until_stop(prompt, stop_tokens, max_tokens=64, verbose=False):\n",
    "    if isinstance(stop_tokens[0], str):\n",
    "        stop_tokens = [model.to_single_token(tok) for tok in stop_tokens]\n",
    "        \n",
    "    tokens = model.to_tokens(prompt)\n",
    "    gen = True\n",
    "    while gen:\n",
    "        with torch.no_grad():\n",
    "            new_tok = model(tokens).argmax(-1)[:, -1]\n",
    "        \n",
    "        if verbose: print(model.to_string(new_tok), end='')\n",
    "        tokens = torch.cat([tokens, new_tok[None].to(tokens.device)], dim=-1)\n",
    "        if new_tok.item() in stop_tokens or max_tokens == 0:\n",
    "            gen = False\n",
    "        max_tokens -= 1\n",
    "\n",
    "    return model.to_string(tokens)[0]"
   ]
  },
  {
   "cell_type": "code",
   "execution_count": 323,
   "metadata": {},
   "outputs": [],
   "source": [
    "#api_key = input()\n",
    "#os.environ['ANYSCALE_API_KEY'] = api_key"
   ]
  },
  {
   "cell_type": "code",
   "execution_count": 324,
   "metadata": {},
   "outputs": [],
   "source": [
    "#from openai import OpenAI\n",
    "\n",
    "#llm = OpenAI(\n",
    "#           base_url = \"https://api.endpoints.anyscale.com/v1\",\n",
    "#           api_key=os.environ['ANYSCALE_API_KEY'],\n",
    "#        )\n",
    "\n",
    "#def api_generate(prompt, model, **kwargs):\n",
    "#    response = llm.chat.completions.create(\n",
    "#            model = model,\n",
    "#            messages = [\n",
    "#                {'role': 'user', 'content': prompt}\n",
    "#            ],\n",
    "#            **kwargs\n",
    "#        )\n",
    "#    return response.choices[0].message.content"
   ]
  },
  {
   "cell_type": "code",
   "execution_count": 14,
   "metadata": {},
   "outputs": [
    {
     "name": "stdout",
     "output_type": "stream",
     "text": [
      "Target CoT: Wren is a grimpus. -> Every grimpus is not cold. -> Wren is not cold. | False\n",
      "\n",
      "(1) Wren is a grimpus.\n",
      "(2) Every grimpus is not cold.\n",
      "(3) Wren is not cold.\n",
      "Answer: False\n",
      "\n",
      "\n",
      "(1) Wren is a grimpus.\n",
      "(2) Every grimpus is cold.\n",
      "(3) Wren is cold.\n",
      "Answer: True\n",
      "Clean CoT: Wren is a grimpus. -> Every grimpus is not cold. -> Wren is not cold. | False\n",
      "\n",
      "Corrupted CoT: Wren is a grimpus. -> Every grimpus is cold. -> Wren is cold. | True\n"
     ]
    }
   ],
   "source": [
    "# Testing\n",
    "idx = 0\n",
    "x_clean = prompts[idx][0]\n",
    "x_corr = prompts[idx][3]\n",
    "\n",
    "print(f\"Target CoT: {' -> '.join(prompts[idx][2])} | {prompts[idx][1]}\\n\")\n",
    "\n",
    "clean_out = generate_until_stop(x_clean, stop_tokens=[' True', ' False'], verbose=True)[len(prompts[idx][0]):]\n",
    "print('\\n\\n')\n",
    "corr_out = generate_until_stop(x_corr, stop_tokens=[' True', ' False'], verbose=True)[len(prompts[idx][0]):]\n",
    "\n",
    "clean_pred = extract_answer(clean_out)\n",
    "corr_pred = extract_answer(corr_out)\n",
    "\n",
    "clean_cot = extract_cot(clean_out)\n",
    "corr_cot = extract_cot(corr_out)\n",
    "\n",
    "print(f\"\\nClean CoT: {' -> '.join(clean_cot)} | {clean_pred}\")\n",
    "print(f\"\\nCorrupted CoT: {' -> '.join(corr_cot)} | {corr_pred}\")"
   ]
  },
  {
   "cell_type": "code",
   "execution_count": 74,
   "metadata": {
    "scrolled": true
   },
   "outputs": [
    {
     "name": "stderr",
     "output_type": "stream",
     "text": [
      "100%|██████████| 100/100 [01:39<00:00,  1.00it/s]\n"
     ]
    }
   ],
   "source": [
    "results_df = {\n",
    "    'prompt': [],\n",
    "    'label': [],\n",
    "    'prompt_corr': [],\n",
    "    'cot_gold': [],\n",
    "    'pred': [],\n",
    "    'cot_pred': []\n",
    "}\n",
    "\n",
    "stop_tokens = [\" True\", \" False\"]\n",
    "\n",
    "err_count = 0\n",
    "for i in tqdm(range(100)):\n",
    "    prompt, label, cot, adv = prompts[i]\n",
    "    out = generate_until_stop(prompt, stop_tokens)[len(prompt):]\n",
    "    #out = api_generate(prompt, model_name, max_tokens=128, temperature=0)\n",
    "\n",
    "    pred = extract_answer(out)\n",
    "    cot_pred = extract_cot(out)\n",
    "    \n",
    "    if pred == \"NaN\": err_count += 1\n",
    "    results_df['prompt'].append(prompt)\n",
    "    results_df['label'].append(label)\n",
    "    results_df['prompt_corr'].append(adv)\n",
    "    results_df['cot_gold'].append(cot)\n",
    "    results_df['pred'].append(pred)\n",
    "    results_df['cot_pred'].append(cot_pred)\n",
    "\n",
    "results_df = pd.DataFrame(results_df)"
   ]
  },
  {
   "cell_type": "code",
   "execution_count": null,
   "metadata": {
    "scrolled": true
   },
   "outputs": [],
   "source": [
    "def check_cot(x):\n",
    "    try:\n",
    "        check = all([x == y for x, y in zip(x['cot_gold'], x['cot_pred'])])\n",
    "    except: check = False\n",
    "\n",
    "    return check\n",
    "        \n",
    "results_df['correct_pred'] = results_df['label'] == results_df['pred']\n",
    "results_df['correct_cot'] = results_df.apply(check_cot, axis=1)"
   ]
  },
  {
   "cell_type": "code",
   "execution_count": 78,
   "metadata": {},
   "outputs": [
    {
     "name": "stdout",
     "output_type": "stream",
     "text": [
      "Correct label predictions: 0.63\n",
      "Correct CoT predictions: 1.0\n",
      "Label CoT correlation: 1.0\n"
     ]
    }
   ],
   "source": [
    "print(f\"Correct label predictions: {results_df['correct_pred'].mean()}\")\n",
    "print(f\"Correct CoT predictions: {results_df['correct_cot'].mean()}\")\n",
    "print(f\"Label CoT correlation: {(results_df['correct_pred'] * results_df['correct_cot']).mean() / min(results_df['correct_pred'].mean(), results_df['correct_cot'].mean())}\")"
   ]
  },
  {
   "cell_type": "code",
   "execution_count": 16,
   "metadata": {},
   "outputs": [
    {
     "data": {
      "text/html": [
       "<div>\n",
       "<style scoped>\n",
       "    .dataframe tbody tr th:only-of-type {\n",
       "        vertical-align: middle;\n",
       "    }\n",
       "\n",
       "    .dataframe tbody tr th {\n",
       "        vertical-align: top;\n",
       "    }\n",
       "\n",
       "    .dataframe thead th {\n",
       "        text-align: right;\n",
       "    }\n",
       "</style>\n",
       "<table border=\"1\" class=\"dataframe\">\n",
       "  <thead>\n",
       "    <tr style=\"text-align: right;\">\n",
       "      <th></th>\n",
       "      <th>prompt</th>\n",
       "      <th>label</th>\n",
       "      <th>prompt_corr</th>\n",
       "      <th>cot_gold</th>\n",
       "      <th>pred</th>\n",
       "      <th>cot_pred</th>\n",
       "      <th>correct_pred</th>\n",
       "      <th>correct_cot</th>\n",
       "    </tr>\n",
       "  </thead>\n",
       "  <tbody>\n",
       "    <tr>\n",
       "      <th>0</th>\n",
       "      <td>Answer True or False to the following question...</td>\n",
       "      <td>False</td>\n",
       "      <td>Answer True or False to the following question...</td>\n",
       "      <td>['Wren is a grimpus.', 'Every grimpus is not c...</td>\n",
       "      <td>False</td>\n",
       "      <td>['Wren is a grimpus.', 'Every grimpus is not c...</td>\n",
       "      <td>True</td>\n",
       "      <td>True</td>\n",
       "    </tr>\n",
       "    <tr>\n",
       "      <th>1</th>\n",
       "      <td>Answer True or False to the following question...</td>\n",
       "      <td>True</td>\n",
       "      <td>Answer True or False to the following question...</td>\n",
       "      <td>['Rex is a jompus.', 'Each jompus is dull.', '...</td>\n",
       "      <td>True</td>\n",
       "      <td>['Rex is a jompus.', 'Each jompus is dull.', '...</td>\n",
       "      <td>True</td>\n",
       "      <td>True</td>\n",
       "    </tr>\n",
       "    <tr>\n",
       "      <th>2</th>\n",
       "      <td>Answer True or False to the following question...</td>\n",
       "      <td>True</td>\n",
       "      <td>Answer True or False to the following question...</td>\n",
       "      <td>['Fae is a brimpus.', 'Each brimpus is transpa...</td>\n",
       "      <td>True</td>\n",
       "      <td>['Fae is a brimpus.', 'Each brimpus is transpa...</td>\n",
       "      <td>True</td>\n",
       "      <td>True</td>\n",
       "    </tr>\n",
       "    <tr>\n",
       "      <th>3</th>\n",
       "      <td>Answer True or False to the following question...</td>\n",
       "      <td>False</td>\n",
       "      <td>Answer True or False to the following question...</td>\n",
       "      <td>['Stella is a brimpus.', 'Brimpuses are not ra...</td>\n",
       "      <td>False</td>\n",
       "      <td>['Stella is a brimpus.', 'Brimpuses are not ra...</td>\n",
       "      <td>True</td>\n",
       "      <td>True</td>\n",
       "    </tr>\n",
       "    <tr>\n",
       "      <th>4</th>\n",
       "      <td>Answer True or False to the following question...</td>\n",
       "      <td>True</td>\n",
       "      <td>Answer True or False to the following question...</td>\n",
       "      <td>['Wren is a tumpus.', 'Tumpuses are blue.', 'W...</td>\n",
       "      <td>True</td>\n",
       "      <td>['Wren is a tumpus.', 'Tumpuses are blue.', 'W...</td>\n",
       "      <td>True</td>\n",
       "      <td>True</td>\n",
       "    </tr>\n",
       "  </tbody>\n",
       "</table>\n",
       "</div>"
      ],
      "text/plain": [
       "                                              prompt  label  \\\n",
       "0  Answer True or False to the following question...  False   \n",
       "1  Answer True or False to the following question...   True   \n",
       "2  Answer True or False to the following question...   True   \n",
       "3  Answer True or False to the following question...  False   \n",
       "4  Answer True or False to the following question...   True   \n",
       "\n",
       "                                         prompt_corr  \\\n",
       "0  Answer True or False to the following question...   \n",
       "1  Answer True or False to the following question...   \n",
       "2  Answer True or False to the following question...   \n",
       "3  Answer True or False to the following question...   \n",
       "4  Answer True or False to the following question...   \n",
       "\n",
       "                                            cot_gold   pred  \\\n",
       "0  ['Wren is a grimpus.', 'Every grimpus is not c...  False   \n",
       "1  ['Rex is a jompus.', 'Each jompus is dull.', '...   True   \n",
       "2  ['Fae is a brimpus.', 'Each brimpus is transpa...   True   \n",
       "3  ['Stella is a brimpus.', 'Brimpuses are not ra...  False   \n",
       "4  ['Wren is a tumpus.', 'Tumpuses are blue.', 'W...   True   \n",
       "\n",
       "                                            cot_pred  correct_pred  \\\n",
       "0  ['Wren is a grimpus.', 'Every grimpus is not c...          True   \n",
       "1  ['Rex is a jompus.', 'Each jompus is dull.', '...          True   \n",
       "2  ['Fae is a brimpus.', 'Each brimpus is transpa...          True   \n",
       "3  ['Stella is a brimpus.', 'Brimpuses are not ra...          True   \n",
       "4  ['Wren is a tumpus.', 'Tumpuses are blue.', 'W...          True   \n",
       "\n",
       "   correct_cot  \n",
       "0         True  \n",
       "1         True  \n",
       "2         True  \n",
       "3         True  \n",
       "4         True  "
      ]
     },
     "execution_count": 16,
     "metadata": {},
     "output_type": "execute_result"
    }
   ],
   "source": [
    "correct_preds = pd.read_csv('correct_pred.csv')\n",
    "#correct_preds = results_df[results_df['correct_pred'] & results_df['correct_cot']]\n",
    "#correct_preds.to_csv('correct_pred.csv', index=False)\n",
    "correct_preds.head()"
   ]
  },
  {
   "cell_type": "code",
   "execution_count": 17,
   "metadata": {},
   "outputs": [
    {
     "data": {
      "text/plain": [
       "<matplotlib.legend.Legend at 0x7ff0c09ae2c0>"
      ]
     },
     "execution_count": 17,
     "metadata": {},
     "output_type": "execute_result"
    },
    {
     "data": {
      "image/png": "[encoded data removed]",
      "text/plain": [
       "<Figure size 900x600 with 1 Axes>"
      ]
     },
     "metadata": {},
     "output_type": "display_data"
    }
   ],
   "source": [
    "fig = plt.figure(figsize=(6, 4), dpi=150)\n",
    "\n",
    "shots_results = pd.DataFrame({\n",
    "    'N. Shots': [1, 3, 5, 7, 1, 3, 5, 7],\n",
    "    'Prediction Acc.': [0.57, 0.63, 0.67, 0.76, 0.67, 0.64, 0.66, 0.63],\n",
    "    'CoT Acc.': [0.14, 0.21, 0.22, 0.27, 0, 0, 0, 0],\n",
    "    'Agreement': [0.643, 0.810, 0.955, 0.963, 0, 0, 0, 0],\n",
    "    'With CoT': [True, True, True, True, False, False, False, False] \n",
    "})\n",
    "\n",
    "sns.lineplot(shots_results, x='N. Shots', y='Prediction Acc.', hue='With CoT')\n",
    "sns.scatterplot(shots_results, x='N. Shots', y='Prediction Acc.', hue='With CoT')\n",
    "\n",
    "handles, labels = plt.gca().get_legend_handles_labels()\n",
    "plt.legend(handles=handles[:len(handles)//2], labels=['Without CoT', 'With CoT'], bbox_to_anchor=(1.05, 1), loc='upper left')"
   ]
  },
  {
   "cell_type": "code",
   "execution_count": 90,
   "metadata": {},
   "outputs": [
    {
     "data": {
      "text/plain": [
       "(0.0, 1.0)"
      ]
     },
     "execution_count": 90,
     "metadata": {},
     "output_type": "execute_result"
    },
    {
     "data": {
      "image/png": "[encoded data removed]",
      "text/plain": [
       "<Figure size 900x600 with 1 Axes>"
      ]
     },
     "metadata": {},
     "output_type": "display_data"
    }
   ],
   "source": [
    "fig = plt.figure(figsize=(6, 4), dpi=150)\n",
    "plot_df = shots_results.iloc[:4].drop('With CoT', axis=1).melt(id_vars='N. Shots', var_name='Score', value_name='Value')\n",
    "\n",
    "sns.scatterplot(plot_df, x='N. Shots', y='Value', hue='Score')\n",
    "sns.lineplot(plot_df, x='N. Shots', y='Value', hue='Score')\n",
    "\n",
    "handles, labels = plt.gca().get_legend_handles_labels()\n",
    "plt.legend(handles=handles[:len(handles)//2], labels=labels[:len(labels)//2], bbox_to_anchor=(1.05, 1), loc='upper left')\n",
    "plt.ylim(0, 1)"
   ]
  },
  {
   "cell_type": "markdown",
   "metadata": {},
   "source": [
    "## Attribution analysis "
   ]
  },
  {
   "cell_type": "code",
   "execution_count": 32,
   "metadata": {},
   "outputs": [],
   "source": [
    "def logits_diff(logits, a_clean, a_corr=None):\n",
    "    if isinstance(a_clean, str):\n",
    "        a_clean = model.to_single_token(a_clean)\n",
    "    if a_corr:\n",
    "        if isinstance(a_corr, str):\n",
    "            a_corr = model.to_single_token(a_corr)\n",
    "        \n",
    "        return logits[0, -1, a_clean] - logits[0, -1, a_corr]\n",
    "    else:\n",
    "        return logits[0, -1, a_clean]\n",
    "\n",
    "def get_cache_fw(tokens, component):\n",
    "    if component == 'all':\n",
    "        filter = lambda name: \"_input\" not in name\n",
    "    else:\n",
    "        filter = lambda name: component in name\n",
    "\n",
    "    model.reset_hooks()\n",
    "\n",
    "    cache = {}\n",
    "    def fw_cache_hook(act, hook):\n",
    "        cache[hook.name] = act.detach()\n",
    "\n",
    "    model.add_hook(filter, fw_cache_hook, \"fwd\")\n",
    "    \n",
    "    logits = model(tokens)\n",
    "    model.reset_hooks()\n",
    "    return logits, ActivationCache(cache, model)\n",
    "\n",
    "def get_cache_fw_and_bw(tokens, a_clean, a_corr, corr_logits, component='all'):\n",
    "    if component == 'all':\n",
    "        filter = lambda name: \"_input\" not in name\n",
    "    else:\n",
    "        filter = lambda name: component in name\n",
    "        \n",
    "    model.reset_hooks()\n",
    "    \n",
    "    cache = {}\n",
    "    def fw_cache_hook(act, hook):\n",
    "        cache[hook.name] = act.detach()\n",
    "\n",
    "    model.add_hook(filter, fw_cache_hook, \"fwd\")\n",
    "    \n",
    "    grad_cache = {}\n",
    "    def bw_cache_hook(act, hook):\n",
    "        grad_cache[hook.name] = act.detach()\n",
    "    \n",
    "    model.add_hook(filter, bw_cache_hook, \"bwd\")\n",
    "\n",
    "    clean_logits = model(tokens)\n",
    "    value = logits_diff(clean_logits, a_clean, a_corr) - logits_diff(corr_logits, a_clean, a_corr)\n",
    "    value.backward()\n",
    "    \n",
    "    model.reset_hooks()\n",
    "    return (\n",
    "        value.item(),\n",
    "        ActivationCache(cache, model),\n",
    "        ActivationCache(grad_cache, model),\n",
    "    )"
   ]
  },
  {
   "cell_type": "code",
   "execution_count": 33,
   "metadata": {},
   "outputs": [],
   "source": [
    "idx = 0\n",
    "x_clean = correct_preds['prompt'].iloc[idx]\n",
    "a_clean = correct_preds['label'].iloc[idx]\n",
    "x_corr = correct_preds['prompt_corr'].iloc[idx]\n",
    "cot_gold = correct_preds['cot_gold'].iloc[idx]"
   ]
  },
  {
   "cell_type": "code",
   "execution_count": 20,
   "metadata": {},
   "outputs": [
    {
     "name": "stdout",
     "output_type": "stream",
     "text": [
      "CLEAN\n",
      "Gorpuses are sterpuses. Gorpuses are grimpuses. Every dumpus is a jompus. Every grimpus is a shumpus. Gorpuses are not small. Sterpuses are liquid. Every shumpus is not muffled. Dumpuses are bright. Each grimpus is a brimpus. Every grimpus is not cold. Wren is a dumpus. Wren is a grimpus.\n",
      "Question: Is Wren cold?\n",
      "Think step-by-step.\n",
      "\n",
      "CORRUPTED\n",
      "Gorpuses are sterpuses. Gorpuses are grimpuses. Every dumpus is a jompus. Every grimpus is a shumpus. Gorpuses are not small. Sterpuses are liquid. Every shumpus is not muffled. Dumpuses are bright. Each grimpus is a brimpus. Every grimpus is cold. Wren is a dumpus. Wren is a grimpus.\n",
      "Question: Is Wren cold?\n",
      "Think step-by-step.\n"
     ]
    }
   ],
   "source": [
    "print('CLEAN')\n",
    "print(x_clean.split('\\n\\n')[-2])\n",
    "print('\\nCORRUPTED')\n",
    "print(x_corr.split('\\n\\n')[-2])"
   ]
  },
  {
   "cell_type": "code",
   "execution_count": 36,
   "metadata": {},
   "outputs": [
    {
     "name": "stdout",
     "output_type": "stream",
     "text": [
      "Generating...\n"
     ]
    }
   ],
   "source": [
    "stop_tokens = [' True', ' False']\n",
    "\n",
    "print(\"Generating...\")\n",
    "clean_out = generate_until_stop(x_clean, stop_tokens)\n",
    "corr_out = generate_until_stop(x_corr, stop_tokens)"
   ]
  },
  {
   "cell_type": "code",
   "execution_count": 24,
   "metadata": {},
   "outputs": [
    {
     "name": "stdout",
     "output_type": "stream",
     "text": [
      "CLEAN RUN\n",
      "\n",
      "(1) Wren is a grimpus.\n",
      "(2) Every grimpus is not cold.\n",
      "(3) Wren is not cold.\n",
      "Answer: False\n",
      "\n",
      "CORRUPTED RUN\n",
      "\n",
      "(1) Wren is a grimpus.\n",
      "(2) Every grimpus is cold.\n",
      "(3) Wren is cold.\n",
      "Answer: True\n"
     ]
    }
   ],
   "source": [
    "print(\"CLEAN RUN\", clean_out.split(\"step-by-step.\")[-1], sep='')\n",
    "print(\"\\nCORRUPTED RUN\", corr_out.split(\"step-by-step.\")[-1], sep='')"
   ]
  },
  {
   "cell_type": "code",
   "execution_count": 24,
   "metadata": {},
   "outputs": [
    {
     "name": "stdout",
     "output_type": "stream",
     "text": [
      "Clean logit difference: 0.645\n",
      "Corrupted logit difference: -0.378\n"
     ]
    }
   ],
   "source": [
    "from functools import partial\n",
    "\n",
    "# Tokenization and caching\n",
    "idx = 1\n",
    "a_corr = ' False' if a_clean else ' True'\n",
    "a_clean = ' ' + str(a_clean)\n",
    "\n",
    "clean_out = generate_until_stop(x_clean, stop_tokens=[':'])\n",
    "corr_out = generate_until_stop(x_corr, stop_tokens=[':'])\n",
    "\n",
    "clean_tokens = model.to_tokens(clean_out, prepend_bos=False)\n",
    "with torch.no_grad():\n",
    "    clean_logits = model(clean_tokens)\n",
    "\n",
    "clean_logit_diff = logits_diff(clean_logits, a_clean, a_corr)\n",
    "print(f\"Clean logit difference: {clean_logit_diff.item():.3f}\")\n",
    "\n",
    "corr_tokens = model.to_tokens(corr_out, prepend_bos=False)\n",
    "with torch.no_grad():\n",
    "    corr_logits = model(corr_tokens)\n",
    "\n",
    "corr_logit_diff = logits_diff(corr_logits, a_clean, a_corr)\n",
    "print(f\"Corrupted logit difference: {corr_logit_diff.item():.3f}\")"
   ]
  },
  {
   "cell_type": "code",
   "execution_count": 53,
   "metadata": {},
   "outputs": [
    {
     "data": {
      "text/plain": [
       "[(839, ('.', '.')),\n",
       " (840, (' Every', ' Every')),\n",
       " (841, (' gri', ' gri')),\n",
       " (842, ('mp', 'mp')),\n",
       " (843, ('us', 'us')),\n",
       " (844, (' is', ' is')),\n",
       " (845, (' not', ' cold')),\n",
       " (846, (' cold', '.')),\n",
       " (847, ('.', ' Wren')),\n",
       " (848, (' Wren', ' is')),\n",
       " (849, (' is', ' a')),\n",
       " (850, (' a', ' dump')),\n",
       " (851, (' dump', 'us')),\n",
       " (852, ('us', '.')),\n",
       " (853, ('.', ' Wren')),\n",
       " (854, (' Wren', ' is')),\n",
       " (855, (' is', ' a')),\n",
       " (856, (' a', ' gri')),\n",
       " (857, (' gri', 'mp')),\n",
       " (858, ('mp', 'us')),\n",
       " (859, ('us', '.')),\n",
       " (860, ('.', '\\n')),\n",
       " (861, ('\\n', 'Question')),\n",
       " (862, ('Question', ':')),\n",
       " (863, (':', ' Is')),\n",
       " (864, (' Is', ' Wren')),\n",
       " (865, (' Wren', ' cold')),\n",
       " (866, (' cold', '?')),\n",
       " (867, ('?', '\\n')),\n",
       " (868, ('\\n', 'Think')),\n",
       " (869, ('Think', ' step')),\n",
       " (870, (' step', '-')),\n",
       " (871, ('-', 'by')),\n",
       " (872, ('by', '-')),\n",
       " (873, ('-', 'step')),\n",
       " (874, ('step', '.')),\n",
       " (875, ('.', '\\n\\n')),\n",
       " (876, ('\\n\\n', '(')),\n",
       " (877, ('(', '1')),\n",
       " (878, ('1', ')')),\n",
       " (879, (')', ' Wren')),\n",
       " (880, (' Wren', ' is')),\n",
       " (881, (' is', ' a')),\n",
       " (882, (' a', ' gri')),\n",
       " (883, (' gri', 'mp')),\n",
       " (884, ('mp', 'us')),\n",
       " (885, ('us', '.')),\n",
       " (886, ('.', '\\n')),\n",
       " (887, ('\\n', '(')),\n",
       " (888, ('(', '2')),\n",
       " (889, ('2', ')')),\n",
       " (890, (')', ' Every')),\n",
       " (891, (' Every', ' gri')),\n",
       " (892, (' gri', 'mp')),\n",
       " (893, ('mp', 'us')),\n",
       " (894, ('us', ' is')),\n",
       " (895, (' is', ' cold')),\n",
       " (896, (' not', '.')),\n",
       " (897, (' cold', '\\n')),\n",
       " (898, ('.', '(')),\n",
       " (899, ('\\n', '3')),\n",
       " (900, ('(', ')')),\n",
       " (901, ('3', ' Wren')),\n",
       " (902, (')', ' is')),\n",
       " (903, (' Wren', ' cold')),\n",
       " (904, (' is', '.')),\n",
       " (905, (' not', '\\n')),\n",
       " (906, (' cold', 'Answer')),\n",
       " (907, ('.', ':'))]"
      ]
     },
     "execution_count": 53,
     "metadata": {},
     "output_type": "execute_result"
    }
   ],
   "source": [
    "list(enumerate(zip(\n",
    "    model.to_str_tokens(clean_out),\n",
    "    model.to_str_tokens(corr_out),\n",
    ")))[839:]"
   ]
  },
  {
   "cell_type": "code",
   "execution_count": 66,
   "metadata": {},
   "outputs": [],
   "source": [
    "pad_pod = [845, 896, 905]"
   ]
  },
  {
   "cell_type": "code",
   "execution_count": 95,
   "metadata": {},
   "outputs": [],
   "source": [
    "#def get_ig_patching(clean_tokens, corr_tokens, a_clean, a_corr, component)"
   ]
  },
  {
   "cell_type": "code",
   "execution_count": 38,
   "metadata": {},
   "outputs": [
    {
     "name": "stderr",
     "output_type": "stream",
     "text": [
      "/tmp/ipykernel_1392/693813141.py:8: DeprecationWarning:\n",
      "\n",
      "In future, it will be an error for 'np.bool_' scalars to be interpreted as an index\n",
      "\n"
     ]
    }
   ],
   "source": [
    "component = 'all'\n",
    "\n",
    "with torch.no_grad():\n",
    "    corr_logits, corr_cache = get_cache_fw(corr_tokens, component)\n",
    "    \n",
    "logits_diff_, clean_cache, clean_grad_cache = get_cache_fw_and_bw(clean_tokens, a_clean, a_corr, corr_logits, component=component)"
   ]
  },
  {
   "cell_type": "code",
   "execution_count": 47,
   "metadata": {},
   "outputs": [],
   "source": [
    "clean_grad_cache = ActivationCache({k: v.to('cuda:0') for k, v in clean_grad_cache.items()}, model)\n",
    "clean_cache = ActivationCache({k: v.to('cuda:0') for k, v in clean_cache.items()}, model)\n",
    "corr_cache = ActivationCache({k: v.to('cuda:1') for k, v in corr_cache.items()}, model)"
   ]
  },
  {
   "cell_type": "code",
   "execution_count": 107,
   "metadata": {},
   "outputs": [],
   "source": [
    "#clean_act = clean_cache.stack_head_results(-1).to('cuda:0')\n",
    "#corr_act = corr_cache.stack_head_results(-1).to('cuda:0')\n",
    "#clean_grad_act = clean_grad_cache.stack_head_results(-1).to('cuda:0')\n",
    "\n",
    "corr_act = corr_cache.accumulated_resid(-1, incl_mid=True, return_labels=False).to('cuda:0')\n",
    "clean_act = clean_cache.accumulated_resid(-1, incl_mid=True, return_labels=False).to('cuda:0')\n",
    "clean_grad_act = clean_grad_cache.accumulated_resid(-1, incl_mid=True, return_labels=False).to('cuda:0')\n",
    "\n",
    "# padding\n",
    "for pos in reversed(pad_pod):\n",
    "    corr_act = torch.cat([\n",
    "        corr_act[:, :, :pos],\n",
    "        torch.zeros_like(corr_act[:, :, 0, None]),\n",
    "        corr_act[:, :, pos:]\n",
    "    ], dim=2)"
   ]
  },
  {
   "cell_type": "code",
   "execution_count": 108,
   "metadata": {},
   "outputs": [
    {
     "data": {
      "text/plain": [
       "(torch.Size([37, 1, 910, 2048]), torch.Size([37, 1, 910, 2048]))"
      ]
     },
     "execution_count": 108,
     "metadata": {},
     "output_type": "execute_result"
    }
   ],
   "source": [
    "clean_act.shape, corr_act.shape"
   ]
  },
  {
   "cell_type": "code",
   "execution_count": 109,
   "metadata": {},
   "outputs": [],
   "source": [
    "import einops\n",
    "from tqdm import tqdm\n",
    "\n",
    "patch = einops.reduce(\n",
    "        clean_grad_act * (clean_act - corr_act),\n",
    "        \"component batch pos d_model -> component pos\",\n",
    "        \"sum\",\n",
    "    )"
   ]
  },
  {
   "cell_type": "code",
   "execution_count": 110,
   "metadata": {},
   "outputs": [
    {
     "data": {
      "text/plain": [
       "torch.Size([37, 910])"
      ]
     },
     "execution_count": 110,
     "metadata": {},
     "output_type": "execute_result"
    }
   ],
   "source": [
    "patch.shape"
   ]
  },
  {
   "cell_type": "code",
   "execution_count": 104,
   "metadata": {},
   "outputs": [
    {
     "name": "stdout",
     "output_type": "stream",
     "text": [
      "['<bos>', 'W', 'ren', ' is', ' not', ' a', ' g', 'imp', 'us', '.']\n",
      "['<bos>', 'W', 'ren', ' is', ' _', ' a', ' g', 'imp', 'us', '.']\n"
     ]
    }
   ],
   "source": [
    "print(model.to_str_tokens(\"Wren is not a gimpus.\"))\n",
    "print(model.to_str_tokens(\"Wren is _ a gimpus.\"))"
   ]
  },
  {
   "cell_type": "code",
   "execution_count": 113,
   "metadata": {},
   "outputs": [],
   "source": [
    "ys = []\n",
    "for l in range(model.cfg.n_layers):\n",
    "    ys.append(f\"L{l} - pre\")\n",
    "    ys.append(f\"L{l} - mid\")\n",
    "\n",
    "ys.append(\"Out\")"
   ]
  },
  {
   "cell_type": "code",
   "execution_count": 116,
   "metadata": {},
   "outputs": [],
   "source": [
    "import plotly.express as px\n",
    "\n",
    "str_tokens = model.to_str_tokens(clean_out, prepend_bos=False)\n",
    "n_last_tokens = 128\n",
    "\n",
    "#ys = [f'L{i}H{j}' for i in range(model.cfg.n_layers) for j in range(model.cfg.n_heads)]\n",
    "xs = [f\"{tok} | {i}\" for i, tok in enumerate(str_tokens[-n_last_tokens:])]\n",
    "\n",
    "fig = px.imshow(\n",
    "    patch[:, -n_last_tokens:].cpu().numpy(), \n",
    "    x=xs,\n",
    "    y=ys,\n",
    "    title=f\"Patching results for AtP method\",\n",
    "    color_continuous_scale='RdBu', zmin=-.5, zmax=.5, aspect='auto'\n",
    ")\n",
    "\n",
    "fig.write_html(\"fig.html\")"
   ]
  },
  {
   "cell_type": "code",
   "execution_count": 91,
   "metadata": {},
   "outputs": [],
   "source": [
    "import plotly.express as px\n",
    "import numpy as np\n",
    "\n",
    "layer_id = 9\n",
    "head_id = 5\n",
    "\n",
    "data = clean_cache[f'blocks.{layer_id}.attn.hook_pattern'][0, head_id].cpu()\n",
    "labels = [f\"{tok} ({i})\" for i, tok in enumerate(model.to_str_tokens(clean_out)[:-1])]\n",
    "\n",
    "# Create the plot using Plotly Express\n",
    "fig = px.imshow(\n",
    "    data,\n",
    "    labels=dict(x=\"Keys\", y=\"Queries\", color=\"Attention Score\"),\n",
    "    x=labels,\n",
    "    y=labels,\n",
    "    title=f'Attention patter at head {head_id} of layer {layer_id}',\n",
    "    color_continuous_scale=\"Blues\"\n",
    ")\n",
    "\n",
    "# Adjust the layout for better readability\n",
    "fig.update_xaxes(tickangle=35)\n",
    "fig.update_layout(coloraxis_colorbar=dict(title=\"Score\"))\n",
    "\n",
    "# Show the plot\n",
    "fig.write_html(\"attn_pattern.html\")"
   ]
  },
  {
   "cell_type": "code",
   "execution_count": 92,
   "metadata": {},
   "outputs": [
    {
     "data": {
      "text/plain": [
       "910"
      ]
     },
     "execution_count": 92,
     "metadata": {},
     "output_type": "execute_result"
    }
   ],
   "source": [
    "len(labels)"
   ]
  },
  {
   "cell_type": "code",
   "execution_count": 93,
   "metadata": {},
   "outputs": [
    {
     "data": {
      "text/plain": [
       "torch.Size([910, 910])"
      ]
     },
     "execution_count": 93,
     "metadata": {},
     "output_type": "execute_result"
    }
   ],
   "source": [
    "data.shape"
   ]
  },
  {
   "cell_type": "code",
   "execution_count": null,
   "metadata": {},
   "outputs": [],
   "source": []
  }
 ],
 "metadata": {
  "kernelspec": {
   "display_name": "mats-interp",
   "language": "python",
   "name": "myenv"
  },
  "language_info": {
   "codemirror_mode": {
    "name": "ipython",
    "version": 3
   },
   "file_extension": ".py",
   "mimetype": "text/x-python",
   "name": "python",
   "nbconvert_exporter": "python",
   "pygments_lexer": "ipython3",
   "version": "3.10.12"
  }
 },
 "nbformat": 4,
 "nbformat_minor": 4
}
