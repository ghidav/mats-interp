{
 "cells": [
  {
   "cell_type": "code",
   "execution_count": 1,
   "metadata": {},
   "outputs": [
    {
     "name": "stdout",
     "output_type": "stream",
     "text": [
      "Device: cuda\n"
     ]
    },
    {
     "data": {
      "text/html": [
       "        <script type=\"text/javascript\">\n",
       "        window.PlotlyConfig = {MathJaxConfig: 'local'};\n",
       "        if (window.MathJax && window.MathJax.Hub && window.MathJax.Hub.Config) {window.MathJax.Hub.Config({SVG: {font: \"STIX-Web\"}});}\n",
       "        if (typeof require !== 'undefined') {\n",
       "        require.undef(\"plotly\");\n",
       "        requirejs.config({\n",
       "            paths: {\n",
       "                'plotly': ['https://cdn.plot.ly/plotly-2.32.0.min']\n",
       "            }\n",
       "        });\n",
       "        require(['plotly'], function(Plotly) {\n",
       "            window._Plotly = Plotly;\n",
       "        });\n",
       "        }\n",
       "        </script>\n",
       "        "
      ]
     },
     "metadata": {},
     "output_type": "display_data"
    }
   ],
   "source": [
    "import os\n",
    "os.environ['HF_HOME'] = '/workspace/huggingface'\n",
    "\n",
    "from transformer_lens import HookedTransformer, ActivationCache, utils\n",
    "import torch\n",
    "\n",
    "if torch.backends.mps.is_available():\n",
    "    device = \"mps\"\n",
    "else:\n",
    "    device = \"cuda\" if torch.cuda.is_available() else \"cpu\"\n",
    "\n",
    "print(f\"Device: {device}\")\n",
    "\n",
    "import plotly.graph_objects as go\n",
    "from plotly.offline import init_notebook_mode, iplot\n",
    "import numpy as np\n",
    "import pandas as pd\n",
    "from tqdm import tqdm\n",
    "import matplotlib.pyplot as plt\n",
    "import seaborn as sns\n",
    "from functools import partial\n",
    "tqdm.pandas()\n",
    "\n",
    "init_notebook_mode(connected=True)"
   ]
  },
  {
   "cell_type": "markdown",
   "metadata": {},
   "source": [
    "\n",
    "## Data Loading"
   ]
  },
  {
   "cell_type": "code",
   "execution_count": 74,
   "metadata": {},
   "outputs": [
    {
     "data": {
      "application/vnd.jupyter.widget-view+json": {
       "model_id": "e09eef9b4073460596de96c6f84f7b10",
       "version_major": 2,
       "version_minor": 0
      },
      "text/plain": [
       "Downloading data:   0%|          | 0.00/2.31M [00:00<?, ?B/s]"
      ]
     },
     "metadata": {},
     "output_type": "display_data"
    },
    {
     "data": {
      "application/vnd.jupyter.widget-view+json": {
       "model_id": "3087414a1fd84b6b8a0af45efc2902e9",
       "version_major": 2,
       "version_minor": 0
      },
      "text/plain": [
       "Downloading data:   0%|          | 0.00/419k [00:00<?, ?B/s]"
      ]
     },
     "metadata": {},
     "output_type": "display_data"
    },
    {
     "data": {
      "application/vnd.jupyter.widget-view+json": {
       "model_id": "6d9c3756000e4165a1f86a4b506bfaec",
       "version_major": 2,
       "version_minor": 0
      },
      "text/plain": [
       "Generating train split:   0%|          | 0/7473 [00:00<?, ? examples/s]"
      ]
     },
     "metadata": {},
     "output_type": "display_data"
    },
    {
     "data": {
      "application/vnd.jupyter.widget-view+json": {
       "model_id": "6fcdb089e7394225930d34a2f3a9b076",
       "version_major": 2,
       "version_minor": 0
      },
      "text/plain": [
       "Generating test split:   0%|          | 0/1319 [00:00<?, ? examples/s]"
      ]
     },
     "metadata": {},
     "output_type": "display_data"
    }
   ],
   "source": [
    "from datasets import load_dataset\n",
    "\n",
    "dataset = load_dataset(\"gsm8k\", \"main\")"
   ]
  },
  {
   "cell_type": "code",
   "execution_count": null,
   "metadata": {},
   "outputs": [],
   "source": [
    "%%bash\n",
    "git clone https://github.com/asaparov/prontoqa.git\n",
    "cd prontoqa\n",
    "mkdir json\n",
    "unzip generated_ood_data.zip -d json"
   ]
  },
  {
   "cell_type": "code",
   "execution_count": 168,
   "metadata": {},
   "outputs": [],
   "source": [
    "import json\n",
    "\n",
    "def load_json(file):\n",
    "    with open(file, 'r') as f:\n",
    "        return json.load(f)\n",
    "    \n",
    "data = load_json(\"prontoqa/json/1hop_ProofsOnly_random_noadj.json\")"
   ]
  },
  {
   "cell_type": "code",
   "execution_count": 335,
   "metadata": {},
   "outputs": [],
   "source": [
    "from random import randint\n",
    "\n",
    "labels = [\"is\", \"is not\"]\n",
    "\n",
    "def prepare_example(example, n_shots=5):\n",
    "    prompt = \"Answer True or False to the following question. Answer as in the examples.\\n\\n\"\n",
    "    \n",
    "    for i in range(n_shots):\n",
    "        prompt += example[f\"in_context_example{i}\"]['question'] + \"\\n\"\n",
    "        query = example[f\"in_context_example{i}\"]['query']\n",
    "        label = \"False\" if \"is not\" in query else \"True\"\n",
    "        \n",
    "        if \"is not\" in query:\n",
    "            #label = \"True\" if change == 1 else \"False\"\n",
    "            #query = query.replace(\"is not\", labels[change])\n",
    "            name, adj = query.split(\" is not \")\n",
    "        else:\n",
    "            #label = \"True\" if change == 0 else \"False\"\n",
    "            #query = query.replace(\"is\", labels[change])name, adj = query.split(\"is not\")\n",
    "            name, adj = query.split(\" is \")\n",
    "        \n",
    "        name = name.split(\"Prove: \")[-1]\n",
    "        query = f\"Is {name.strip()} {adj.strip()[:-1]}?\\n\"\n",
    "    \n",
    "        prompt += \"Question: \" + query + \"Think step-by-step.\" + \"\\n\\n\"\n",
    "    \n",
    "        for j, step in enumerate(example[f\"in_context_example{i}\"]['chain_of_thought']):\n",
    "            prompt += f\"({j+1}) {step}\\n\"\n",
    "        \n",
    "        prompt += f\"Answer: {label}\\n\\n\"\n",
    "    \n",
    "    prompt += example[\"test_example\"]['question'] + \"\\n\"\n",
    "    query = example[\"test_example\"]['query']\n",
    "    label = \"False\" if \"is not\" in query else \"True\"\n",
    "    cot = example[\"test_example\"]['chain_of_thought']\n",
    "    \n",
    "    if \"is not\" in query:\n",
    "        #label = \"True\" if change == 1 else \"False\"\n",
    "        #query = query.replace(\"is not\", labels[change])\n",
    "        #adv_query = query.replace(\"is not\", labels[1-change])\n",
    "        name, adj = query.split(\" is not \")\n",
    "    else:\n",
    "        #label = \"True\" if change == 0 else \"False\"\n",
    "        #query = query.replace(\"is\", labels[change])\n",
    "        #adv_query = query.replace(\"is\", labels[1-change])\n",
    "        name, adj = query.split(\" is \")\n",
    "\n",
    "    #adv_prompt = prompt\n",
    "    name = name.split(\"Prove: \")[-1]\n",
    "    query = f\"Is {name.strip()} {adj.strip()[:-1]}?\\n\"\n",
    "    \n",
    "    prompt += \"Question: \" + query + \"Think step-by-step.\" + \"\\n\\n\"\n",
    "        \n",
    "    return prompt, label, cot"
   ]
  },
  {
   "cell_type": "code",
   "execution_count": 341,
   "metadata": {},
   "outputs": [],
   "source": [
    "prompts = [prepare_example(x, n_shots=5) for x in data.values()]"
   ]
  },
  {
   "cell_type": "code",
   "execution_count": 342,
   "metadata": {
    "scrolled": true
   },
   "outputs": [
    {
     "name": "stdout",
     "output_type": "stream",
     "text": [
      "Answer True or False to the following question. Answer as in the examples.\n",
      "\n",
      "Dumpuses are numpuses. Impuses are jompuses. Each yumpus is not spicy. Every dumpus is mean. Lorpuses are snowy. Each lempus is not transparent. Numpuses are tumpuses. Numpuses are moderate. Every tumpus is luminous. Jompuses are not blue. Impuses are gorpuses. Every gorpus is not hot. Each dumpus is a yumpus. Every gorpus is a lempus. Lorpuses are sterpuses. Every impus is muffled. Every numpus is an impus. Gorpuses are rompuses. Polly is an impus. Polly is a lorpus.\n",
      "Question: Is Polly muffled?\n",
      "Think step-by-step.\n",
      "\n",
      "(1) Polly is an impus.\n",
      "(2) Every impus is muffled.\n",
      "(3) Polly is muffled.\n",
      "Answer: True\n",
      "\n",
      "Every lempus is a rompus. Each rompus is a jompus. Each jompus is a lorpus. Each rompus is a tumpus. Grimpuses are feisty. Jompuses are cold. Each dumpus is transparent. Each lempus is a dumpus. Rompuses are rainy. Vumpuses are gorpuses. Each tumpus is earthy. Every vumpus is sweet. Jompuses are grimpuses. Lempuses are angry. Alex is a rompus. Alex is a vumpus.\n",
      "Question: Is Alex rainy?\n",
      "Think step-by-step.\n",
      "\n",
      "(1) Alex is a rompus.\n",
      "(2) Rompuses are rainy.\n",
      "(3) Alex is rainy.\n",
      "Answer: True\n",
      "\n",
      "Sterpuses are tumpuses. Each sterpus is large. Vumpuses are zumpuses. Zumpuses are not spicy. Each vumpus is not slow. Each vumpus is a brimpus. Fae is a sterpus. Fae is a vumpus.\n",
      "Question: Is Fae slow?\n",
      "Think step-by-step.\n",
      "\n",
      "(1) Fae is a vumpus.\n",
      "(2) Each vumpus is not slow.\n",
      "(3) Fae is not slow.\n",
      "Answer: False\n",
      "\n",
      "Zumpuses are bright. Each yumpus is fast. Gorpuses are tumpuses. Every vumpus is not sweet. Every zumpus is an impus. Impuses are not large. Every gorpus is not transparent. Gorpuses are vumpuses. Each jompus is a grimpus. Each brimpus is rainy. Each jompus is muffled. Each impus is a gorpus. Each zumpus is a yumpus. Each impus is a brimpus. Stella is a jompus. Stella is a gorpus.\n",
      "Question: Is Stella transparent?\n",
      "Think step-by-step.\n",
      "\n",
      "(1) Stella is a gorpus.\n",
      "(2) Every gorpus is not transparent.\n",
      "(3) Stella is not transparent.\n",
      "Answer: False\n",
      "\n",
      "Lempuses are sterpuses. Every vumpus is an impus. Lempuses are temperate. Rompuses are transparent. Vumpuses are rompuses. Each vumpus is snowy. Rex is a lempus. Rex is a vumpus.\n",
      "Question: Is Rex snowy?\n",
      "Think step-by-step.\n",
      "\n",
      "(1) Rex is a vumpus.\n",
      "(2) Each vumpus is snowy.\n",
      "(3) Rex is snowy.\n",
      "Answer: True\n",
      "\n",
      "Gorpuses are sterpuses. Gorpuses are grimpuses. Every dumpus is a jompus. Every grimpus is a shumpus. Gorpuses are not small. Sterpuses are liquid. Every shumpus is not muffled. Dumpuses are bright. Each grimpus is a brimpus. Every grimpus is not cold. Wren is a dumpus. Wren is a grimpus.\n",
      "Question: Is Wren cold?\n",
      "Think step-by-step.\n",
      "\n",
      "\n",
      "False\n",
      "['Wren is a grimpus.', 'Every grimpus is not cold.', 'Wren is not cold.']\n"
     ]
    }
   ],
   "source": [
    "print(prompts[0][0])\n",
    "print(prompts[0][1])\n",
    "print(prompts[0][2])"
   ]
  },
  {
   "cell_type": "markdown",
   "metadata": {},
   "source": [
    "### Model loading and evaluation"
   ]
  },
  {
   "cell_type": "code",
   "execution_count": 179,
   "metadata": {},
   "outputs": [],
   "source": [
    "model_name = 'gemma-2b'"
   ]
  },
  {
   "cell_type": "code",
   "execution_count": 250,
   "metadata": {},
   "outputs": [
    {
     "data": {
      "application/vnd.jupyter.widget-view+json": {
       "model_id": "1430ab6f6eb246a68745f98363a1fb01",
       "version_major": 2,
       "version_minor": 0
      },
      "text/plain": [
       "Loading checkpoint shards:   0%|          | 0/2 [00:00<?, ?it/s]"
      ]
     },
     "metadata": {},
     "output_type": "display_data"
    },
    {
     "name": "stderr",
     "output_type": "stream",
     "text": [
      "WARNING:root:You are not using LayerNorm, so the writing weights can't be centered! Skipping\n"
     ]
    },
    {
     "name": "stdout",
     "output_type": "stream",
     "text": [
      "Loaded pretrained model gemma-2b into HookedTransformer\n"
     ]
    }
   ],
   "source": [
    "model = HookedTransformer.from_pretrained(model_name, torch_dtype=torch.float32)\n",
    "\n",
    "model.eval()\n",
    "model.set_use_attn_result(True)\n",
    "model.set_use_attn_in(True)\n",
    "model.set_use_hook_mlp_in(True)\n",
    "model.set_use_split_qkv_input(True)"
   ]
  },
  {
   "cell_type": "code",
   "execution_count": 343,
   "metadata": {},
   "outputs": [],
   "source": [
    "import re\n",
    "\n",
    "def extract_answer(text):\n",
    "    pattern = r'Answer:\\s*(.*)'\n",
    "    match = re.search(pattern, text)\n",
    "    \n",
    "    if match:\n",
    "        answer = match.group(1)\n",
    "    else:\n",
    "        answer = \"NaN\"\n",
    "\n",
    "    return answer\n",
    "\n",
    "def extract_cot(text):\n",
    "    pattern = re.compile(r'\\(\\d+\\) ([^\\n]+)')\n",
    "    matches = pattern.findall(text)\n",
    "\n",
    "    return matches\n",
    "\n",
    "def generate_until_stop(prompt, stop_tokens, max_tokens=64):\n",
    "    if isinstance(stop_tokens[0], str):\n",
    "        stop_tokens = [model.to_single_token(tok) for tok in stop_tokens]\n",
    "        \n",
    "    tokens = model.to_tokens(prompt)\n",
    "    gen = True\n",
    "    while gen:\n",
    "        with torch.no_grad():\n",
    "            new_tok = model(tokens).argmax(-1)[:, -1]\n",
    "\n",
    "        tokens = torch.cat([tokens, new_tok[None]], dim=-1)\n",
    "        if new_tok.item() in stop_tokens or max_tokens == 0:\n",
    "            gen = False\n",
    "        max_tokens -= 1\n",
    "\n",
    "    return model.to_string(tokens)"
   ]
  },
  {
   "cell_type": "code",
   "execution_count": 323,
   "metadata": {},
   "outputs": [],
   "source": [
    "#api_key = input()\n",
    "#os.environ['ANYSCALE_API_KEY'] = api_key"
   ]
  },
  {
   "cell_type": "code",
   "execution_count": 324,
   "metadata": {},
   "outputs": [],
   "source": [
    "#from openai import OpenAI\n",
    "\n",
    "#llm = OpenAI(\n",
    "#           base_url = \"https://api.endpoints.anyscale.com/v1\",\n",
    "#           api_key=os.environ['ANYSCALE_API_KEY'],\n",
    "#        )\n",
    "\n",
    "#def api_generate(prompt, model, **kwargs):\n",
    "#    response = llm.chat.completions.create(\n",
    "#            model = model,\n",
    "#            messages = [\n",
    "#                {'role': 'user', 'content': prompt}\n",
    "#            ],\n",
    "#            **kwargs\n",
    "#        )\n",
    "#    return response.choices[0].message.content"
   ]
  },
  {
   "cell_type": "code",
   "execution_count": 345,
   "metadata": {},
   "outputs": [
    {
     "data": {
      "application/vnd.jupyter.widget-view+json": {
       "model_id": "01dadff344674546bc74315f0225188c",
       "version_major": 2,
       "version_minor": 0
      },
      "text/plain": [
       "  0%|          | 0/40 [00:00<?, ?it/s]"
      ]
     },
     "metadata": {},
     "output_type": "display_data"
    },
    {
     "name": "stdout",
     "output_type": "stream",
     "text": [
      "(1) Polly is a rompus.\n",
      "(2) Every rompus is not fast.\n",
      "(3) Polly is not fast.\n",
      "Answer: False\n",
      "\n",
      "Each rompus is a sh\n",
      "False\n",
      "False\n",
      "['Polly is a rompus.', 'Every rompus is not fast.', 'Polly is not fast.']\n"
     ]
    }
   ],
   "source": [
    "idx = 1\n",
    "out = model.generate(prompts[idx][0], max_new_tokens=40, temperature=0)[len(prompts[idx][0]):]\n",
    "print(out)\n",
    "print(prompts[idx][1])\n",
    "print(extract_answer(out))\n",
    "print(extract_cot(out))"
   ]
  },
  {
   "cell_type": "code",
   "execution_count": 347,
   "metadata": {
    "scrolled": true
   },
   "outputs": [
    {
     "name": "stderr",
     "output_type": "stream",
     "text": [
      "100%|██████████| 100/100 [18:02<00:00, 10.82s/it]\n"
     ]
    }
   ],
   "source": [
    "results_df = {\n",
    "    'prompt': [],\n",
    "    'label': [],\n",
    "    'prompt_corr': [],\n",
    "    'cot_gold': [],\n",
    "    'pred': [],\n",
    "    'cot_pred': []\n",
    "}\n",
    "\n",
    "stop_tokens = [\" True\", \" False\"]\n",
    "\n",
    "err_count = 0\n",
    "for i in tqdm(range(100)):\n",
    "    prompt, label, cot = prompts[i]\n",
    "    out = generate_until_stop(prompt, stop_tokens)[0][len(prompt):]\n",
    "    #out = api_generate(prompt, model_name, max_tokens=128, temperature=0)\n",
    "\n",
    "    pred = extract_answer(out)\n",
    "    cot_pred = extract_cot(out)\n",
    "    \n",
    "    if prediction == \"NaN\": err_count += 1\n",
    "    results_df['prompt'].append(prompt)\n",
    "    results_df['label'].append(label)\n",
    "    results_df['prompt_corr'].append(adv)\n",
    "    results_df['cot_gold'].append(cot)\n",
    "    results_df['pred'].append(pred)\n",
    "    results_df['cot_pred'].append(cot_pred)\n",
    "\n",
    "results_df = pd.DataFrame(results_df)"
   ]
  },
  {
   "cell_type": "code",
   "execution_count": 348,
   "metadata": {},
   "outputs": [],
   "source": [
    "def check_cot(x):\n",
    "    try:\n",
    "        check = all([x == y for x, y in zip(x['cot_gold'], x['cot_pred'])])\n",
    "    except: check = False\n",
    "\n",
    "    return check\n",
    "        \n",
    "results_df['correct_pred'] = results_df['label'] == results_df['pred']\n",
    "results_df['correct_cot'] = results_df.apply(check_cot, axis=1)"
   ]
  },
  {
   "cell_type": "code",
   "execution_count": 350,
   "metadata": {},
   "outputs": [
    {
     "name": "stdout",
     "output_type": "stream",
     "text": [
      "Correct label predictions: 0.67\n",
      "Correct CoT predictions: 0.22\n",
      "Label CoT correlation: 0.9545454545454545\n"
     ]
    }
   ],
   "source": [
    "print(f\"Correct label predictions: {results_df['correct_pred'].mean()}\")\n",
    "print(f\"Correct CoT predictions: {results_df['correct_cot'].mean()}\")\n",
    "print(f\"Label CoT correlation: {(results_df['correct_pred'] * results_df['correct_cot']).mean() / min(results_df['correct_pred'].mean(), results_df['correct_cot'].mean())}\")"
   ]
  },
  {
   "cell_type": "code",
   "execution_count": 358,
   "metadata": {},
   "outputs": [],
   "source": [
    "correct_preds = results_df[results_df['correct_pred'] & results_df['correct_cot']]\n",
    "correct_preds.to_csv('correct_pred.csv', index=False)"
   ]
  },
  {
   "cell_type": "code",
   "execution_count": 262,
   "metadata": {},
   "outputs": [
    {
     "data": {
      "text/plain": [
       "<matplotlib.legend.Legend at 0x7fa2248cfd90>"
      ]
     },
     "execution_count": 262,
     "metadata": {},
     "output_type": "execute_result"
    },
    {
     "data": {
      "image/png": "[encoded data removed]",
      "text/plain": [
       "<Figure size 900x600 with 1 Axes>"
      ]
     },
     "metadata": {},
     "output_type": "display_data"
    }
   ],
   "source": [
    "fig = plt.figure(figsize=(6, 4), dpi=150)\n",
    "\n",
    "shots_results = pd.DataFrame({\n",
    "    'N. Shots': [1, 3, 5, 7],\n",
    "    'Prediction Acc.': [0.38, 0.52, 0.58, 0.64],\n",
    "    'CoT Acc.': [0.11, 0.17, 0.19, 0.17],\n",
    "    'Agreement': [0.455, 0.647, 0.684, 0.765]\n",
    "})\n",
    "\n",
    "sns.scatterplot(shots_results.melt(id_vars='N. Shots', var_name='Score', value_name='Value'), x='N. Shots', y='Value', hue='Score')\n",
    "sns.lineplot(shots_results.melt(id_vars='N. Shots', var_name='Score', value_name='Value'), x='N. Shots', y='Value', hue='Score')\n",
    "\n",
    "handles, labels = plt.gca().get_legend_handles_labels()\n",
    "plt.legend(handles=handles[:len(handles)//2], labels=labels[:len(labels)//2], bbox_to_anchor=(1.05, 1), loc='upper left')"
   ]
  },
  {
   "cell_type": "markdown",
   "metadata": {},
   "source": [
    "The model achieves an accuracy of 66% with 5 shots."
   ]
  },
  {
   "cell_type": "markdown",
   "metadata": {},
   "source": [
    "## Attribution analysis "
   ]
  },
  {
   "cell_type": "code",
   "execution_count": 352,
   "metadata": {},
   "outputs": [],
   "source": [
    "def logits_diff(logits, a_clean, a_corr=None):\n",
    "    \n",
    "    if isinstance(a_clean, str):\n",
    "        a_clean = model.to_single_token(a_clean)\n",
    "    if a_corr:\n",
    "        if isinstance(a_corr, str):\n",
    "            a_corr = model.to_single_token(a_corr)\n",
    "        \n",
    "        return logits[0, -1, a_clean] - logits[0, -1, a_corr]\n",
    "    else:\n",
    "        return logits[0, -1, a_clean]\n",
    "    \n",
    "def get_cache_fwd_and_bwd(tokens, a_clean, a_corr=None):\n",
    "        filter_not_qkv_input = lambda name: \"_input\" not in name\n",
    "        model.reset_hooks()\n",
    "        cache = {}\n",
    "\n",
    "        def forward_cache_hook(act, hook):\n",
    "            cache[hook.name] = act.detach()\n",
    "\n",
    "        model.add_hook(filter_not_qkv_input, forward_cache_hook, \"fwd\")\n",
    "\n",
    "        grad_cache = {}\n",
    "\n",
    "        def backward_cache_hook(act, hook):\n",
    "            grad_cache[hook.name] = act.detach()\n",
    "\n",
    "        model.add_hook(filter_not_qkv_input, backward_cache_hook, \"bwd\")\n",
    "\n",
    "        value = logits_diff(model(tokens), a_clean, a_corr)\n",
    "        value.backward()\n",
    "        model.reset_hooks()\n",
    "        return (\n",
    "            value.item(),\n",
    "            ActivationCache(cache, model),\n",
    "            ActivationCache(grad_cache, model),\n",
    "        )\n",
    "\n",
    "def generate_until_stop(prompt, stop_token=':'):\n",
    "    if isinstance(stop_token, str):\n",
    "        stop_token = model.to_single_token(stop_token)\n",
    "        \n",
    "    tokens = model.to_tokens(prompt)\n",
    "    gen = True\n",
    "    while gen:\n",
    "        with torch.no_grad():\n",
    "            new_tok = model(tokens).argmax(-1)[:, -1]\n",
    "\n",
    "        tokens = torch.cat([tokens, new_tok[None]], dim=-1)\n",
    "        if new_tok.item() == stop_token:\n",
    "            gen = False\n",
    "\n",
    "    return model.to_string(tokens)"
   ]
  },
  {
   "cell_type": "code",
   "execution_count": 353,
   "metadata": {},
   "outputs": [],
   "source": [
    "idx = 0\n",
    "x_clean = correct_preds['prompt'].iloc[idx]\n",
    "a_clean = correct_preds['label'].iloc[idx]\n",
    "x_corr = correct_preds['prompt_corr'].iloc[idx]\n",
    "cot_gold = correct_preds['cot_gold'].iloc[idx]"
   ]
  },
  {
   "cell_type": "code",
   "execution_count": 354,
   "metadata": {},
   "outputs": [
    {
     "name": "stdout",
     "output_type": "stream",
     "text": [
      "Answer True or False to the following question. Answer as in the examples.\n",
      "\n",
      "Dumpuses are numpuses. Impuses are jompuses. Each yumpus is not spicy. Every dumpus is mean. Lorpuses are snowy. Each lempus is not transparent. Numpuses are tumpuses. Numpuses are moderate. Every tumpus is luminous. Jompuses are not blue. Impuses are gorpuses. Every gorpus is not hot. Each dumpus is a yumpus. Every gorpus is a lempus. Lorpuses are sterpuses. Every impus is muffled. Every numpus is an impus. Gorpuses are rompuses. Polly is an impus. Polly is a lorpus.\n",
      "Question: Is Polly muffled?\n",
      "Think step-by-step.\n",
      "\n",
      "(1) Polly is an impus.\n",
      "(2) Every impus is muffled.\n",
      "(3) Polly is muffled.\n",
      "Answer: True\n",
      "\n",
      "Every lempus is a rompus. Each rompus is a jompus. Each jompus is a lorpus. Each rompus is a tumpus. Grimpuses are feisty. Jompuses are cold. Each dumpus is transparent. Each lempus is a dumpus. Rompuses are rainy. Vumpuses are gorpuses. Each tumpus is earthy. Every vumpus is sweet. Jompuses are grimpuses. Lempuses are angry. Alex is a rompus. Alex is a vumpus.\n",
      "Question: Is Alex rainy?\n",
      "Think step-by-step.\n",
      "\n",
      "(1) Alex is a rompus.\n",
      "(2) Rompuses are rainy.\n",
      "(3) Alex is rainy.\n",
      "Answer: True\n",
      "\n",
      "Sterpuses are tumpuses. Each sterpus is large. Vumpuses are zumpuses. Zumpuses are not spicy. Each vumpus is not slow. Each vumpus is a brimpus. Fae is a sterpus. Fae is a vumpus.\n",
      "Question: Is Fae slow?\n",
      "Think step-by-step.\n",
      "\n",
      "(1) Fae is a vumpus.\n",
      "(2) Each vumpus is not slow.\n",
      "(3) Fae is not slow.\n",
      "Answer: False\n",
      "\n",
      "Zumpuses are bright. Each yumpus is fast. Gorpuses are tumpuses. Every vumpus is not sweet. Every zumpus is an impus. Impuses are not large. Every gorpus is not transparent. Gorpuses are vumpuses. Each jompus is a grimpus. Each brimpus is rainy. Each jompus is muffled. Each impus is a gorpus. Each zumpus is a yumpus. Each impus is a brimpus. Stella is a jompus. Stella is a gorpus.\n",
      "Question: Is Stella transparent?\n",
      "Think step-by-step.\n",
      "\n",
      "(1) Stella is a gorpus.\n",
      "(2) Every gorpus is not transparent.\n",
      "(3) Stella is not transparent.\n",
      "Answer: False\n",
      "\n",
      "Lempuses are sterpuses. Every vumpus is an impus. Lempuses are temperate. Rompuses are transparent. Vumpuses are rompuses. Each vumpus is snowy. Rex is a lempus. Rex is a vumpus.\n",
      "Question: Is Rex snowy?\n",
      "Think step-by-step.\n",
      "\n",
      "(1) Rex is a vumpus.\n",
      "(2) Each vumpus is snowy.\n",
      "(3) Rex is snowy.\n",
      "Answer: True\n",
      "\n",
      "Gorpuses are sterpuses. Gorpuses are grimpuses. Every dumpus is a jompus. Every grimpus is a shumpus. Gorpuses are not small. Sterpuses are liquid. Every shumpus is not muffled. Dumpuses are bright. Each grimpus is a brimpus. Every grimpus is not cold. Wren is a dumpus. Wren is a grimpus.\n",
      "Question: Is Wren cold?\n",
      "Think step-by-step.\n",
      "\n",
      "\n"
     ]
    }
   ],
   "source": [
    "print(x_clean)"
   ]
  },
  {
   "cell_type": "code",
   "execution_count": 357,
   "metadata": {},
   "outputs": [
    {
     "name": "stdout",
     "output_type": "stream",
     "text": [
      "Generating...\n"
     ]
    },
    {
     "ename": "KeyboardInterrupt",
     "evalue": "",
     "output_type": "error",
     "traceback": [
      "\u001b[0;31m---------------------------------------------------------------------------\u001b[0m",
      "\u001b[0;31mKeyboardInterrupt\u001b[0m                         Traceback (most recent call last)",
      "Cell \u001b[0;32mIn[357], line 2\u001b[0m\n\u001b[1;32m      1\u001b[0m \u001b[38;5;28mprint\u001b[39m(\u001b[38;5;124m\"\u001b[39m\u001b[38;5;124mGenerating...\u001b[39m\u001b[38;5;124m\"\u001b[39m)\n\u001b[0;32m----> 2\u001b[0m clean_out \u001b[38;5;241m=\u001b[39m \u001b[43mgenerate_until_stop\u001b[49m\u001b[43m(\u001b[49m\u001b[43mx_clean\u001b[49m\u001b[43m,\u001b[49m\u001b[43m \u001b[49m\u001b[43m[\u001b[49m\u001b[38;5;124;43m'\u001b[39;49m\u001b[38;5;124;43m True\u001b[39;49m\u001b[38;5;124;43m'\u001b[39;49m\u001b[43m,\u001b[49m\u001b[43m \u001b[49m\u001b[38;5;124;43m'\u001b[39;49m\u001b[38;5;124;43m False\u001b[39;49m\u001b[38;5;124;43m'\u001b[39;49m\u001b[43m]\u001b[49m\u001b[43m)\u001b[49m[\u001b[38;5;241m0\u001b[39m]\n\u001b[1;32m      3\u001b[0m corr_out \u001b[38;5;241m=\u001b[39m generate_until_stop(x_corr, [\u001b[38;5;124m'\u001b[39m\u001b[38;5;124m True\u001b[39m\u001b[38;5;124m'\u001b[39m, \u001b[38;5;124m'\u001b[39m\u001b[38;5;124m False\u001b[39m\u001b[38;5;124m'\u001b[39m])[\u001b[38;5;241m0\u001b[39m]\n",
      "Cell \u001b[0;32mIn[352], line 47\u001b[0m, in \u001b[0;36mgenerate_until_stop\u001b[0;34m(prompt, stop_token)\u001b[0m\n\u001b[1;32m     45\u001b[0m \u001b[38;5;28;01mwhile\u001b[39;00m gen:\n\u001b[1;32m     46\u001b[0m     \u001b[38;5;28;01mwith\u001b[39;00m torch\u001b[38;5;241m.\u001b[39mno_grad():\n\u001b[0;32m---> 47\u001b[0m         new_tok \u001b[38;5;241m=\u001b[39m \u001b[43mmodel\u001b[49m\u001b[43m(\u001b[49m\u001b[43mtokens\u001b[49m\u001b[43m)\u001b[49m\u001b[38;5;241m.\u001b[39margmax(\u001b[38;5;241m-\u001b[39m\u001b[38;5;241m1\u001b[39m)[:, \u001b[38;5;241m-\u001b[39m\u001b[38;5;241m1\u001b[39m]\n\u001b[1;32m     49\u001b[0m     tokens \u001b[38;5;241m=\u001b[39m torch\u001b[38;5;241m.\u001b[39mcat([tokens, new_tok[\u001b[38;5;28;01mNone\u001b[39;00m]], dim\u001b[38;5;241m=\u001b[39m\u001b[38;5;241m-\u001b[39m\u001b[38;5;241m1\u001b[39m)\n\u001b[1;32m     50\u001b[0m     \u001b[38;5;28;01mif\u001b[39;00m new_tok\u001b[38;5;241m.\u001b[39mitem() \u001b[38;5;241m==\u001b[39m stop_token:\n",
      "File \u001b[0;32m/workspace/venv/lib/python3.10/site-packages/torch/nn/modules/module.py:1532\u001b[0m, in \u001b[0;36mModule._wrapped_call_impl\u001b[0;34m(self, *args, **kwargs)\u001b[0m\n\u001b[1;32m   1530\u001b[0m     \u001b[38;5;28;01mreturn\u001b[39;00m \u001b[38;5;28mself\u001b[39m\u001b[38;5;241m.\u001b[39m_compiled_call_impl(\u001b[38;5;241m*\u001b[39margs, \u001b[38;5;241m*\u001b[39m\u001b[38;5;241m*\u001b[39mkwargs)  \u001b[38;5;66;03m# type: ignore[misc]\u001b[39;00m\n\u001b[1;32m   1531\u001b[0m \u001b[38;5;28;01melse\u001b[39;00m:\n\u001b[0;32m-> 1532\u001b[0m     \u001b[38;5;28;01mreturn\u001b[39;00m \u001b[38;5;28;43mself\u001b[39;49m\u001b[38;5;241;43m.\u001b[39;49m\u001b[43m_call_impl\u001b[49m\u001b[43m(\u001b[49m\u001b[38;5;241;43m*\u001b[39;49m\u001b[43margs\u001b[49m\u001b[43m,\u001b[49m\u001b[43m \u001b[49m\u001b[38;5;241;43m*\u001b[39;49m\u001b[38;5;241;43m*\u001b[39;49m\u001b[43mkwargs\u001b[49m\u001b[43m)\u001b[49m\n",
      "File \u001b[0;32m/workspace/venv/lib/python3.10/site-packages/torch/nn/modules/module.py:1541\u001b[0m, in \u001b[0;36mModule._call_impl\u001b[0;34m(self, *args, **kwargs)\u001b[0m\n\u001b[1;32m   1536\u001b[0m \u001b[38;5;66;03m# If we don't have any hooks, we want to skip the rest of the logic in\u001b[39;00m\n\u001b[1;32m   1537\u001b[0m \u001b[38;5;66;03m# this function, and just call forward.\u001b[39;00m\n\u001b[1;32m   1538\u001b[0m \u001b[38;5;28;01mif\u001b[39;00m \u001b[38;5;129;01mnot\u001b[39;00m (\u001b[38;5;28mself\u001b[39m\u001b[38;5;241m.\u001b[39m_backward_hooks \u001b[38;5;129;01mor\u001b[39;00m \u001b[38;5;28mself\u001b[39m\u001b[38;5;241m.\u001b[39m_backward_pre_hooks \u001b[38;5;129;01mor\u001b[39;00m \u001b[38;5;28mself\u001b[39m\u001b[38;5;241m.\u001b[39m_forward_hooks \u001b[38;5;129;01mor\u001b[39;00m \u001b[38;5;28mself\u001b[39m\u001b[38;5;241m.\u001b[39m_forward_pre_hooks\n\u001b[1;32m   1539\u001b[0m         \u001b[38;5;129;01mor\u001b[39;00m _global_backward_pre_hooks \u001b[38;5;129;01mor\u001b[39;00m _global_backward_hooks\n\u001b[1;32m   1540\u001b[0m         \u001b[38;5;129;01mor\u001b[39;00m _global_forward_hooks \u001b[38;5;129;01mor\u001b[39;00m _global_forward_pre_hooks):\n\u001b[0;32m-> 1541\u001b[0m     \u001b[38;5;28;01mreturn\u001b[39;00m \u001b[43mforward_call\u001b[49m\u001b[43m(\u001b[49m\u001b[38;5;241;43m*\u001b[39;49m\u001b[43margs\u001b[49m\u001b[43m,\u001b[49m\u001b[43m \u001b[49m\u001b[38;5;241;43m*\u001b[39;49m\u001b[38;5;241;43m*\u001b[39;49m\u001b[43mkwargs\u001b[49m\u001b[43m)\u001b[49m\n\u001b[1;32m   1543\u001b[0m \u001b[38;5;28;01mtry\u001b[39;00m:\n\u001b[1;32m   1544\u001b[0m     result \u001b[38;5;241m=\u001b[39m \u001b[38;5;28;01mNone\u001b[39;00m\n",
      "File \u001b[0;32m/workspace/venv/lib/python3.10/site-packages/transformer_lens/HookedTransformer.py:550\u001b[0m, in \u001b[0;36mHookedTransformer.forward\u001b[0;34m(self, input, return_type, loss_per_token, prepend_bos, padding_side, start_at_layer, tokens, shortformer_pos_embed, attention_mask, stop_at_layer, past_kv_cache)\u001b[0m\n\u001b[1;32m    545\u001b[0m     \u001b[38;5;28;01mif\u001b[39;00m shortformer_pos_embed \u001b[38;5;129;01mis\u001b[39;00m \u001b[38;5;129;01mnot\u001b[39;00m \u001b[38;5;28;01mNone\u001b[39;00m:\n\u001b[1;32m    546\u001b[0m         shortformer_pos_embed \u001b[38;5;241m=\u001b[39m shortformer_pos_embed\u001b[38;5;241m.\u001b[39mto(\n\u001b[1;32m    547\u001b[0m             devices\u001b[38;5;241m.\u001b[39mget_device_for_block_index(i, \u001b[38;5;28mself\u001b[39m\u001b[38;5;241m.\u001b[39mcfg)\n\u001b[1;32m    548\u001b[0m         )\n\u001b[0;32m--> 550\u001b[0m     residual \u001b[38;5;241m=\u001b[39m \u001b[43mblock\u001b[49m\u001b[43m(\u001b[49m\n\u001b[1;32m    551\u001b[0m \u001b[43m        \u001b[49m\u001b[43mresidual\u001b[49m\u001b[43m,\u001b[49m\n\u001b[1;32m    552\u001b[0m \u001b[43m        \u001b[49m\u001b[38;5;66;43;03m# Cache contains a list of HookedTransformerKeyValueCache objects, one for each\u001b[39;49;00m\n\u001b[1;32m    553\u001b[0m \u001b[43m        \u001b[49m\u001b[38;5;66;43;03m# block\u001b[39;49;00m\n\u001b[1;32m    554\u001b[0m \u001b[43m        \u001b[49m\u001b[43mpast_kv_cache_entry\u001b[49m\u001b[38;5;241;43m=\u001b[39;49m\u001b[43mpast_kv_cache\u001b[49m\u001b[43m[\u001b[49m\u001b[43mi\u001b[49m\u001b[43m]\u001b[49m\u001b[43m \u001b[49m\u001b[38;5;28;43;01mif\u001b[39;49;00m\u001b[43m \u001b[49m\u001b[43mpast_kv_cache\u001b[49m\u001b[43m \u001b[49m\u001b[38;5;129;43;01mis\u001b[39;49;00m\u001b[43m \u001b[49m\u001b[38;5;129;43;01mnot\u001b[39;49;00m\u001b[43m \u001b[49m\u001b[38;5;28;43;01mNone\u001b[39;49;00m\u001b[43m \u001b[49m\u001b[38;5;28;43;01melse\u001b[39;49;00m\u001b[43m \u001b[49m\u001b[38;5;28;43;01mNone\u001b[39;49;00m\u001b[43m,\u001b[49m\n\u001b[1;32m    555\u001b[0m \u001b[43m        \u001b[49m\u001b[43mshortformer_pos_embed\u001b[49m\u001b[38;5;241;43m=\u001b[39;49m\u001b[43mshortformer_pos_embed\u001b[49m\u001b[43m,\u001b[49m\n\u001b[1;32m    556\u001b[0m \u001b[43m        \u001b[49m\u001b[43mattention_mask\u001b[49m\u001b[38;5;241;43m=\u001b[39;49m\u001b[43mattention_mask\u001b[49m\u001b[43m,\u001b[49m\n\u001b[1;32m    557\u001b[0m \u001b[43m    \u001b[49m\u001b[43m)\u001b[49m  \u001b[38;5;66;03m# [batch, pos, d_model]\u001b[39;00m\n\u001b[1;32m    559\u001b[0m \u001b[38;5;28;01mif\u001b[39;00m stop_at_layer \u001b[38;5;129;01mis\u001b[39;00m \u001b[38;5;129;01mnot\u001b[39;00m \u001b[38;5;28;01mNone\u001b[39;00m:\n\u001b[1;32m    560\u001b[0m     \u001b[38;5;66;03m# When we stop at an early layer, we end here rather than doing further computation\u001b[39;00m\n\u001b[1;32m    561\u001b[0m     \u001b[38;5;28;01mreturn\u001b[39;00m residual\n",
      "File \u001b[0;32m/workspace/venv/lib/python3.10/site-packages/torch/nn/modules/module.py:1532\u001b[0m, in \u001b[0;36mModule._wrapped_call_impl\u001b[0;34m(self, *args, **kwargs)\u001b[0m\n\u001b[1;32m   1530\u001b[0m     \u001b[38;5;28;01mreturn\u001b[39;00m \u001b[38;5;28mself\u001b[39m\u001b[38;5;241m.\u001b[39m_compiled_call_impl(\u001b[38;5;241m*\u001b[39margs, \u001b[38;5;241m*\u001b[39m\u001b[38;5;241m*\u001b[39mkwargs)  \u001b[38;5;66;03m# type: ignore[misc]\u001b[39;00m\n\u001b[1;32m   1531\u001b[0m \u001b[38;5;28;01melse\u001b[39;00m:\n\u001b[0;32m-> 1532\u001b[0m     \u001b[38;5;28;01mreturn\u001b[39;00m \u001b[38;5;28;43mself\u001b[39;49m\u001b[38;5;241;43m.\u001b[39;49m\u001b[43m_call_impl\u001b[49m\u001b[43m(\u001b[49m\u001b[38;5;241;43m*\u001b[39;49m\u001b[43margs\u001b[49m\u001b[43m,\u001b[49m\u001b[43m \u001b[49m\u001b[38;5;241;43m*\u001b[39;49m\u001b[38;5;241;43m*\u001b[39;49m\u001b[43mkwargs\u001b[49m\u001b[43m)\u001b[49m\n",
      "File \u001b[0;32m/workspace/venv/lib/python3.10/site-packages/torch/nn/modules/module.py:1541\u001b[0m, in \u001b[0;36mModule._call_impl\u001b[0;34m(self, *args, **kwargs)\u001b[0m\n\u001b[1;32m   1536\u001b[0m \u001b[38;5;66;03m# If we don't have any hooks, we want to skip the rest of the logic in\u001b[39;00m\n\u001b[1;32m   1537\u001b[0m \u001b[38;5;66;03m# this function, and just call forward.\u001b[39;00m\n\u001b[1;32m   1538\u001b[0m \u001b[38;5;28;01mif\u001b[39;00m \u001b[38;5;129;01mnot\u001b[39;00m (\u001b[38;5;28mself\u001b[39m\u001b[38;5;241m.\u001b[39m_backward_hooks \u001b[38;5;129;01mor\u001b[39;00m \u001b[38;5;28mself\u001b[39m\u001b[38;5;241m.\u001b[39m_backward_pre_hooks \u001b[38;5;129;01mor\u001b[39;00m \u001b[38;5;28mself\u001b[39m\u001b[38;5;241m.\u001b[39m_forward_hooks \u001b[38;5;129;01mor\u001b[39;00m \u001b[38;5;28mself\u001b[39m\u001b[38;5;241m.\u001b[39m_forward_pre_hooks\n\u001b[1;32m   1539\u001b[0m         \u001b[38;5;129;01mor\u001b[39;00m _global_backward_pre_hooks \u001b[38;5;129;01mor\u001b[39;00m _global_backward_hooks\n\u001b[1;32m   1540\u001b[0m         \u001b[38;5;129;01mor\u001b[39;00m _global_forward_hooks \u001b[38;5;129;01mor\u001b[39;00m _global_forward_pre_hooks):\n\u001b[0;32m-> 1541\u001b[0m     \u001b[38;5;28;01mreturn\u001b[39;00m \u001b[43mforward_call\u001b[49m\u001b[43m(\u001b[49m\u001b[38;5;241;43m*\u001b[39;49m\u001b[43margs\u001b[49m\u001b[43m,\u001b[49m\u001b[43m \u001b[49m\u001b[38;5;241;43m*\u001b[39;49m\u001b[38;5;241;43m*\u001b[39;49m\u001b[43mkwargs\u001b[49m\u001b[43m)\u001b[49m\n\u001b[1;32m   1543\u001b[0m \u001b[38;5;28;01mtry\u001b[39;00m:\n\u001b[1;32m   1544\u001b[0m     result \u001b[38;5;241m=\u001b[39m \u001b[38;5;28;01mNone\u001b[39;00m\n",
      "File \u001b[0;32m/workspace/venv/lib/python3.10/site-packages/transformer_lens/components.py:1585\u001b[0m, in \u001b[0;36mTransformerBlock.forward\u001b[0;34m(self, resid_pre, shortformer_pos_embed, past_kv_cache_entry, attention_mask)\u001b[0m\n\u001b[1;32m   1578\u001b[0m     key_input \u001b[38;5;241m=\u001b[39m attn_in\n\u001b[1;32m   1579\u001b[0m     value_input \u001b[38;5;241m=\u001b[39m attn_in\n\u001b[1;32m   1581\u001b[0m attn_out \u001b[38;5;241m=\u001b[39m \u001b[38;5;28mself\u001b[39m\u001b[38;5;241m.\u001b[39mhook_attn_out(\n\u001b[1;32m   1582\u001b[0m     \u001b[38;5;66;03m# hook the residual stream states that are used to calculate the\u001b[39;00m\n\u001b[1;32m   1583\u001b[0m     \u001b[38;5;66;03m# queries, keys and values, independently.\u001b[39;00m\n\u001b[1;32m   1584\u001b[0m     \u001b[38;5;66;03m# Then take the layer norm of these inputs, and pass these to the attention module.\u001b[39;00m\n\u001b[0;32m-> 1585\u001b[0m     \u001b[38;5;28;43mself\u001b[39;49m\u001b[38;5;241;43m.\u001b[39;49m\u001b[43mattn\u001b[49m\u001b[43m(\u001b[49m\n\u001b[1;32m   1586\u001b[0m \u001b[43m        \u001b[49m\u001b[43mquery_input\u001b[49m\u001b[38;5;241;43m=\u001b[39;49m\u001b[38;5;28;43mself\u001b[39;49m\u001b[38;5;241;43m.\u001b[39;49m\u001b[43mln1\u001b[49m\u001b[43m(\u001b[49m\u001b[43mquery_input\u001b[49m\u001b[43m)\u001b[49m\n\u001b[1;32m   1587\u001b[0m \u001b[43m        \u001b[49m\u001b[38;5;241;43m+\u001b[39;49m\u001b[43m \u001b[49m\u001b[43m(\u001b[49m\u001b[38;5;241;43m0.0\u001b[39;49m\u001b[43m \u001b[49m\u001b[38;5;28;43;01mif\u001b[39;49;00m\u001b[43m \u001b[49m\u001b[43mshortformer_pos_embed\u001b[49m\u001b[43m \u001b[49m\u001b[38;5;129;43;01mis\u001b[39;49;00m\u001b[43m \u001b[49m\u001b[38;5;28;43;01mNone\u001b[39;49;00m\u001b[43m \u001b[49m\u001b[38;5;28;43;01melse\u001b[39;49;00m\u001b[43m \u001b[49m\u001b[43mshortformer_pos_embed\u001b[49m\u001b[43m)\u001b[49m\u001b[43m,\u001b[49m\n\u001b[1;32m   1588\u001b[0m \u001b[43m        \u001b[49m\u001b[43mkey_input\u001b[49m\u001b[38;5;241;43m=\u001b[39;49m\u001b[38;5;28;43mself\u001b[39;49m\u001b[38;5;241;43m.\u001b[39;49m\u001b[43mln1\u001b[49m\u001b[43m(\u001b[49m\u001b[43mkey_input\u001b[49m\u001b[43m)\u001b[49m\n\u001b[1;32m   1589\u001b[0m \u001b[43m        \u001b[49m\u001b[38;5;241;43m+\u001b[39;49m\u001b[43m \u001b[49m\u001b[43m(\u001b[49m\u001b[38;5;241;43m0.0\u001b[39;49m\u001b[43m \u001b[49m\u001b[38;5;28;43;01mif\u001b[39;49;00m\u001b[43m \u001b[49m\u001b[43mshortformer_pos_embed\u001b[49m\u001b[43m \u001b[49m\u001b[38;5;129;43;01mis\u001b[39;49;00m\u001b[43m \u001b[49m\u001b[38;5;28;43;01mNone\u001b[39;49;00m\u001b[43m \u001b[49m\u001b[38;5;28;43;01melse\u001b[39;49;00m\u001b[43m \u001b[49m\u001b[43mshortformer_pos_embed\u001b[49m\u001b[43m)\u001b[49m\u001b[43m,\u001b[49m\n\u001b[1;32m   1590\u001b[0m \u001b[43m        \u001b[49m\u001b[43mvalue_input\u001b[49m\u001b[38;5;241;43m=\u001b[39;49m\u001b[38;5;28;43mself\u001b[39;49m\u001b[38;5;241;43m.\u001b[39;49m\u001b[43mln1\u001b[49m\u001b[43m(\u001b[49m\u001b[43mvalue_input\u001b[49m\u001b[43m)\u001b[49m\u001b[43m,\u001b[49m\n\u001b[1;32m   1591\u001b[0m \u001b[43m        \u001b[49m\u001b[43mpast_kv_cache_entry\u001b[49m\u001b[38;5;241;43m=\u001b[39;49m\u001b[43mpast_kv_cache_entry\u001b[49m\u001b[43m,\u001b[49m\n\u001b[1;32m   1592\u001b[0m \u001b[43m        \u001b[49m\u001b[43mattention_mask\u001b[49m\u001b[38;5;241;43m=\u001b[39;49m\u001b[43mattention_mask\u001b[49m\u001b[43m,\u001b[49m\n\u001b[1;32m   1593\u001b[0m \u001b[43m    \u001b[49m\u001b[43m)\u001b[49m\n\u001b[1;32m   1594\u001b[0m )  \u001b[38;5;66;03m# [batch, pos, d_model]\u001b[39;00m\n\u001b[1;32m   1595\u001b[0m \u001b[38;5;28;01mif\u001b[39;00m \u001b[38;5;129;01mnot\u001b[39;00m \u001b[38;5;28mself\u001b[39m\u001b[38;5;241m.\u001b[39mcfg\u001b[38;5;241m.\u001b[39mattn_only \u001b[38;5;129;01mand\u001b[39;00m \u001b[38;5;129;01mnot\u001b[39;00m \u001b[38;5;28mself\u001b[39m\u001b[38;5;241m.\u001b[39mcfg\u001b[38;5;241m.\u001b[39mparallel_attn_mlp:\n\u001b[1;32m   1596\u001b[0m     resid_mid \u001b[38;5;241m=\u001b[39m \u001b[38;5;28mself\u001b[39m\u001b[38;5;241m.\u001b[39mhook_resid_mid(resid_pre \u001b[38;5;241m+\u001b[39m attn_out)  \u001b[38;5;66;03m# [batch, pos, d_model]\u001b[39;00m\n",
      "File \u001b[0;32m/workspace/venv/lib/python3.10/site-packages/torch/nn/modules/module.py:1532\u001b[0m, in \u001b[0;36mModule._wrapped_call_impl\u001b[0;34m(self, *args, **kwargs)\u001b[0m\n\u001b[1;32m   1530\u001b[0m     \u001b[38;5;28;01mreturn\u001b[39;00m \u001b[38;5;28mself\u001b[39m\u001b[38;5;241m.\u001b[39m_compiled_call_impl(\u001b[38;5;241m*\u001b[39margs, \u001b[38;5;241m*\u001b[39m\u001b[38;5;241m*\u001b[39mkwargs)  \u001b[38;5;66;03m# type: ignore[misc]\u001b[39;00m\n\u001b[1;32m   1531\u001b[0m \u001b[38;5;28;01melse\u001b[39;00m:\n\u001b[0;32m-> 1532\u001b[0m     \u001b[38;5;28;01mreturn\u001b[39;00m \u001b[38;5;28;43mself\u001b[39;49m\u001b[38;5;241;43m.\u001b[39;49m\u001b[43m_call_impl\u001b[49m\u001b[43m(\u001b[49m\u001b[38;5;241;43m*\u001b[39;49m\u001b[43margs\u001b[49m\u001b[43m,\u001b[49m\u001b[43m \u001b[49m\u001b[38;5;241;43m*\u001b[39;49m\u001b[38;5;241;43m*\u001b[39;49m\u001b[43mkwargs\u001b[49m\u001b[43m)\u001b[49m\n",
      "File \u001b[0;32m/workspace/venv/lib/python3.10/site-packages/torch/nn/modules/module.py:1541\u001b[0m, in \u001b[0;36mModule._call_impl\u001b[0;34m(self, *args, **kwargs)\u001b[0m\n\u001b[1;32m   1536\u001b[0m \u001b[38;5;66;03m# If we don't have any hooks, we want to skip the rest of the logic in\u001b[39;00m\n\u001b[1;32m   1537\u001b[0m \u001b[38;5;66;03m# this function, and just call forward.\u001b[39;00m\n\u001b[1;32m   1538\u001b[0m \u001b[38;5;28;01mif\u001b[39;00m \u001b[38;5;129;01mnot\u001b[39;00m (\u001b[38;5;28mself\u001b[39m\u001b[38;5;241m.\u001b[39m_backward_hooks \u001b[38;5;129;01mor\u001b[39;00m \u001b[38;5;28mself\u001b[39m\u001b[38;5;241m.\u001b[39m_backward_pre_hooks \u001b[38;5;129;01mor\u001b[39;00m \u001b[38;5;28mself\u001b[39m\u001b[38;5;241m.\u001b[39m_forward_hooks \u001b[38;5;129;01mor\u001b[39;00m \u001b[38;5;28mself\u001b[39m\u001b[38;5;241m.\u001b[39m_forward_pre_hooks\n\u001b[1;32m   1539\u001b[0m         \u001b[38;5;129;01mor\u001b[39;00m _global_backward_pre_hooks \u001b[38;5;129;01mor\u001b[39;00m _global_backward_hooks\n\u001b[1;32m   1540\u001b[0m         \u001b[38;5;129;01mor\u001b[39;00m _global_forward_hooks \u001b[38;5;129;01mor\u001b[39;00m _global_forward_pre_hooks):\n\u001b[0;32m-> 1541\u001b[0m     \u001b[38;5;28;01mreturn\u001b[39;00m \u001b[43mforward_call\u001b[49m\u001b[43m(\u001b[49m\u001b[38;5;241;43m*\u001b[39;49m\u001b[43margs\u001b[49m\u001b[43m,\u001b[49m\u001b[43m \u001b[49m\u001b[38;5;241;43m*\u001b[39;49m\u001b[38;5;241;43m*\u001b[39;49m\u001b[43mkwargs\u001b[49m\u001b[43m)\u001b[49m\n\u001b[1;32m   1543\u001b[0m \u001b[38;5;28;01mtry\u001b[39;00m:\n\u001b[1;32m   1544\u001b[0m     result \u001b[38;5;241m=\u001b[39m \u001b[38;5;28;01mNone\u001b[39;00m\n",
      "File \u001b[0;32m/workspace/venv/lib/python3.10/site-packages/transformer_lens/components.py:548\u001b[0m, in \u001b[0;36mAbstractAttention.forward\u001b[0;34m(self, query_input, key_input, value_input, past_kv_cache_entry, additive_attention_mask, attention_mask)\u001b[0m\n\u001b[1;32m    545\u001b[0m \u001b[38;5;28;01mif\u001b[39;00m \u001b[38;5;28mself\u001b[39m\u001b[38;5;241m.\u001b[39mcfg\u001b[38;5;241m.\u001b[39mpositional_embedding_type \u001b[38;5;241m==\u001b[39m \u001b[38;5;124m\"\u001b[39m\u001b[38;5;124mrotary\u001b[39m\u001b[38;5;124m\"\u001b[39m:\n\u001b[1;32m    546\u001b[0m     q \u001b[38;5;241m=\u001b[39m \u001b[38;5;28mself\u001b[39m\u001b[38;5;241m.\u001b[39mhook_rot_q(\u001b[38;5;28mself\u001b[39m\u001b[38;5;241m.\u001b[39mapply_rotary(q, kv_cache_pos_offset, attention_mask))\n\u001b[1;32m    547\u001b[0m     k \u001b[38;5;241m=\u001b[39m \u001b[38;5;28mself\u001b[39m\u001b[38;5;241m.\u001b[39mhook_rot_k(\n\u001b[0;32m--> 548\u001b[0m         \u001b[38;5;28;43mself\u001b[39;49m\u001b[38;5;241;43m.\u001b[39;49m\u001b[43mapply_rotary\u001b[49m\u001b[43m(\u001b[49m\u001b[43mk\u001b[49m\u001b[43m,\u001b[49m\u001b[43m \u001b[49m\u001b[38;5;241;43m0\u001b[39;49m\u001b[43m,\u001b[49m\u001b[43m \u001b[49m\u001b[43mattention_mask\u001b[49m\u001b[43m)\u001b[49m\n\u001b[1;32m    549\u001b[0m     )  \u001b[38;5;66;03m# keys are cached so no offset\u001b[39;00m\n\u001b[1;32m    551\u001b[0m \u001b[38;5;28;01mif\u001b[39;00m \u001b[38;5;28mself\u001b[39m\u001b[38;5;241m.\u001b[39mcfg\u001b[38;5;241m.\u001b[39mdtype \u001b[38;5;129;01mnot\u001b[39;00m \u001b[38;5;129;01min\u001b[39;00m [torch\u001b[38;5;241m.\u001b[39mfloat32, torch\u001b[38;5;241m.\u001b[39mfloat64]:\n\u001b[1;32m    552\u001b[0m     \u001b[38;5;66;03m# If using 16 bits, increase the precision to avoid numerical instabilities\u001b[39;00m\n\u001b[1;32m    553\u001b[0m     q \u001b[38;5;241m=\u001b[39m q\u001b[38;5;241m.\u001b[39mto(torch\u001b[38;5;241m.\u001b[39mfloat32)\n",
      "File \u001b[0;32m/workspace/venv/lib/python3.10/site-packages/transformer_lens/components.py:860\u001b[0m, in \u001b[0;36mAbstractAttention.apply_rotary\u001b[0;34m(self, x, past_kv_pos_offset, attention_mask)\u001b[0m\n\u001b[1;32m    858\u001b[0m x_rot \u001b[38;5;241m=\u001b[39m x[\u001b[38;5;241m.\u001b[39m\u001b[38;5;241m.\u001b[39m\u001b[38;5;241m.\u001b[39m, : \u001b[38;5;28mself\u001b[39m\u001b[38;5;241m.\u001b[39mcfg\u001b[38;5;241m.\u001b[39mrotary_dim]\n\u001b[1;32m    859\u001b[0m x_pass \u001b[38;5;241m=\u001b[39m x[\u001b[38;5;241m.\u001b[39m\u001b[38;5;241m.\u001b[39m\u001b[38;5;241m.\u001b[39m, \u001b[38;5;28mself\u001b[39m\u001b[38;5;241m.\u001b[39mcfg\u001b[38;5;241m.\u001b[39mrotary_dim :]\n\u001b[0;32m--> 860\u001b[0m x_flip \u001b[38;5;241m=\u001b[39m \u001b[38;5;28;43mself\u001b[39;49m\u001b[38;5;241;43m.\u001b[39;49m\u001b[43mrotate_every_two\u001b[49m\u001b[43m(\u001b[49m\u001b[43mx_rot\u001b[49m\u001b[43m)\u001b[49m\n\u001b[1;32m    862\u001b[0m \u001b[38;5;28;01mif\u001b[39;00m attention_mask \u001b[38;5;129;01mis\u001b[39;00m \u001b[38;5;28;01mNone\u001b[39;00m:\n\u001b[1;32m    863\u001b[0m     rotary_cos \u001b[38;5;241m=\u001b[39m \u001b[38;5;28mself\u001b[39m\u001b[38;5;241m.\u001b[39mrotary_cos[\n\u001b[1;32m    864\u001b[0m         \u001b[38;5;28;01mNone\u001b[39;00m, past_kv_pos_offset : past_kv_pos_offset \u001b[38;5;241m+\u001b[39m x_pos, \u001b[38;5;28;01mNone\u001b[39;00m, :\n\u001b[1;32m    865\u001b[0m     ]\n",
      "\u001b[0;31mKeyboardInterrupt\u001b[0m: "
     ]
    }
   ],
   "source": [
    "print(\"Generating...\")\n",
    "clean_out = generate_until_stop(x_clean, [' True', ' False'])[0]\n",
    "corr_out = generate_until_stop(x_corr, [' True', ' False'])[0]"
   ]
  },
  {
   "cell_type": "code",
   "execution_count": null,
   "metadata": {},
   "outputs": [],
   "source": [
    "print(x_clean)"
   ]
  },
  {
   "cell_type": "code",
   "execution_count": 274,
   "metadata": {},
   "outputs": [
    {
     "name": "stdout",
     "output_type": "stream",
     "text": [
      "CLEAN RUN\n",
      " Wren is blue. Think step-by-step.\n",
      "\n",
      "(1) Wren is a tumpus.\n",
      "(2) Tumpuses are blue.\n",
      "(3) Wren is blue.\n",
      "Answer: True\n",
      "\n",
      "CORRUPTED RUN\n",
      " Wren is not blue. Think step-by-step.\n",
      "\n",
      "(1) Wren is a tumpus.\n",
      "(2) Tumpuses are blue.\n",
      "(3) Wren is not blue.\n",
      "Answer: True\n"
     ]
    }
   ],
   "source": [
    "print(\"CLEAN RUN\\n\", clean_out.split(\"False:\")[-1], sep='')\n",
    "print(\"\\nCORRUPTED RUN\\n\", corr_out.split(\"False:\")[-1], sep='')"
   ]
  },
  {
   "cell_type": "code",
   "execution_count": 226,
   "metadata": {},
   "outputs": [],
   "source": [
    "def caching_hook(x, hook, cache):\n",
    "    cache[hook] = x\n",
    "    return x"
   ]
  },
  {
   "cell_type": "code",
   "execution_count": 125,
   "metadata": {},
   "outputs": [
    {
     "name": "stdout",
     "output_type": "stream",
     "text": [
      "Clean logit difference: -0.625\n",
      "Clean logit difference: -0.500\n"
     ]
    }
   ],
   "source": [
    "from functools import partial\n",
    "\n",
    "clean_cache = {}\n",
    "corr_cache = {}\n",
    "\n",
    "clean_caching_fn = partial(caching_hook, cache=clean_cache)\n",
    "corr_caching_fn = partial(caching_hook, cache=corr_cache)\n",
    "\n",
    "component = 'resid_pre'\n",
    "\n",
    "# Tokenization and caching\n",
    "idx = 1\n",
    "x_clean, a_clean, _, x_corr = prompt\n",
    "a_corr = ' False' if eval(a_clean) else ' True'\n",
    "a_clean = ' ' + a_clean\n",
    "\n",
    "x_clean = generate_until_stop(x_clean)[0]\n",
    "x_corr = generate_until_stop(x_corr)[0]\n",
    "\n",
    "clean_tokens = model.to_tokens(x_clean, prepend_bos=False)\n",
    "with torch.no_grad():\n",
    "    clean_logits = model.run_with_hooks(clean_tokens, fwd_hooks=[\n",
    "        (utils.get_act_name(component, layer), clean_caching_fn) for layer in range(model.cfg.n_layers)\n",
    "        ])\n",
    "\n",
    "clean_logit_diff = logits_diff(clean_logits, a_clean, a_corr)\n",
    "print(f\"Clean logit difference: {clean_logit_diff.item():.3f}\")\n",
    "\n",
    "corr_tokens = model.to_tokens(x_corr, prepend_bos=False)\n",
    "with torch.no_grad():\n",
    "    corr_logits = model.run_with_hooks(corr_tokens, fwd_hooks=[\n",
    "        (utils.get_act_name(component, layer), corr_caching_fn) for layer in range(model.cfg.n_layers)\n",
    "        ])\n",
    "\n",
    "corr_logit_diff = logits_diff(corr_logits, a_clean, a_corr)\n",
    "print(f\"Clean logit difference: {corr_logit_diff.item():.3f}\")"
   ]
  },
  {
   "cell_type": "code",
   "execution_count": 126,
   "metadata": {},
   "outputs": [
    {
     "data": {
      "text/plain": [
       "('<bos>Answer True or False to the following question. Answer as in the following examples.\\n\\nYumpuses are grimpuses. Impuses are sterpuses. Sterpuses are dumpuses. Each sterpus is a numpus. Each impus is windy. Lempuses are melodic. Rompuses are lorpuses. Rompuses are not earthy. Numpuses are sweet. Rompuses are impuses. Sterpuses are transparent. Every yumpus is not dull. Lorpuses are luminous. Impuses are lempuses. Alex is a rompus. Alex is a yumpus.\\nTrue or False: Alex is earthy. Think step-by-step.\\n\\n(1) Alex is a rompus.\\n(2) Rompuses are not earthy.\\n(3) Alex is not earthy.\\n\\nAnswer: False\\n\\n\\nEvery impus is a tumpus. Sterpuses are jompuses. Impuses are grimpuses. Each sterpus is not large. Grimpuses are not fast. Every impus is not red. Lorpuses are not happy. Every tumpus is a rompus. Every tumpus is a lorpus. Every lorpus is a sterpus. Rompuses are metallic. Each tumpus is muffled. Every jompus is not aggressive. Gorpuses are sunny. Every lorpus is a gorpus. Shumpuses are earthy. Shumpuses are zumpuses. Every sterpus is a yumpus. Alex is a shumpus. Alex is a sterpus.\\nTrue or False: Alex is large. Think step-by-step.\\n\\n(1) Alex is a sterpus.\\n(2) Each sterpus is not large.\\n(3) Alex is not large.\\n\\nAnswer: False\\n\\n\\nEach tumpus is a brimpus. Wumpuses are shumpuses. Each shumpus is fast. Each jompus is a gorpus. Every tumpus is dull. Wumpuses are shy. Jompuses are not transparent. Jompuses are lempuses. Gorpuses are orange. Each wumpus is a jompus. Max is a wumpus. Max is a tumpus.\\nTrue or False: Max is not shy. Think step-by-step.\\n\\n(1) Max is a wumpus.\\n(2) Wumpuses are shy.\\n(3) Max is shy.\\n\\nAnswer: False\\n\\n\\nShumpuses are slow. Each wumpus is an impus. Every grimpus is not mean. Each grimpus is a shumpus. Each jompus is a lorpus. Vumpuses are loud. Every jompus is opaque. Impuses are earthy. Every vumpus is a lempus. Each grimpus is a vumpus. Every vumpus is a brimpus. Wumpuses are grimpuses. Each lempus is nervous. Each wumpus is not wooden. Alex is a jompus. Alex is a grimpus.\\nTrue or False: Alex is mean. Think step-by-step.\\n\\n(1) Alex is a grimpus.\\n(2) Every grimpus is not mean.\\n(3) Alex is not mean.\\n\\nAnswer: False\\n\\n\\nEach brimpus is a zumpus. Every lempus is feisty. Every brimpus is a lempus. Grimpuses are sterpuses. Every dumpus is not dull. Each sterpus is not overcast. Every grimpus is a tumpus. Every wumpus is a brimpus. Each zumpus is not fruity. Each lempus is a grimpus. Every lempus is an impus. Each jompus is not small. Numpuses are kind. Every brimpus is liquid. Tumpuses are temperate. Each dumpus is a shumpus. Every tumpus is a gorpus. Each tumpus is a numpus. Every impus is melodic. Wumpuses are jompuses. Grimpuses are not sour. Each wumpus is not transparent. Polly is a grimpus. Polly is a dumpus.\\nTrue or False: Polly is not sour. Think step-by-step.\\n\\n(1) Polly is a grimpus.\\n(2) Grimpuses are not sour.\\n(3) Polly is not sour.\\n\\nAnswer: True\\n\\n\\nImpuses are not orange. Each rompus is a tumpus. Each lorpus is a dumpus. Each tumpus is large. Every tumpus is a lorpus. Lorpuses are not luminous. Numpuses are not bitter. Every impus is a jompus. Lorpuses are numpuses. Every numpus is a yumpus. Lempuses are melodic. Vumpuses are not angry. Each tumpus is a vumpus. Each yumpus is bright. Rompuses are lempuses. Dumpuses are not hot. Numpuses are zumpuses. Every rompus is not fast. Polly is a lorpus. Polly is an impus.\\nTrue or False: Polly is not luminous. Think step-by-step.\\n\\n(1) Polly is a rompus.\\n(2) Every rompus is not fast.\\n(3) Polly is not luminous.\\n\\nAnswer:',\n",
       " '<bos>Answer True or False to the following question. Answer as in the following examples.\\n\\nYumpuses are grimpuses. Impuses are sterpuses. Sterpuses are dumpuses. Each sterpus is a numpus. Each impus is windy. Lempuses are melodic. Rompuses are lorpuses. Rompuses are not earthy. Numpuses are sweet. Rompuses are impuses. Sterpuses are transparent. Every yumpus is not dull. Lorpuses are luminous. Impuses are lempuses. Alex is a rompus. Alex is a yumpus.\\nTrue or False: Alex is earthy. Think step-by-step.\\n\\n(1) Alex is a rompus.\\n(2) Rompuses are not earthy.\\n(3) Alex is not earthy.\\n\\nAnswer: False\\n\\n\\nEvery impus is a tumpus. Sterpuses are jompuses. Impuses are grimpuses. Each sterpus is not large. Grimpuses are not fast. Every impus is not red. Lorpuses are not happy. Every tumpus is a rompus. Every tumpus is a lorpus. Every lorpus is a sterpus. Rompuses are metallic. Each tumpus is muffled. Every jompus is not aggressive. Gorpuses are sunny. Every lorpus is a gorpus. Shumpuses are earthy. Shumpuses are zumpuses. Every sterpus is a yumpus. Alex is a shumpus. Alex is a sterpus.\\nTrue or False: Alex is large. Think step-by-step.\\n\\n(1) Alex is a sterpus.\\n(2) Each sterpus is not large.\\n(3) Alex is not large.\\n\\nAnswer: False\\n\\n\\nEach tumpus is a brimpus. Wumpuses are shumpuses. Each shumpus is fast. Each jompus is a gorpus. Every tumpus is dull. Wumpuses are shy. Jompuses are not transparent. Jompuses are lempuses. Gorpuses are orange. Each wumpus is a jompus. Max is a wumpus. Max is a tumpus.\\nTrue or False: Max is not shy. Think step-by-step.\\n\\n(1) Max is a wumpus.\\n(2) Wumpuses are shy.\\n(3) Max is shy.\\n\\nAnswer: False\\n\\n\\nShumpuses are slow. Each wumpus is an impus. Every grimpus is not mean. Each grimpus is a shumpus. Each jompus is a lorpus. Vumpuses are loud. Every jompus is opaque. Impuses are earthy. Every vumpus is a lempus. Each grimpus is a vumpus. Every vumpus is a brimpus. Wumpuses are grimpuses. Each lempus is nervous. Each wumpus is not wooden. Alex is a jompus. Alex is a grimpus.\\nTrue or False: Alex is mean. Think step-by-step.\\n\\n(1) Alex is a grimpus.\\n(2) Every grimpus is not mean.\\n(3) Alex is not mean.\\n\\nAnswer: False\\n\\n\\nEach brimpus is a zumpus. Every lempus is feisty. Every brimpus is a lempus. Grimpuses are sterpuses. Every dumpus is not dull. Each sterpus is not overcast. Every grimpus is a tumpus. Every wumpus is a brimpus. Each zumpus is not fruity. Each lempus is a grimpus. Every lempus is an impus. Each jompus is not small. Numpuses are kind. Every brimpus is liquid. Tumpuses are temperate. Each dumpus is a shumpus. Every tumpus is a gorpus. Each tumpus is a numpus. Every impus is melodic. Wumpuses are jompuses. Grimpuses are not sour. Each wumpus is not transparent. Polly is a grimpus. Polly is a dumpus.\\nTrue or False: Polly is not sour. Think step-by-step.\\n\\n(1) Polly is a grimpus.\\n(2) Grimpuses are not sour.\\n(3) Polly is not sour.\\n\\nAnswer: True\\n\\n\\nImpuses are not orange. Each rompus is a tumpus. Each lorpus is a dumpus. Each tumpus is large. Every tumpus is a lorpus. Lorpuses are not luminous. Numpuses are not bitter. Every impus is a jompus. Lorpuses are numpuses. Every numpus is a yumpus. Lempuses are melodic. Vumpuses are not angry. Each tumpus is a vumpus. Each yumpus is bright. Rompuses are lempuses. Dumpuses are not hot. Numpuses are zumpuses. Every rompus is not fast. Polly is a lorpus. Polly is an impus.\\nTrue or False: Polly is luminous. Think step-by-step.\\n\\n(1) Polly is a numpus.\\n(2) Every numpus is a yumpus.\\n(3) Polly is not luminous.\\n\\nAnswer:')"
      ]
     },
     "execution_count": 126,
     "metadata": {},
     "output_type": "execute_result"
    }
   ],
   "source": [
    "x_clean, x_corr"
   ]
  },
  {
   "cell_type": "code",
   "execution_count": null,
   "metadata": {},
   "outputs": [],
   "source": [
    "_, corrupted_cache = self.model.run_with_cache(self.corrupted_tokens)\n",
    "_, clean_cache, clean_grad_cache = self.get_cache_fwd_and_bwd(self.clean_tokens)"
   ]
  },
  {
   "cell_type": "code",
   "execution_count": 12,
   "metadata": {},
   "outputs": [],
   "source": [
    "import einops\n",
    "from tqdm import tqdm\n",
    "\n",
    "_, cache, grad_cache = get_cache_fwd_and_bwd(\n",
    "    model.to_tokens(out), \n",
    "    a_clean, a_corr\n",
    ")\n",
    "\n",
    "act = cache.stack_head_results(-1)\n",
    "grad_act = grad_cache.stack_head_results(-1)\n",
    "\n",
    "patch = einops.reduce(\n",
    "            grad_act *  act,\n",
    "            \"component batch pos d_model -> component pos\",\n",
    "            \"sum\",\n",
    "        )"
   ]
  },
  {
   "cell_type": "code",
   "execution_count": 22,
   "metadata": {},
   "outputs": [],
   "source": [
    "import plotly.express as px\n",
    "\n",
    "str_tokens = model.to_str_tokens(out, prepend_bos=False)[0]\n",
    "n_last_tokens = 32\n",
    "\n",
    "ys = [f'L{i}H{j}' for i in range(model.cfg.n_layers) for j in range(model.cfg.n_heads)]\n",
    "xs = [f\"{tok} | {i}\" for i, tok in enumerate(str_tokens[-n_last_tokens:])]\n",
    "\n",
    "fig = px.imshow(\n",
    "    patch[:, -n_last_tokens:].cpu().numpy(), \n",
    "    x=xs,\n",
    "    y=ys,\n",
    "    title=f\"Patching results for AtP method\",\n",
    "    color_continuous_scale='RdBu', zmin=-1, zmax=1, aspect='auto'\n",
    ")\n",
    "fig.write_html(\"fig.html\")"
   ]
  },
  {
   "cell_type": "code",
   "execution_count": null,
   "metadata": {},
   "outputs": [],
   "source": []
  }
 ],
 "metadata": {
  "kernelspec": {
   "display_name": "mats-interp",
   "language": "python",
   "name": "myenv"
  },
  "language_info": {
   "codemirror_mode": {
    "name": "ipython",
    "version": 3
   },
   "file_extension": ".py",
   "mimetype": "text/x-python",
   "name": "python",
   "nbconvert_exporter": "python",
   "pygments_lexer": "ipython3",
   "version": "3.10.12"
  }
 },
 "nbformat": 4,
 "nbformat_minor": 4
}
