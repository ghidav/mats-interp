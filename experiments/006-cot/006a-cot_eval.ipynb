{
 "cells": [
  {
   "cell_type": "code",
   "execution_count": 15,
   "id": "8c91fdee-72d7-457e-a139-643abfcab6cc",
   "metadata": {},
   "outputs": [
    {
     "name": "stderr",
     "output_type": "stream",
     "text": [
      "/Library/Frameworks/Python.framework/Versions/3.12/lib/python3.12/site-packages/tqdm/auto.py:21: TqdmWarning:\n",
      "\n",
      "IProgress not found. Please update jupyter and ipywidgets. See https://ipywidgets.readthedocs.io/en/stable/user_install.html\n",
      "\n"
     ]
    },
    {
     "name": "stdout",
     "output_type": "stream",
     "text": [
      "Device: mps\n"
     ]
    },
    {
     "data": {
      "text/html": [
       "        <script type=\"text/javascript\">\n",
       "        window.PlotlyConfig = {MathJaxConfig: 'local'};\n",
       "        if (window.MathJax && window.MathJax.Hub && window.MathJax.Hub.Config) {window.MathJax.Hub.Config({SVG: {font: \"STIX-Web\"}});}\n",
       "        if (typeof require !== 'undefined') {\n",
       "        require.undef(\"plotly\");\n",
       "        requirejs.config({\n",
       "            paths: {\n",
       "                'plotly': ['https://cdn.plot.ly/plotly-2.32.0.min']\n",
       "            }\n",
       "        });\n",
       "        require(['plotly'], function(Plotly) {\n",
       "            window._Plotly = Plotly;\n",
       "        });\n",
       "        }\n",
       "        </script>\n",
       "        "
      ]
     },
     "metadata": {},
     "output_type": "display_data"
    }
   ],
   "source": [
    "import os\n",
    "#os.environ['HF_HOME'] = '/workspace/huggingface'\n",
    "\n",
    "from transformer_lens import HookedTransformer, ActivationCache, utils\n",
    "import torch\n",
    "\n",
    "if torch.backends.mps.is_available():\n",
    "    device = \"mps\"\n",
    "else:\n",
    "    device = \"cuda\" if torch.cuda.is_available() else \"cpu\"\n",
    "\n",
    "print(f\"Device: {device}\")\n",
    "\n",
    "import plotly.graph_objects as go\n",
    "from plotly.offline import init_notebook_mode, iplot\n",
    "import numpy as np\n",
    "import pandas as pd\n",
    "from tqdm import tqdm\n",
    "import matplotlib.pyplot as plt\n",
    "import seaborn as sns\n",
    "from functools import partial\n",
    "tqdm.pandas()\n",
    "\n",
    "init_notebook_mode(connected=True)"
   ]
  },
  {
   "cell_type": "markdown",
   "id": "e49aeadf-82ec-4d86-993a-e6f523ae8343",
   "metadata": {},
   "source": [
    "\n",
    "## Data Loading"
   ]
  },
  {
   "cell_type": "code",
   "execution_count": 3,
   "id": "98a1fd92-7410-4867-8aac-7e342a856571",
   "metadata": {},
   "outputs": [
    {
     "name": "stderr",
     "output_type": "stream",
     "text": [
      "fatal: destination path 'prontoqa' already exists and is not an empty directory.\n",
      "mkdir: cannot create directory ‘json’: File exists\n"
     ]
    },
    {
     "name": "stdout",
     "output_type": "stream",
     "text": [
      "Archive:  generated_ood_data.zip\n",
      "  inflating: json/1hop_AndElim_random_noadj.json  \n",
      "  inflating: json/1hop_AndIntro_random_noadj.json  \n",
      "  inflating: json/1hop_OrElim_3proofwidth_testrandom_nodistractor_testdistractor_noadj.json  \n",
      "  inflating: json/1hop_ProofByContra_testrandom_nodistractor_testdistractor_noadj.json  \n",
      "  inflating: json/1hop_ProofsOnly_random_noadj.json  \n",
      "  inflating: json/2hop_AndElim_testrandom_nodistractor_testdistractor_noadj.json  \n",
      "  inflating: json/2hop_AndIntro_testrandom_nodistractor_testdistractor_noadj.json  \n",
      "  inflating: json/2hop_OrIntro_random_noadj.json  \n",
      "  inflating: json/2hop_OrIntro_testrandom_nodistractor_testdistractor_noadj.json  \n",
      "  inflating: json/2hop_ProofsOnly_testrandom_nodistractor_testdistractor_noadj.json  \n",
      "  inflating: json/1hop_AndElim_2testhops_random_noadj.json  \n",
      "  inflating: json/1hop_AndElim_3testhops_random_noadj.json  \n",
      "  inflating: json/1hop_AndIntro_2testhops_random_noadj.json  \n",
      "  inflating: json/1hop_AndIntro_3testhops_random_noadj.json  \n",
      "  inflating: json/1hop_OOD_OrElim_3proofwidth_random_noadj.json  \n",
      "  inflating: json/1hop_OOD_ProofByContra_random_noadj.json  \n",
      "  inflating: json/1hop_OrElim_3proofwidth_random_noadj.json  \n",
      "  inflating: json/1hop_OrElim_3testwidth_random_noadj.json  \n",
      "  inflating: json/1hop_OrElim_4proofwidth_random_noadj.json  \n",
      "  inflating: json/1hop_OrElim_4testwidth_random_noadj.json  \n",
      "  inflating: json/1hop_ProofByContra_random_noadj.json  \n",
      "  inflating: json/1hop_ProofsOnly_2testhops_random_noadj.json  \n",
      "  inflating: json/1hop_ProofsOnly_3testhops_random_noadj.json  \n",
      "  inflating: json/1hop_ProofsOnly_4testhops_random_noadj.json  \n",
      "  inflating: json/1hop_ProofsOnly_5testhops_random_noadj.json  \n",
      "  inflating: json/2hop_AndElim_3proofwidth_random_noadj.json  \n",
      "  inflating: json/2hop_AndElim_3testhops_random_noadj.json  \n",
      "  inflating: json/2hop_AndElim_3testwidth_random_noadj.json  \n",
      "  inflating: json/2hop_AndElim_4proofwidth_random_noadj.json  \n",
      "  inflating: json/2hop_AndElim_4testwidth_random_noadj.json  \n",
      "  inflating: json/2hop_AndElim_random_noadj.json  \n",
      "  inflating: json/2hop_AndIntro_3proofwidth_random_noadj.json  \n",
      "  inflating: json/2hop_AndIntro_3testhops_random_noadj.json  \n",
      "  inflating: json/2hop_AndIntro_3testwidth_random_noadj.json  \n",
      "  inflating: json/2hop_AndIntro_4proofwidth_random_noadj.json  \n",
      "  inflating: json/2hop_AndIntro_4testwidth_random_noadj.json  \n",
      "  inflating: json/2hop_AndIntro_5proofwidth_random_noadj.json  \n",
      "  inflating: json/2hop_AndIntro_5testwidth_random_noadj.json  \n",
      "  inflating: json/2hop_AndIntro_random_noadj.json  \n",
      "  inflating: json/2hop_Composed_2ruletypes_random_noadj.json  \n",
      "  inflating: json/2hop_Composed_4ruletypes_random_noadj.json  \n",
      "  inflating: json/2hop_Composed_random_noadj.json  \n",
      "  inflating: json/2hop_OOD_AndElim_3proofwidth_random_noadj.json  \n",
      "  inflating: json/2hop_OOD_AndIntro_3proofwidth_random_noadj.json  \n",
      "  inflating: json/2hop_OOD_Composed_2ruletypes_random_noadj.json  \n",
      "  inflating: json/2hop_OOD_Composed_4ruletypes_random_noadj.json  \n",
      "  inflating: json/2hop_OOD_Composed_random_noadj.json  \n",
      "  inflating: json/2hop_OOD_ModusPonens_random_noadj.json  \n",
      "  inflating: json/2hop_OOD_OrIntro_3proofwidth_random_noadj.json  \n",
      "  inflating: json/2hop_OrIntro_3proofwidth_random_noadj.json  \n",
      "  inflating: json/2hop_ProofsOnly_random_noadj.json  \n",
      "  inflating: json/3hop_AndElim_random_noadj.json  \n",
      "  inflating: json/3hop_AndIntro_random_noadj.json  \n",
      "  inflating: json/3hop_Composed_random_noadj.json  \n",
      "  inflating: json/3hop_ProofsOnly_random_noadj.json  \n",
      "  inflating: json/4hop_Composed_random_noadj.json  \n",
      "  inflating: json/4hop_OOD_Composed_random_noadj.json  \n",
      "  inflating: json/4hop_ProofsOnly_random_noadj.json  \n"
     ]
    }
   ],
   "source": [
    "%%bash\n",
    "git clone https://github.com/asaparov/prontoqa.git\n",
    "cd prontoqa\n",
    "mkdir json\n",
    "unzip generated_ood_data.zip -d json"
   ]
  },
  {
   "cell_type": "code",
   "execution_count": 50,
   "id": "97eb9aca-c09e-4f3a-948a-e54947ef4b40",
   "metadata": {},
   "outputs": [],
   "source": [
    "import json\n",
    "\n",
    "def load_json(file):\n",
    "    with open(file, 'r') as f:\n",
    "        return json.load(f)\n",
    "    \n",
    "data = load_json(\"prontoqa/json/2hop_ProofsOnly_random_noadj.json\")"
   ]
  },
  {
   "cell_type": "code",
   "execution_count": 51,
   "id": "576ebc84-bf91-453d-a9c0-bf65527e48c0",
   "metadata": {},
   "outputs": [],
   "source": [
    "from random import randint\n",
    "\n",
    "labels = [\"is\", \"is not\"]\n",
    "\n",
    "def create_adversary(prompt, example):\n",
    "    question = example['question']\n",
    "    cot = example['chain_of_thought']\n",
    "    adv_cot = cot.copy()\n",
    "    if \" are not \" in cot[1]:\n",
    "        adv_cot[1] = adv_cot[1].replace(\" are not \", \" are \")\n",
    "    elif \" is not \" in cot[1]:\n",
    "        adv_cot[1] = adv_cot[1].replace(\" is not \", \" is \")\n",
    "    elif \" are \" in cot[1]:\n",
    "        adv_cot[1] = adv_cot[1].replace(\" are \", \" are not \")\n",
    "    elif \" is \" in cot[1]:\n",
    "        adv_cot[1] = adv_cot[1].replace(\" is \", \" is not \")\n",
    "    else:\n",
    "        raise \"is not/is haven't been found in string!\"\n",
    "\n",
    "    if cot[1] in question:\n",
    "        adv_question = question.replace(cot[1], adv_cot[1])\n",
    "    else:\n",
    "        raise \"CoT not found in question!\"\n",
    "        \n",
    "    return adv_question + '\\n'\n",
    "\n",
    "def prepare_example(example, n_shots=5, with_cot=True, reverse_cot=False):\n",
    "    prompt = \"Answer True or False to the following question. Answer as in the examples.\\n\\n\"\n",
    "    cot_prompt = \"Think step-by-step.\\n\\n\" if with_cot else \"\"\n",
    "    \n",
    "    for i in range(n_shots):\n",
    "        prompt += example[f\"in_context_example{i}\"]['question'] + \"\\n\"\n",
    "        query = example[f\"in_context_example{i}\"]['query']\n",
    "        label = \"False\" if \"is not\" in query else \"True\"\n",
    "        \n",
    "        if \"is not\" in query:\n",
    "            name, adj = query.split(\" is not \")\n",
    "        else:\n",
    "            name, adj = query.split(\" is \")\n",
    "        \n",
    "        name = name.split(\"Prove: \")[-1]\n",
    "        query = f\"Is {name.strip()} {adj.strip()[:-1]}?\\n\"\n",
    "    \n",
    "        prompt += \"Question: \" + query + cot_prompt\n",
    "        cot = example[f\"in_context_example{i}\"]['chain_of_thought']\n",
    "\n",
    "        if reverse_cot:\n",
    "            cot[0], cot[1] = cot[1], cot[0]\n",
    "\n",
    "        if with_cot:\n",
    "            for j, step in enumerate(cot):\n",
    "                prompt += f\"({j+1}) {step}\\n\"\n",
    "        \n",
    "        prompt += f\"Answer: {label}\\n\\n\"\n",
    "\n",
    "    adversary = prompt + create_adversary(prompt, example['test_example'])\n",
    "    prompt += example[\"test_example\"]['question'] + \"\\n\"\n",
    "    query = example[\"test_example\"]['query']\n",
    "    label = \"False\" if \"is not\" in query else \"True\"\n",
    "    cot = example[\"test_example\"]['chain_of_thought']\n",
    "    if reverse_cot:\n",
    "        cot[0], cot[1] = cot[1], cot[0]\n",
    "    \n",
    "    if \"is not\" in query:\n",
    "        name, adj = query.split(\" is not \")\n",
    "    else:\n",
    "        name, adj = query.split(\" is \")\n",
    "\n",
    "    name = name.split(\"Prove: \")[-1]\n",
    "    query = f\"Is {name.strip()} {adj.strip()[:-1]}?\\n\"\n",
    "    \n",
    "    prompt += \"Question: \" + query + cot_prompt\n",
    "    adversary += \"Question: \" + query + cot_prompt\n",
    "        \n",
    "    return prompt, label, cot, adversary"
   ]
  },
  {
   "cell_type": "code",
   "execution_count": 52,
   "id": "77ad1f99-7c14-4f69-813f-3853f822193a",
   "metadata": {},
   "outputs": [],
   "source": [
    "p, l, cot, adv = prepare_example(list(data.values())[0], n_shots=0, with_cot=False)"
   ]
  },
  {
   "cell_type": "code",
   "execution_count": 53,
   "id": "0b060871",
   "metadata": {},
   "outputs": [
    {
     "name": "stdout",
     "output_type": "stream",
     "text": [
      "Answer True or False to the following question. Answer as in the examples.\n",
      "\n",
      "Each gorpus is a lempus. Grimpuses are lorpuses. Every grimpus is not discordant. Lorpuses are not kind. Sterpuses are luminous. Lorpuses are shumpuses. Each brimpus is large. Every dumpus is nervous. Jompuses are not cold. Rompuses are impuses. Lorpuses are sterpuses. Impuses are jompuses. Each grimpus is a dumpus. Rompuses are brimpuses. Rompuses are not overcast. Gorpuses are moderate. Each impus is not floral. Impuses are grimpuses. Wren is a gorpus. Wren is a grimpus.\n",
      "Question: Is Wren kind?\n",
      " ['Wren is a grimpus.', 'Grimpuses are lorpuses.', 'Wren is a lorpus.', 'Lorpuses are not kind.', 'Wren is not kind.']\n"
     ]
    }
   ],
   "source": [
    "print(p, cot)"
   ]
  },
  {
   "cell_type": "markdown",
   "id": "6a3c5c48-8bf5-43d1-b40a-ca0f5600a436",
   "metadata": {},
   "source": [
    "### Model loading and evaluation"
   ]
  },
  {
   "cell_type": "code",
   "execution_count": 54,
   "id": "3a65b04f-3f16-47b5-a24e-cf834106b1a4",
   "metadata": {},
   "outputs": [],
   "source": [
    "model_name = 'meta-llama/Meta-Llama-3-8B-Instruct'\n",
    "#model_name = 'google/gemma-2b'\n",
    "\n",
    "model_label = model_name.split('/')[-1]"
   ]
  },
  {
   "cell_type": "code",
   "execution_count": null,
   "id": "a256e031-3b77-4e97-a06e-40aec1286500",
   "metadata": {},
   "outputs": [],
   "source": [
    "model = HookedTransformer.from_pretrained(model_name, torch_dtype=torch.float32, n_devices=1)\n",
    "\n",
    "model.eval()\n",
    "model.set_use_attn_result(True)\n",
    "model.set_use_attn_in(True)\n",
    "model.set_use_hook_mlp_in(True)\n",
    "model.set_use_split_qkv_input(True)"
   ]
  },
  {
   "cell_type": "code",
   "execution_count": 22,
   "id": "1b1ec46d-d429-4113-b072-702b9e3caf5d",
   "metadata": {},
   "outputs": [],
   "source": [
    "import re\n",
    "\n",
    "def str_to_bool(s):\n",
    "    if isinstance(s, str):\n",
    "        if 'true' in s.lower():\n",
    "            return 'True'\n",
    "        elif 'false' in s.lower():\n",
    "            return 'False'\n",
    "    raise ValueError(\"Input must be a string\")\n",
    "\n",
    "def extract_answer(text):\n",
    "    try:\n",
    "        answer = str_to_bool(text)\n",
    "    except:\n",
    "        pattern = r'Answer:\\s*(.*)'\n",
    "        match = re.search(pattern, text)\n",
    "        \n",
    "        if match:\n",
    "            answer = match.group(1)\n",
    "        else:\n",
    "            answer = \"NaN\"\n",
    "\n",
    "    return answer\n",
    "\n",
    "def extract_cot(text):\n",
    "    pattern = re.compile(r'\\(\\d+\\) ([^\\n]+)')\n",
    "    matches = pattern.findall(text)\n",
    "\n",
    "    return matches\n",
    "\n",
    "def apply_template(prompt):\n",
    "    return model.tokenizer.apply_chat_template([\n",
    "        {'role': 'user', 'content': prompt}\n",
    "    ], tokenize=False)\n",
    "\n",
    "def generate_until_stop(prompt, stop_tokens, max_tokens=64, verbose=False, prepend_bos=True):\n",
    "    if isinstance(stop_tokens[0], str):\n",
    "        stop_tokens = [model.to_single_token(tok) for tok in stop_tokens]\n",
    "        \n",
    "    tokens = model.to_tokens(prompt, prepend_bos=prepend_bos)\n",
    "    gen = True\n",
    "    while gen:\n",
    "        with torch.no_grad():\n",
    "            new_tok = model(tokens).argmax(-1)[:, -1]\n",
    "        \n",
    "        if verbose: print(model.to_string(new_tok), end='')\n",
    "        tokens = torch.cat([tokens, new_tok[None].to(tokens.device)], dim=-1)\n",
    "        if new_tok.item() in stop_tokens or max_tokens == 0:\n",
    "            gen = False\n",
    "        max_tokens -= 1\n",
    "\n",
    "    return model.to_string(tokens)[0]\n",
    "\n",
    "def check_cot(x):\n",
    "    try:\n",
    "        check = all([x == y for x, y in zip(x['cot_gold'], x['cot_pred'])])\n",
    "    except: check = False\n",
    "\n",
    "    return check"
   ]
  },
  {
   "cell_type": "code",
   "execution_count": null,
   "id": "1450f392-bed3-4d07-999f-30a395002eb4",
   "metadata": {},
   "outputs": [],
   "source": [
    "# Testing\n",
    "idx = 0\n",
    "x_clean = prompts[idx][0]\n",
    "x_corr = prompts[idx][3]\n",
    "\n",
    "print(f\"Target CoT: {' -> '.join(prompts[idx][2])} | {prompts[idx][1]}\\n\")\n",
    "\n",
    "clean_out = generate_until_stop(x_clean, stop_tokens=[' True', ' False'], verbose=True)[len(prompts[idx][0]):]\n",
    "print('\\n\\n')\n",
    "corr_out = generate_until_stop(x_corr, stop_tokens=[' True', ' False'], verbose=True)[len(prompts[idx][0]):]\n",
    "\n",
    "clean_pred = extract_answer(clean_out)\n",
    "corr_pred = extract_answer(corr_out)\n",
    "\n",
    "clean_cot = extract_cot(clean_out)\n",
    "corr_cot = extract_cot(corr_out)\n",
    "\n",
    "print(f\"\\nClean CoT: {' -> '.join(clean_cot)} | {clean_pred}\")\n",
    "print(f\"\\nCorrupted CoT: {' -> '.join(corr_cot)} | {corr_pred}\")"
   ]
  },
  {
   "cell_type": "markdown",
   "id": "f6744e8f-aea5-46b8-a223-ef40c1c56c24",
   "metadata": {},
   "source": [
    "### Task evaluation"
   ]
  },
  {
   "cell_type": "code",
   "execution_count": 55,
   "id": "34c9088d",
   "metadata": {},
   "outputs": [],
   "source": [
    "from openai import OpenAI\n",
    "\n",
    "# API Generation\n",
    "llm = OpenAI(\n",
    "    base_url = \"https://api.endpoints.anyscale.com/v1\",\n",
    "    api_key='esecret_18s748cl4q5uslqm6ajv3ueiti',\n",
    ")\n",
    "\n",
    "def api_generate(prompt, model_name, max_tokens=128, temperature=0, **kwargs):\n",
    "    response = llm.chat.completions.create(\n",
    "            model = model_name,\n",
    "            messages = [{'role': 'user', 'content': prompt}],\n",
    "            temperature=temperature,\n",
    "            max_tokens=max_tokens,\n",
    "        )\n",
    "    \n",
    "    return response.choices[0].message.content"
   ]
  },
  {
   "cell_type": "code",
   "execution_count": 56,
   "id": "8fa1c6f5",
   "metadata": {},
   "outputs": [],
   "source": [
    "n_shots = 1\n",
    "reverse_cot = False\n",
    "with_cot = True\n",
    "prompts = [prepare_example(x, n_shots=n_shots, with_cot=with_cot, reverse_cot=reverse_cot) for x in data.values()]"
   ]
  },
  {
   "cell_type": "code",
   "execution_count": 59,
   "id": "5e08eb45",
   "metadata": {},
   "outputs": [],
   "source": [
    "prompt, label, cot, adv = prompts[1]\n",
    "out = api_generate(prompt, model_name, max_tokens=256, temperature=0)"
   ]
  },
  {
   "cell_type": "code",
   "execution_count": 60,
   "id": "c27c3129",
   "metadata": {},
   "outputs": [
    {
     "name": "stdout",
     "output_type": "stream",
     "text": [
      "Answer True or False to the following question. Answer as in the examples.\n",
      "\n",
      "Every vumpus is kind. Gorpuses are shumpuses. Every vumpus is a gorpus. Every jompus is shy. Impuses are fast. Impuses are dumpuses. Sterpuses are bright. Gorpuses are sterpuses. Every vumpus is a jompus. Every gorpus is loud. Polly is an impus. Polly is a vumpus.\n",
      "Question: Is Polly loud?\n",
      "Think step-by-step.\n",
      "\n",
      "(1) Polly is a vumpus.\n",
      "(2) Every vumpus is a gorpus.\n",
      "(3) Polly is a gorpus.\n",
      "(4) Every gorpus is loud.\n",
      "(5) Polly is loud.\n",
      "Answer: True\n",
      "\n",
      "Yumpuses are large. Each wumpus is not luminous. Every vumpus is a rompus. Vumpuses are zumpuses. Every rompus is earthy. Zumpuses are yumpuses. Wumpuses are tumpuses. Each vumpus is transparent. Zumpuses are dumpuses. Each zumpus is angry. Polly is a wumpus. Polly is a vumpus.\n",
      "Question: Is Polly angry?\n",
      "Think step-by-step.\n",
      "\n",
      " Here's the answer:\n",
      "\n",
      "(1) Polly is a vumpus.\n",
      "(2) Every vumpus is a rompus.\n",
      "(3) Polly is a rompus.\n",
      "(4) Every rompus is earthy. (This statement doesn't help us determine Polly's anger, so we can ignore it.)\n",
      "(5) Polly is a zumpus. (From \"Zumpuses are vumpuses\")\n",
      "(6) Each zumpus is angry.\n",
      "(7) Polly is angry.\n",
      "\n",
      "Answer: True\n"
     ]
    }
   ],
   "source": [
    "print(prompt, out)"
   ]
  },
  {
   "cell_type": "code",
   "execution_count": 31,
   "id": "1b99acf8-1eb2-4f45-9d8e-bbdf581812d5",
   "metadata": {
    "scrolled": true
   },
   "outputs": [
    {
     "name": "stderr",
     "output_type": "stream",
     "text": [
      "100%|██████████| 100/100 [04:15<00:00,  2.56s/it]\n"
     ]
    }
   ],
   "source": [
    "results_df = {\n",
    "    'prompt': [],\n",
    "    'label': [],\n",
    "    'prompt_corr': [],\n",
    "    'cot_gold': [],\n",
    "    'pred': [],\n",
    "    'cot_pred': []\n",
    "}\n",
    "\n",
    "stop_tokens = [\" True\", \" False\"]\n",
    "\n",
    "err_count = 0\n",
    "for i in tqdm(range(100)):\n",
    "    prompt, label, cot, adv = prompts[i]\n",
    "    #out = generate_until_stop(prompt, stop_tokens)[len(prompt):]\n",
    "    out = api_generate(prompt, model_name, max_tokens=128, temperature=0)\n",
    "\n",
    "    pred = extract_answer(out)\n",
    "    cot_pred = extract_cot(out)\n",
    "    \n",
    "    if pred == \"NaN\": err_count += 1\n",
    "    results_df['prompt'].append(prompt)\n",
    "    results_df['label'].append(label)\n",
    "    results_df['prompt_corr'].append(adv)\n",
    "    results_df['cot_gold'].append(cot)\n",
    "    results_df['pred'].append(pred)\n",
    "    results_df['cot_pred'].append(cot_pred)\n",
    "\n",
    "results_df = pd.DataFrame(results_df)"
   ]
  },
  {
   "cell_type": "code",
   "execution_count": 150,
   "id": "6892ab26-0d4a-4b24-8cb0-34d34206ba3d",
   "metadata": {
    "scrolled": true
   },
   "outputs": [],
   "source": [
    "results_df['correct_pred'] = results_df['label'] == results_df['pred'].astype('str')\n",
    "results_df['correct_cot'] = results_df.apply(check_cot, axis=1)"
   ]
  },
  {
   "cell_type": "code",
   "execution_count": 151,
   "id": "1a387204-731a-4de1-aa6b-f1f497aba311",
   "metadata": {},
   "outputs": [
    {
     "name": "stdout",
     "output_type": "stream",
     "text": [
      "Correct label predictions: 0.92\n",
      "Correct CoT predictions: 1.0\n",
      "Label CoT correlation: 1.0\n"
     ]
    }
   ],
   "source": [
    "print(f\"Correct label predictions: {results_df['correct_pred'].mean()}\")\n",
    "print(f\"Correct CoT predictions: {results_df['correct_cot'].mean()}\")\n",
    "print(f\"Label CoT correlation: {(results_df['correct_pred'] * results_df['correct_cot']).mean() / min(results_df['correct_pred'].mean(), results_df['correct_cot'].mean())}\")"
   ]
  },
  {
   "cell_type": "code",
   "execution_count": 153,
   "id": "d64fe55d-28d4-4bb6-a346-d2d28cd5c1a9",
   "metadata": {},
   "outputs": [],
   "source": [
    "shot_lab = f\"{n_shots}shot\" if n_shots == 1 else f\"{n_shots}shots\"\n",
    "cot_lab = \"_cot\" if with_cot else \"\"\n",
    "reverse_lab = \"_reverse\" if reverse_cot else \"\"\n",
    "\n",
    "if not os.path.exists(f'results/{model_label}'):\n",
    "        os.makedirs(f'results/{model_label}')\n",
    "\n",
    "results_df.to_csv(f\"results/{model_label}/{shot_lab}{cot_lab}{reverse_lab}.csv\", index=False)"
   ]
  },
  {
   "cell_type": "code",
   "execution_count": 200,
   "id": "cbec53ed-ea48-4955-81a1-0987eb0427f8",
   "metadata": {},
   "outputs": [
    {
     "name": "stdout",
     "output_type": "stream",
     "text": [
      "1shot\n",
      "Correct CoT predictions: 0.64\n",
      "Label CoT correlation: 0.984375\n",
      "3shots\n",
      "Correct CoT predictions: 0.85\n",
      "Label CoT correlation: 0.9294117647058824\n",
      "5shots\n",
      "Correct CoT predictions: 0.81\n",
      "Label CoT correlation: 1.0\n",
      "7shots\n",
      "Correct CoT predictions: 0.87\n",
      "Label CoT correlation: 0.9770114942528736\n",
      "1shot_reverse\n",
      "Correct CoT predictions: 0.86\n",
      "Label CoT correlation: 0.9090909090909091\n",
      "3shots_reverse\n",
      "Correct CoT predictions: 0.95\n",
      "Label CoT correlation: 0.978021978021978\n",
      "5shots_reverse\n",
      "Correct CoT predictions: 0.64\n",
      "Label CoT correlation: 0.9062499999999999\n",
      "7shots_reverse\n",
      "Correct CoT predictions: 0.96\n",
      "Label CoT correlation: 0.9666666666666667\n"
     ]
    }
   ],
   "source": [
    "df = {\n",
    "    'N. shots': [],\n",
    "    'Backward': [],\n",
    "    'Accuracy': []\n",
    "}\n",
    "\n",
    "cot_lab = '_cot'\n",
    "\n",
    "for reverse_lab in ['', '_reverse']: \n",
    "    for shot_lab in ['1shot', '3shots', '5shots', '7shots']:\n",
    "        print(f\"{shot_lab}{reverse_lab}\")\n",
    "        result = pd.read_csv(f\"results/{model_label}/{shot_lab}{cot_lab}{reverse_lab}.csv\")\n",
    "        df['N. shots'].append(int(shot_lab[0]))\n",
    "        df['Backward'].append(reverse_lab == '_reverse')\n",
    "        df['Accuracy'].append(result['correct_pred'].mean())\n",
    "        \n",
    "        print(f\"Correct CoT predictions: {result['correct_cot'].mean()}\")\n",
    "        print(f\"Label CoT correlation: {(result['correct_pred'] * result['correct_cot']).mean() / min(result['correct_pred'].mean(), result['correct_cot'].mean())}\")\n",
    "\n",
    "df = pd.DataFrame(df)"
   ]
  },
  {
   "cell_type": "code",
   "execution_count": 201,
   "id": "4f26c1ef",
   "metadata": {},
   "outputs": [
    {
     "data": {
      "text/plain": [
       "<matplotlib.legend.Legend at 0x1488b0500>"
      ]
     },
     "execution_count": 201,
     "metadata": {},
     "output_type": "execute_result"
    },
    {
     "data": {
      "image/png": "[encoded data removed]",
      "text/plain": [
       "<Figure size 900x600 with 1 Axes>"
      ]
     },
     "metadata": {},
     "output_type": "display_data"
    }
   ],
   "source": [
    "fig = plt.figure(figsize=(6, 4), dpi=150)\n",
    "\n",
    "sns.lineplot(df, x='N. shots', y='Accuracy', hue='Backward')\n",
    "sns.scatterplot(df, x='N. shots', y='Accuracy', hue='Backward')\n",
    "\n",
    "handles, labels = plt.gca().get_legend_handles_labels()\n",
    "plt.legend(handles=handles[:len(handles)//2], labels=['Forward', 'Backward'], bbox_to_anchor=(1.05, 1), loc='upper left')"
   ]
  },
  {
   "cell_type": "code",
   "execution_count": 202,
   "id": "bcb60dd9",
   "metadata": {},
   "outputs": [
    {
     "name": "stdout",
     "output_type": "stream",
     "text": [
      "1shot\n",
      "Correct CoT predictions: 1.0\n",
      "Label CoT correlation: 1.0\n",
      "3shots\n",
      "Correct CoT predictions: 1.0\n",
      "Label CoT correlation: 1.0\n",
      "5shots\n",
      "Correct CoT predictions: 1.0\n",
      "Label CoT correlation: 1.0\n",
      "7shots\n",
      "Correct CoT predictions: 1.0\n",
      "Label CoT correlation: 1.0\n",
      "1shot_cot\n",
      "Correct CoT predictions: 0.64\n",
      "Label CoT correlation: 0.984375\n",
      "3shots_cot\n",
      "Correct CoT predictions: 0.85\n",
      "Label CoT correlation: 0.9294117647058824\n",
      "5shots_cot\n",
      "Correct CoT predictions: 0.81\n",
      "Label CoT correlation: 1.0\n",
      "7shots_cot\n",
      "Correct CoT predictions: 0.87\n",
      "Label CoT correlation: 0.9770114942528736\n"
     ]
    }
   ],
   "source": [
    "df = {\n",
    "    'N. shots': [],\n",
    "    'CoT': [],\n",
    "    'Accuracy': []\n",
    "}\n",
    "\n",
    "for cot_lab in ['', '_cot']: \n",
    "    for shot_lab in ['1shot', '3shots', '5shots', '7shots']:\n",
    "        print(f\"{shot_lab}{cot_lab}\")\n",
    "        result = pd.read_csv(f\"results/{model_label}/{shot_lab}{cot_lab}.csv\")\n",
    "        df['N. shots'].append(int(shot_lab[0]))\n",
    "        df['CoT'].append(cot_lab == '_cot')\n",
    "        df['Accuracy'].append(result['correct_pred'].mean())\n",
    "        \n",
    "        print(f\"Correct CoT predictions: {result['correct_cot'].mean()}\")\n",
    "        print(f\"Label CoT correlation: {(result['correct_pred'] * result['correct_cot']).mean() / min(result['correct_pred'].mean(), result['correct_cot'].mean())}\")\n",
    "\n",
    "df = pd.DataFrame(df)"
   ]
  },
  {
   "cell_type": "code",
   "execution_count": 157,
   "id": "562a17f1",
   "metadata": {},
   "outputs": [
    {
     "data": {
      "text/plain": [
       "<matplotlib.legend.Legend at 0x2936d4590>"
      ]
     },
     "execution_count": 157,
     "metadata": {},
     "output_type": "execute_result"
    },
    {
     "data": {
      "image/png": "[encoded data removed]",
      "text/plain": [
       "<Figure size 900x600 with 1 Axes>"
      ]
     },
     "metadata": {},
     "output_type": "display_data"
    }
   ],
   "source": [
    "fig = plt.figure(figsize=(6, 4), dpi=150)\n",
    "\n",
    "sns.lineplot(df, x='N. shots', y='Accuracy', hue='CoT')\n",
    "sns.scatterplot(df, x='N. shots', y='Accuracy', hue='CoT')\n",
    "\n",
    "handles, labels = plt.gca().get_legend_handles_labels()\n",
    "plt.legend(handles=handles[:len(handles)//2], labels=['Without CoT', 'With CoT'], bbox_to_anchor=(1.05, 1), loc='upper left')"
   ]
  },
  {
   "cell_type": "code",
   "execution_count": 17,
   "id": "f8cc38cb-7fe3-4ca6-87ef-ac625cbf28db",
   "metadata": {},
   "outputs": [
    {
     "data": {
      "text/plain": [
       "<matplotlib.legend.Legend at 0x7ff0c09ae2c0>"
      ]
     },
     "execution_count": 17,
     "metadata": {},
     "output_type": "execute_result"
    },
    {
     "data": {
      "image/png": "[encoded data removed]",
      "text/plain": [
       "<Figure size 900x600 with 1 Axes>"
      ]
     },
     "metadata": {},
     "output_type": "display_data"
    }
   ],
   "source": [
    "fig = plt.figure(figsize=(6, 4), dpi=150)\n",
    "\n",
    "shots_results = pd.DataFrame({\n",
    "    'N. Shots': [1, 3, 5, 7, 1, 3, 5, 7],\n",
    "    'Prediction Acc.': [0.57, 0.63, 0.67, 0.76, 0.67, 0.64, 0.66, 0.63],\n",
    "    'CoT Acc.': [0.14, 0.21, 0.22, 0.27, 0, 0, 0, 0],\n",
    "    'Agreement': [0.643, 0.810, 0.955, 0.963, 0, 0, 0, 0],\n",
    "    'With CoT': [True, True, True, True, False, False, False, False] \n",
    "})\n",
    "\n",
    "sns.lineplot(shots_results, x='N. Shots', y='Prediction Acc.', hue='With CoT')\n",
    "sns.scatterplot(shots_results, x='N. Shots', y='Prediction Acc.', hue='With CoT')\n",
    "\n",
    "handles, labels = plt.gca().get_legend_handles_labels()\n",
    "plt.legend(handles=handles[:len(handles)//2], labels=['Without CoT', 'With CoT'], bbox_to_anchor=(1.05, 1), loc='upper left')"
   ]
  },
  {
   "cell_type": "code",
   "execution_count": 90,
   "id": "2f62db13-264b-4d5f-819f-d7b15f218dfa",
   "metadata": {},
   "outputs": [
    {
     "data": {
      "text/plain": [
       "(0.0, 1.0)"
      ]
     },
     "execution_count": 90,
     "metadata": {},
     "output_type": "execute_result"
    },
    {
     "data": {
      "image/png": "[encoded data removed]",
      "text/plain": [
       "<Figure size 900x600 with 1 Axes>"
      ]
     },
     "metadata": {},
     "output_type": "display_data"
    }
   ],
   "source": [
    "fig = plt.figure(figsize=(6, 4), dpi=150)\n",
    "plot_df = shots_results.iloc[:4].drop('With CoT', axis=1).melt(id_vars='N. Shots', var_name='Score', value_name='Value')\n",
    "\n",
    "sns.scatterplot(plot_df, x='N. Shots', y='Value', hue='Score')\n",
    "sns.lineplot(plot_df, x='N. Shots', y='Value', hue='Score')\n",
    "\n",
    "handles, labels = plt.gca().get_legend_handles_labels()\n",
    "plt.legend(handles=handles[:len(handles)//2], labels=labels[:len(labels)//2], bbox_to_anchor=(1.05, 1), loc='upper left')\n",
    "plt.ylim(0, 1)"
   ]
  },
  {
   "cell_type": "markdown",
   "id": "18fdef9c-ab34-4d95-a8b4-99c65e5e2abc",
   "metadata": {},
   "source": [
    "### Error analysis"
   ]
  },
  {
   "cell_type": "code",
   "execution_count": 1,
   "id": "40af64b5-49db-4fa4-9b4e-c00a27a97af7",
   "metadata": {},
   "outputs": [],
   "source": [
    "import pandas as pd\n",
    "\n",
    "model_label = 'gemma-2b'\n",
    "\n",
    "results = [\n",
    "    pd.read_csv(f'results/{model_label}/1shot_cot.csv'),\n",
    "    pd.read_csv(f'results/{model_label}/3shots_cot.csv'),\n",
    "    pd.read_csv(f'results/{model_label}/5shots_cot.csv'),\n",
    "    pd.read_csv(f'results/{model_label}/7shots_cot.csv')\n",
    "]"
   ]
  },
  {
   "cell_type": "code",
   "execution_count": 5,
   "id": "d709b5eb-674b-4dbb-a703-d68483caddb1",
   "metadata": {},
   "outputs": [],
   "source": [
    "import ast\n",
    "\n",
    "mistakes = {\n",
    "    '1': [],\n",
    "    '3': [],\n",
    "    '5': [],\n",
    "    '7': []\n",
    "}\n",
    "\n",
    "for shots, df in zip([1, 3, 5, 7], results):\n",
    "\n",
    "    df['correct_pred'] = df['label'] == df['pred']\n",
    "    df['correct_cot'] = df.apply(check_cot, axis=1)\n",
    "    \n",
    "    cot_miss = df[(df['correct_cot'] == False) & (df['correct_pred'] == False)]\n",
    "    \n",
    "    for i in range(len(cot_miss)):\n",
    "        gold, pred = cot_miss[[\"cot_gold\", \"cot_pred\"]].iloc[i]\n",
    "        gold = ast.literal_eval(gold)\n",
    "        pred = ast.literal_eval(pred)\n",
    "        for j, (gold_step, pred_step) in enumerate(zip(gold, pred)):\n",
    "            if gold_step != pred_step:\n",
    "                mistakes[str(shots)].append(j)\n",
    "                break"
   ]
  },
  {
   "cell_type": "code",
   "execution_count": 6,
   "id": "be146c96-8eb8-45eb-ab20-aee328890718",
   "metadata": {},
   "outputs": [
    {
     "name": "stdout",
     "output_type": "stream",
     "text": [
      "62% accuracy at 1 shots\n",
      "67% accuracy at 3 shots\n",
      "68% accuracy at 5 shots\n",
      "77% accuracy at 7 shots\n"
     ]
    }
   ],
   "source": [
    "for shot in mistakes:\n",
    "    print(f\"{100 - len(mistakes[shot])}% accuracy at {shot} shots\")"
   ]
  },
  {
   "cell_type": "code",
   "execution_count": 7,
   "id": "158742f3-31e8-475d-a41a-9417dfadbe49",
   "metadata": {},
   "outputs": [
    {
     "ename": "NameError",
     "evalue": "name 'plt' is not defined",
     "output_type": "error",
     "traceback": [
      "\u001b[0;31m---------------------------------------------------------------------------\u001b[0m",
      "\u001b[0;31mNameError\u001b[0m                                 Traceback (most recent call last)",
      "Cell \u001b[0;32mIn[7], line 1\u001b[0m\n\u001b[0;32m----> 1\u001b[0m \u001b[43mplt\u001b[49m\u001b[38;5;241m.\u001b[39mfigure(figsize\u001b[38;5;241m=\u001b[39m(\u001b[38;5;241m6\u001b[39m, \u001b[38;5;241m4\u001b[39m), dpi\u001b[38;5;241m=\u001b[39m\u001b[38;5;241m150\u001b[39m)\n\u001b[1;32m      3\u001b[0m plot_df \u001b[38;5;241m=\u001b[39m pd\u001b[38;5;241m.\u001b[39mconcat([\n\u001b[1;32m      4\u001b[0m     pd\u001b[38;5;241m.\u001b[39mSeries(mistakes[\u001b[38;5;124m'\u001b[39m\u001b[38;5;124m1\u001b[39m\u001b[38;5;124m'\u001b[39m], name\u001b[38;5;241m=\u001b[39m\u001b[38;5;124m'\u001b[39m\u001b[38;5;124mCoT step\u001b[39m\u001b[38;5;124m'\u001b[39m)\u001b[38;5;241m.\u001b[39mreset_index()\u001b[38;5;241m.\u001b[39mgroupby(\u001b[38;5;124m'\u001b[39m\u001b[38;5;124mCoT step\u001b[39m\u001b[38;5;124m'\u001b[39m)\u001b[38;5;241m.\u001b[39mcount(),\n\u001b[1;32m      5\u001b[0m     pd\u001b[38;5;241m.\u001b[39mSeries(mistakes[\u001b[38;5;124m'\u001b[39m\u001b[38;5;124m3\u001b[39m\u001b[38;5;124m'\u001b[39m], name\u001b[38;5;241m=\u001b[39m\u001b[38;5;124m'\u001b[39m\u001b[38;5;124mCoT step\u001b[39m\u001b[38;5;124m'\u001b[39m)\u001b[38;5;241m.\u001b[39mreset_index()\u001b[38;5;241m.\u001b[39mgroupby(\u001b[38;5;124m'\u001b[39m\u001b[38;5;124mCoT step\u001b[39m\u001b[38;5;124m'\u001b[39m)\u001b[38;5;241m.\u001b[39mcount(),\n\u001b[1;32m      6\u001b[0m     pd\u001b[38;5;241m.\u001b[39mSeries(mistakes[\u001b[38;5;124m'\u001b[39m\u001b[38;5;124m5\u001b[39m\u001b[38;5;124m'\u001b[39m], name\u001b[38;5;241m=\u001b[39m\u001b[38;5;124m'\u001b[39m\u001b[38;5;124mCoT step\u001b[39m\u001b[38;5;124m'\u001b[39m)\u001b[38;5;241m.\u001b[39mreset_index()\u001b[38;5;241m.\u001b[39mgroupby(\u001b[38;5;124m'\u001b[39m\u001b[38;5;124mCoT step\u001b[39m\u001b[38;5;124m'\u001b[39m)\u001b[38;5;241m.\u001b[39mcount(),\n\u001b[1;32m      7\u001b[0m     pd\u001b[38;5;241m.\u001b[39mSeries(mistakes[\u001b[38;5;124m'\u001b[39m\u001b[38;5;124m7\u001b[39m\u001b[38;5;124m'\u001b[39m], name\u001b[38;5;241m=\u001b[39m\u001b[38;5;124m'\u001b[39m\u001b[38;5;124mCoT step\u001b[39m\u001b[38;5;124m'\u001b[39m)\u001b[38;5;241m.\u001b[39mreset_index()\u001b[38;5;241m.\u001b[39mgroupby(\u001b[38;5;124m'\u001b[39m\u001b[38;5;124mCoT step\u001b[39m\u001b[38;5;124m'\u001b[39m)\u001b[38;5;241m.\u001b[39mcount()\n\u001b[1;32m      8\u001b[0m ], axis\u001b[38;5;241m=\u001b[39m\u001b[38;5;241m1\u001b[39m)\u001b[38;5;241m.\u001b[39mfillna(\u001b[38;5;241m0\u001b[39m)\n\u001b[1;32m      9\u001b[0m plot_df\u001b[38;5;241m.\u001b[39mcolumns \u001b[38;5;241m=\u001b[39m [\u001b[38;5;124m'\u001b[39m\u001b[38;5;124m1 shot\u001b[39m\u001b[38;5;124m'\u001b[39m, \u001b[38;5;124m'\u001b[39m\u001b[38;5;124m3 shots\u001b[39m\u001b[38;5;124m'\u001b[39m, \u001b[38;5;124m'\u001b[39m\u001b[38;5;124m5 shots\u001b[39m\u001b[38;5;124m'\u001b[39m, \u001b[38;5;124m'\u001b[39m\u001b[38;5;124m7 shots\u001b[39m\u001b[38;5;124m'\u001b[39m]\n",
      "\u001b[0;31mNameError\u001b[0m: name 'plt' is not defined"
     ]
    }
   ],
   "source": [
    "plt.figure(figsize=(6, 4), dpi=150)\n",
    "\n",
    "plot_df = pd.concat([\n",
    "    pd.Series(mistakes['1'], name='CoT step').reset_index().groupby('CoT step').count(),\n",
    "    pd.Series(mistakes['3'], name='CoT step').reset_index().groupby('CoT step').count(),\n",
    "    pd.Series(mistakes['5'], name='CoT step').reset_index().groupby('CoT step').count(),\n",
    "    pd.Series(mistakes['7'], name='CoT step').reset_index().groupby('CoT step').count()\n",
    "], axis=1).fillna(0)\n",
    "plot_df.columns = ['1 shot', '3 shots', '5 shots', '7 shots']\n",
    "plot_df = plot_df.reset_index().melt(id_vars='CoT step', var_name='N. shots', value_name='Errors')\n",
    "\n",
    "sns.lineplot(plot_df, x='CoT step', y='Errors', hue='N. shots')\n",
    "sns.scatterplot(plot_df, x='CoT step', y='Errors', hue='N. shots')\n",
    "\n",
    "handles, labels = plt.gca().get_legend_handles_labels()\n",
    "plt.legend(handles=handles[:len(handles)//2], labels=labels[:len(labels)//2], bbox_to_anchor=(1.05, 1), loc='upper left')\n",
    "plt.xticks([0, 1, 2])\n",
    "plt.show()"
   ]
  },
  {
   "cell_type": "code",
   "execution_count": 8,
   "id": "2855836e-8c45-4a16-b150-02ec9f82c0ef",
   "metadata": {},
   "outputs": [],
   "source": [
    "import ast\n",
    "all_species = ['grimpus', 'lorpus', 'wumpus', 'zumpus', 'sterpus', 'numpus', 'jompus', 'brimpus', 'yumpus', 'tumpus', 'dumpus', 'vumpus', 'rompus', 'lempus', 'gorpus', 'shumpus', 'impus']\n",
    "\n",
    "def check_err(gold, pred, step):\n",
    "\n",
    "    def count_species(pred):\n",
    "        k = 0\n",
    "        for s in all_species:\n",
    "            if s in pred: k+=1\n",
    "        return k\n",
    "\n",
    "    def check_attribute(gold, pred):\n",
    "        attr = gold.split()[-1][:-1]\n",
    "        return attr in pred\n",
    "\n",
    "    if step == 0:\n",
    "        return \"S1\"\n",
    "    elif step == 1:\n",
    "        if \"not\" in gold and \"not\" not in pred:\n",
    "            return \"S2-lose_not\"\n",
    "        if \"not\" not in gold and \"not\" in pred:\n",
    "            return \"S2-add_not\"\n",
    "        if count_species(pred) > 1:\n",
    "            return \"S2-s2a\"\n",
    "        if not check_attribute(gold, pred):\n",
    "            return \"S2-miss_a\"\n",
    "    elif step == 2:\n",
    "        if \"not\" in gold and \"not\" not in pred:\n",
    "            return \"S3-lose_not\"\n",
    "        if \"not\" not in gold and \"not\" in pred:\n",
    "            return \"S3-add_not\"\n",
    "        if count_species(pred) > 0:\n",
    "            return \"S3-s2a\"\n",
    "        if not check_attribute(gold, pred):\n",
    "            return \"S3-miss_a\"\n",
    "\n",
    "    return \"C\"\n",
    "        \n",
    "def evaluate_(row):\n",
    "    cot_gold = ast.literal_eval(row['cot_gold'])\n",
    "    cot_pred = ast.literal_eval(row['cot_pred'])\n",
    "    \n",
    "    r = \"\"\n",
    "    \n",
    "    for i, (g, p) in enumerate(zip(cot_gold, cot_pred)):\n",
    "        if g != p:\n",
    "            err = check_err(g, p, i)\n",
    "        else:\n",
    "            err = \"C\"\n",
    "\n",
    "        r += err + \"|\"\n",
    "\n",
    "    return r"
   ]
  },
  {
   "cell_type": "code",
   "execution_count": 9,
   "id": "bd4c8ca8-01a2-4af6-80c9-26c5f6955c1f",
   "metadata": {},
   "outputs": [],
   "source": [
    "dfs = []\n",
    "for n_shots in [\"1shot\", \"3shots\", \"5shots\", \"7shots\"]:\n",
    "    df = pd.read_csv(f'results/{model_label}/{n_shots}_cot.csv')\n",
    "    df['correct_pred'] = df['label'] == df['pred']\n",
    "    df['correct_cot'] = df.apply(check_cot, axis=1)\n",
    "\n",
    "    df['errors'] = df.apply(evaluate_, axis=1)\n",
    "\n",
    "    df['errors'] = df['errors'].apply(lambda x: x[:-1])\n",
    "    df[['S1', 'S2', 'S3']] = df['errors'].str.split('|', expand=True)\n",
    "    df['S1'] = df['S1'].apply(lambda x: 'S1-C' if x == 'C' else 'S1-miss_s')\n",
    "    df['S2'] = df['S2'].apply(lambda x: 'S2-C' if x == 'C' else x)\n",
    "    df['S3'] = df['S3'].apply(lambda x: 'S3-C' if x == 'C' else x)\n",
    "    dfs.append(df[['S1', 'S2', 'S3', 'correct_pred']])"
   ]
  },
  {
   "cell_type": "code",
   "execution_count": 14,
   "id": "21034b14-330a-473f-b499-5c9e6081bc94",
   "metadata": {},
   "outputs": [
    {
     "data": {
      "application/vnd.plotly.v1+json": {
       "config": {
        "plotlyServerURL": "https://plot.ly"
       },
       "data": [
        {
         "link": {
          "source": [
           0,
           0,
           0,
           0,
           1,
           1,
           1,
           1,
           1,
           2,
           2,
           2,
           6,
           4,
           4,
           4,
           5,
           5,
           5,
           5,
           3,
           3,
           3,
           3,
           7,
           7,
           11,
           11,
           10,
           10,
           9,
           9,
           8,
           8
          ],
          "target": [
           2,
           4,
           5,
           3,
           2,
           6,
           4,
           5,
           3,
           7,
           11,
           10,
           11,
           7,
           10,
           9,
           7,
           11,
           9,
           8,
           7,
           11,
           9,
           8,
           13,
           12,
           13,
           12,
           13,
           12,
           13,
           12,
           13,
           12
          ],
          "value": [
           45,
           8,
           1,
           4,
           11,
           5,
           11,
           9,
           6,
           53,
           2,
           1,
           5,
           3,
           15,
           1,
           1,
           2,
           4,
           3,
           3,
           2,
           1,
           4,
           3,
           57,
           9,
           2,
           7,
           9,
           2,
           4,
           3,
           4
          ]
         },
         "node": {
          "label": [
           "S1-C",
           "S1-miss_s",
           "S2-C",
           "S2-s2a",
           "S2-lose_not",
           "S2-miss_a",
           "S2-add_not",
           "S3-C",
           "S3-s2a",
           "S3-miss_a",
           "S3-lose_not",
           "S3-add_not",
           true,
           false
          ],
          "line": {
           "color": "black",
           "width": 0.5
          },
          "pad": 15,
          "thickness": 20
         },
         "type": "sankey"
        }
       ],
       "layout": {
        "font": {
         "size": 10
        },
        "template": {
         "data": {
          "bar": [
           {
            "error_x": {
             "color": "#2a3f5f"
            },
            "error_y": {
             "color": "#2a3f5f"
            },
            "marker": {
             "line": {
              "color": "#E5ECF6",
              "width": 0.5
             },
             "pattern": {
              "fillmode": "overlay",
              "size": 10,
              "solidity": 0.2
             }
            },
            "type": "bar"
           }
          ],
          "barpolar": [
           {
            "marker": {
             "line": {
              "color": "#E5ECF6",
              "width": 0.5
             },
             "pattern": {
              "fillmode": "overlay",
              "size": 10,
              "solidity": 0.2
             }
            },
            "type": "barpolar"
           }
          ],
          "carpet": [
           {
            "aaxis": {
             "endlinecolor": "#2a3f5f",
             "gridcolor": "white",
             "linecolor": "white",
             "minorgridcolor": "white",
             "startlinecolor": "#2a3f5f"
            },
            "baxis": {
             "endlinecolor": "#2a3f5f",
             "gridcolor": "white",
             "linecolor": "white",
             "minorgridcolor": "white",
             "startlinecolor": "#2a3f5f"
            },
            "type": "carpet"
           }
          ],
          "choropleth": [
           {
            "colorbar": {
             "outlinewidth": 0,
             "ticks": ""
            },
            "type": "choropleth"
           }
          ],
          "contour": [
           {
            "colorbar": {
             "outlinewidth": 0,
             "ticks": ""
            },
            "colorscale": [
             [
              0,
              "#0d0887"
             ],
             [
              0.1111111111111111,
              "#46039f"
             ],
             [
              0.2222222222222222,
              "#7201a8"
             ],
             [
              0.3333333333333333,
              "#9c179e"
             ],
             [
              0.4444444444444444,
              "#bd3786"
             ],
             [
              0.5555555555555556,
              "#d8576b"
             ],
             [
              0.6666666666666666,
              "#ed7953"
             ],
             [
              0.7777777777777778,
              "#fb9f3a"
             ],
             [
              0.8888888888888888,
              "#fdca26"
             ],
             [
              1,
              "#f0f921"
             ]
            ],
            "type": "contour"
           }
          ],
          "contourcarpet": [
           {
            "colorbar": {
             "outlinewidth": 0,
             "ticks": ""
            },
            "type": "contourcarpet"
           }
          ],
          "heatmap": [
           {
            "colorbar": {
             "outlinewidth": 0,
             "ticks": ""
            },
            "colorscale": [
             [
              0,
              "#0d0887"
             ],
             [
              0.1111111111111111,
              "#46039f"
             ],
             [
              0.2222222222222222,
              "#7201a8"
             ],
             [
              0.3333333333333333,
              "#9c179e"
             ],
             [
              0.4444444444444444,
              "#bd3786"
             ],
             [
              0.5555555555555556,
              "#d8576b"
             ],
             [
              0.6666666666666666,
              "#ed7953"
             ],
             [
              0.7777777777777778,
              "#fb9f3a"
             ],
             [
              0.8888888888888888,
              "#fdca26"
             ],
             [
              1,
              "#f0f921"
             ]
            ],
            "type": "heatmap"
           }
          ],
          "heatmapgl": [
           {
            "colorbar": {
             "outlinewidth": 0,
             "ticks": ""
            },
            "colorscale": [
             [
              0,
              "#0d0887"
             ],
             [
              0.1111111111111111,
              "#46039f"
             ],
             [
              0.2222222222222222,
              "#7201a8"
             ],
             [
              0.3333333333333333,
              "#9c179e"
             ],
             [
              0.4444444444444444,
              "#bd3786"
             ],
             [
              0.5555555555555556,
              "#d8576b"
             ],
             [
              0.6666666666666666,
              "#ed7953"
             ],
             [
              0.7777777777777778,
              "#fb9f3a"
             ],
             [
              0.8888888888888888,
              "#fdca26"
             ],
             [
              1,
              "#f0f921"
             ]
            ],
            "type": "heatmapgl"
           }
          ],
          "histogram": [
           {
            "marker": {
             "pattern": {
              "fillmode": "overlay",
              "size": 10,
              "solidity": 0.2
             }
            },
            "type": "histogram"
           }
          ],
          "histogram2d": [
           {
            "colorbar": {
             "outlinewidth": 0,
             "ticks": ""
            },
            "colorscale": [
             [
              0,
              "#0d0887"
             ],
             [
              0.1111111111111111,
              "#46039f"
             ],
             [
              0.2222222222222222,
              "#7201a8"
             ],
             [
              0.3333333333333333,
              "#9c179e"
             ],
             [
              0.4444444444444444,
              "#bd3786"
             ],
             [
              0.5555555555555556,
              "#d8576b"
             ],
             [
              0.6666666666666666,
              "#ed7953"
             ],
             [
              0.7777777777777778,
              "#fb9f3a"
             ],
             [
              0.8888888888888888,
              "#fdca26"
             ],
             [
              1,
              "#f0f921"
             ]
            ],
            "type": "histogram2d"
           }
          ],
          "histogram2dcontour": [
           {
            "colorbar": {
             "outlinewidth": 0,
             "ticks": ""
            },
            "colorscale": [
             [
              0,
              "#0d0887"
             ],
             [
              0.1111111111111111,
              "#46039f"
             ],
             [
              0.2222222222222222,
              "#7201a8"
             ],
             [
              0.3333333333333333,
              "#9c179e"
             ],
             [
              0.4444444444444444,
              "#bd3786"
             ],
             [
              0.5555555555555556,
              "#d8576b"
             ],
             [
              0.6666666666666666,
              "#ed7953"
             ],
             [
              0.7777777777777778,
              "#fb9f3a"
             ],
             [
              0.8888888888888888,
              "#fdca26"
             ],
             [
              1,
              "#f0f921"
             ]
            ],
            "type": "histogram2dcontour"
           }
          ],
          "mesh3d": [
           {
            "colorbar": {
             "outlinewidth": 0,
             "ticks": ""
            },
            "type": "mesh3d"
           }
          ],
          "parcoords": [
           {
            "line": {
             "colorbar": {
              "outlinewidth": 0,
              "ticks": ""
             }
            },
            "type": "parcoords"
           }
          ],
          "pie": [
           {
            "automargin": true,
            "type": "pie"
           }
          ],
          "scatter": [
           {
            "fillpattern": {
             "fillmode": "overlay",
             "size": 10,
             "solidity": 0.2
            },
            "type": "scatter"
           }
          ],
          "scatter3d": [
           {
            "line": {
             "colorbar": {
              "outlinewidth": 0,
              "ticks": ""
             }
            },
            "marker": {
             "colorbar": {
              "outlinewidth": 0,
              "ticks": ""
             }
            },
            "type": "scatter3d"
           }
          ],
          "scattercarpet": [
           {
            "marker": {
             "colorbar": {
              "outlinewidth": 0,
              "ticks": ""
             }
            },
            "type": "scattercarpet"
           }
          ],
          "scattergeo": [
           {
            "marker": {
             "colorbar": {
              "outlinewidth": 0,
              "ticks": ""
             }
            },
            "type": "scattergeo"
           }
          ],
          "scattergl": [
           {
            "marker": {
             "colorbar": {
              "outlinewidth": 0,
              "ticks": ""
             }
            },
            "type": "scattergl"
           }
          ],
          "scattermapbox": [
           {
            "marker": {
             "colorbar": {
              "outlinewidth": 0,
              "ticks": ""
             }
            },
            "type": "scattermapbox"
           }
          ],
          "scatterpolar": [
           {
            "marker": {
             "colorbar": {
              "outlinewidth": 0,
              "ticks": ""
             }
            },
            "type": "scatterpolar"
           }
          ],
          "scatterpolargl": [
           {
            "marker": {
             "colorbar": {
              "outlinewidth": 0,
              "ticks": ""
             }
            },
            "type": "scatterpolargl"
           }
          ],
          "scatterternary": [
           {
            "marker": {
             "colorbar": {
              "outlinewidth": 0,
              "ticks": ""
             }
            },
            "type": "scatterternary"
           }
          ],
          "surface": [
           {
            "colorbar": {
             "outlinewidth": 0,
             "ticks": ""
            },
            "colorscale": [
             [
              0,
              "#0d0887"
             ],
             [
              0.1111111111111111,
              "#46039f"
             ],
             [
              0.2222222222222222,
              "#7201a8"
             ],
             [
              0.3333333333333333,
              "#9c179e"
             ],
             [
              0.4444444444444444,
              "#bd3786"
             ],
             [
              0.5555555555555556,
              "#d8576b"
             ],
             [
              0.6666666666666666,
              "#ed7953"
             ],
             [
              0.7777777777777778,
              "#fb9f3a"
             ],
             [
              0.8888888888888888,
              "#fdca26"
             ],
             [
              1,
              "#f0f921"
             ]
            ],
            "type": "surface"
           }
          ],
          "table": [
           {
            "cells": {
             "fill": {
              "color": "#EBF0F8"
             },
             "line": {
              "color": "white"
             }
            },
            "header": {
             "fill": {
              "color": "#C8D4E3"
             },
             "line": {
              "color": "white"
             }
            },
            "type": "table"
           }
          ]
         },
         "layout": {
          "annotationdefaults": {
           "arrowcolor": "#2a3f5f",
           "arrowhead": 0,
           "arrowwidth": 1
          },
          "autotypenumbers": "strict",
          "coloraxis": {
           "colorbar": {
            "outlinewidth": 0,
            "ticks": ""
           }
          },
          "colorscale": {
           "diverging": [
            [
             0,
             "#8e0152"
            ],
            [
             0.1,
             "#c51b7d"
            ],
            [
             0.2,
             "#de77ae"
            ],
            [
             0.3,
             "#f1b6da"
            ],
            [
             0.4,
             "#fde0ef"
            ],
            [
             0.5,
             "#f7f7f7"
            ],
            [
             0.6,
             "#e6f5d0"
            ],
            [
             0.7,
             "#b8e186"
            ],
            [
             0.8,
             "#7fbc41"
            ],
            [
             0.9,
             "#4d9221"
            ],
            [
             1,
             "#276419"
            ]
           ],
           "sequential": [
            [
             0,
             "#0d0887"
            ],
            [
             0.1111111111111111,
             "#46039f"
            ],
            [
             0.2222222222222222,
             "#7201a8"
            ],
            [
             0.3333333333333333,
             "#9c179e"
            ],
            [
             0.4444444444444444,
             "#bd3786"
            ],
            [
             0.5555555555555556,
             "#d8576b"
            ],
            [
             0.6666666666666666,
             "#ed7953"
            ],
            [
             0.7777777777777778,
             "#fb9f3a"
            ],
            [
             0.8888888888888888,
             "#fdca26"
            ],
            [
             1,
             "#f0f921"
            ]
           ],
           "sequentialminus": [
            [
             0,
             "#0d0887"
            ],
            [
             0.1111111111111111,
             "#46039f"
            ],
            [
             0.2222222222222222,
             "#7201a8"
            ],
            [
             0.3333333333333333,
             "#9c179e"
            ],
            [
             0.4444444444444444,
             "#bd3786"
            ],
            [
             0.5555555555555556,
             "#d8576b"
            ],
            [
             0.6666666666666666,
             "#ed7953"
            ],
            [
             0.7777777777777778,
             "#fb9f3a"
            ],
            [
             0.8888888888888888,
             "#fdca26"
            ],
            [
             1,
             "#f0f921"
            ]
           ]
          },
          "colorway": [
           "#636efa",
           "#EF553B",
           "#00cc96",
           "#ab63fa",
           "#FFA15A",
           "#19d3f3",
           "#FF6692",
           "#B6E880",
           "#FF97FF",
           "#FECB52"
          ],
          "font": {
           "color": "#2a3f5f"
          },
          "geo": {
           "bgcolor": "white",
           "lakecolor": "white",
           "landcolor": "#E5ECF6",
           "showlakes": true,
           "showland": true,
           "subunitcolor": "white"
          },
          "hoverlabel": {
           "align": "left"
          },
          "hovermode": "closest",
          "mapbox": {
           "style": "light"
          },
          "paper_bgcolor": "white",
          "plot_bgcolor": "#E5ECF6",
          "polar": {
           "angularaxis": {
            "gridcolor": "white",
            "linecolor": "white",
            "ticks": ""
           },
           "bgcolor": "#E5ECF6",
           "radialaxis": {
            "gridcolor": "white",
            "linecolor": "white",
            "ticks": ""
           }
          },
          "scene": {
           "xaxis": {
            "backgroundcolor": "#E5ECF6",
            "gridcolor": "white",
            "gridwidth": 2,
            "linecolor": "white",
            "showbackground": true,
            "ticks": "",
            "zerolinecolor": "white"
           },
           "yaxis": {
            "backgroundcolor": "#E5ECF6",
            "gridcolor": "white",
            "gridwidth": 2,
            "linecolor": "white",
            "showbackground": true,
            "ticks": "",
            "zerolinecolor": "white"
           },
           "zaxis": {
            "backgroundcolor": "#E5ECF6",
            "gridcolor": "white",
            "gridwidth": 2,
            "linecolor": "white",
            "showbackground": true,
            "ticks": "",
            "zerolinecolor": "white"
           }
          },
          "shapedefaults": {
           "line": {
            "color": "#2a3f5f"
           }
          },
          "ternary": {
           "aaxis": {
            "gridcolor": "white",
            "linecolor": "white",
            "ticks": ""
           },
           "baxis": {
            "gridcolor": "white",
            "linecolor": "white",
            "ticks": ""
           },
           "bgcolor": "#E5ECF6",
           "caxis": {
            "gridcolor": "white",
            "linecolor": "white",
            "ticks": ""
           }
          },
          "title": {
           "x": 0.05
          },
          "xaxis": {
           "automargin": true,
           "gridcolor": "white",
           "linecolor": "white",
           "ticks": "",
           "title": {
            "standoff": 15
           },
           "zerolinecolor": "white",
           "zerolinewidth": 2
          },
          "yaxis": {
           "automargin": true,
           "gridcolor": "white",
           "linecolor": "white",
           "ticks": "",
           "title": {
            "standoff": 15
           },
           "zerolinecolor": "white",
           "zerolinewidth": 2
          }
         }
        },
        "title": {
         "text": "Observation Flow into Variables"
        },
        "width": 800
       }
      }
     },
     "metadata": {},
     "output_type": "display_data"
    }
   ],
   "source": [
    "import pandas as pd\n",
    "import plotly.graph_objects as go\n",
    "\n",
    "df = dfs[3]\n",
    "\n",
    "# Prepare the data for the Sankey diagram\n",
    "all_labels = list(pd.unique(df[['S1', 'S2', 'S3', 'correct_pred']].values.ravel('K')))\n",
    "label_dict = {label: i for i, label in enumerate(all_labels)}\n",
    "\n",
    "sources = []\n",
    "targets = []\n",
    "values = []\n",
    "\n",
    "# Define stages and their order\n",
    "stages = ['S1', 'S2', 'S3', 'correct_pred']\n",
    "\n",
    "# Count the flows between stages\n",
    "for i in range(len(stages) - 1):\n",
    "    stage = stages[i]\n",
    "    next_stage = stages[i + 1]\n",
    "    stage_counts = df.groupby([stage, next_stage]).size().reset_index(name='count')\n",
    "    \n",
    "    for _, row in stage_counts.iterrows():\n",
    "        sources.append(label_dict[row[stage]])\n",
    "        targets.append(label_dict[row[next_stage]])\n",
    "        values.append(row['count'])\n",
    "\n",
    "# Define node and link data for Sankey diagram\n",
    "node = dict(\n",
    "    pad = 15,\n",
    "    thickness = 20,\n",
    "    line = dict(color = \"black\", width = 0.5),\n",
    "    label = all_labels,\n",
    ")\n",
    "\n",
    "link = dict(\n",
    "    source = sources,\n",
    "    target = targets,\n",
    "    value = values\n",
    ")\n",
    "\n",
    "# Create Sankey diagram\n",
    "fig = go.Figure(data=[go.Sankey(node=node, link=link)])\n",
    "fig.update_layout(title_text=\"Observation Flow into Variables\", font_size=10, width=800)\n",
    "fig.show()"
   ]
  },
  {
   "cell_type": "code",
   "execution_count": null,
   "id": "10904d2f",
   "metadata": {},
   "outputs": [],
   "source": []
  },
  {
   "cell_type": "code",
   "execution_count": null,
   "id": "496fb877",
   "metadata": {},
   "outputs": [],
   "source": []
  }
 ],
 "metadata": {
  "kernelspec": {
   "display_name": "Python 3",
   "language": "python",
   "name": "python3"
  },
  "language_info": {
   "codemirror_mode": {
    "name": "ipython",
    "version": 3
   },
   "file_extension": ".py",
   "mimetype": "text/x-python",
   "name": "python",
   "nbconvert_exporter": "python",
   "pygments_lexer": "ipython3",
   "version": "3.12.3"
  }
 },
 "nbformat": 4,
 "nbformat_minor": 5
}
