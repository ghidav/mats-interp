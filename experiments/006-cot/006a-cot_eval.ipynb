{
 "cells": [
  {
   "cell_type": "code",
   "execution_count": 1,
   "id": "8c91fdee-72d7-457e-a139-643abfcab6cc",
   "metadata": {},
   "outputs": [
    {
     "name": "stdout",
     "output_type": "stream",
     "text": [
      "Device: cuda\n"
     ]
    },
    {
     "data": {
      "text/html": [
       "        <script type=\"text/javascript\">\n",
       "        window.PlotlyConfig = {MathJaxConfig: 'local'};\n",
       "        if (window.MathJax && window.MathJax.Hub && window.MathJax.Hub.Config) {window.MathJax.Hub.Config({SVG: {font: \"STIX-Web\"}});}\n",
       "        if (typeof require !== 'undefined') {\n",
       "        require.undef(\"plotly\");\n",
       "        requirejs.config({\n",
       "            paths: {\n",
       "                'plotly': ['https://cdn.plot.ly/plotly-2.32.0.min']\n",
       "            }\n",
       "        });\n",
       "        require(['plotly'], function(Plotly) {\n",
       "            window._Plotly = Plotly;\n",
       "        });\n",
       "        }\n",
       "        </script>\n",
       "        "
      ]
     },
     "metadata": {},
     "output_type": "display_data"
    }
   ],
   "source": [
    "import os\n",
    "os.environ['HF_HOME'] = '/workspace/huggingface'\n",
    "\n",
    "from transformer_lens import HookedTransformer, ActivationCache, utils\n",
    "import torch\n",
    "\n",
    "if torch.backends.mps.is_available():\n",
    "    device = \"mps\"\n",
    "else:\n",
    "    device = \"cuda\" if torch.cuda.is_available() else \"cpu\"\n",
    "\n",
    "print(f\"Device: {device}\")\n",
    "\n",
    "import plotly.graph_objects as go\n",
    "from plotly.offline import init_notebook_mode, iplot\n",
    "import numpy as np\n",
    "import pandas as pd\n",
    "from tqdm import tqdm\n",
    "import matplotlib.pyplot as plt\n",
    "import seaborn as sns\n",
    "from functools import partial\n",
    "tqdm.pandas()\n",
    "\n",
    "init_notebook_mode(connected=True)"
   ]
  },
  {
   "cell_type": "markdown",
   "id": "e49aeadf-82ec-4d86-993a-e6f523ae8343",
   "metadata": {},
   "source": [
    "\n",
    "## Data Loading"
   ]
  },
  {
   "cell_type": "code",
   "execution_count": 3,
   "id": "98a1fd92-7410-4867-8aac-7e342a856571",
   "metadata": {},
   "outputs": [
    {
     "name": "stderr",
     "output_type": "stream",
     "text": [
      "fatal: destination path 'prontoqa' already exists and is not an empty directory.\n",
      "mkdir: cannot create directory ‘json’: File exists\n"
     ]
    },
    {
     "name": "stdout",
     "output_type": "stream",
     "text": [
      "Archive:  generated_ood_data.zip\n",
      "  inflating: json/1hop_AndElim_random_noadj.json  \n",
      "  inflating: json/1hop_AndIntro_random_noadj.json  \n",
      "  inflating: json/1hop_OrElim_3proofwidth_testrandom_nodistractor_testdistractor_noadj.json  \n",
      "  inflating: json/1hop_ProofByContra_testrandom_nodistractor_testdistractor_noadj.json  \n",
      "  inflating: json/1hop_ProofsOnly_random_noadj.json  \n",
      "  inflating: json/2hop_AndElim_testrandom_nodistractor_testdistractor_noadj.json  \n",
      "  inflating: json/2hop_AndIntro_testrandom_nodistractor_testdistractor_noadj.json  \n",
      "  inflating: json/2hop_OrIntro_random_noadj.json  \n",
      "  inflating: json/2hop_OrIntro_testrandom_nodistractor_testdistractor_noadj.json  \n",
      "  inflating: json/2hop_ProofsOnly_testrandom_nodistractor_testdistractor_noadj.json  \n",
      "  inflating: json/1hop_AndElim_2testhops_random_noadj.json  \n",
      "  inflating: json/1hop_AndElim_3testhops_random_noadj.json  \n",
      "  inflating: json/1hop_AndIntro_2testhops_random_noadj.json  \n",
      "  inflating: json/1hop_AndIntro_3testhops_random_noadj.json  \n",
      "  inflating: json/1hop_OOD_OrElim_3proofwidth_random_noadj.json  \n",
      "  inflating: json/1hop_OOD_ProofByContra_random_noadj.json  \n",
      "  inflating: json/1hop_OrElim_3proofwidth_random_noadj.json  \n",
      "  inflating: json/1hop_OrElim_3testwidth_random_noadj.json  \n",
      "  inflating: json/1hop_OrElim_4proofwidth_random_noadj.json  \n",
      "  inflating: json/1hop_OrElim_4testwidth_random_noadj.json  \n",
      "  inflating: json/1hop_ProofByContra_random_noadj.json  \n",
      "  inflating: json/1hop_ProofsOnly_2testhops_random_noadj.json  \n",
      "  inflating: json/1hop_ProofsOnly_3testhops_random_noadj.json  \n",
      "  inflating: json/1hop_ProofsOnly_4testhops_random_noadj.json  \n",
      "  inflating: json/1hop_ProofsOnly_5testhops_random_noadj.json  \n",
      "  inflating: json/2hop_AndElim_3proofwidth_random_noadj.json  \n",
      "  inflating: json/2hop_AndElim_3testhops_random_noadj.json  \n",
      "  inflating: json/2hop_AndElim_3testwidth_random_noadj.json  \n",
      "  inflating: json/2hop_AndElim_4proofwidth_random_noadj.json  \n",
      "  inflating: json/2hop_AndElim_4testwidth_random_noadj.json  \n",
      "  inflating: json/2hop_AndElim_random_noadj.json  \n",
      "  inflating: json/2hop_AndIntro_3proofwidth_random_noadj.json  \n",
      "  inflating: json/2hop_AndIntro_3testhops_random_noadj.json  \n",
      "  inflating: json/2hop_AndIntro_3testwidth_random_noadj.json  \n",
      "  inflating: json/2hop_AndIntro_4proofwidth_random_noadj.json  \n",
      "  inflating: json/2hop_AndIntro_4testwidth_random_noadj.json  \n",
      "  inflating: json/2hop_AndIntro_5proofwidth_random_noadj.json  \n",
      "  inflating: json/2hop_AndIntro_5testwidth_random_noadj.json  \n",
      "  inflating: json/2hop_AndIntro_random_noadj.json  \n",
      "  inflating: json/2hop_Composed_2ruletypes_random_noadj.json  \n",
      "  inflating: json/2hop_Composed_4ruletypes_random_noadj.json  \n",
      "  inflating: json/2hop_Composed_random_noadj.json  \n",
      "  inflating: json/2hop_OOD_AndElim_3proofwidth_random_noadj.json  \n",
      "  inflating: json/2hop_OOD_AndIntro_3proofwidth_random_noadj.json  \n",
      "  inflating: json/2hop_OOD_Composed_2ruletypes_random_noadj.json  \n",
      "  inflating: json/2hop_OOD_Composed_4ruletypes_random_noadj.json  \n",
      "  inflating: json/2hop_OOD_Composed_random_noadj.json  \n",
      "  inflating: json/2hop_OOD_ModusPonens_random_noadj.json  \n",
      "  inflating: json/2hop_OOD_OrIntro_3proofwidth_random_noadj.json  \n",
      "  inflating: json/2hop_OrIntro_3proofwidth_random_noadj.json  \n",
      "  inflating: json/2hop_ProofsOnly_random_noadj.json  \n",
      "  inflating: json/3hop_AndElim_random_noadj.json  \n",
      "  inflating: json/3hop_AndIntro_random_noadj.json  \n",
      "  inflating: json/3hop_Composed_random_noadj.json  \n",
      "  inflating: json/3hop_ProofsOnly_random_noadj.json  \n",
      "  inflating: json/4hop_Composed_random_noadj.json  \n",
      "  inflating: json/4hop_OOD_Composed_random_noadj.json  \n",
      "  inflating: json/4hop_ProofsOnly_random_noadj.json  \n"
     ]
    }
   ],
   "source": [
    "%%bash\n",
    "git clone https://github.com/asaparov/prontoqa.git\n",
    "cd prontoqa\n",
    "mkdir json\n",
    "unzip generated_ood_data.zip -d json"
   ]
  },
  {
   "cell_type": "code",
   "execution_count": 5,
   "id": "97eb9aca-c09e-4f3a-948a-e54947ef4b40",
   "metadata": {},
   "outputs": [],
   "source": [
    "import json\n",
    "\n",
    "def load_json(file):\n",
    "    with open(file, 'r') as f:\n",
    "        return json.load(f)\n",
    "    \n",
    "data = load_json(\"prontoqa/json/1hop_ProofsOnly_random_noadj.json\")"
   ]
  },
  {
   "cell_type": "code",
   "execution_count": 6,
   "id": "576ebc84-bf91-453d-a9c0-bf65527e48c0",
   "metadata": {},
   "outputs": [],
   "source": [
    "from random import randint\n",
    "\n",
    "labels = [\"is\", \"is not\"]\n",
    "\n",
    "def create_adversary(prompt, example):\n",
    "    question = example['question']\n",
    "    cot = example['chain_of_thought']\n",
    "    adv_cot = cot.copy()\n",
    "    if \" are not \" in cot[1]:\n",
    "        adv_cot[1] = adv_cot[1].replace(\" are not \", \" are \")\n",
    "    elif \" is not \" in cot[1]:\n",
    "        adv_cot[1] = adv_cot[1].replace(\" is not \", \" is \")\n",
    "    elif \" are \" in cot[1]:\n",
    "        adv_cot[1] = adv_cot[1].replace(\" are \", \" are not \")\n",
    "    elif \" is \" in cot[1]:\n",
    "        adv_cot[1] = adv_cot[1].replace(\" is \", \" is not \")\n",
    "    else:\n",
    "        raise \"is not/is haven't been found in string!\"\n",
    "\n",
    "    if cot[1] in question:\n",
    "        adv_question = question.replace(cot[1], adv_cot[1])\n",
    "    else:\n",
    "        raise \"CoT not found in question!\"\n",
    "        \n",
    "    return adv_question + '\\n'\n",
    "\n",
    "def prepare_example(example, n_shots=5, with_cot=True, reverse_cot=False):\n",
    "    prompt = \"Answer True or False to the following question. Answer as in the examples.\\n\\n\"\n",
    "    cot_prompt = \"Think step-by-step.\\n\\n\" if with_cot else \"\"\n",
    "    \n",
    "    for i in range(n_shots):\n",
    "        prompt += example[f\"in_context_example{i}\"]['question'] + \"\\n\"\n",
    "        query = example[f\"in_context_example{i}\"]['query']\n",
    "        label = \"False\" if \"is not\" in query else \"True\"\n",
    "        \n",
    "        if \"is not\" in query:\n",
    "            name, adj = query.split(\" is not \")\n",
    "        else:\n",
    "            name, adj = query.split(\" is \")\n",
    "        \n",
    "        name = name.split(\"Prove: \")[-1]\n",
    "        query = f\"Is {name.strip()} {adj.strip()[:-1]}?\\n\"\n",
    "    \n",
    "        prompt += \"Question: \" + query + cot_prompt\n",
    "        cot = example[f\"in_context_example{i}\"]['chain_of_thought']\n",
    "\n",
    "        if reverse_cot:\n",
    "            cot[0], cot[1] = cot[1], cot[0]\n",
    "\n",
    "        if with_cot:\n",
    "            for j, step in enumerate(cot):\n",
    "                prompt += f\"({j+1}) {step}\\n\"\n",
    "        \n",
    "        prompt += f\"Answer: {label}\\n\\n\"\n",
    "\n",
    "    adversary = prompt + create_adversary(prompt, example['test_example'])\n",
    "    prompt += example[\"test_example\"]['question'] + \"\\n\"\n",
    "    query = example[\"test_example\"]['query']\n",
    "    label = \"False\" if \"is not\" in query else \"True\"\n",
    "    cot = example[\"test_example\"]['chain_of_thought']\n",
    "    if reverse_cot:\n",
    "        cot[0], cot[1] = cot[1], cot[0]\n",
    "    \n",
    "    if \"is not\" in query:\n",
    "        name, adj = query.split(\" is not \")\n",
    "    else:\n",
    "        name, adj = query.split(\" is \")\n",
    "\n",
    "    name = name.split(\"Prove: \")[-1]\n",
    "    query = f\"Is {name.strip()} {adj.strip()[:-1]}?\\n\"\n",
    "    \n",
    "    prompt += \"Question: \" + query + cot_prompt\n",
    "    adversary += \"Question: \" + query + cot_prompt\n",
    "        \n",
    "    return prompt, label, cot, adversary"
   ]
  },
  {
   "cell_type": "code",
   "execution_count": 8,
   "id": "77ad1f99-7c14-4f69-813f-3853f822193a",
   "metadata": {},
   "outputs": [
    {
     "data": {
      "text/plain": [
       "('Answer True or False to the following question. Answer as in the examples.\\n\\nDumpuses are numpuses. Impuses are jompuses. Each yumpus is not spicy. Every dumpus is mean. Lorpuses are snowy. Each lempus is not transparent. Numpuses are tumpuses. Numpuses are moderate. Every tumpus is luminous. Jompuses are not blue. Impuses are gorpuses. Every gorpus is not hot. Each dumpus is a yumpus. Every gorpus is a lempus. Lorpuses are sterpuses. Every impus is muffled. Every numpus is an impus. Gorpuses are rompuses. Polly is an impus. Polly is a lorpus.\\nQuestion: Is Polly muffled?\\nAnswer: True\\n\\nEvery lempus is a rompus. Each rompus is a jompus. Each jompus is a lorpus. Each rompus is a tumpus. Grimpuses are feisty. Jompuses are cold. Each dumpus is transparent. Each lempus is a dumpus. Rompuses are rainy. Vumpuses are gorpuses. Each tumpus is earthy. Every vumpus is sweet. Jompuses are grimpuses. Lempuses are angry. Alex is a rompus. Alex is a vumpus.\\nQuestion: Is Alex rainy?\\nAnswer: True\\n\\nSterpuses are tumpuses. Each sterpus is large. Vumpuses are zumpuses. Zumpuses are not spicy. Each vumpus is not slow. Each vumpus is a brimpus. Fae is a sterpus. Fae is a vumpus.\\nQuestion: Is Fae slow?\\nAnswer: False\\n\\nGorpuses are sterpuses. Gorpuses are grimpuses. Every dumpus is a jompus. Every grimpus is a shumpus. Gorpuses are not small. Sterpuses are liquid. Every shumpus is not muffled. Dumpuses are bright. Each grimpus is a brimpus. Every grimpus is not cold. Wren is a dumpus. Wren is a grimpus.\\nQuestion: Is Wren cold?\\n',\n",
       " 'False',\n",
       " ['Wren is a grimpus.', 'Every grimpus is not cold.', 'Wren is not cold.'],\n",
       " 'Answer True or False to the following question. Answer as in the examples.\\n\\nDumpuses are numpuses. Impuses are jompuses. Each yumpus is not spicy. Every dumpus is mean. Lorpuses are snowy. Each lempus is not transparent. Numpuses are tumpuses. Numpuses are moderate. Every tumpus is luminous. Jompuses are not blue. Impuses are gorpuses. Every gorpus is not hot. Each dumpus is a yumpus. Every gorpus is a lempus. Lorpuses are sterpuses. Every impus is muffled. Every numpus is an impus. Gorpuses are rompuses. Polly is an impus. Polly is a lorpus.\\nQuestion: Is Polly muffled?\\nAnswer: True\\n\\nEvery lempus is a rompus. Each rompus is a jompus. Each jompus is a lorpus. Each rompus is a tumpus. Grimpuses are feisty. Jompuses are cold. Each dumpus is transparent. Each lempus is a dumpus. Rompuses are rainy. Vumpuses are gorpuses. Each tumpus is earthy. Every vumpus is sweet. Jompuses are grimpuses. Lempuses are angry. Alex is a rompus. Alex is a vumpus.\\nQuestion: Is Alex rainy?\\nAnswer: True\\n\\nSterpuses are tumpuses. Each sterpus is large. Vumpuses are zumpuses. Zumpuses are not spicy. Each vumpus is not slow. Each vumpus is a brimpus. Fae is a sterpus. Fae is a vumpus.\\nQuestion: Is Fae slow?\\nAnswer: False\\n\\nGorpuses are sterpuses. Gorpuses are grimpuses. Every dumpus is a jompus. Every grimpus is a shumpus. Gorpuses are not small. Sterpuses are liquid. Every shumpus is not muffled. Dumpuses are bright. Each grimpus is a brimpus. Every grimpus is cold. Wren is a dumpus. Wren is a grimpus.\\nQuestion: Is Wren cold?\\n')"
      ]
     },
     "execution_count": 8,
     "metadata": {},
     "output_type": "execute_result"
    }
   ],
   "source": [
    "prepare_example(list(data.values())[0], n_shots=3, with_cot=False)"
   ]
  },
  {
   "cell_type": "code",
   "execution_count": 9,
   "id": "fccc971d-d273-4fec-b8c1-9195176fbf56",
   "metadata": {},
   "outputs": [],
   "source": [
    "n_shots = 3\n",
    "reverse_cot = False\n",
    "prompts = [prepare_example(x, n_shots=n_shots, with_cot=True, reverse_cot=reverse_cot) for x in data.values()]"
   ]
  },
  {
   "cell_type": "code",
   "execution_count": 10,
   "id": "c3a6d933-3673-4533-afb8-eb28197c5e5e",
   "metadata": {
    "scrolled": true
   },
   "outputs": [
    {
     "name": "stdout",
     "output_type": "stream",
     "text": [
      "Answer True or False to the following question. Answer as in the examples.\n",
      "\n",
      "Dumpuses are numpuses. Impuses are jompuses. Each yumpus is not spicy. Every dumpus is mean. Lorpuses are snowy. Each lempus is not transparent. Numpuses are tumpuses. Numpuses are moderate. Every tumpus is luminous. Jompuses are not blue. Impuses are gorpuses. Every gorpus is not hot. Each dumpus is a yumpus. Every gorpus is a lempus. Lorpuses are sterpuses. Every impus is muffled. Every numpus is an impus. Gorpuses are rompuses. Polly is an impus. Polly is a lorpus.\n",
      "Question: Is Polly muffled?\n",
      "Think step-by-step.\n",
      "\n",
      "(1) Polly is an impus.\n",
      "(2) Every impus is muffled.\n",
      "(3) Polly is muffled.\n",
      "Answer: True\n",
      "\n",
      "Every lempus is a rompus. Each rompus is a jompus. Each jompus is a lorpus. Each rompus is a tumpus. Grimpuses are feisty. Jompuses are cold. Each dumpus is transparent. Each lempus is a dumpus. Rompuses are rainy. Vumpuses are gorpuses. Each tumpus is earthy. Every vumpus is sweet. Jompuses are grimpuses. Lempuses are angry. Alex is a rompus. Alex is a vumpus.\n",
      "Question: Is Alex rainy?\n",
      "Think step-by-step.\n",
      "\n",
      "(1) Alex is a rompus.\n",
      "(2) Rompuses are rainy.\n",
      "(3) Alex is rainy.\n",
      "Answer: True\n",
      "\n",
      "Sterpuses are tumpuses. Each sterpus is large. Vumpuses are zumpuses. Zumpuses are not spicy. Each vumpus is not slow. Each vumpus is a brimpus. Fae is a sterpus. Fae is a vumpus.\n",
      "Question: Is Fae slow?\n",
      "Think step-by-step.\n",
      "\n",
      "(1) Fae is a vumpus.\n",
      "(2) Each vumpus is not slow.\n",
      "(3) Fae is not slow.\n",
      "Answer: False\n",
      "\n",
      "Gorpuses are sterpuses. Gorpuses are grimpuses. Every dumpus is a jompus. Every grimpus is a shumpus. Gorpuses are not small. Sterpuses are liquid. Every shumpus is not muffled. Dumpuses are bright. Each grimpus is a brimpus. Every grimpus is not cold. Wren is a dumpus. Wren is a grimpus.\n",
      "Question: Is Wren cold?\n",
      "Think step-by-step.\n",
      "\n",
      "\n",
      "False\n",
      "['Wren is a grimpus.', 'Every grimpus is not cold.', 'Wren is not cold.']\n"
     ]
    }
   ],
   "source": [
    "print(prompts[0][0])\n",
    "print(prompts[0][1])\n",
    "print(prompts[0][2])"
   ]
  },
  {
   "cell_type": "markdown",
   "id": "6a3c5c48-8bf5-43d1-b40a-ca0f5600a436",
   "metadata": {},
   "source": [
    "### Model loading and evaluation"
   ]
  },
  {
   "cell_type": "code",
   "execution_count": 11,
   "id": "3a65b04f-3f16-47b5-a24e-cf834106b1a4",
   "metadata": {},
   "outputs": [],
   "source": [
    "model_name = 'meta-llama/Meta-Llama-3-8B-Instruct'"
   ]
  },
  {
   "cell_type": "code",
   "execution_count": 12,
   "id": "a256e031-3b77-4e97-a06e-40aec1286500",
   "metadata": {},
   "outputs": [
    {
     "data": {
      "application/vnd.jupyter.widget-view+json": {
       "model_id": "9a2ca6acebb14efab6a2039e522ae4f4",
       "version_major": 2,
       "version_minor": 0
      },
      "text/plain": [
       "Loading checkpoint shards:   0%|          | 0/4 [00:00<?, ?it/s]"
      ]
     },
     "metadata": {},
     "output_type": "display_data"
    },
    {
     "name": "stderr",
     "output_type": "stream",
     "text": [
      "Special tokens have been added in the vocabulary, make sure the associated word embeddings are fine-tuned or trained.\n",
      "WARNING:root:You are not using LayerNorm, so the writing weights can't be centered! Skipping\n"
     ]
    },
    {
     "name": "stdout",
     "output_type": "stream",
     "text": [
      "Loaded pretrained model meta-llama/Meta-Llama-3-8B-Instruct into HookedTransformer\n"
     ]
    }
   ],
   "source": [
    "model = HookedTransformer.from_pretrained(model_name, torch_dtype=torch.float32, n_devices=1)\n",
    "\n",
    "model.eval()\n",
    "model.set_use_attn_result(True)\n",
    "model.set_use_attn_in(True)\n",
    "model.set_use_hook_mlp_in(True)\n",
    "model.set_use_split_qkv_input(True)"
   ]
  },
  {
   "cell_type": "code",
   "execution_count": 14,
   "id": "1b1ec46d-d429-4113-b072-702b9e3caf5d",
   "metadata": {},
   "outputs": [],
   "source": [
    "import re\n",
    "\n",
    "def extract_answer(text):\n",
    "    pattern = r'Answer:\\s*(.*)'\n",
    "    match = re.search(pattern, text)\n",
    "    \n",
    "    if match:\n",
    "        answer = match.group(1)\n",
    "    else:\n",
    "        answer = \"NaN\"\n",
    "\n",
    "    return answer\n",
    "\n",
    "def extract_cot(text):\n",
    "    pattern = re.compile(r'\\(\\d+\\) ([^\\n]+)')\n",
    "    matches = pattern.findall(text)\n",
    "\n",
    "    return matches\n",
    "\n",
    "def apply_template(prompt):\n",
    "    return model.tokenizer.apply_chat_template([\n",
    "        {'role': 'user', 'content': prompt}\n",
    "    ], tokenize=False)\n",
    "\n",
    "def generate_until_stop(prompt, stop_tokens, max_tokens=64, verbose=False, prepend_bos=True):\n",
    "    if isinstance(stop_tokens[0], str):\n",
    "        stop_tokens = [model.to_single_token(tok) for tok in stop_tokens]\n",
    "        \n",
    "    tokens = model.to_tokens(prompt, prepend_bos=prepend_bos)\n",
    "    gen = True\n",
    "    while gen:\n",
    "        with torch.no_grad():\n",
    "            new_tok = model(tokens).argmax(-1)[:, -1]\n",
    "        \n",
    "        if verbose: print(model.to_string(new_tok), end='')\n",
    "        tokens = torch.cat([tokens, new_tok[None].to(tokens.device)], dim=-1)\n",
    "        if new_tok.item() in stop_tokens or max_tokens == 0:\n",
    "            gen = False\n",
    "        max_tokens -= 1\n",
    "\n",
    "    return model.to_string(tokens)[0]\n",
    "\n",
    "def check_cot(x):\n",
    "    try:\n",
    "        check = all([x == y for x, y in zip(x['cot_gold'], x['cot_pred'])])\n",
    "    except: check = False\n",
    "\n",
    "    return check"
   ]
  },
  {
   "cell_type": "code",
   "execution_count": null,
   "id": "1450f392-bed3-4d07-999f-30a395002eb4",
   "metadata": {},
   "outputs": [
    {
     "name": "stdout",
     "output_type": "stream",
     "text": [
      "Target CoT: Wren is a grimpus. -> Every grimpus is not cold. -> Wren is not cold. | False\n",
      "\n",
      "(1"
     ]
    }
   ],
   "source": [
    "# Testing\n",
    "idx = 0\n",
    "x_clean = prompts[idx][0]\n",
    "x_corr = prompts[idx][3]\n",
    "\n",
    "print(f\"Target CoT: {' -> '.join(prompts[idx][2])} | {prompts[idx][1]}\\n\")\n",
    "\n",
    "clean_out = generate_until_stop(x_clean, stop_tokens=[' True', ' False'], verbose=True)[len(prompts[idx][0]):]\n",
    "print('\\n\\n')\n",
    "corr_out = generate_until_stop(x_corr, stop_tokens=[' True', ' False'], verbose=True)[len(prompts[idx][0]):]\n",
    "\n",
    "clean_pred = extract_answer(clean_out)\n",
    "corr_pred = extract_answer(corr_out)\n",
    "\n",
    "clean_cot = extract_cot(clean_out)\n",
    "corr_cot = extract_cot(corr_out)\n",
    "\n",
    "print(f\"\\nClean CoT: {' -> '.join(clean_cot)} | {clean_pred}\")\n",
    "print(f\"\\nCorrupted CoT: {' -> '.join(corr_cot)} | {corr_pred}\")"
   ]
  },
  {
   "cell_type": "markdown",
   "id": "f6744e8f-aea5-46b8-a223-ef40c1c56c24",
   "metadata": {},
   "source": [
    "### Task evaluation"
   ]
  },
  {
   "cell_type": "code",
   "execution_count": null,
   "id": "1b99acf8-1eb2-4f45-9d8e-bbdf581812d5",
   "metadata": {
    "scrolled": true
   },
   "outputs": [],
   "source": [
    "results_df = {\n",
    "    'prompt': [],\n",
    "    'label': [],\n",
    "    'prompt_corr': [],\n",
    "    'cot_gold': [],\n",
    "    'pred': [],\n",
    "    'cot_pred': []\n",
    "}\n",
    "\n",
    "stop_tokens = [\" True\", \" False\"]\n",
    "\n",
    "err_count = 0\n",
    "for i in tqdm(range(100)):\n",
    "    prompt, label, cot, adv = prompts[i]\n",
    "    out = generate_until_stop(prompt, stop_tokens)[len(prompt):]\n",
    "    #out = api_generate(prompt, model_name, max_tokens=128, temperature=0)\n",
    "\n",
    "    pred = extract_answer(out)\n",
    "    cot_pred = extract_cot(out)\n",
    "    \n",
    "    if pred == \"NaN\": err_count += 1\n",
    "    results_df['prompt'].append(prompt)\n",
    "    results_df['label'].append(label)\n",
    "    results_df['prompt_corr'].append(adv)\n",
    "    results_df['cot_gold'].append(cot)\n",
    "    results_df['pred'].append(pred)\n",
    "    results_df['cot_pred'].append(cot_pred)\n",
    "\n",
    "results_df = pd.DataFrame(results_df)"
   ]
  },
  {
   "cell_type": "code",
   "execution_count": 17,
   "id": "6892ab26-0d4a-4b24-8cb0-34d34206ba3d",
   "metadata": {
    "scrolled": true
   },
   "outputs": [],
   "source": [
    "results_df['correct_pred'] = results_df['label'] == results_df['pred']\n",
    "results_df['correct_cot'] = results_df.apply(check_cot, axis=1)"
   ]
  },
  {
   "cell_type": "code",
   "execution_count": 18,
   "id": "1a387204-731a-4de1-aa6b-f1f497aba311",
   "metadata": {},
   "outputs": [
    {
     "name": "stdout",
     "output_type": "stream",
     "text": [
      "Correct label predictions: 0.57\n",
      "Correct CoT predictions: 0.14\n",
      "Label CoT correlation: 0.6428571428571428\n"
     ]
    }
   ],
   "source": [
    "print(f\"Correct label predictions: {results_df['correct_pred'].mean()}\")\n",
    "print(f\"Correct CoT predictions: {results_df['correct_cot'].mean()}\")\n",
    "print(f\"Label CoT correlation: {(results_df['correct_pred'] * results_df['correct_cot']).mean() / min(results_df['correct_pred'].mean(), results_df['correct_cot'].mean())}\")"
   ]
  },
  {
   "cell_type": "code",
   "execution_count": 19,
   "id": "d64fe55d-28d4-4bb6-a346-d2d28cd5c1a9",
   "metadata": {},
   "outputs": [],
   "source": [
    "shot_lab = f\"{n_shots}shot\" if n_shots == 1 else f\"{n_shots}shots\"\n",
    "reverse_lab = \"_reverse\" if reverse_cot else \"\"\n",
    "results_df.to_csv(f\"results/results_{shot_lab}{reverse_lab}.csv\", index=False)"
   ]
  },
  {
   "cell_type": "code",
   "execution_count": 16,
   "id": "cbec53ed-ea48-4955-81a1-0987eb0427f8",
   "metadata": {},
   "outputs": [
    {
     "data": {
      "text/html": [
       "<div>\n",
       "<style scoped>\n",
       "    .dataframe tbody tr th:only-of-type {\n",
       "        vertical-align: middle;\n",
       "    }\n",
       "\n",
       "    .dataframe tbody tr th {\n",
       "        vertical-align: top;\n",
       "    }\n",
       "\n",
       "    .dataframe thead th {\n",
       "        text-align: right;\n",
       "    }\n",
       "</style>\n",
       "<table border=\"1\" class=\"dataframe\">\n",
       "  <thead>\n",
       "    <tr style=\"text-align: right;\">\n",
       "      <th></th>\n",
       "      <th>prompt</th>\n",
       "      <th>label</th>\n",
       "      <th>prompt_corr</th>\n",
       "      <th>cot_gold</th>\n",
       "      <th>pred</th>\n",
       "      <th>cot_pred</th>\n",
       "      <th>correct_pred</th>\n",
       "      <th>correct_cot</th>\n",
       "    </tr>\n",
       "  </thead>\n",
       "  <tbody>\n",
       "    <tr>\n",
       "      <th>0</th>\n",
       "      <td>Answer True or False to the following question...</td>\n",
       "      <td>False</td>\n",
       "      <td>Answer True or False to the following question...</td>\n",
       "      <td>['Wren is a grimpus.', 'Every grimpus is not c...</td>\n",
       "      <td>False</td>\n",
       "      <td>['Wren is a grimpus.', 'Every grimpus is not c...</td>\n",
       "      <td>True</td>\n",
       "      <td>True</td>\n",
       "    </tr>\n",
       "    <tr>\n",
       "      <th>1</th>\n",
       "      <td>Answer True or False to the following question...</td>\n",
       "      <td>True</td>\n",
       "      <td>Answer True or False to the following question...</td>\n",
       "      <td>['Rex is a jompus.', 'Each jompus is dull.', '...</td>\n",
       "      <td>True</td>\n",
       "      <td>['Rex is a jompus.', 'Each jompus is dull.', '...</td>\n",
       "      <td>True</td>\n",
       "      <td>True</td>\n",
       "    </tr>\n",
       "    <tr>\n",
       "      <th>2</th>\n",
       "      <td>Answer True or False to the following question...</td>\n",
       "      <td>True</td>\n",
       "      <td>Answer True or False to the following question...</td>\n",
       "      <td>['Fae is a brimpus.', 'Each brimpus is transpa...</td>\n",
       "      <td>True</td>\n",
       "      <td>['Fae is a brimpus.', 'Each brimpus is transpa...</td>\n",
       "      <td>True</td>\n",
       "      <td>True</td>\n",
       "    </tr>\n",
       "    <tr>\n",
       "      <th>3</th>\n",
       "      <td>Answer True or False to the following question...</td>\n",
       "      <td>False</td>\n",
       "      <td>Answer True or False to the following question...</td>\n",
       "      <td>['Stella is a brimpus.', 'Brimpuses are not ra...</td>\n",
       "      <td>False</td>\n",
       "      <td>['Stella is a brimpus.', 'Brimpuses are not ra...</td>\n",
       "      <td>True</td>\n",
       "      <td>True</td>\n",
       "    </tr>\n",
       "    <tr>\n",
       "      <th>4</th>\n",
       "      <td>Answer True or False to the following question...</td>\n",
       "      <td>True</td>\n",
       "      <td>Answer True or False to the following question...</td>\n",
       "      <td>['Wren is a tumpus.', 'Tumpuses are blue.', 'W...</td>\n",
       "      <td>True</td>\n",
       "      <td>['Wren is a tumpus.', 'Tumpuses are blue.', 'W...</td>\n",
       "      <td>True</td>\n",
       "      <td>True</td>\n",
       "    </tr>\n",
       "  </tbody>\n",
       "</table>\n",
       "</div>"
      ],
      "text/plain": [
       "                                              prompt  label  \\\n",
       "0  Answer True or False to the following question...  False   \n",
       "1  Answer True or False to the following question...   True   \n",
       "2  Answer True or False to the following question...   True   \n",
       "3  Answer True or False to the following question...  False   \n",
       "4  Answer True or False to the following question...   True   \n",
       "\n",
       "                                         prompt_corr  \\\n",
       "0  Answer True or False to the following question...   \n",
       "1  Answer True or False to the following question...   \n",
       "2  Answer True or False to the following question...   \n",
       "3  Answer True or False to the following question...   \n",
       "4  Answer True or False to the following question...   \n",
       "\n",
       "                                            cot_gold   pred  \\\n",
       "0  ['Wren is a grimpus.', 'Every grimpus is not c...  False   \n",
       "1  ['Rex is a jompus.', 'Each jompus is dull.', '...   True   \n",
       "2  ['Fae is a brimpus.', 'Each brimpus is transpa...   True   \n",
       "3  ['Stella is a brimpus.', 'Brimpuses are not ra...  False   \n",
       "4  ['Wren is a tumpus.', 'Tumpuses are blue.', 'W...   True   \n",
       "\n",
       "                                            cot_pred  correct_pred  \\\n",
       "0  ['Wren is a grimpus.', 'Every grimpus is not c...          True   \n",
       "1  ['Rex is a jompus.', 'Each jompus is dull.', '...          True   \n",
       "2  ['Fae is a brimpus.', 'Each brimpus is transpa...          True   \n",
       "3  ['Stella is a brimpus.', 'Brimpuses are not ra...          True   \n",
       "4  ['Wren is a tumpus.', 'Tumpuses are blue.', 'W...          True   \n",
       "\n",
       "   correct_cot  \n",
       "0         True  \n",
       "1         True  \n",
       "2         True  \n",
       "3         True  \n",
       "4         True  "
      ]
     },
     "execution_count": 16,
     "metadata": {},
     "output_type": "execute_result"
    }
   ],
   "source": [
    "correct_preds = results_df[results_df['correct_pred'] & results_df['correct_cot']]\n",
    "correct_preds.head()"
   ]
  },
  {
   "cell_type": "code",
   "execution_count": 17,
   "id": "f8cc38cb-7fe3-4ca6-87ef-ac625cbf28db",
   "metadata": {},
   "outputs": [
    {
     "data": {
      "text/plain": [
       "<matplotlib.legend.Legend at 0x7ff0c09ae2c0>"
      ]
     },
     "execution_count": 17,
     "metadata": {},
     "output_type": "execute_result"
    },
    {
     "data": {
      "image/png": "[encoded data removed]",
      "text/plain": [
       "<Figure size 900x600 with 1 Axes>"
      ]
     },
     "metadata": {},
     "output_type": "display_data"
    }
   ],
   "source": [
    "fig = plt.figure(figsize=(6, 4), dpi=150)\n",
    "\n",
    "shots_results = pd.DataFrame({\n",
    "    'N. Shots': [1, 3, 5, 7, 1, 3, 5, 7],\n",
    "    'Prediction Acc.': [0.57, 0.63, 0.67, 0.76, 0.67, 0.64, 0.66, 0.63],\n",
    "    'CoT Acc.': [0.14, 0.21, 0.22, 0.27, 0, 0, 0, 0],\n",
    "    'Agreement': [0.643, 0.810, 0.955, 0.963, 0, 0, 0, 0],\n",
    "    'With CoT': [True, True, True, True, False, False, False, False] \n",
    "})\n",
    "\n",
    "sns.lineplot(shots_results, x='N. Shots', y='Prediction Acc.', hue='With CoT')\n",
    "sns.scatterplot(shots_results, x='N. Shots', y='Prediction Acc.', hue='With CoT')\n",
    "\n",
    "handles, labels = plt.gca().get_legend_handles_labels()\n",
    "plt.legend(handles=handles[:len(handles)//2], labels=['Without CoT', 'With CoT'], bbox_to_anchor=(1.05, 1), loc='upper left')"
   ]
  },
  {
   "cell_type": "code",
   "execution_count": 90,
   "id": "2f62db13-264b-4d5f-819f-d7b15f218dfa",
   "metadata": {},
   "outputs": [
    {
     "data": {
      "text/plain": [
       "(0.0, 1.0)"
      ]
     },
     "execution_count": 90,
     "metadata": {},
     "output_type": "execute_result"
    },
    {
     "data": {
      "image/png": "[encoded data removed]",
      "text/plain": [
       "<Figure size 900x600 with 1 Axes>"
      ]
     },
     "metadata": {},
     "output_type": "display_data"
    }
   ],
   "source": [
    "fig = plt.figure(figsize=(6, 4), dpi=150)\n",
    "plot_df = shots_results.iloc[:4].drop('With CoT', axis=1).melt(id_vars='N. Shots', var_name='Score', value_name='Value')\n",
    "\n",
    "sns.scatterplot(plot_df, x='N. Shots', y='Value', hue='Score')\n",
    "sns.lineplot(plot_df, x='N. Shots', y='Value', hue='Score')\n",
    "\n",
    "handles, labels = plt.gca().get_legend_handles_labels()\n",
    "plt.legend(handles=handles[:len(handles)//2], labels=labels[:len(labels)//2], bbox_to_anchor=(1.05, 1), loc='upper left')\n",
    "plt.ylim(0, 1)"
   ]
  },
  {
   "cell_type": "markdown",
   "id": "18fdef9c-ab34-4d95-a8b4-99c65e5e2abc",
   "metadata": {},
   "source": [
    "### Error analysis"
   ]
  },
  {
   "cell_type": "code",
   "execution_count": 35,
   "id": "40af64b5-49db-4fa4-9b4e-c00a27a97af7",
   "metadata": {},
   "outputs": [],
   "source": [
    "import pandas as pd\n",
    "\n",
    "results = [\n",
    "    pd.read_csv('results/results_1shot.csv'),\n",
    "    pd.read_csv('results/results_3shots.csv'),\n",
    "    pd.read_csv('results/results_5shots.csv'),\n",
    "    pd.read_csv('results/results_7shots.csv')\n",
    "]"
   ]
  },
  {
   "cell_type": "code",
   "execution_count": 24,
   "id": "d709b5eb-674b-4dbb-a703-d68483caddb1",
   "metadata": {},
   "outputs": [],
   "source": [
    "import ast\n",
    "\n",
    "mistakes = {\n",
    "    '1': [],\n",
    "    '3': [],\n",
    "    '5': [],\n",
    "    '7': []\n",
    "}\n",
    "\n",
    "for shots, df in zip([1, 3, 5, 7], results):\n",
    "\n",
    "    df['correct_pred'] = df['label'] == df['pred']\n",
    "    df['correct_cot'] = df.apply(check_cot, axis=1)\n",
    "    \n",
    "    cot_miss = df[(df['correct_cot'] == False) & (df['correct_pred'] == False)]\n",
    "    \n",
    "    for i in range(len(cot_miss)):\n",
    "        gold, pred = cot_miss[[\"cot_gold\", \"cot_pred\"]].iloc[i]\n",
    "        gold = ast.literal_eval(gold)\n",
    "        pred = ast.literal_eval(pred)\n",
    "        for j, (gold_step, pred_step) in enumerate(zip(gold, pred)):\n",
    "            if gold_step != pred_step:\n",
    "                mistakes[str(shots)].append(j)\n",
    "                break"
   ]
  },
  {
   "cell_type": "code",
   "execution_count": 25,
   "id": "be146c96-8eb8-45eb-ab20-aee328890718",
   "metadata": {},
   "outputs": [
    {
     "name": "stdout",
     "output_type": "stream",
     "text": [
      "62% accuracy at 1 shots\n",
      "67% accuracy at 3 shots\n",
      "68% accuracy at 5 shots\n",
      "77% accuracy at 7 shots\n"
     ]
    }
   ],
   "source": [
    "for shot in mistakes:\n",
    "    print(f\"{100 - len(mistakes[shot])}% accuracy at {shot} shots\")"
   ]
  },
  {
   "cell_type": "code",
   "execution_count": 36,
   "id": "158742f3-31e8-475d-a41a-9417dfadbe49",
   "metadata": {},
   "outputs": [
    {
     "data": {
      "image/png": "[encoded data removed]",
      "text/plain": [
       "<Figure size 900x600 with 1 Axes>"
      ]
     },
     "metadata": {},
     "output_type": "display_data"
    }
   ],
   "source": [
    "plt.figure(figsize=(6, 4), dpi=150)\n",
    "\n",
    "plot_df = pd.concat([\n",
    "    pd.Series(mistakes['1'], name='CoT step').reset_index().groupby('CoT step').count(),\n",
    "    pd.Series(mistakes['3'], name='CoT step').reset_index().groupby('CoT step').count(),\n",
    "    pd.Series(mistakes['5'], name='CoT step').reset_index().groupby('CoT step').count(),\n",
    "    pd.Series(mistakes['7'], name='CoT step').reset_index().groupby('CoT step').count()\n",
    "], axis=1).fillna(0)\n",
    "plot_df.columns = ['1 shot', '3 shots', '5 shots', '7 shots']\n",
    "plot_df = plot_df.reset_index().melt(id_vars='CoT step', var_name='N. shots', value_name='Errors')\n",
    "\n",
    "sns.lineplot(plot_df, x='CoT step', y='Errors', hue='N. shots')\n",
    "sns.scatterplot(plot_df, x='CoT step', y='Errors', hue='N. shots')\n",
    "\n",
    "handles, labels = plt.gca().get_legend_handles_labels()\n",
    "plt.legend(handles=handles[:len(handles)//2], labels=labels[:len(labels)//2], bbox_to_anchor=(1.05, 1), loc='upper left')\n",
    "plt.xticks([0, 1, 2])\n",
    "plt.show()"
   ]
  },
  {
   "cell_type": "code",
   "execution_count": 50,
   "id": "2855836e-8c45-4a16-b150-02ec9f82c0ef",
   "metadata": {},
   "outputs": [],
   "source": [
    "import ast\n",
    "all_species = ['grimpus', 'lorpus', 'wumpus', 'zumpus', 'sterpus', 'numpus', 'jompus', 'brimpus', 'yumpus', 'tumpus', 'dumpus', 'vumpus', 'rompus', 'lempus', 'gorpus', 'shumpus', 'impus']\n",
    "\n",
    "def check_err(gold, pred, step):\n",
    "\n",
    "    def count_species(pred):\n",
    "        k = 0\n",
    "        for s in all_species:\n",
    "            if s in pred: k+=1\n",
    "        return k\n",
    "\n",
    "    def check_attribute(gold, pred):\n",
    "        attr = gold.split()[-1][:-1]\n",
    "        return attr in pred\n",
    "\n",
    "    if step == 0:\n",
    "        return \"S1\"\n",
    "    elif step == 1:\n",
    "        if \"not\" in gold and \"not\" not in pred:\n",
    "            return \"S2-lose_not\"\n",
    "        if \"not\" not in gold and \"not\" in pred:\n",
    "            return \"S2-add_not\"\n",
    "        if count_species(pred) > 1:\n",
    "            return \"S2-s2a\"\n",
    "        if not check_attribute(gold, pred):\n",
    "            return \"S2-miss_a\"\n",
    "    elif step == 2:\n",
    "        if \"not\" in gold and \"not\" not in pred:\n",
    "            return \"S3-lose_not\"\n",
    "        if \"not\" not in gold and \"not\" in pred:\n",
    "            return \"S3-add_not\"\n",
    "        if count_species(pred) > 0:\n",
    "            return \"S3-s2a\"\n",
    "        if not check_attribute(gold, pred):\n",
    "            return \"S3-miss_a\"\n",
    "\n",
    "    return \"C\"\n",
    "        \n",
    "def evaluate_(row):\n",
    "    cot_gold = ast.literal_eval(row['cot_gold'])\n",
    "    cot_pred = ast.literal_eval(row['cot_pred'])\n",
    "    \n",
    "    r = \"\"\n",
    "    \n",
    "    for i, (g, p) in enumerate(zip(cot_gold, cot_pred)):\n",
    "        if g != p:\n",
    "            err = check_err(g, p, i)\n",
    "        else:\n",
    "            err = \"C\"\n",
    "\n",
    "        r += err + \"|\"\n",
    "\n",
    "    return r"
   ]
  },
  {
   "cell_type": "code",
   "execution_count": 51,
   "id": "bd4c8ca8-01a2-4af6-80c9-26c5f6955c1f",
   "metadata": {},
   "outputs": [],
   "source": [
    "dfs = []\n",
    "for n_shots in [\"1shot\", \"3shots\", \"5shots\", \"7shots\"]:\n",
    "    df = pd.read_csv(f'results/results_{n_shots}.csv')\n",
    "    df['correct_pred'] = df['label'] == df['pred']\n",
    "    df['correct_cot'] = df.apply(check_cot, axis=1)\n",
    "\n",
    "    df['errors'] = df.apply(evaluate_, axis=1)\n",
    "\n",
    "    df['errors'] = df['errors'].apply(lambda x: x[:-1])\n",
    "    df[['S1', 'S2', 'S3']] = df['errors'].str.split('|', expand=True)\n",
    "    df['S1'] = df['S1'].apply(lambda x: 'S1-C' if x == 'C' else 'S1-miss_s')\n",
    "    df['S2'] = df['S2'].apply(lambda x: 'S2-C' if x == 'C' else x)\n",
    "    df['S3'] = df['S3'].apply(lambda x: 'S3-C' if x == 'C' else x)\n",
    "    dfs.append(df[['S1', 'S2', 'S3', 'correct_pred']])"
   ]
  },
  {
   "cell_type": "code",
   "execution_count": 52,
   "id": "03223e16-bfa5-4f4d-89d1-98ebda5af9ae",
   "metadata": {},
   "outputs": [
    {
     "data": {
      "text/html": [
       "<div>\n",
       "<style scoped>\n",
       "    .dataframe tbody tr th:only-of-type {\n",
       "        vertical-align: middle;\n",
       "    }\n",
       "\n",
       "    .dataframe tbody tr th {\n",
       "        vertical-align: top;\n",
       "    }\n",
       "\n",
       "    .dataframe thead th {\n",
       "        text-align: right;\n",
       "    }\n",
       "</style>\n",
       "<table border=\"1\" class=\"dataframe\">\n",
       "  <thead>\n",
       "    <tr style=\"text-align: right;\">\n",
       "      <th></th>\n",
       "      <th>S1</th>\n",
       "      <th>S2</th>\n",
       "      <th>S3</th>\n",
       "      <th>correct_pred</th>\n",
       "    </tr>\n",
       "  </thead>\n",
       "  <tbody>\n",
       "    <tr>\n",
       "      <th>0</th>\n",
       "      <td>S1-miss_s</td>\n",
       "      <td>S2-lose_not</td>\n",
       "      <td>S3-lose_not</td>\n",
       "      <td>False</td>\n",
       "    </tr>\n",
       "    <tr>\n",
       "      <th>1</th>\n",
       "      <td>S1-C</td>\n",
       "      <td>S2-C</td>\n",
       "      <td>S3-C</td>\n",
       "      <td>True</td>\n",
       "    </tr>\n",
       "    <tr>\n",
       "      <th>2</th>\n",
       "      <td>S1-miss_s</td>\n",
       "      <td>S2-add_not</td>\n",
       "      <td>S3-add_not</td>\n",
       "      <td>True</td>\n",
       "    </tr>\n",
       "    <tr>\n",
       "      <th>3</th>\n",
       "      <td>S1-miss_s</td>\n",
       "      <td>S2-lose_not</td>\n",
       "      <td>S3-lose_not</td>\n",
       "      <td>False</td>\n",
       "    </tr>\n",
       "    <tr>\n",
       "      <th>4</th>\n",
       "      <td>S1-miss_s</td>\n",
       "      <td>S2-add_not</td>\n",
       "      <td>S3-add_not</td>\n",
       "      <td>True</td>\n",
       "    </tr>\n",
       "    <tr>\n",
       "      <th>...</th>\n",
       "      <td>...</td>\n",
       "      <td>...</td>\n",
       "      <td>...</td>\n",
       "      <td>...</td>\n",
       "    </tr>\n",
       "    <tr>\n",
       "      <th>95</th>\n",
       "      <td>S1-C</td>\n",
       "      <td>S2-miss_a</td>\n",
       "      <td>S3-miss_a</td>\n",
       "      <td>True</td>\n",
       "    </tr>\n",
       "    <tr>\n",
       "      <th>96</th>\n",
       "      <td>S1-C</td>\n",
       "      <td>S2-C</td>\n",
       "      <td>S3-C</td>\n",
       "      <td>True</td>\n",
       "    </tr>\n",
       "    <tr>\n",
       "      <th>97</th>\n",
       "      <td>S1-C</td>\n",
       "      <td>S2-add_not</td>\n",
       "      <td>S3-miss_a</td>\n",
       "      <td>False</td>\n",
       "    </tr>\n",
       "    <tr>\n",
       "      <th>98</th>\n",
       "      <td>S1-C</td>\n",
       "      <td>S2-C</td>\n",
       "      <td>S3-add_not</td>\n",
       "      <td>True</td>\n",
       "    </tr>\n",
       "    <tr>\n",
       "      <th>99</th>\n",
       "      <td>S1-miss_s</td>\n",
       "      <td>S2-miss_a</td>\n",
       "      <td>S3-miss_a</td>\n",
       "      <td>False</td>\n",
       "    </tr>\n",
       "  </tbody>\n",
       "</table>\n",
       "<p>100 rows × 4 columns</p>\n",
       "</div>"
      ],
      "text/plain": [
       "           S1           S2           S3  correct_pred\n",
       "0   S1-miss_s  S2-lose_not  S3-lose_not         False\n",
       "1        S1-C         S2-C         S3-C          True\n",
       "2   S1-miss_s   S2-add_not   S3-add_not          True\n",
       "3   S1-miss_s  S2-lose_not  S3-lose_not         False\n",
       "4   S1-miss_s   S2-add_not   S3-add_not          True\n",
       "..        ...          ...          ...           ...\n",
       "95       S1-C    S2-miss_a    S3-miss_a          True\n",
       "96       S1-C         S2-C         S3-C          True\n",
       "97       S1-C   S2-add_not    S3-miss_a         False\n",
       "98       S1-C         S2-C   S3-add_not          True\n",
       "99  S1-miss_s    S2-miss_a    S3-miss_a         False\n",
       "\n",
       "[100 rows x 4 columns]"
      ]
     },
     "execution_count": 52,
     "metadata": {},
     "output_type": "execute_result"
    }
   ],
   "source": [
    "dfs[0]"
   ]
  },
  {
   "cell_type": "code",
   "execution_count": null,
   "id": "21034b14-330a-473f-b499-5c9e6081bc94",
   "metadata": {},
   "outputs": [],
   "source": [
    "import pandas as pd\n",
    "import plotly.graph_objects as go\n",
    "\n",
    "df = dfs[3]\n",
    "\n",
    "# Prepare the data for the Sankey diagram\n",
    "all_labels = list(pd.unique(df[['S1', 'S2', 'S3', 'correct_pred']].values.ravel('K')))\n",
    "label_dict = {label: i for i, label in enumerate(all_labels)}\n",
    "\n",
    "sources = []\n",
    "targets = []\n",
    "values = []\n",
    "\n",
    "# Define stages and their order\n",
    "stages = ['S1', 'S2', 'S3', 'correct_pred']\n",
    "\n",
    "# Count the flows between stages\n",
    "for i in range(len(stages) - 1):\n",
    "    stage = stages[i]\n",
    "    next_stage = stages[i + 1]\n",
    "    stage_counts = df.groupby([stage, next_stage]).size().reset_index(name='count')\n",
    "    \n",
    "    for _, row in stage_counts.iterrows():\n",
    "        sources.append(label_dict[row[stage]])\n",
    "        targets.append(label_dict[row[next_stage]])\n",
    "        values.append(row['count'])\n",
    "\n",
    "# Define node and link data for Sankey diagram\n",
    "node = dict(\n",
    "    pad = 15,\n",
    "    thickness = 20,\n",
    "    line = dict(color = \"black\", width = 0.5),\n",
    "    label = all_labels,\n",
    ")\n",
    "\n",
    "link = dict(\n",
    "    source = sources,\n",
    "    target = targets,\n",
    "    value = values\n",
    ")\n",
    "\n",
    "# Create Sankey diagram\n",
    "fig = go.Figure(data=[go.Sankey(node=node, link=link)])\n",
    "fig.update_layout(title_text=\"Observation Flow into Variables\", font_size=10, width=800)\n",
    "fig.show()"
   ]
  }
 ],
 "metadata": {
  "kernelspec": {
   "display_name": "mats-interp",
   "language": "python",
   "name": "myenv"
  },
  "language_info": {
   "codemirror_mode": {
    "name": "ipython",
    "version": 3
   },
   "file_extension": ".py",
   "mimetype": "text/x-python",
   "name": "python",
   "nbconvert_exporter": "python",
   "pygments_lexer": "ipython3",
   "version": "3.10.13"
  }
 },
 "nbformat": 4,
 "nbformat_minor": 5
}
