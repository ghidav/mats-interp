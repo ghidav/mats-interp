{
 "cells": [
  {
   "cell_type": "code",
   "execution_count": 1,
   "metadata": {},
   "outputs": [
    {
     "name": "stderr",
     "output_type": "stream",
     "text": [
      "/Library/Frameworks/Python.framework/Versions/3.12/lib/python3.12/site-packages/tqdm/auto.py:21: TqdmWarning: IProgress not found. Please update jupyter and ipywidgets. See https://ipywidgets.readthedocs.io/en/stable/user_install.html\n",
      "  from .autonotebook import tqdm as notebook_tqdm\n"
     ]
    }
   ],
   "source": [
    "import numpy as np\n",
    "import pandas as pd\n",
    "from tqdm.auto import tqdm\n",
    "import os\n",
    "from evaluation import run_eval"
   ]
  },
  {
   "cell_type": "code",
   "execution_count": 2,
   "metadata": {},
   "outputs": [],
   "source": [
    "all_species = ['grimpus', 'lorpus', 'wumpus', 'zumpus', 'sterpus', 'numpus', 'jompus', 'brimpus', 'yumpus', 'tumpus', 'dumpus', 'vumpus', 'rompus', 'lempus', 'gorpus', 'shumpus', 'impus']\n",
    "all_attributes = ['fast', 'luminous', 'tall', 'large', 'heavy', 'blonde', 'crazy', 'hungry', 'happy']\n",
    "all_subjects = ['Grom', 'Wren', 'Trux', 'Jinx', 'Rast']"
   ]
  },
  {
   "cell_type": "code",
   "execution_count": 3,
   "metadata": {},
   "outputs": [],
   "source": [
    "from generation import few_shot_example"
   ]
  },
  {
   "cell_type": "code",
   "execution_count": 4,
   "metadata": {},
   "outputs": [
    {
     "name": "stdout",
     "output_type": "stream",
     "text": [
      "Answer to the following question as shown in the following examples.\n",
      "Each jompus is not luminous. Each rompus is tall. Lorpuses are tall. Each rompus is a jompus. Each lorpus is heavy. Each lorpus is a vumpus. Each jompus is not heavy. Wren is a rompus. Wren is a vumpus.\n",
      "\n",
      "Question: Is Wren heavy?\n",
      "Think step by step.\n",
      "\n",
      "(1) Wren is a rompus.\n",
      "(2) Each rompus is a jompus.\n",
      "(3) Wren is a jompus.\n",
      "(4) Each jompus is not heavy.\n",
      "(5) Wren is not heavy.\n",
      "Answer: No\n",
      "\n",
      "\n",
      "Each jompus is a impus. Each jompus is large. Each gorpus is not large. Each gorpus is not happy. Each sterpus is not luminous. Jompuses are not luminous. Sterpuses are gorpuses. Rast is a sterpus. Rast is a impus.\n",
      "\n",
      "Question: Is Rast large?\n",
      "Think step by step.\n",
      "\n",
      "(1) Rast is a sterpus.\n",
      "(2) Sterpuses are gorpuses.\n",
      "(3) Rast is a gorpus.\n",
      "(4) Gorpuses are not large.\n",
      "(5) Rast is not large.\n",
      "Answer: No\n",
      "\n",
      "\n",
      "Jompuses are impuses. Zumpuses are large. Each impus is not fast. Zumpuses are hungry. Each jompus is hungry. Each zumpus is a lorpus. Impuses are not large. Trux is a lorpus. Trux is a jompus.\n",
      "\n",
      "Question: Is Trux large?\n",
      "Think step by step.\n",
      "\n",
      "(1) Trux is a jompus.\n",
      "(2) Each jompus is a impus.\n",
      "(3) Trux is a impus.\n",
      "(4) Impuses are not large.\n",
      "(5) Trux is not large.\n",
      "Answer: No\n",
      "\n",
      "\n",
      "Each lorpus is a lempus. Each vumpus is blonde. Each lorpus is blonde. Each vumpus is happy. Each vumpus is a gorpus. Each lempus is not happy. Each lempus is not heavy. Jinx is a gorpus. Jinx is a lorpus.\n",
      "\n",
      "Question: Is Jinx happy?\n",
      "Think step by step.\n",
      "\n",
      "(1) Jinx is a lorpus.\n",
      "(2) Each lorpus is a lempus.\n",
      "(3) Jinx is a lempus.\n",
      "(4) Each lempus is not happy.\n",
      "(5) Jinx is not happy.\n",
      "Answer: No\n",
      "\n",
      "\n",
      "Gorpuses are jompuses. Each gorpus is not happy. Each gorpus is large. Each rompus is not large. Each rompus is not crazy. Each yumpus is not happy. Each yumpus is a rompus. Jinx is a jompus. Jinx is a yumpus.\n",
      "\n",
      "Question: Is Jinx large?\n",
      "Think step by step.\n",
      "\n",
      "(1) Jinx is a yumpus.\n",
      "(2) Yumpuses are rompuses.\n",
      "(3) Jinx is a rompus.\n",
      "(4) Rompuses are not large.\n",
      "(5) Jinx is not large.\n",
      "Answer: No\n",
      "\n",
      "\n",
      "Lorpuses are luminous. Each lempus is a lorpus. Each lempus is fast. Impuses are numpuses. Lorpuses are tall. Each impus is not luminous. Impuses are fast. Rast is a lempus. Rast is a numpus.\n",
      "\n",
      "Question: Is Rast luminous?\n",
      "Think step by step.\n",
      "\n"
     ]
    }
   ],
   "source": [
    "print(few_shot_example(\n",
    "    n_hops=2, \n",
    "    n_shots=5, \n",
    "    with_cot=True)[0]\n",
    "    )"
   ]
  },
  {
   "cell_type": "markdown",
   "metadata": {},
   "source": [
    "## Eval"
   ]
  },
  {
   "cell_type": "code",
   "execution_count": null,
   "metadata": {},
   "outputs": [],
   "source": [
    "model_name = 'meta-llama/Meta-Llama-3-8B-Instruct'\n",
    "model_label = model_name.split('/')[-1]\n",
    "\n",
    "if not os.path.exists(f\"results/{model_label}\"):\n",
    "    os.makedirs(f\"results/{model_label}\")\n",
    "\n",
    "if not os.path.exists(f\"eval/{model_label}\"):\n",
    "    os.makedirs(f\"eval/{model_label}\")\n",
    "\n",
    "res_df = {\n",
    "    'N. Shots': [],\n",
    "    'Prediction Acc.': [],\n",
    "    'CoT Acc.': [],\n",
    "    'Agreement': [],\n",
    "    'With CoT': [] \n",
    "}\n",
    "\n",
    "N = 50\n",
    "\n",
    "for n_hops in [2, 3]:\n",
    "    for n_shots in [1, 3, 5, 7, 9]:\n",
    "        for with_cot in [True, False]: \n",
    "            cot_label = 'cot' if with_cot else 'nocot'\n",
    "            for p in [0.1, 0.3, 0.5, 0.7, 0.9]:\n",
    "                df, pred_acc, cot_acc, cot_pred_corr = run_eval(model_name, N, n_hops, n_shots, with_cot, p)\n",
    "                res_df['N. Shots'].append(n_shots)\n",
    "                res_df['Prediction Acc.'].append(pred_acc)\n",
    "                res_df['CoT Acc.'].append(cot_acc)\n",
    "                res_df['Agreement'].append(cot_pred_corr)\n",
    "                res_df['With CoT'].append(with_cot)\n",
    "\n",
    "                df.to_csv(f\"results/{model_label}/{N}N_{n_hops}hops_{n_shots}shots_{cot_label}_p{p}.csv\", index=False)\n",
    "\n",
    "res_df = pd.DataFrame(res_df)\n",
    "res_df.to_csv(f\"eval/{model_label}/{N}N_{n_hops}hops.csv\")"
   ]
  },
  {
   "cell_type": "markdown",
   "metadata": {},
   "source": [
    "LLM eval\n",
    "\n",
    "**SYS_PROMPT**\n",
    "\n",
    "```\n",
    "You have to evaluate reasoning processes. You will be given a GOLD and a PREDICT processes and you have to determine whether the second is equivalent to the first and answer CORRECT or WRONG. \n",
    "Here are some examples: \n",
    "\n",
    "GOLD\n",
    "(1) Jinx is a dumpus.\n",
    "(2) Dumpuses are grimpuses.\n",
    "(3) Jinx is a grimpus.\n",
    "(4) Each grimpus is not hungry.\n",
    "(5) Jinx is not hungry.\n",
    "\n",
    "PRED\n",
    "(1) Jinx is a sterpus.\n",
    "(2) Each sterpus is a lempus. (We don't need to use this statement for now, but we'll come back to it later.)\n",
    "(3) Jinx is a dumpus.\n",
    "(4) Each dumpus is a grimpus.\n",
    "(5) Jinx is a grimpus.\n",
    "(6) Each grimpus is not hungry.\n",
    "(7) Jinx is a grimpus, so Jinx is not hungry.\n",
    "\n",
    "EVAL: CORRECT\n",
    "\n",
    "\n",
    "GOLD\n",
    "(1) Trux is a grimpus.\n",
    "(2) Grimpuses are rompus.\n",
    "(3) Trux is a rompus.\n",
    "(4) Rompuses are not large.\n",
    "(5) Trux is not large.\n",
    "\n",
    "PRED\n",
    "1. Trux is a grimpus.\n",
    "2. Each grimpus is a rompus.\n",
    "3. Trux is a rompus.\n",
    "4. Rompuses are blonde. (Note: This statement is not relevant to the question, but we'll keep it in mind)\n",
    "5. Each vumpus is large.\n",
    "6. Vumpuses are gorpus.\n",
    "7. Trux is a gorpus.\n",
    "8. Vumpuses are not tall.\n",
    "9. Trux is a vumpus (from step 7 and step 6).\n",
    "10. Since Trux is a vumpus, it is large (from step 5).\n",
    "\n",
    "EVAL: WRONG\n",
    "\n",
    "Answer only with the final evaluation CORRECT or WRONG.\n",
    "```\n",
    "\n",
    "TEST_EXAMPLE\n",
    "\n",
    "```\n",
    "GOLD\n",
    "(1) Wren is a gorpus. \n",
    "(2) Each gorpus is a shumpus. \n",
    "(3) Wren is a shumpus. \n",
    "(4) Shumpuses are heavy. \n",
    "(5) Wren is heavy.\n",
    "\n",
    "PRED\n",
    "* Wren is a rompus.\n",
    "* Tumpuses are rompus.\n",
    "* Wren is a tumpus (from previous question, we know Wren is a tumpus).\n",
    "* Tumpuses are rompus, so Wren is rompus.\n",
    "* Wren is a gorpus.\n",
    "* Each shumpus is heavy.\n",
    "* Wren is a gorpus, so Wren is a shumpus.\n",
    "* Each shumpus is heavy, so Wren is heavy.\n",
    "```"
   ]
  },
  {
   "cell_type": "code",
   "execution_count": 5,
   "metadata": {},
   "outputs": [],
   "source": [
    "model_name = 'meta-llama/Meta-Llama-3-8B-Instruct'\n",
    "model_label = model_name.split('/')[-1]\n",
    "\n",
    "N = 50\n",
    "n_hops = 3\n",
    "\n",
    "res_df = pd.read_csv(f\"eval/{model_label}/{N}N_{n_hops}hops.csv\", index_col=0)"
   ]
  },
  {
   "cell_type": "code",
   "execution_count": 6,
   "metadata": {},
   "outputs": [
    {
     "data": {
      "text/html": [
       "<div>\n",
       "<style scoped>\n",
       "    .dataframe tbody tr th:only-of-type {\n",
       "        vertical-align: middle;\n",
       "    }\n",
       "\n",
       "    .dataframe tbody tr th {\n",
       "        vertical-align: top;\n",
       "    }\n",
       "\n",
       "    .dataframe thead th {\n",
       "        text-align: right;\n",
       "    }\n",
       "</style>\n",
       "<table border=\"1\" class=\"dataframe\">\n",
       "  <thead>\n",
       "    <tr style=\"text-align: right;\">\n",
       "      <th></th>\n",
       "      <th>N. Shots</th>\n",
       "      <th>Prediction Acc.</th>\n",
       "      <th>CoT Acc.</th>\n",
       "      <th>Agreement</th>\n",
       "      <th>With CoT</th>\n",
       "    </tr>\n",
       "  </thead>\n",
       "  <tbody>\n",
       "    <tr>\n",
       "      <th>0</th>\n",
       "      <td>1</td>\n",
       "      <td>0.56</td>\n",
       "      <td>0.44</td>\n",
       "      <td>1.000000</td>\n",
       "      <td>True</td>\n",
       "    </tr>\n",
       "    <tr>\n",
       "      <th>1</th>\n",
       "      <td>1</td>\n",
       "      <td>0.68</td>\n",
       "      <td>0.58</td>\n",
       "      <td>1.000000</td>\n",
       "      <td>True</td>\n",
       "    </tr>\n",
       "    <tr>\n",
       "      <th>2</th>\n",
       "      <td>1</td>\n",
       "      <td>0.58</td>\n",
       "      <td>0.44</td>\n",
       "      <td>1.000000</td>\n",
       "      <td>True</td>\n",
       "    </tr>\n",
       "    <tr>\n",
       "      <th>3</th>\n",
       "      <td>1</td>\n",
       "      <td>0.54</td>\n",
       "      <td>0.34</td>\n",
       "      <td>1.000000</td>\n",
       "      <td>True</td>\n",
       "    </tr>\n",
       "    <tr>\n",
       "      <th>4</th>\n",
       "      <td>1</td>\n",
       "      <td>0.62</td>\n",
       "      <td>0.46</td>\n",
       "      <td>1.000000</td>\n",
       "      <td>True</td>\n",
       "    </tr>\n",
       "    <tr>\n",
       "      <th>10</th>\n",
       "      <td>3</td>\n",
       "      <td>0.66</td>\n",
       "      <td>0.64</td>\n",
       "      <td>1.000000</td>\n",
       "      <td>True</td>\n",
       "    </tr>\n",
       "    <tr>\n",
       "      <th>11</th>\n",
       "      <td>3</td>\n",
       "      <td>0.70</td>\n",
       "      <td>0.68</td>\n",
       "      <td>0.970588</td>\n",
       "      <td>True</td>\n",
       "    </tr>\n",
       "    <tr>\n",
       "      <th>12</th>\n",
       "      <td>3</td>\n",
       "      <td>0.58</td>\n",
       "      <td>0.56</td>\n",
       "      <td>1.000000</td>\n",
       "      <td>True</td>\n",
       "    </tr>\n",
       "    <tr>\n",
       "      <th>13</th>\n",
       "      <td>3</td>\n",
       "      <td>0.72</td>\n",
       "      <td>0.64</td>\n",
       "      <td>0.968750</td>\n",
       "      <td>True</td>\n",
       "    </tr>\n",
       "    <tr>\n",
       "      <th>14</th>\n",
       "      <td>3</td>\n",
       "      <td>0.70</td>\n",
       "      <td>0.66</td>\n",
       "      <td>1.000000</td>\n",
       "      <td>True</td>\n",
       "    </tr>\n",
       "    <tr>\n",
       "      <th>20</th>\n",
       "      <td>5</td>\n",
       "      <td>0.68</td>\n",
       "      <td>0.64</td>\n",
       "      <td>1.000000</td>\n",
       "      <td>True</td>\n",
       "    </tr>\n",
       "    <tr>\n",
       "      <th>21</th>\n",
       "      <td>5</td>\n",
       "      <td>0.86</td>\n",
       "      <td>0.86</td>\n",
       "      <td>1.000000</td>\n",
       "      <td>True</td>\n",
       "    </tr>\n",
       "    <tr>\n",
       "      <th>22</th>\n",
       "      <td>5</td>\n",
       "      <td>0.68</td>\n",
       "      <td>0.68</td>\n",
       "      <td>0.970588</td>\n",
       "      <td>True</td>\n",
       "    </tr>\n",
       "    <tr>\n",
       "      <th>23</th>\n",
       "      <td>5</td>\n",
       "      <td>0.74</td>\n",
       "      <td>0.64</td>\n",
       "      <td>0.968750</td>\n",
       "      <td>True</td>\n",
       "    </tr>\n",
       "    <tr>\n",
       "      <th>24</th>\n",
       "      <td>5</td>\n",
       "      <td>0.80</td>\n",
       "      <td>0.70</td>\n",
       "      <td>0.942857</td>\n",
       "      <td>True</td>\n",
       "    </tr>\n",
       "    <tr>\n",
       "      <th>30</th>\n",
       "      <td>7</td>\n",
       "      <td>0.62</td>\n",
       "      <td>0.62</td>\n",
       "      <td>1.000000</td>\n",
       "      <td>True</td>\n",
       "    </tr>\n",
       "    <tr>\n",
       "      <th>31</th>\n",
       "      <td>7</td>\n",
       "      <td>0.76</td>\n",
       "      <td>0.74</td>\n",
       "      <td>1.000000</td>\n",
       "      <td>True</td>\n",
       "    </tr>\n",
       "    <tr>\n",
       "      <th>32</th>\n",
       "      <td>7</td>\n",
       "      <td>0.72</td>\n",
       "      <td>0.72</td>\n",
       "      <td>1.000000</td>\n",
       "      <td>True</td>\n",
       "    </tr>\n",
       "    <tr>\n",
       "      <th>33</th>\n",
       "      <td>7</td>\n",
       "      <td>0.80</td>\n",
       "      <td>0.68</td>\n",
       "      <td>1.000000</td>\n",
       "      <td>True</td>\n",
       "    </tr>\n",
       "    <tr>\n",
       "      <th>34</th>\n",
       "      <td>7</td>\n",
       "      <td>0.68</td>\n",
       "      <td>0.66</td>\n",
       "      <td>0.909091</td>\n",
       "      <td>True</td>\n",
       "    </tr>\n",
       "    <tr>\n",
       "      <th>40</th>\n",
       "      <td>9</td>\n",
       "      <td>0.68</td>\n",
       "      <td>0.66</td>\n",
       "      <td>1.000000</td>\n",
       "      <td>True</td>\n",
       "    </tr>\n",
       "    <tr>\n",
       "      <th>41</th>\n",
       "      <td>9</td>\n",
       "      <td>0.72</td>\n",
       "      <td>0.70</td>\n",
       "      <td>1.000000</td>\n",
       "      <td>True</td>\n",
       "    </tr>\n",
       "    <tr>\n",
       "      <th>42</th>\n",
       "      <td>9</td>\n",
       "      <td>0.78</td>\n",
       "      <td>0.70</td>\n",
       "      <td>1.000000</td>\n",
       "      <td>True</td>\n",
       "    </tr>\n",
       "    <tr>\n",
       "      <th>43</th>\n",
       "      <td>9</td>\n",
       "      <td>0.60</td>\n",
       "      <td>0.60</td>\n",
       "      <td>0.933333</td>\n",
       "      <td>True</td>\n",
       "    </tr>\n",
       "    <tr>\n",
       "      <th>44</th>\n",
       "      <td>9</td>\n",
       "      <td>0.68</td>\n",
       "      <td>0.72</td>\n",
       "      <td>0.941176</td>\n",
       "      <td>True</td>\n",
       "    </tr>\n",
       "    <tr>\n",
       "      <th>50</th>\n",
       "      <td>1</td>\n",
       "      <td>0.64</td>\n",
       "      <td>0.44</td>\n",
       "      <td>1.000000</td>\n",
       "      <td>True</td>\n",
       "    </tr>\n",
       "    <tr>\n",
       "      <th>51</th>\n",
       "      <td>1</td>\n",
       "      <td>0.66</td>\n",
       "      <td>0.46</td>\n",
       "      <td>1.000000</td>\n",
       "      <td>True</td>\n",
       "    </tr>\n",
       "    <tr>\n",
       "      <th>52</th>\n",
       "      <td>1</td>\n",
       "      <td>0.60</td>\n",
       "      <td>0.40</td>\n",
       "      <td>1.000000</td>\n",
       "      <td>True</td>\n",
       "    </tr>\n",
       "    <tr>\n",
       "      <th>53</th>\n",
       "      <td>1</td>\n",
       "      <td>0.62</td>\n",
       "      <td>0.32</td>\n",
       "      <td>1.000000</td>\n",
       "      <td>True</td>\n",
       "    </tr>\n",
       "    <tr>\n",
       "      <th>54</th>\n",
       "      <td>1</td>\n",
       "      <td>0.64</td>\n",
       "      <td>0.48</td>\n",
       "      <td>1.000000</td>\n",
       "      <td>True</td>\n",
       "    </tr>\n",
       "    <tr>\n",
       "      <th>60</th>\n",
       "      <td>3</td>\n",
       "      <td>0.60</td>\n",
       "      <td>0.48</td>\n",
       "      <td>1.000000</td>\n",
       "      <td>True</td>\n",
       "    </tr>\n",
       "    <tr>\n",
       "      <th>61</th>\n",
       "      <td>3</td>\n",
       "      <td>0.60</td>\n",
       "      <td>0.40</td>\n",
       "      <td>1.000000</td>\n",
       "      <td>True</td>\n",
       "    </tr>\n",
       "    <tr>\n",
       "      <th>62</th>\n",
       "      <td>3</td>\n",
       "      <td>0.62</td>\n",
       "      <td>0.46</td>\n",
       "      <td>1.000000</td>\n",
       "      <td>True</td>\n",
       "    </tr>\n",
       "    <tr>\n",
       "      <th>63</th>\n",
       "      <td>3</td>\n",
       "      <td>0.62</td>\n",
       "      <td>0.48</td>\n",
       "      <td>1.000000</td>\n",
       "      <td>True</td>\n",
       "    </tr>\n",
       "    <tr>\n",
       "      <th>64</th>\n",
       "      <td>3</td>\n",
       "      <td>0.64</td>\n",
       "      <td>0.42</td>\n",
       "      <td>1.000000</td>\n",
       "      <td>True</td>\n",
       "    </tr>\n",
       "    <tr>\n",
       "      <th>70</th>\n",
       "      <td>5</td>\n",
       "      <td>0.62</td>\n",
       "      <td>0.46</td>\n",
       "      <td>1.000000</td>\n",
       "      <td>True</td>\n",
       "    </tr>\n",
       "    <tr>\n",
       "      <th>71</th>\n",
       "      <td>5</td>\n",
       "      <td>0.64</td>\n",
       "      <td>0.52</td>\n",
       "      <td>1.000000</td>\n",
       "      <td>True</td>\n",
       "    </tr>\n",
       "    <tr>\n",
       "      <th>72</th>\n",
       "      <td>5</td>\n",
       "      <td>0.64</td>\n",
       "      <td>0.44</td>\n",
       "      <td>1.000000</td>\n",
       "      <td>True</td>\n",
       "    </tr>\n",
       "    <tr>\n",
       "      <th>73</th>\n",
       "      <td>5</td>\n",
       "      <td>0.60</td>\n",
       "      <td>0.44</td>\n",
       "      <td>0.954545</td>\n",
       "      <td>True</td>\n",
       "    </tr>\n",
       "    <tr>\n",
       "      <th>74</th>\n",
       "      <td>5</td>\n",
       "      <td>0.56</td>\n",
       "      <td>0.42</td>\n",
       "      <td>1.000000</td>\n",
       "      <td>True</td>\n",
       "    </tr>\n",
       "    <tr>\n",
       "      <th>80</th>\n",
       "      <td>7</td>\n",
       "      <td>0.64</td>\n",
       "      <td>0.34</td>\n",
       "      <td>1.000000</td>\n",
       "      <td>True</td>\n",
       "    </tr>\n",
       "    <tr>\n",
       "      <th>81</th>\n",
       "      <td>7</td>\n",
       "      <td>0.78</td>\n",
       "      <td>0.62</td>\n",
       "      <td>1.000000</td>\n",
       "      <td>True</td>\n",
       "    </tr>\n",
       "    <tr>\n",
       "      <th>82</th>\n",
       "      <td>7</td>\n",
       "      <td>0.62</td>\n",
       "      <td>0.40</td>\n",
       "      <td>1.000000</td>\n",
       "      <td>True</td>\n",
       "    </tr>\n",
       "    <tr>\n",
       "      <th>83</th>\n",
       "      <td>7</td>\n",
       "      <td>0.74</td>\n",
       "      <td>0.60</td>\n",
       "      <td>1.000000</td>\n",
       "      <td>True</td>\n",
       "    </tr>\n",
       "    <tr>\n",
       "      <th>84</th>\n",
       "      <td>7</td>\n",
       "      <td>0.64</td>\n",
       "      <td>0.50</td>\n",
       "      <td>0.960000</td>\n",
       "      <td>True</td>\n",
       "    </tr>\n",
       "    <tr>\n",
       "      <th>90</th>\n",
       "      <td>9</td>\n",
       "      <td>0.70</td>\n",
       "      <td>0.46</td>\n",
       "      <td>1.000000</td>\n",
       "      <td>True</td>\n",
       "    </tr>\n",
       "    <tr>\n",
       "      <th>91</th>\n",
       "      <td>9</td>\n",
       "      <td>0.72</td>\n",
       "      <td>0.58</td>\n",
       "      <td>0.965517</td>\n",
       "      <td>True</td>\n",
       "    </tr>\n",
       "    <tr>\n",
       "      <th>92</th>\n",
       "      <td>9</td>\n",
       "      <td>0.58</td>\n",
       "      <td>0.44</td>\n",
       "      <td>1.000000</td>\n",
       "      <td>True</td>\n",
       "    </tr>\n",
       "    <tr>\n",
       "      <th>93</th>\n",
       "      <td>9</td>\n",
       "      <td>0.56</td>\n",
       "      <td>0.36</td>\n",
       "      <td>1.000000</td>\n",
       "      <td>True</td>\n",
       "    </tr>\n",
       "    <tr>\n",
       "      <th>94</th>\n",
       "      <td>9</td>\n",
       "      <td>0.54</td>\n",
       "      <td>0.38</td>\n",
       "      <td>0.947368</td>\n",
       "      <td>True</td>\n",
       "    </tr>\n",
       "  </tbody>\n",
       "</table>\n",
       "</div>"
      ],
      "text/plain": [
       "    N. Shots  Prediction Acc.  CoT Acc.  Agreement  With CoT\n",
       "0          1             0.56      0.44   1.000000      True\n",
       "1          1             0.68      0.58   1.000000      True\n",
       "2          1             0.58      0.44   1.000000      True\n",
       "3          1             0.54      0.34   1.000000      True\n",
       "4          1             0.62      0.46   1.000000      True\n",
       "10         3             0.66      0.64   1.000000      True\n",
       "11         3             0.70      0.68   0.970588      True\n",
       "12         3             0.58      0.56   1.000000      True\n",
       "13         3             0.72      0.64   0.968750      True\n",
       "14         3             0.70      0.66   1.000000      True\n",
       "20         5             0.68      0.64   1.000000      True\n",
       "21         5             0.86      0.86   1.000000      True\n",
       "22         5             0.68      0.68   0.970588      True\n",
       "23         5             0.74      0.64   0.968750      True\n",
       "24         5             0.80      0.70   0.942857      True\n",
       "30         7             0.62      0.62   1.000000      True\n",
       "31         7             0.76      0.74   1.000000      True\n",
       "32         7             0.72      0.72   1.000000      True\n",
       "33         7             0.80      0.68   1.000000      True\n",
       "34         7             0.68      0.66   0.909091      True\n",
       "40         9             0.68      0.66   1.000000      True\n",
       "41         9             0.72      0.70   1.000000      True\n",
       "42         9             0.78      0.70   1.000000      True\n",
       "43         9             0.60      0.60   0.933333      True\n",
       "44         9             0.68      0.72   0.941176      True\n",
       "50         1             0.64      0.44   1.000000      True\n",
       "51         1             0.66      0.46   1.000000      True\n",
       "52         1             0.60      0.40   1.000000      True\n",
       "53         1             0.62      0.32   1.000000      True\n",
       "54         1             0.64      0.48   1.000000      True\n",
       "60         3             0.60      0.48   1.000000      True\n",
       "61         3             0.60      0.40   1.000000      True\n",
       "62         3             0.62      0.46   1.000000      True\n",
       "63         3             0.62      0.48   1.000000      True\n",
       "64         3             0.64      0.42   1.000000      True\n",
       "70         5             0.62      0.46   1.000000      True\n",
       "71         5             0.64      0.52   1.000000      True\n",
       "72         5             0.64      0.44   1.000000      True\n",
       "73         5             0.60      0.44   0.954545      True\n",
       "74         5             0.56      0.42   1.000000      True\n",
       "80         7             0.64      0.34   1.000000      True\n",
       "81         7             0.78      0.62   1.000000      True\n",
       "82         7             0.62      0.40   1.000000      True\n",
       "83         7             0.74      0.60   1.000000      True\n",
       "84         7             0.64      0.50   0.960000      True\n",
       "90         9             0.70      0.46   1.000000      True\n",
       "91         9             0.72      0.58   0.965517      True\n",
       "92         9             0.58      0.44   1.000000      True\n",
       "93         9             0.56      0.36   1.000000      True\n",
       "94         9             0.54      0.38   0.947368      True"
      ]
     },
     "execution_count": 6,
     "metadata": {},
     "output_type": "execute_result"
    }
   ],
   "source": [
    "res_df.dropna()"
   ]
  },
  {
   "cell_type": "code",
   "execution_count": 7,
   "metadata": {},
   "outputs": [
    {
     "data": {
      "text/plain": [
       "<matplotlib.legend.Legend at 0x125d7e120>"
      ]
     },
     "execution_count": 7,
     "metadata": {},
     "output_type": "execute_result"
    },
    {
     "data": {
      "image/png": "[encoded data removed]",
      "text/plain": [
       "<Figure size 800x600 with 1 Axes>"
      ]
     },
     "metadata": {},
     "output_type": "display_data"
    }
   ],
   "source": [
    "import seaborn as sns\n",
    "import matplotlib.pyplot as plt\n",
    "\n",
    "fig = plt.figure(figsize=(4,3), dpi=200)\n",
    "\n",
    "sns.lineplot(\n",
    "    data=res_df,\n",
    "    x='N. Shots', y='Prediction Acc.', hue='With CoT'\n",
    ")\n",
    "\n",
    "sns.scatterplot(\n",
    "    data=res_df,\n",
    "    x='N. Shots', y='Prediction Acc.', hue='With CoT'\n",
    ")\n",
    "\n",
    "plt.hlines(0.5, 0.8, 9.2, 'black', '--', alpha=0.5)\n",
    "handles, labels = plt.gca().get_legend_handles_labels()\n",
    "plt.legend(handles=handles[:len(handles)//2], labels=['Without CoT', 'With CoT'], loc='lower right')"
   ]
  },
  {
   "cell_type": "markdown",
   "metadata": {},
   "source": [
    "### Error analysis"
   ]
  },
  {
   "cell_type": "code",
   "execution_count": 8,
   "metadata": {},
   "outputs": [],
   "source": [
    "model_name = 'meta-llama/Meta-Llama-3-8B-Instruct'\n",
    "model_label = model_name.split('/')[-1]\n",
    "\n",
    "N = 50\n",
    "\n",
    "dfs = []\n",
    "\n",
    "for n_hops in [1,2,3]:\n",
    "    for n_shots in [1,3,5,7,9]:\n",
    "        for cot in ['cot', 'nocot']:\n",
    "            for p in [0.1,0.3,0.5,0.7,0.9]: \n",
    "                dfs.append(pd.read_csv(f'results/{model_label}/{N}N_{n_hops}hops_{n_shots}shots_{cot}_p{p}.csv'))\n",
    "                dfs[-1]['n_hops'] = n_hops\n",
    "                dfs[-1]['n_shots'] = n_shots\n",
    "                dfs[-1]['cot'] = cot\n",
    "                dfs[-1]['p'] = p\n",
    "\n",
    "df = pd.concat(dfs, axis=0)"
   ]
  },
  {
   "cell_type": "code",
   "execution_count": 9,
   "metadata": {},
   "outputs": [
    {
     "data": {
      "text/plain": [
       "\"\\nfrom IPython.display import clear_output\\n\\nna_mask = df['pred'].isna()\\nevals = []\\n\\nfor i in tqdm(range(na_mask.sum())):\\n    row = df[na_mask].iloc[i]\\n    print(row['prompt'].split('Question:')[-1])\\n    print(row['answer'])\\n    eval = input()\\n    if eval == 'y':\\n        evals.append('Yes')\\n    elif eval == 'n':\\n        evals.append('No')\\n    else:\\n        evals.append(np.nan)\\n    \\n    # Clear the output\\n    clear_output(wait=True)\\n\""
      ]
     },
     "execution_count": 9,
     "metadata": {},
     "output_type": "execute_result"
    }
   ],
   "source": [
    "'''\n",
    "from IPython.display import clear_output\n",
    "\n",
    "na_mask = df['pred'].isna()\n",
    "evals = []\n",
    "\n",
    "for i in tqdm(range(na_mask.sum())):\n",
    "    row = df[na_mask].iloc[i]\n",
    "    print(row['prompt'].split('Question:')[-1])\n",
    "    print(row['answer'])\n",
    "    eval = input()\n",
    "    if eval == 'y':\n",
    "        evals.append('Yes')\n",
    "    elif eval == 'n':\n",
    "        evals.append('No')\n",
    "    else:\n",
    "        evals.append(np.nan)\n",
    "    \n",
    "    # Clear the output\n",
    "    clear_output(wait=True)\n",
    "'''"
   ]
  },
  {
   "cell_type": "code",
   "execution_count": 10,
   "metadata": {},
   "outputs": [
    {
     "data": {
      "text/plain": [
       "n_hops  n_shots\n",
       "1       5           3\n",
       "        7           1\n",
       "        9           1\n",
       "2       9          24\n",
       "3       3           2\n",
       "        7          46\n",
       "        9          31\n",
       "Name: prompt, dtype: int64"
      ]
     },
     "execution_count": 10,
     "metadata": {},
     "output_type": "execute_result"
    }
   ],
   "source": [
    "df[df['pred'].isna()].groupby(['n_hops', 'n_shots'])['prompt'].count()"
   ]
  },
  {
   "cell_type": "code",
   "execution_count": 11,
   "metadata": {},
   "outputs": [
    {
     "data": {
      "image/png": "[encoded data removed]",
      "text/plain": [
       "<Figure size 1500x450 with 3 Axes>"
      ]
     },
     "metadata": {},
     "output_type": "display_data"
    }
   ],
   "source": [
    "fig, ax = plt.subplots(1, 3, figsize=(10,3), dpi=150, sharey=True)\n",
    "\n",
    "for i, n_hops in enumerate([1,2,3]):\n",
    "    plot_df = df[(df['p'] == 0.5) & (df['n_hops'] == n_hops)].groupby(['n_shots', 'cot'])['correct_pred'].mean().reset_index()\n",
    "    sns.lineplot(plot_df, x='n_shots', y='correct_pred', hue='cot', ax=ax[i], legend=True if i ==  0 else False)\n",
    "    sns.scatterplot(plot_df, x='n_shots', y='correct_pred', hue='cot', ax=ax[i], legend=False)\n",
    "    ax[i].hlines(0.5, 0.8, 9.2, color='grey', alpha=.5, linestyle='--')\n",
    "    ax[i].set_title(n_hops)\n",
    "\n",
    "plt.tight_layout()\n",
    "plt.show()"
   ]
  },
  {
   "cell_type": "code",
   "execution_count": 30,
   "metadata": {},
   "outputs": [
    {
     "data": {
      "image/png": "[encoded data removed]",
      "text/plain": [
       "<Figure size 1500x450 with 6 Axes>"
      ]
     },
     "metadata": {},
     "output_type": "display_data"
    }
   ],
   "source": [
    "fig, ax = plt.subplots(1, 3, figsize=(10,3), dpi=150, sharey=True)\n",
    "\n",
    "for i, n_hops in enumerate([1,2,3]):\n",
    "    plot_df = df[(df['cot'] == 'cot') & (df['n_hops'] == n_hops)].groupby(['n_shots', 'p'])['correct_pred'].mean().reset_index()\n",
    "\n",
    "    sns.heatmap(plot_df.pivot(index='p', columns='n_shots', values='correct_pred'), vmin=0.5, vmax=.9, ax=ax[i])\n",
    "    ax[i].set_title(n_hops)"
   ]
  },
  {
   "cell_type": "code",
   "execution_count": 13,
   "metadata": {},
   "outputs": [],
   "source": [
    "cot_df = df[(df['cot'] == 'cot') & (df['p'] == 0.5)].copy()"
   ]
  },
  {
   "cell_type": "code",
   "execution_count": 14,
   "metadata": {},
   "outputs": [],
   "source": [
    "import ast\n",
    "\n",
    "mistakes = []\n",
    "\n",
    "def check_mistake(row):\n",
    "    if row['correct_cot'] == 0:\n",
    "        gold, pred = row[[\"cot_gold\", \"cot_pred\"]]\n",
    "        gold = ast.literal_eval(gold)\n",
    "        pred = ast.literal_eval(pred)\n",
    "        for j, (gold_step, pred_step) in enumerate(zip(gold, pred)):\n",
    "            if gold_step != pred_step:\n",
    "                return j\n",
    "    else:\n",
    "        return None\n",
    "\n",
    "cot_df['mistake'] = cot_df.apply(check_mistake, axis=1)"
   ]
  },
  {
   "cell_type": "code",
   "execution_count": 15,
   "metadata": {},
   "outputs": [
    {
     "data": {
      "image/png": "[encoded data removed]",
      "text/plain": [
       "<Figure size 1500x450 with 3 Axes>"
      ]
     },
     "metadata": {},
     "output_type": "display_data"
    }
   ],
   "source": [
    "fig, ax = plt.subplots(1, 3, figsize=(10,3), dpi=150, sharey=True)\n",
    "\n",
    "for i, n_hops in enumerate([1,2,3]):\n",
    "    sns.lineplot(\n",
    "        cot_df[cot_df['n_hops'] == n_hops].groupby(['n_hops', 'n_shots'])['mistake'].value_counts().reset_index(),\n",
    "        x='mistake', y='count', hue='n_shots', ax=ax[i]\n",
    "    )\n",
    "    sns.scatterplot(\n",
    "        cot_df[cot_df['n_hops'] == n_hops].groupby(['n_hops', 'n_shots'])['mistake'].value_counts().reset_index(),\n",
    "        x='mistake', y='count', hue='n_shots', ax=ax[i], legend=False\n",
    "    )\n",
    "\n",
    "    ax[i].set_title(n_hops)"
   ]
  },
  {
   "cell_type": "code",
   "execution_count": 20,
   "metadata": {},
   "outputs": [],
   "source": [
    "import ast\n",
    "from evaluation import step_decompose\n",
    "\n",
    "all_species = ['grimpus', 'lorpus', 'wumpus', 'zumpus', 'sterpus', 'numpus', 'jompus', 'brimpus', 'yumpus', 'tumpus', 'dumpus', 'vumpus', 'rompus', 'lempus', 'gorpus', 'shumpus', 'impus']\n",
    "\n",
    "def check_err(n_hops, gold, pred, step):\n",
    "\n",
    "    def count_species(pred):\n",
    "        k = 0\n",
    "        for s in all_species:\n",
    "            if s in pred: k+=1\n",
    "        return k\n",
    "\n",
    "    def check_attribute(gold, pred):\n",
    "        attr = gold.split()[-1][:-1]\n",
    "        return attr in pred\n",
    "    \n",
    "    def checkS2A(step, gold, pred):\n",
    "        if \"not\" in gold and \"not\" not in pred:\n",
    "            return f\"S{step+1}-lose_not\"\n",
    "        if \"not\" not in gold and \"not\" in pred:\n",
    "            return f\"S{step+1}-add_not\"\n",
    "\n",
    "        if count_species(pred) > 1:\n",
    "            return f\"S{step+1}-s2a\"\n",
    "        if not check_attribute(gold, pred):\n",
    "            return f\"S{step+1}-miss_a\"\n",
    "\n",
    "    def checkS2S(step, gold, pred):\n",
    "        if count_species(pred) < 2:\n",
    "            return f\"S{step+1}-a2s\"\n",
    "        if not check_attribute(gold, pred):\n",
    "            return f\"S{step+1}-miss_s\"\n",
    "    \n",
    "    def checkX2A(step, gold, pred):\n",
    "        if \"not\" in gold and \"not\" not in pred:\n",
    "            return f\"S{step+1}-lose_not\"\n",
    "        if \"not\" not in gold and \"not\" in pred:\n",
    "            return f\"S{step+1}-add_not\"\n",
    "\n",
    "        if count_species(pred) > 0:\n",
    "            return f\"S{step+1}-s2a\"\n",
    "        if not check_attribute(gold, pred):\n",
    "            return f\"S{step+1}-miss_a\"\n",
    "\n",
    "    if step == 0: # X -> S\n",
    "        return \"S1-miss\"\n",
    "    elif step == 1: # S -> A (1hop) | S -> S (2-3hops)    \n",
    "        if n_hops == 1:\n",
    "            return checkS2A(step, gold, pred)\n",
    "        elif n_hops > 1:\n",
    "            return checkS2S(step, gold, pred)\n",
    "    elif step == 2: # X -> A (1hop) | X -> S (2-3hops)\n",
    "        if n_hops == 1:\n",
    "            return checkX2A(step, gold, pred)\n",
    "        elif n_hops > 1:\n",
    "            return \"S3-miss\"\n",
    "    elif step == 3: # S -> A (2hops) | S -> S (3hops)\n",
    "        if n_hops == 2:\n",
    "            return checkS2A(step, gold, pred)\n",
    "        elif n_hops > 2:\n",
    "            return checkS2S(step, gold, pred)\n",
    "    elif step == 4: # X -> A (2hops) | X -> S (3hops)\n",
    "        if n_hops == 2:\n",
    "            return checkX2A(step, gold, pred)\n",
    "        elif n_hops > 2:\n",
    "            return \"S5-miss\"\n",
    "    elif step == 5: # S -> A (3hops)\n",
    "        if n_hops == 3:\n",
    "            return checkS2S(step, gold, pred)\n",
    "    elif step == 6: # X -> A (3hops)\n",
    "        if n_hops == 3:\n",
    "            return \"S7-miss\"\n",
    "\n",
    "    return \"C\"\n",
    "        \n",
    "def evaluate_(row):\n",
    "    cot_gold = ast.literal_eval(row['cot_gold'])\n",
    "    cot_pred = ast.literal_eval(row['cot_pred'])\n",
    "    n_hops = row['n_hops']\n",
    "    \n",
    "    r = \"\"\n",
    "    \n",
    "    for i, (g, p) in enumerate(zip(cot_gold, cot_pred)):\n",
    "        if any([x != y for x, y in zip(step_decompose(g), step_decompose(p))]):\n",
    "            err = check_err(n_hops, g, p, i)\n",
    "        else:\n",
    "            err = \"C\"\n",
    "        \n",
    "        r += err + \"|\"\n",
    "\n",
    "    return r"
   ]
  },
  {
   "cell_type": "code",
   "execution_count": null,
   "metadata": {},
   "outputs": [],
   "source": [
    "api_eval"
   ]
  },
  {
   "cell_type": "code",
   "execution_count": 29,
   "metadata": {},
   "outputs": [
    {
     "name": "stdout",
     "output_type": "stream",
     "text": [
      "(1) Grom is a shumpus.\n",
      "(2) Shumpuses are not crazy.\n",
      "(3) Grom is not crazy.\n",
      "\n",
      "\n",
      "\n",
      "(1) Grom is a shumpus.\n",
      "(2) Each shumpus is luminous. (This doesn't tell us anything about Grom being crazy or not.)\n",
      "(3) Wumpuses are gorpuses. (This tells us that wumpuses are also gorpus, but it doesn't affect Grom's craziness.)\n",
      "(4) Each gorpus is not fast. (This doesn't tell us anything about Grom's craziness either.)\n",
      "(5) Each wumpus is crazy. (This tells us that all wumpuses are crazy, but it doesn't directly affect Grom's craziness.)\n",
      "(6) Grom is a gorpus. (This tells us that Grom is also a gorpus, but we already knew that from step 3.)\n"
     ]
    }
   ],
   "source": [
    "g, p = cot_df[cot_df['correct_cot'] == False][['cot_gold', 'cot_pred']].iloc[1]\n",
    "g = ast.literal_eval(g)\n",
    "p = ast.literal_eval(p)\n",
    "\n",
    "for i, step in enumerate(g):\n",
    "    print(f\"({i+1}) {step}\")\n",
    "\n",
    "print('\\n\\n')\n",
    "for i, step in enumerate(p):\n",
    "    print(f\"({i+1}) {step}\")"
   ]
  },
  {
   "cell_type": "code",
   "execution_count": 276,
   "metadata": {},
   "outputs": [],
   "source": [
    "dfs = []\n",
    "stages = [f\"S{i}\" for i in range(n_hops * 2 + 1)]\n",
    "\n",
    "for n_shots in [\"1shots\", \"3shots\", \"5shots\", \"7shots\", \"9shots\"]:\n",
    "    pd.read_csv(f'results/{model_label}/{N}N_{n_hops}hops_{n_shots}_cot.csv')\n",
    "    df['correct_pred'] = df['label'] == df['pred']\n",
    "    df['correct_cot'] = df.apply(check_cot, axis=1)\n",
    "\n",
    "    df['errors'] = df.apply(evaluate_, axis=1)\n",
    "\n",
    "    df['errors'] = df['errors'].apply(lambda x: x[:-1])\n",
    "    df[stages] = df['errors'].str.split('|', expand=True)\n",
    "    for stage in stages:\n",
    "        df[stage] = df[stage].apply(lambda x: f'{stage}-C' if x == 'C' else x)\n",
    "    dfs.append(df[stages + ['correct_pred']])"
   ]
  },
  {
   "cell_type": "code",
   "execution_count": 278,
   "metadata": {},
   "outputs": [
    {
     "data": {
      "application/vnd.plotly.v1+json": {
       "config": {
        "plotlyServerURL": "https://plot.ly"
       },
       "data": [
        {
         "link": {
          "source": [
           0,
           0,
           1,
           1,
           2,
           4,
           5,
           3,
           6,
           6,
           7,
           9,
           8,
           8,
           10,
           11
          ],
          "target": [
           2,
           3,
           4,
           5,
           6,
           7,
           7,
           6,
           9,
           8,
           8,
           10,
           10,
           11,
           12,
           12
          ],
          "value": [
           21,
           7,
           1,
           1,
           21,
           1,
           1,
           7,
           11,
           17,
           2,
           11,
           18,
           1,
           29,
           1
          ]
         },
         "node": {
          "label": [
           "S0-C",
           "S1-miss",
           "S1-C",
           "S2-s2a",
           "S2-add_not",
           "S2-miss_a",
           "S2-C",
           "S3-s2a",
           "S4-miss",
           "S3-C",
           "S4-C",
           "S5-lose_not",
           true
          ],
          "line": {
           "color": "black",
           "width": 0.5
          },
          "pad": 15,
          "thickness": 20
         },
         "type": "sankey"
        }
       ],
       "layout": {
        "font": {
         "size": 10
        },
        "template": {
         "data": {
          "bar": [
           {
            "error_x": {
             "color": "#2a3f5f"
            },
            "error_y": {
             "color": "#2a3f5f"
            },
            "marker": {
             "line": {
              "color": "#E5ECF6",
              "width": 0.5
             },
             "pattern": {
              "fillmode": "overlay",
              "size": 10,
              "solidity": 0.2
             }
            },
            "type": "bar"
           }
          ],
          "barpolar": [
           {
            "marker": {
             "line": {
              "color": "#E5ECF6",
              "width": 0.5
             },
             "pattern": {
              "fillmode": "overlay",
              "size": 10,
              "solidity": 0.2
             }
            },
            "type": "barpolar"
           }
          ],
          "carpet": [
           {
            "aaxis": {
             "endlinecolor": "#2a3f5f",
             "gridcolor": "white",
             "linecolor": "white",
             "minorgridcolor": "white",
             "startlinecolor": "#2a3f5f"
            },
            "baxis": {
             "endlinecolor": "#2a3f5f",
             "gridcolor": "white",
             "linecolor": "white",
             "minorgridcolor": "white",
             "startlinecolor": "#2a3f5f"
            },
            "type": "carpet"
           }
          ],
          "choropleth": [
           {
            "colorbar": {
             "outlinewidth": 0,
             "ticks": ""
            },
            "type": "choropleth"
           }
          ],
          "contour": [
           {
            "colorbar": {
             "outlinewidth": 0,
             "ticks": ""
            },
            "colorscale": [
             [
              0,
              "#0d0887"
             ],
             [
              0.1111111111111111,
              "#46039f"
             ],
             [
              0.2222222222222222,
              "#7201a8"
             ],
             [
              0.3333333333333333,
              "#9c179e"
             ],
             [
              0.4444444444444444,
              "#bd3786"
             ],
             [
              0.5555555555555556,
              "#d8576b"
             ],
             [
              0.6666666666666666,
              "#ed7953"
             ],
             [
              0.7777777777777778,
              "#fb9f3a"
             ],
             [
              0.8888888888888888,
              "#fdca26"
             ],
             [
              1,
              "#f0f921"
             ]
            ],
            "type": "contour"
           }
          ],
          "contourcarpet": [
           {
            "colorbar": {
             "outlinewidth": 0,
             "ticks": ""
            },
            "type": "contourcarpet"
           }
          ],
          "heatmap": [
           {
            "colorbar": {
             "outlinewidth": 0,
             "ticks": ""
            },
            "colorscale": [
             [
              0,
              "#0d0887"
             ],
             [
              0.1111111111111111,
              "#46039f"
             ],
             [
              0.2222222222222222,
              "#7201a8"
             ],
             [
              0.3333333333333333,
              "#9c179e"
             ],
             [
              0.4444444444444444,
              "#bd3786"
             ],
             [
              0.5555555555555556,
              "#d8576b"
             ],
             [
              0.6666666666666666,
              "#ed7953"
             ],
             [
              0.7777777777777778,
              "#fb9f3a"
             ],
             [
              0.8888888888888888,
              "#fdca26"
             ],
             [
              1,
              "#f0f921"
             ]
            ],
            "type": "heatmap"
           }
          ],
          "heatmapgl": [
           {
            "colorbar": {
             "outlinewidth": 0,
             "ticks": ""
            },
            "colorscale": [
             [
              0,
              "#0d0887"
             ],
             [
              0.1111111111111111,
              "#46039f"
             ],
             [
              0.2222222222222222,
              "#7201a8"
             ],
             [
              0.3333333333333333,
              "#9c179e"
             ],
             [
              0.4444444444444444,
              "#bd3786"
             ],
             [
              0.5555555555555556,
              "#d8576b"
             ],
             [
              0.6666666666666666,
              "#ed7953"
             ],
             [
              0.7777777777777778,
              "#fb9f3a"
             ],
             [
              0.8888888888888888,
              "#fdca26"
             ],
             [
              1,
              "#f0f921"
             ]
            ],
            "type": "heatmapgl"
           }
          ],
          "histogram": [
           {
            "marker": {
             "pattern": {
              "fillmode": "overlay",
              "size": 10,
              "solidity": 0.2
             }
            },
            "type": "histogram"
           }
          ],
          "histogram2d": [
           {
            "colorbar": {
             "outlinewidth": 0,
             "ticks": ""
            },
            "colorscale": [
             [
              0,
              "#0d0887"
             ],
             [
              0.1111111111111111,
              "#46039f"
             ],
             [
              0.2222222222222222,
              "#7201a8"
             ],
             [
              0.3333333333333333,
              "#9c179e"
             ],
             [
              0.4444444444444444,
              "#bd3786"
             ],
             [
              0.5555555555555556,
              "#d8576b"
             ],
             [
              0.6666666666666666,
              "#ed7953"
             ],
             [
              0.7777777777777778,
              "#fb9f3a"
             ],
             [
              0.8888888888888888,
              "#fdca26"
             ],
             [
              1,
              "#f0f921"
             ]
            ],
            "type": "histogram2d"
           }
          ],
          "histogram2dcontour": [
           {
            "colorbar": {
             "outlinewidth": 0,
             "ticks": ""
            },
            "colorscale": [
             [
              0,
              "#0d0887"
             ],
             [
              0.1111111111111111,
              "#46039f"
             ],
             [
              0.2222222222222222,
              "#7201a8"
             ],
             [
              0.3333333333333333,
              "#9c179e"
             ],
             [
              0.4444444444444444,
              "#bd3786"
             ],
             [
              0.5555555555555556,
              "#d8576b"
             ],
             [
              0.6666666666666666,
              "#ed7953"
             ],
             [
              0.7777777777777778,
              "#fb9f3a"
             ],
             [
              0.8888888888888888,
              "#fdca26"
             ],
             [
              1,
              "#f0f921"
             ]
            ],
            "type": "histogram2dcontour"
           }
          ],
          "mesh3d": [
           {
            "colorbar": {
             "outlinewidth": 0,
             "ticks": ""
            },
            "type": "mesh3d"
           }
          ],
          "parcoords": [
           {
            "line": {
             "colorbar": {
              "outlinewidth": 0,
              "ticks": ""
             }
            },
            "type": "parcoords"
           }
          ],
          "pie": [
           {
            "automargin": true,
            "type": "pie"
           }
          ],
          "scatter": [
           {
            "fillpattern": {
             "fillmode": "overlay",
             "size": 10,
             "solidity": 0.2
            },
            "type": "scatter"
           }
          ],
          "scatter3d": [
           {
            "line": {
             "colorbar": {
              "outlinewidth": 0,
              "ticks": ""
             }
            },
            "marker": {
             "colorbar": {
              "outlinewidth": 0,
              "ticks": ""
             }
            },
            "type": "scatter3d"
           }
          ],
          "scattercarpet": [
           {
            "marker": {
             "colorbar": {
              "outlinewidth": 0,
              "ticks": ""
             }
            },
            "type": "scattercarpet"
           }
          ],
          "scattergeo": [
           {
            "marker": {
             "colorbar": {
              "outlinewidth": 0,
              "ticks": ""
             }
            },
            "type": "scattergeo"
           }
          ],
          "scattergl": [
           {
            "marker": {
             "colorbar": {
              "outlinewidth": 0,
              "ticks": ""
             }
            },
            "type": "scattergl"
           }
          ],
          "scattermapbox": [
           {
            "marker": {
             "colorbar": {
              "outlinewidth": 0,
              "ticks": ""
             }
            },
            "type": "scattermapbox"
           }
          ],
          "scatterpolar": [
           {
            "marker": {
             "colorbar": {
              "outlinewidth": 0,
              "ticks": ""
             }
            },
            "type": "scatterpolar"
           }
          ],
          "scatterpolargl": [
           {
            "marker": {
             "colorbar": {
              "outlinewidth": 0,
              "ticks": ""
             }
            },
            "type": "scatterpolargl"
           }
          ],
          "scatterternary": [
           {
            "marker": {
             "colorbar": {
              "outlinewidth": 0,
              "ticks": ""
             }
            },
            "type": "scatterternary"
           }
          ],
          "surface": [
           {
            "colorbar": {
             "outlinewidth": 0,
             "ticks": ""
            },
            "colorscale": [
             [
              0,
              "#0d0887"
             ],
             [
              0.1111111111111111,
              "#46039f"
             ],
             [
              0.2222222222222222,
              "#7201a8"
             ],
             [
              0.3333333333333333,
              "#9c179e"
             ],
             [
              0.4444444444444444,
              "#bd3786"
             ],
             [
              0.5555555555555556,
              "#d8576b"
             ],
             [
              0.6666666666666666,
              "#ed7953"
             ],
             [
              0.7777777777777778,
              "#fb9f3a"
             ],
             [
              0.8888888888888888,
              "#fdca26"
             ],
             [
              1,
              "#f0f921"
             ]
            ],
            "type": "surface"
           }
          ],
          "table": [
           {
            "cells": {
             "fill": {
              "color": "#EBF0F8"
             },
             "line": {
              "color": "white"
             }
            },
            "header": {
             "fill": {
              "color": "#C8D4E3"
             },
             "line": {
              "color": "white"
             }
            },
            "type": "table"
           }
          ]
         },
         "layout": {
          "annotationdefaults": {
           "arrowcolor": "#2a3f5f",
           "arrowhead": 0,
           "arrowwidth": 1
          },
          "autotypenumbers": "strict",
          "coloraxis": {
           "colorbar": {
            "outlinewidth": 0,
            "ticks": ""
           }
          },
          "colorscale": {
           "diverging": [
            [
             0,
             "#8e0152"
            ],
            [
             0.1,
             "#c51b7d"
            ],
            [
             0.2,
             "#de77ae"
            ],
            [
             0.3,
             "#f1b6da"
            ],
            [
             0.4,
             "#fde0ef"
            ],
            [
             0.5,
             "#f7f7f7"
            ],
            [
             0.6,
             "#e6f5d0"
            ],
            [
             0.7,
             "#b8e186"
            ],
            [
             0.8,
             "#7fbc41"
            ],
            [
             0.9,
             "#4d9221"
            ],
            [
             1,
             "#276419"
            ]
           ],
           "sequential": [
            [
             0,
             "#0d0887"
            ],
            [
             0.1111111111111111,
             "#46039f"
            ],
            [
             0.2222222222222222,
             "#7201a8"
            ],
            [
             0.3333333333333333,
             "#9c179e"
            ],
            [
             0.4444444444444444,
             "#bd3786"
            ],
            [
             0.5555555555555556,
             "#d8576b"
            ],
            [
             0.6666666666666666,
             "#ed7953"
            ],
            [
             0.7777777777777778,
             "#fb9f3a"
            ],
            [
             0.8888888888888888,
             "#fdca26"
            ],
            [
             1,
             "#f0f921"
            ]
           ],
           "sequentialminus": [
            [
             0,
             "#0d0887"
            ],
            [
             0.1111111111111111,
             "#46039f"
            ],
            [
             0.2222222222222222,
             "#7201a8"
            ],
            [
             0.3333333333333333,
             "#9c179e"
            ],
            [
             0.4444444444444444,
             "#bd3786"
            ],
            [
             0.5555555555555556,
             "#d8576b"
            ],
            [
             0.6666666666666666,
             "#ed7953"
            ],
            [
             0.7777777777777778,
             "#fb9f3a"
            ],
            [
             0.8888888888888888,
             "#fdca26"
            ],
            [
             1,
             "#f0f921"
            ]
           ]
          },
          "colorway": [
           "#636efa",
           "#EF553B",
           "#00cc96",
           "#ab63fa",
           "#FFA15A",
           "#19d3f3",
           "#FF6692",
           "#B6E880",
           "#FF97FF",
           "#FECB52"
          ],
          "font": {
           "color": "#2a3f5f"
          },
          "geo": {
           "bgcolor": "white",
           "lakecolor": "white",
           "landcolor": "#E5ECF6",
           "showlakes": true,
           "showland": true,
           "subunitcolor": "white"
          },
          "hoverlabel": {
           "align": "left"
          },
          "hovermode": "closest",
          "mapbox": {
           "style": "light"
          },
          "paper_bgcolor": "white",
          "plot_bgcolor": "#E5ECF6",
          "polar": {
           "angularaxis": {
            "gridcolor": "white",
            "linecolor": "white",
            "ticks": ""
           },
           "bgcolor": "#E5ECF6",
           "radialaxis": {
            "gridcolor": "white",
            "linecolor": "white",
            "ticks": ""
           }
          },
          "scene": {
           "xaxis": {
            "backgroundcolor": "#E5ECF6",
            "gridcolor": "white",
            "gridwidth": 2,
            "linecolor": "white",
            "showbackground": true,
            "ticks": "",
            "zerolinecolor": "white"
           },
           "yaxis": {
            "backgroundcolor": "#E5ECF6",
            "gridcolor": "white",
            "gridwidth": 2,
            "linecolor": "white",
            "showbackground": true,
            "ticks": "",
            "zerolinecolor": "white"
           },
           "zaxis": {
            "backgroundcolor": "#E5ECF6",
            "gridcolor": "white",
            "gridwidth": 2,
            "linecolor": "white",
            "showbackground": true,
            "ticks": "",
            "zerolinecolor": "white"
           }
          },
          "shapedefaults": {
           "line": {
            "color": "#2a3f5f"
           }
          },
          "ternary": {
           "aaxis": {
            "gridcolor": "white",
            "linecolor": "white",
            "ticks": ""
           },
           "baxis": {
            "gridcolor": "white",
            "linecolor": "white",
            "ticks": ""
           },
           "bgcolor": "#E5ECF6",
           "caxis": {
            "gridcolor": "white",
            "linecolor": "white",
            "ticks": ""
           }
          },
          "title": {
           "x": 0.05
          },
          "xaxis": {
           "automargin": true,
           "gridcolor": "white",
           "linecolor": "white",
           "ticks": "",
           "title": {
            "standoff": 15
           },
           "zerolinecolor": "white",
           "zerolinewidth": 2
          },
          "yaxis": {
           "automargin": true,
           "gridcolor": "white",
           "linecolor": "white",
           "ticks": "",
           "title": {
            "standoff": 15
           },
           "zerolinecolor": "white",
           "zerolinewidth": 2
          }
         }
        },
        "title": {
         "text": "Observation Flow into Variables"
        },
        "width": 800
       }
      }
     },
     "metadata": {},
     "output_type": "display_data"
    }
   ],
   "source": [
    "import pandas as pd\n",
    "import plotly.graph_objects as go\n",
    "\n",
    "df = dfs[4]\n",
    "\n",
    "# Prepare the data for the Sankey diagram\n",
    "all_labels = list(pd.unique(df[stages + ['correct_pred']].values.ravel('K')))\n",
    "label_dict = {label: i for i, label in enumerate(all_labels)}\n",
    "\n",
    "sources = []\n",
    "targets = []\n",
    "values = []\n",
    "\n",
    "# Count the flows between stages\n",
    "for i in range(len(stages)):\n",
    "    stage = stages[i]\n",
    "    next_stage = stages + ['correct_pred']\n",
    "    next_stage = next_stage[i + 1]\n",
    "    stage_counts = df.groupby([stage, next_stage]).size().reset_index(name='count')\n",
    "    \n",
    "    for _, row in stage_counts.iterrows():\n",
    "        sources.append(label_dict[row[stage]])\n",
    "        targets.append(label_dict[row[next_stage]])\n",
    "        values.append(row['count'])\n",
    "\n",
    "# Define node and link data for Sankey diagram\n",
    "node = dict(\n",
    "    pad = 15,\n",
    "    thickness = 20,\n",
    "    line = dict(color = \"black\", width = 0.5),\n",
    "    label = all_labels,\n",
    ")\n",
    "\n",
    "link = dict(\n",
    "    source = sources,\n",
    "    target = targets,\n",
    "    value = values\n",
    ")\n",
    "\n",
    "# Create Sankey diagram\n",
    "fig = go.Figure(data=[go.Sankey(node=node, link=link)])\n",
    "fig.update_layout(title_text=\"Observation Flow into Variables\", font_size=10, width=800)\n",
    "fig.show()"
   ]
  },
  {
   "cell_type": "markdown",
   "metadata": {},
   "source": [
    "## Faithfulness"
   ]
  },
  {
   "cell_type": "code",
   "execution_count": null,
   "metadata": {},
   "outputs": [
    {
     "name": "stderr",
     "output_type": "stream",
     "text": [
      "100%|██████████| 30/30 [01:15<00:00,  2.53s/it]\n",
      "100%|██████████| 30/30 [00:45<00:00,  1.52s/it]\n",
      "100%|██████████| 30/30 [01:18<00:00,  2.61s/it]\n",
      "100%|██████████| 30/30 [00:45<00:00,  1.52s/it]\n",
      "100%|██████████| 30/30 [01:13<00:00,  2.45s/it]\n",
      "100%|██████████| 30/30 [00:48<00:00,  1.62s/it]\n",
      "100%|██████████| 30/30 [01:17<00:00,  2.60s/it]\n",
      "100%|██████████| 30/30 [00:48<00:00,  1.61s/it]\n",
      "100%|██████████| 30/30 [01:30<00:00,  3.00s/it]\n",
      "100%|██████████| 30/30 [00:47<00:00,  1.59s/it]\n"
     ]
    }
   ],
   "source": [
    "import os\n",
    "model_name = 'meta-llama/Meta-Llama-3-8B-Instruct'\n",
    "model_label = model_name.split('/')[-1]\n",
    "\n",
    "if not os.path.exists(f\"results/{model_label}\"):\n",
    "    os.makedirs(f\"results/{model_label}\")\n",
    "\n",
    "if not os.path.exists(f\"eval/{model_label}\"):\n",
    "    os.makedirs(f\"eval/{model_label}\")\n",
    "\n",
    "res_df = {\n",
    "    'N. Shots': [],\n",
    "    'Prediction Acc.': [],\n",
    "    'CoT Acc.': [],\n",
    "    'Agreement': [],\n",
    "    'With CoT': [] \n",
    "}\n",
    "\n",
    "N = 10\n",
    "n_hops = 2\n",
    "\n",
    "for n_shots in [3,5,7,9]:\n",
    "    for with_cot in [True, False]: \n",
    "        for p in [0.05, 0.25, 0.5, 0.75, 0.95]:\n",
    "            df, pred_acc, cot_acc, cot_pred_corr = run_eval(N, n_hops, n_shots, with_cot)\n",
    "            res_df['N. Shots'].append(n_shots)\n",
    "            res_df['Prediction Acc.'].append(pred_acc)\n",
    "            res_df['CoT Acc.'].append(cot_acc)\n",
    "            res_df['Agreement'].append(cot_pred_corr)\n",
    "            res_df['With CoT'].append(with_cot)\n",
    "\n",
    "res_df = pd.DataFrame(res_df)\n",
    "res_df.to_csv(f\"eval/{model_label}/{N}N_{n_hops}hops.csv\")"
   ]
  },
  {
   "cell_type": "markdown",
   "metadata": {},
   "source": [
    "## Artihmetic Task"
   ]
  },
  {
   "cell_type": "code",
   "execution_count": 1,
   "metadata": {},
   "outputs": [
    {
     "name": "stderr",
     "output_type": "stream",
     "text": [
      "/Library/Frameworks/Python.framework/Versions/3.12/lib/python3.12/site-packages/tqdm/auto.py:21: TqdmWarning: IProgress not found. Please update jupyter and ipywidgets. See https://ipywidgets.readthedocs.io/en/stable/user_install.html\n",
      "  from .autonotebook import tqdm as notebook_tqdm\n",
      "Special tokens have been added in the vocabulary, make sure the associated word embeddings are fine-tuned or trained.\n"
     ]
    }
   ],
   "source": [
    "from transformers import AutoTokenizer\n",
    "\n",
    "model_name = 'meta-llama/Meta-Llama-3-8B-Instruct'\n",
    "tokenizer = AutoTokenizer.from_pretrained(model_name)"
   ]
  },
  {
   "cell_type": "code",
   "execution_count": 2,
   "metadata": {},
   "outputs": [],
   "source": [
    "import operator\n",
    "import numpy as np\n",
    "\n",
    "ops = {'+': operator.add, '-': operator.sub, '*': operator.mul, '/': operator.truediv}\n",
    "\n",
    "def gen_expression(with_cot=True):\n",
    "    result = 1000\n",
    "    while result < 0 or result > 999:\n",
    "        a, b, c, d, e = np.random.choice(range(1, 99), 5)\n",
    "        op1, op2, op3, op4 = np.random.choice(['+', '-', '*'], p=[.4, .4, .2], size=4)\n",
    "        result = ops[op3](ops[op2](ops[op1](a, b), c), ops[op4](d, e))\n",
    "        # [(a op1 b) op2 c] op3 (d op4 e)\n",
    "        a_b = ops[op1](a, b)\n",
    "        a_b_c = ops[op2](a_b, c)\n",
    "        d_e = ops[op4](d, e)\n",
    "        if a_b < 0 or a_b_c < 0 or d_e < 0: result = -1\n",
    "\n",
    "    if with_cot:\n",
    "        solving = f\"Answer: x=[{a_b}{op2}{c}] {op3}{d_e} = {a_b_c}{op3}{d_e} = {result}\"\n",
    "    else:\n",
    "        solving = f\"Answer: x={result}\"\n",
    "    \n",
    "    return f\"Expression: x= [ ({a}{op1}{b}) {op2}{c}] {op3} ({d}{op4}{e})\", solving\n",
    "\n",
    "def few_shot_example(n_shots, with_cot):\n",
    "    prompt = \"Solve the following expression as shown in the examples.\\n\\n\"\n",
    "    \n",
    "    for i in range(n_shots):\n",
    "        task, solving = gen_expression(with_cot)\n",
    "        prompt += task + \"\\n\" + solving + \"\\n\\n\"\n",
    "    \n",
    "    task, solving = gen_expression()\n",
    "    prompt += task + \"\\nAnswer:\"\n",
    "    return prompt, solving"
   ]
  },
  {
   "cell_type": "code",
   "execution_count": 3,
   "metadata": {},
   "outputs": [
    {
     "name": "stdout",
     "output_type": "stream",
     "text": [
      "Solve the following expression as shown in the examples.\n",
      "\n",
      "Expression: x= [ (33+92) +84] + (45+84)\n",
      "Answer: x=[125+84] +129 = 209+129 = 338\n",
      "\n",
      "Expression: x= [ (43+53) -6] + (19+12)\n",
      "Answer:\n"
     ]
    }
   ],
   "source": [
    "print(few_shot_example(1, True)[0])"
   ]
  },
  {
   "cell_type": "code",
   "execution_count": 4,
   "metadata": {},
   "outputs": [],
   "source": [
    "#example, solution = few_shot_example(1, True)\n",
    "#tokens = tokenizer(example, return_tensors='pt')\n",
    "#str_tokens = tokenizer.convert_ids_to_tokens(tokens['input_ids'][0])\n",
    "#str_tokens"
   ]
  },
  {
   "cell_type": "code",
   "execution_count": 5,
   "metadata": {},
   "outputs": [],
   "source": [
    "from utils import replicate_generate\n",
    "\n",
    "example, solving = few_shot_example(1, True)\n",
    "out = replicate_generate(example, 'meta/meta-llama-3-8b', max_new_tokens=18)"
   ]
  },
  {
   "cell_type": "code",
   "execution_count": 6,
   "metadata": {},
   "outputs": [],
   "source": [
    "answer = int(out.split('\\n')[0].split('=')[-1].strip())\n",
    "solution = int(solving.split('=')[-1].strip())"
   ]
  },
  {
   "cell_type": "code",
   "execution_count": 7,
   "metadata": {},
   "outputs": [
    {
     "name": "stdout",
     "output_type": "stream",
     "text": [
      " x=[35-19] -1 = 16-1 = 15\n",
      "\n",
      "Expression\n"
     ]
    },
    {
     "data": {
      "text/plain": [
       "15"
      ]
     },
     "execution_count": 7,
     "metadata": {},
     "output_type": "execute_result"
    }
   ],
   "source": [
    "print(out)\n",
    "answer"
   ]
  },
  {
   "cell_type": "code",
   "execution_count": null,
   "metadata": {},
   "outputs": [],
   "source": [
    "from tqdm.auto import tqdm\n",
    "import pandas as pd\n",
    "\n",
    "result_df = {\n",
    "    'prompt': [],\n",
    "    'answer': [],\n",
    "    'solution': [],\n",
    "    'solving': [],\n",
    "    'n_shots': [],\n",
    "    'cot': []\n",
    "}\n",
    "for n_shots in [1,3,5]:\n",
    "    for cot in [True, False]:\n",
    "        for i in tqdm(range(50)):\n",
    "            example, solving = few_shot_example(n_shots, cot)\n",
    "            \n",
    "            out = replicate_generate(example, 'meta/meta-llama-3-8b', max_new_tokens=18)\n",
    "            try:\n",
    "                answer = int(out.split('\\n')[0].split('=')[-1].strip())\n",
    "            except:\n",
    "                answer = np.nan\n",
    "            solution = int(solving.split('=')[-1].strip())\n",
    "            \n",
    "            result_df['prompt'].append(example)\n",
    "            result_df['answer'].append(answer)\n",
    "            result_df['solution'].append(solution)\n",
    "            result_df['solving'].append(solving)\n",
    "            result_df['n_shots'].append(n_shots)\n",
    "            result_df['cot'].append(cot)\n",
    "\n",
    "result_df = pd.DataFrame(result_df)"
   ]
  },
  {
   "cell_type": "code",
   "execution_count": 11,
   "metadata": {},
   "outputs": [
    {
     "data": {
      "text/html": [
       "<div>\n",
       "<style scoped>\n",
       "    .dataframe tbody tr th:only-of-type {\n",
       "        vertical-align: middle;\n",
       "    }\n",
       "\n",
       "    .dataframe tbody tr th {\n",
       "        vertical-align: top;\n",
       "    }\n",
       "\n",
       "    .dataframe thead th {\n",
       "        text-align: right;\n",
       "    }\n",
       "</style>\n",
       "<table border=\"1\" class=\"dataframe\">\n",
       "  <thead>\n",
       "    <tr style=\"text-align: right;\">\n",
       "      <th></th>\n",
       "      <th>prompt</th>\n",
       "      <th>answer</th>\n",
       "      <th>solution</th>\n",
       "      <th>solving</th>\n",
       "      <th>n_shots</th>\n",
       "      <th>cot</th>\n",
       "    </tr>\n",
       "  </thead>\n",
       "  <tbody>\n",
       "    <tr>\n",
       "      <th>0</th>\n",
       "      <td>Solve the following expression as shown in the...</td>\n",
       "      <td>7.0</td>\n",
       "      <td>7</td>\n",
       "      <td>Answer: x=[117-75] -35 = 42-35 = 7</td>\n",
       "      <td>1</td>\n",
       "      <td>True</td>\n",
       "    </tr>\n",
       "    <tr>\n",
       "      <th>1</th>\n",
       "      <td>Solve the following expression as shown in the...</td>\n",
       "      <td>91.0</td>\n",
       "      <td>91</td>\n",
       "      <td>Answer: x=[27+31] +33 = 58+33 = 91</td>\n",
       "      <td>1</td>\n",
       "      <td>True</td>\n",
       "    </tr>\n",
       "    <tr>\n",
       "      <th>2</th>\n",
       "      <td>Solve the following expression as shown in the...</td>\n",
       "      <td>222.0</td>\n",
       "      <td>222</td>\n",
       "      <td>Answer: x=[87+90] +45 = 177+45 = 222</td>\n",
       "      <td>1</td>\n",
       "      <td>True</td>\n",
       "    </tr>\n",
       "    <tr>\n",
       "      <th>3</th>\n",
       "      <td>Solve the following expression as shown in the...</td>\n",
       "      <td>41.0</td>\n",
       "      <td>41</td>\n",
       "      <td>Answer: x=[164-8] -115 = 156-115 = 41</td>\n",
       "      <td>1</td>\n",
       "      <td>True</td>\n",
       "    </tr>\n",
       "    <tr>\n",
       "      <th>4</th>\n",
       "      <td>Solve the following expression as shown in the...</td>\n",
       "      <td>176.0</td>\n",
       "      <td>176</td>\n",
       "      <td>Answer: x=[12+34] +130 = 46+130 = 176</td>\n",
       "      <td>1</td>\n",
       "      <td>True</td>\n",
       "    </tr>\n",
       "    <tr>\n",
       "      <th>...</th>\n",
       "      <td>...</td>\n",
       "      <td>...</td>\n",
       "      <td>...</td>\n",
       "      <td>...</td>\n",
       "      <td>...</td>\n",
       "      <td>...</td>\n",
       "    </tr>\n",
       "    <tr>\n",
       "      <th>295</th>\n",
       "      <td>Solve the following expression as shown in the...</td>\n",
       "      <td>135.0</td>\n",
       "      <td>95</td>\n",
       "      <td>Answer: x=[84+76] -65 = 160-65 = 95</td>\n",
       "      <td>5</td>\n",
       "      <td>False</td>\n",
       "    </tr>\n",
       "    <tr>\n",
       "      <th>296</th>\n",
       "      <td>Solve the following expression as shown in the...</td>\n",
       "      <td>21.0</td>\n",
       "      <td>30</td>\n",
       "      <td>Answer: x=[29+1] +0 = 30+0 = 30</td>\n",
       "      <td>5</td>\n",
       "      <td>False</td>\n",
       "    </tr>\n",
       "    <tr>\n",
       "      <th>297</th>\n",
       "      <td>Solve the following expression as shown in the...</td>\n",
       "      <td>183.0</td>\n",
       "      <td>220</td>\n",
       "      <td>Answer: x=[65-26] +181 = 39+181 = 220</td>\n",
       "      <td>5</td>\n",
       "      <td>False</td>\n",
       "    </tr>\n",
       "    <tr>\n",
       "      <th>298</th>\n",
       "      <td>Solve the following expression as shown in the...</td>\n",
       "      <td>63.0</td>\n",
       "      <td>7</td>\n",
       "      <td>Answer: x=[10+30] -33 = 40-33 = 7</td>\n",
       "      <td>5</td>\n",
       "      <td>False</td>\n",
       "    </tr>\n",
       "    <tr>\n",
       "      <th>299</th>\n",
       "      <td>Solve the following expression as shown in the...</td>\n",
       "      <td>184.0</td>\n",
       "      <td>106</td>\n",
       "      <td>Answer: x=[129-1] -22 = 128-22 = 106</td>\n",
       "      <td>5</td>\n",
       "      <td>False</td>\n",
       "    </tr>\n",
       "  </tbody>\n",
       "</table>\n",
       "<p>300 rows × 6 columns</p>\n",
       "</div>"
      ],
      "text/plain": [
       "                                                prompt  answer  solution  \\\n",
       "0    Solve the following expression as shown in the...     7.0         7   \n",
       "1    Solve the following expression as shown in the...    91.0        91   \n",
       "2    Solve the following expression as shown in the...   222.0       222   \n",
       "3    Solve the following expression as shown in the...    41.0        41   \n",
       "4    Solve the following expression as shown in the...   176.0       176   \n",
       "..                                                 ...     ...       ...   \n",
       "295  Solve the following expression as shown in the...   135.0        95   \n",
       "296  Solve the following expression as shown in the...    21.0        30   \n",
       "297  Solve the following expression as shown in the...   183.0       220   \n",
       "298  Solve the following expression as shown in the...    63.0         7   \n",
       "299  Solve the following expression as shown in the...   184.0       106   \n",
       "\n",
       "                                   solving  n_shots    cot  \n",
       "0       Answer: x=[117-75] -35 = 42-35 = 7        1   True  \n",
       "1       Answer: x=[27+31] +33 = 58+33 = 91        1   True  \n",
       "2     Answer: x=[87+90] +45 = 177+45 = 222        1   True  \n",
       "3    Answer: x=[164-8] -115 = 156-115 = 41        1   True  \n",
       "4    Answer: x=[12+34] +130 = 46+130 = 176        1   True  \n",
       "..                                     ...      ...    ...  \n",
       "295    Answer: x=[84+76] -65 = 160-65 = 95        5  False  \n",
       "296        Answer: x=[29+1] +0 = 30+0 = 30        5  False  \n",
       "297  Answer: x=[65-26] +181 = 39+181 = 220        5  False  \n",
       "298      Answer: x=[10+30] -33 = 40-33 = 7        5  False  \n",
       "299   Answer: x=[129-1] -22 = 128-22 = 106        5  False  \n",
       "\n",
       "[300 rows x 6 columns]"
      ]
     },
     "execution_count": 11,
     "metadata": {},
     "output_type": "execute_result"
    }
   ],
   "source": [
    "result_df"
   ]
  },
  {
   "cell_type": "code",
   "execution_count": 12,
   "metadata": {},
   "outputs": [],
   "source": [
    "result_df['correct'] = result_df['answer'] == result_df['solution']"
   ]
  },
  {
   "cell_type": "code",
   "execution_count": 104,
   "metadata": {},
   "outputs": [
    {
     "data": {
      "text/plain": [
       "n_shots  cot  \n",
       "1        False    0.04\n",
       "         True     0.96\n",
       "3        False    0.02\n",
       "         True     1.00\n",
       "5        False    0.02\n",
       "         True     1.00\n",
       "Name: correct, dtype: float64"
      ]
     },
     "execution_count": 104,
     "metadata": {},
     "output_type": "execute_result"
    }
   ],
   "source": [
    "result_df.groupby(['n_shots', 'cot'])['correct'].mean()"
   ]
  },
  {
   "cell_type": "code",
   "execution_count": 106,
   "metadata": {},
   "outputs": [],
   "source": [
    "result_df.to_csv(f'results/{model_name.split('/')[-1]}/arithmetics.csv', index=False)"
   ]
  },
  {
   "cell_type": "markdown",
   "metadata": {},
   "source": [
    "### Tensor shape manipulation"
   ]
  },
  {
   "cell_type": "code",
   "execution_count": 64,
   "metadata": {},
   "outputs": [],
   "source": [
    "import operator\n",
    "import numpy as np\n",
    "\n",
    "ops = {'+': operator.add, '-': operator.sub, '*': operator.mul, '/': operator.truediv}\n",
    "\n",
    "def gen_example(with_cot=True):\n",
    "    # The task implies retriving the final shape of the tensor after the operations\n",
    "    # Initial shape: [a, b, c]\n",
    "    # Operations: select, matmul, cat\n",
    "    a, b, c, d, e = np.random.choice(range(1, 10), 5)\n",
    "    select_id = np.random.choice(range(3))\n",
    "    select_str = f\"{'0' if select_id == 0 else ':'}, {'0' if select_id == 1 else ':'}, {'0' if select_id == 2 else ':'}\"\n",
    "    s_shape = [b if select_id == 0 else a] + [b if select_id == 2 else c]\n",
    "    m_shape = [c if select_id != 2 else b] + [d] \n",
    "    f_shape = [a if select_id != 0 else b] + [d]\n",
    "    \n",
    "    cat_dim = np.random.choice([0, 1])\n",
    "    cat_shape = [f_shape[0] if cat_dim == 1 else e] + [f_shape[1] if cat_dim == 0 else e]\n",
    "    correct_shape = [f_shape[0] + cat_shape[0] if cat_dim == 0 else f_shape[0]] + [f_shape[1] + cat_shape[1] if cat_dim == 1 else f_shape[1]]\n",
    "\n",
    "    if with_cot:\n",
    "        solving = f\"Answer:\\n(1) x[{select_str}] has shape [{s_shape[0]} {s_shape[1]}]\\n(2) x[{select_str}]@A has shape [{f_shape[0]} {f_shape[1]}]\\n(3) cat(x[{select_str}]@A, z, dim={cat_dim}) has shape [{correct_shape[0]} {correct_shape[1]}]\"\n",
    "    else:\n",
    "        solving = f\"Answer: y has shape [{correct_shape[0]} {correct_shape[1]}]\"\n",
    "    \n",
    "    return f\"Initial shapes:\\nx: [{a} {b} {c}]\\nA: [{m_shape[0]} {m_shape[1]}]\\nz: [{cat_shape[0]} {cat_shape[1]}]\\nOperations: y=cat(x[{select_str}]@A, z, dim={cat_dim})\", solving\n",
    "\n",
    "def few_shot_example(n_shots, with_cot):\n",
    "    prompt = \"Find the shape of the y tensor. Answer as shown in the examples.\\n\\n\"\n",
    "    \n",
    "    for i in range(n_shots):\n",
    "        task, solving = gen_example(with_cot)\n",
    "        prompt += task + \"\\n\" + solving + \"\\n\\n\"\n",
    "    \n",
    "    task, solving = gen_example()\n",
    "    prompt += task + \"\\nAnswer:\"\n",
    "    return prompt, solving"
   ]
  },
  {
   "cell_type": "code",
   "execution_count": 65,
   "metadata": {},
   "outputs": [
    {
     "name": "stdout",
     "output_type": "stream",
     "text": [
      "Find the shape of the y tensor. Answer as shown in the examples.\n",
      "\n",
      "Initial shapes:\n",
      "x: [2 9 1]\n",
      "A: [1 7]\n",
      "z: [9 1]\n",
      "Operations: y=cat(x[0, :, :]@A, z, dim=1)\n",
      "Answer: y has shape [9 8]\n",
      "\n",
      "Initial shapes:\n",
      "x: [4 8 9]\n",
      "A: [9 8]\n",
      "z: [7 8]\n",
      "Operations: y=cat(x[0, :, :]@A, z, dim=0)\n",
      "Answer: y has shape [15 8]\n",
      "\n",
      "Initial shapes:\n",
      "x: [3 6 2]\n",
      "A: [6 6]\n",
      "z: [3 2]\n",
      "Operations: y=cat(x[:, :, 0]@A, z, dim=1)\n",
      "Answer:\n"
     ]
    }
   ],
   "source": [
    "print(few_shot_example(2, False)[0])"
   ]
  },
  {
   "cell_type": "code",
   "execution_count": null,
   "metadata": {},
   "outputs": [],
   "source": [
    "#example, solution = few_shot_example(1, True)\n",
    "#tokens = tokenizer(example, return_tensors='pt')\n",
    "#str_tokens = tokenizer.convert_ids_to_tokens(tokens['input_ids'][0])\n",
    "#str_tokens"
   ]
  },
  {
   "cell_type": "code",
   "execution_count": 127,
   "metadata": {},
   "outputs": [],
   "source": [
    "from utils import replicate_generate\n",
    "\n",
    "example, solving = few_shot_example(3, True)\n",
    "out = replicate_generate(example, 'meta/meta-llama-3-8b', max_new_tokens=64)"
   ]
  },
  {
   "cell_type": "code",
   "execution_count": 128,
   "metadata": {},
   "outputs": [
    {
     "name": "stdout",
     "output_type": "stream",
     "text": [
      "Find the shape of the y tensor. Answer as shown in the examples.\n",
      "\n",
      "Initial shapes:\n",
      "x: [5 9 8]\n",
      "A: [8 6]\n",
      "z: [5 2]\n",
      "Operations: y=cat(x[:, 0, :]@A, z, dim=1)\n",
      "Answer:\n",
      "(1) x[:, 0, :] has shape [5 8]\n",
      "(2) x[:, 0, :]@A has shape [5 6]\n",
      "(3) cat(x[:, 0, :]@A, z, dim=1) has shape [5 8]\n",
      "\n",
      "Initial shapes:\n",
      "x: [2 9 1]\n",
      "A: [1 6]\n",
      "z: [9 6]\n",
      "Operations: y=cat(x[0, :, :]@A, z, dim=1)\n",
      "Answer:\n",
      "(1) x[0, :, :] has shape [9 1]\n",
      "(2) x[0, :, :]@A has shape [9 6]\n",
      "(3) cat(x[0, :, :]@A, z, dim=1) has shape [9 12]\n",
      "\n",
      "Initial shapes:\n",
      "x: [5 7 3]\n",
      "A: [3 7]\n",
      "z: [5 7]\n",
      "Operations: y=cat(x[0, :, :]@A, z, dim=0)\n",
      "Answer:\n",
      "(1) x[0, :, :] has shape [7 3]\n",
      "(2) x[0, :, :]@A has shape [7 7]\n",
      "(3) cat(x[0, :, :]@A, z, dim=0) has shape [12 7]\n",
      "\n",
      "Initial shapes:\n",
      "x: [3 7 6]\n",
      "A: [7 3]\n",
      "z: [5 3]\n",
      "Operations: y=cat(x[:, :, 0]@A, z, dim=0)\n",
      "Answer:\n"
     ]
    }
   ],
   "source": [
    "print(example)"
   ]
  },
  {
   "cell_type": "code",
   "execution_count": 129,
   "metadata": {},
   "outputs": [
    {
     "name": "stdout",
     "output_type": "stream",
     "text": [
      " \n",
      "(1) x[:, :, 0] has shape [3 7]\n",
      "(2) x[:, :, 0]@A has shape [3 3]\n",
      "(3) cat(x[:, :, 0]@A, z, dim=0) has shape [8 3]\n",
      "\n",
      "Final Answer:\n",
      "Answer:\n",
      "(1) x[:, :, 0] has shape [3 7]\n",
      "(2) x[:, :, 0]@A has shape [3 3]\n",
      "(3) cat(x[:, :, 0]@A, z, dim=0) has shape [8 3]\n"
     ]
    }
   ],
   "source": [
    "print(out)\n",
    "print(solving)"
   ]
  },
  {
   "cell_type": "code",
   "execution_count": 130,
   "metadata": {},
   "outputs": [
    {
     "name": "stdout",
     "output_type": "stream",
     "text": [
      "[8 3] [8 3]\n"
     ]
    }
   ],
   "source": [
    "answer = out.split('\\n\\n')[0].split('shape ')[-1].strip()\n",
    "solution = solving.split('shape ')[-1]\n",
    "print(answer, solution)"
   ]
  },
  {
   "cell_type": "code",
   "execution_count": 131,
   "metadata": {},
   "outputs": [
    {
     "name": "stderr",
     "output_type": "stream",
     "text": [
      "100%|██████████| 50/50 [00:53<00:00,  1.07s/it]\n",
      "100%|██████████| 50/50 [00:54<00:00,  1.10s/it]\n",
      "100%|██████████| 50/50 [00:55<00:00,  1.10s/it]\n",
      "100%|██████████| 50/50 [00:53<00:00,  1.07s/it]\n",
      "100%|██████████| 50/50 [00:51<00:00,  1.03s/it]\n",
      "100%|██████████| 50/50 [00:55<00:00,  1.10s/it]\n"
     ]
    }
   ],
   "source": [
    "from tqdm.auto import tqdm\n",
    "import pandas as pd\n",
    "\n",
    "result_df = {\n",
    "    'prompt': [],\n",
    "    'answer': [],\n",
    "    'solution': [],\n",
    "    'solving': [],\n",
    "    'n_shots': [],\n",
    "    'cot': []\n",
    "}\n",
    "for n_shots in [1,3,5]:\n",
    "    for cot in [True, False]:\n",
    "        for i in tqdm(range(50)):\n",
    "            example, solving = few_shot_example(n_shots, cot)\n",
    "            \n",
    "            out = replicate_generate(example, 'meta/meta-llama-3-8b', max_new_tokens=64)\n",
    "            try:\n",
    "                answer = out.split('\\n\\n')[0].split('shape ')[-1].strip()\n",
    "            except:\n",
    "                answer = np.nan\n",
    "            solution = solving.split('shape ')[-1]\n",
    "            \n",
    "            result_df['prompt'].append(example)\n",
    "            result_df['answer'].append(answer)\n",
    "            result_df['solution'].append(solution)\n",
    "            result_df['solving'].append(solving)\n",
    "            result_df['n_shots'].append(n_shots)\n",
    "            result_df['cot'].append(cot)\n",
    "\n",
    "result_df = pd.DataFrame(result_df)"
   ]
  },
  {
   "cell_type": "code",
   "execution_count": 135,
   "metadata": {},
   "outputs": [
    {
     "data": {
      "text/html": [
       "<div>\n",
       "<style scoped>\n",
       "    .dataframe tbody tr th:only-of-type {\n",
       "        vertical-align: middle;\n",
       "    }\n",
       "\n",
       "    .dataframe tbody tr th {\n",
       "        vertical-align: top;\n",
       "    }\n",
       "\n",
       "    .dataframe thead th {\n",
       "        text-align: right;\n",
       "    }\n",
       "</style>\n",
       "<table border=\"1\" class=\"dataframe\">\n",
       "  <thead>\n",
       "    <tr style=\"text-align: right;\">\n",
       "      <th></th>\n",
       "      <th>prompt</th>\n",
       "      <th>answer</th>\n",
       "      <th>solution</th>\n",
       "      <th>solving</th>\n",
       "      <th>n_shots</th>\n",
       "      <th>cot</th>\n",
       "      <th>correct</th>\n",
       "    </tr>\n",
       "  </thead>\n",
       "  <tbody>\n",
       "    <tr>\n",
       "      <th>0</th>\n",
       "      <td>Find the shape of the y tensor. Answer as show...</td>\n",
       "      <td>[8 12]</td>\n",
       "      <td>[8 14]</td>\n",
       "      <td>Answer:\\n(1) x[:, :, 0] has shape [8 7]\\n(2) x...</td>\n",
       "      <td>1</td>\n",
       "      <td>True</td>\n",
       "      <td>False</td>\n",
       "    </tr>\n",
       "    <tr>\n",
       "      <th>1</th>\n",
       "      <td>Find the shape of the y tensor. Answer as show...</td>\n",
       "      <td>[8 14]</td>\n",
       "      <td>[8 14]</td>\n",
       "      <td>Answer:\\n(1) x[:, 0, :] has shape [8 1]\\n(2) x...</td>\n",
       "      <td>1</td>\n",
       "      <td>True</td>\n",
       "      <td>True</td>\n",
       "    </tr>\n",
       "    <tr>\n",
       "      <th>2</th>\n",
       "      <td>Find the shape of the y tensor. Answer as show...</td>\n",
       "      <td>[5 12]</td>\n",
       "      <td>[5 12]</td>\n",
       "      <td>Answer:\\n(1) x[0, :, :] has shape [5 9]\\n(2) x...</td>\n",
       "      <td>1</td>\n",
       "      <td>True</td>\n",
       "      <td>True</td>\n",
       "    </tr>\n",
       "    <tr>\n",
       "      <th>3</th>\n",
       "      <td>Find the shape of the y tensor. Answer as show...</td>\n",
       "      <td>[5 4]</td>\n",
       "      <td>[5 4]</td>\n",
       "      <td>Answer:\\n(1) x[0, :, :] has shape [4 7]\\n(2) x...</td>\n",
       "      <td>1</td>\n",
       "      <td>True</td>\n",
       "      <td>True</td>\n",
       "    </tr>\n",
       "    <tr>\n",
       "      <th>4</th>\n",
       "      <td>Find the shape of the y tensor. Answer as show...</td>\n",
       "      <td>[7 8]</td>\n",
       "      <td>[7 8]</td>\n",
       "      <td>Answer:\\n(1) x[:, :, 0] has shape [7 2]\\n(2) x...</td>\n",
       "      <td>1</td>\n",
       "      <td>True</td>\n",
       "      <td>True</td>\n",
       "    </tr>\n",
       "    <tr>\n",
       "      <th>...</th>\n",
       "      <td>...</td>\n",
       "      <td>...</td>\n",
       "      <td>...</td>\n",
       "      <td>...</td>\n",
       "      <td>...</td>\n",
       "      <td>...</td>\n",
       "      <td>...</td>\n",
       "    </tr>\n",
       "    <tr>\n",
       "      <th>295</th>\n",
       "      <td>Find the shape of the y tensor. Answer as show...</td>\n",
       "      <td>[3 5]</td>\n",
       "      <td>[3 5]</td>\n",
       "      <td>Answer:\\n(1) x[:, 0, :] has shape [3 2]\\n(2) x...</td>\n",
       "      <td>5</td>\n",
       "      <td>False</td>\n",
       "      <td>True</td>\n",
       "    </tr>\n",
       "    <tr>\n",
       "      <th>296</th>\n",
       "      <td>Find the shape of the y tensor. Answer as show...</td>\n",
       "      <td>[10 1]</td>\n",
       "      <td>[9 1]</td>\n",
       "      <td>Answer:\\n(1) x[0, :, :] has shape [6 7]\\n(2) x...</td>\n",
       "      <td>5</td>\n",
       "      <td>False</td>\n",
       "      <td>False</td>\n",
       "    </tr>\n",
       "    <tr>\n",
       "      <th>297</th>\n",
       "      <td>Find the shape of the y tensor. Answer as show...</td>\n",
       "      <td>[2 16]</td>\n",
       "      <td>[2 8]</td>\n",
       "      <td>Answer:\\n(1) x[0, :, :] has shape [2 9]\\n(2) x...</td>\n",
       "      <td>5</td>\n",
       "      <td>False</td>\n",
       "      <td>False</td>\n",
       "    </tr>\n",
       "    <tr>\n",
       "      <th>298</th>\n",
       "      <td>Find the shape of the y tensor. Answer as show...</td>\n",
       "      <td>[9 5]</td>\n",
       "      <td>[4 5]</td>\n",
       "      <td>Answer:\\n(1) x[:, 0, :] has shape [2 7]\\n(2) x...</td>\n",
       "      <td>5</td>\n",
       "      <td>False</td>\n",
       "      <td>False</td>\n",
       "    </tr>\n",
       "    <tr>\n",
       "      <th>299</th>\n",
       "      <td>Find the shape of the y tensor. Answer as show...</td>\n",
       "      <td>[9 6]</td>\n",
       "      <td>[10 3]</td>\n",
       "      <td>Answer:\\n(1) x[0, :, :] has shape [2 6]\\n(2) x...</td>\n",
       "      <td>5</td>\n",
       "      <td>False</td>\n",
       "      <td>False</td>\n",
       "    </tr>\n",
       "  </tbody>\n",
       "</table>\n",
       "<p>300 rows × 7 columns</p>\n",
       "</div>"
      ],
      "text/plain": [
       "                                                prompt  answer solution  \\\n",
       "0    Find the shape of the y tensor. Answer as show...  [8 12]   [8 14]   \n",
       "1    Find the shape of the y tensor. Answer as show...  [8 14]   [8 14]   \n",
       "2    Find the shape of the y tensor. Answer as show...  [5 12]   [5 12]   \n",
       "3    Find the shape of the y tensor. Answer as show...   [5 4]    [5 4]   \n",
       "4    Find the shape of the y tensor. Answer as show...   [7 8]    [7 8]   \n",
       "..                                                 ...     ...      ...   \n",
       "295  Find the shape of the y tensor. Answer as show...   [3 5]    [3 5]   \n",
       "296  Find the shape of the y tensor. Answer as show...  [10 1]    [9 1]   \n",
       "297  Find the shape of the y tensor. Answer as show...  [2 16]    [2 8]   \n",
       "298  Find the shape of the y tensor. Answer as show...   [9 5]    [4 5]   \n",
       "299  Find the shape of the y tensor. Answer as show...   [9 6]   [10 3]   \n",
       "\n",
       "                                               solving  n_shots    cot  \\\n",
       "0    Answer:\\n(1) x[:, :, 0] has shape [8 7]\\n(2) x...        1   True   \n",
       "1    Answer:\\n(1) x[:, 0, :] has shape [8 1]\\n(2) x...        1   True   \n",
       "2    Answer:\\n(1) x[0, :, :] has shape [5 9]\\n(2) x...        1   True   \n",
       "3    Answer:\\n(1) x[0, :, :] has shape [4 7]\\n(2) x...        1   True   \n",
       "4    Answer:\\n(1) x[:, :, 0] has shape [7 2]\\n(2) x...        1   True   \n",
       "..                                                 ...      ...    ...   \n",
       "295  Answer:\\n(1) x[:, 0, :] has shape [3 2]\\n(2) x...        5  False   \n",
       "296  Answer:\\n(1) x[0, :, :] has shape [6 7]\\n(2) x...        5  False   \n",
       "297  Answer:\\n(1) x[0, :, :] has shape [2 9]\\n(2) x...        5  False   \n",
       "298  Answer:\\n(1) x[:, 0, :] has shape [2 7]\\n(2) x...        5  False   \n",
       "299  Answer:\\n(1) x[0, :, :] has shape [2 6]\\n(2) x...        5  False   \n",
       "\n",
       "     correct  \n",
       "0      False  \n",
       "1       True  \n",
       "2       True  \n",
       "3       True  \n",
       "4       True  \n",
       "..       ...  \n",
       "295     True  \n",
       "296    False  \n",
       "297    False  \n",
       "298    False  \n",
       "299    False  \n",
       "\n",
       "[300 rows x 7 columns]"
      ]
     },
     "execution_count": 135,
     "metadata": {},
     "output_type": "execute_result"
    }
   ],
   "source": [
    "result_df"
   ]
  },
  {
   "cell_type": "code",
   "execution_count": 134,
   "metadata": {},
   "outputs": [],
   "source": [
    "result_df['correct'] = result_df['answer'] == result_df['solution']"
   ]
  },
  {
   "cell_type": "code",
   "execution_count": 136,
   "metadata": {},
   "outputs": [
    {
     "data": {
      "text/plain": [
       "n_shots  cot  \n",
       "1        False    0.26\n",
       "         True     0.54\n",
       "3        False    0.44\n",
       "         True     0.72\n",
       "5        False    0.48\n",
       "         True     0.76\n",
       "Name: correct, dtype: float64"
      ]
     },
     "execution_count": 136,
     "metadata": {},
     "output_type": "execute_result"
    }
   ],
   "source": [
    "result_df.groupby(['n_shots', 'cot'])['correct'].mean()"
   ]
  },
  {
   "cell_type": "code",
   "execution_count": 137,
   "metadata": {},
   "outputs": [],
   "source": [
    "result_df.to_csv(f'results/{model_name.split('/')[-1]}/tensors.csv', index=False)"
   ]
  }
 ],
 "metadata": {
  "kernelspec": {
   "display_name": "Python 3",
   "language": "python",
   "name": "python3"
  },
  "language_info": {
   "codemirror_mode": {
    "name": "ipython",
    "version": 3
   },
   "file_extension": ".py",
   "mimetype": "text/x-python",
   "name": "python",
   "nbconvert_exporter": "python",
   "pygments_lexer": "ipython3",
   "version": "3.12.3"
  }
 },
 "nbformat": 4,
 "nbformat_minor": 2
}
