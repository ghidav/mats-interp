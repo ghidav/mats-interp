{
 "cells": [
  {
   "cell_type": "code",
   "execution_count": 1,
   "metadata": {},
   "outputs": [],
   "source": [
    "import json\n",
    "\n",
    "def load_json(file):\n",
    "    with open(file, 'r') as f:\n",
    "        return json.load(f)\n",
    "    \n",
    "data = load_json(\"prontoqa/json/1hop_ProofsOnly_random_noadj.json\")"
   ]
  },
  {
   "cell_type": "code",
   "execution_count": 2,
   "metadata": {},
   "outputs": [],
   "source": [
    "from random import randint\n",
    "\n",
    "labels = [\"is\", \"is not\"]\n",
    "\n",
    "def create_adversary(prompt, example):\n",
    "    question = example['question']\n",
    "    cot = example['chain_of_thought']\n",
    "    adv_cot = cot.copy()\n",
    "    if \" are not \" in cot[1]:\n",
    "        adv_cot[1] = adv_cot[1].replace(\" are not \", \" are \")\n",
    "    elif \" is not \" in cot[1]:\n",
    "        adv_cot[1] = adv_cot[1].replace(\" is not \", \" is \")\n",
    "    elif \" are \" in cot[1]:\n",
    "        adv_cot[1] = adv_cot[1].replace(\" are \", \" are not \")\n",
    "    elif \" is \" in cot[1]:\n",
    "        adv_cot[1] = adv_cot[1].replace(\" is \", \" is not \")\n",
    "    else:\n",
    "        raise \"is not/is haven't been found in string!\"\n",
    "\n",
    "    if cot[1] in question:\n",
    "        adv_question = question.replace(cot[1], adv_cot[1])\n",
    "    else:\n",
    "        raise \"CoT not found in question!\"\n",
    "        \n",
    "    return adv_question + '\\n'\n",
    "\n",
    "def prepare_example(example, n_shots=5, with_cot=True, reverse_cot=False):\n",
    "    prompt = \"Answer True or False to the following question. Answer as in the examples.\\n\\n\"\n",
    "    cot_prompt = \"Think step-by-step.\\n\\n\" if with_cot else \"\"\n",
    "    \n",
    "    for i in range(n_shots):\n",
    "        prompt += example[f\"in_context_example{i}\"]['question'] + \"\\n\"\n",
    "        query = example[f\"in_context_example{i}\"]['query']\n",
    "        label = \"False\" if \"is not\" in query else \"True\"\n",
    "        \n",
    "        if \"is not\" in query:\n",
    "            name, adj = query.split(\" is not \")\n",
    "        else:\n",
    "            name, adj = query.split(\" is \")\n",
    "        \n",
    "        name = name.split(\"Prove: \")[-1]\n",
    "        query = f\"Is {name.strip()} {adj.strip()[:-1]}?\\n\"\n",
    "    \n",
    "        prompt += \"Question: \" + query + cot_prompt\n",
    "        cot = example[f\"in_context_example{i}\"]['chain_of_thought']\n",
    "\n",
    "        if reverse_cot:\n",
    "            cot[0], cot[1] = cot[1], cot[0]\n",
    "\n",
    "        if with_cot:\n",
    "            for j, step in enumerate(cot):\n",
    "                prompt += f\"({j+1}) {step}\\n\"\n",
    "        \n",
    "        prompt += f\"Answer: {label}\\n\\n\"\n",
    "\n",
    "    adversary = prompt + create_adversary(prompt, example['test_example'])\n",
    "    prompt += example[\"test_example\"]['question'] + \"\\n\"\n",
    "    query = example[\"test_example\"]['query']\n",
    "    label = \"False\" if \"is not\" in query else \"True\"\n",
    "    cot = example[\"test_example\"]['chain_of_thought']\n",
    "    if reverse_cot:\n",
    "        cot[0], cot[1] = cot[1], cot[0]\n",
    "    \n",
    "    if \"is not\" in query:\n",
    "        name, adj = query.split(\" is not \")\n",
    "    else:\n",
    "        name, adj = query.split(\" is \")\n",
    "\n",
    "    name = name.split(\"Prove: \")[-1]\n",
    "    query = f\"Is {name.strip()} {adj.strip()[:-1]}?\\n\"\n",
    "    \n",
    "    prompt += \"Question: \" + query + cot_prompt\n",
    "    adversary += \"Question: \" + query + cot_prompt\n",
    "        \n",
    "    return prompt, label, cot, adversary"
   ]
  },
  {
   "cell_type": "code",
   "execution_count": 188,
   "metadata": {},
   "outputs": [],
   "source": [
    "idx = 0\n",
    "prompt, label, cot, adv = prepare_example(list(data.values())[idx], n_shots=0, with_cot=False)"
   ]
  },
  {
   "cell_type": "code",
   "execution_count": 190,
   "metadata": {},
   "outputs": [
    {
     "name": "stdout",
     "output_type": "stream",
     "text": [
      "Answer True or False to the following question. Answer as in the examples.\n",
      "\n",
      "Gorpuses are sterpuses. Gorpuses are grimpuses. Every dumpus is a jompus. Every grimpus is a shumpus. Gorpuses are not small. Sterpuses are liquid. Every shumpus is not muffled. Dumpuses are bright. Each grimpus is a brimpus. Every grimpus is not cold. Wren is a dumpus. Wren is a grimpus.\n",
      "Question: Is Wren cold?\n",
      "\n"
     ]
    }
   ],
   "source": [
    "print(prompt)"
   ]
  },
  {
   "cell_type": "code",
   "execution_count": 161,
   "metadata": {},
   "outputs": [],
   "source": [
    "context = prompt.split('\\n')[2]\n",
    "question = prompt.split('Question:')[-1].strip()\n",
    "subject = question.split()[1]"
   ]
  },
  {
   "cell_type": "code",
   "execution_count": 172,
   "metadata": {},
   "outputs": [],
   "source": [
    "relations = [i.strip() for i in context.split('.')[:-1]]\n",
    "\n",
    "step1 = [relations[-1], relations[-2]]\n",
    "species = []\n",
    "\n",
    "for i, step in enumerate(step1):\n",
    "    species.append((i, step.split()[-1]))"
   ]
  },
  {
   "cell_type": "code",
   "execution_count": 173,
   "metadata": {},
   "outputs": [],
   "source": [
    "all_species = ['grimpus', 'lorpus', 'wumpus', 'zumpus', 'sterpus', 'numpus', 'jompus', 'brimpus', 'yumpus', 'tumpus', 'dumpus', 'vumpus', 'rompus', 'lempus', 'gorpus', 'shumpus', 'impus']\n",
    "\n",
    "def is_a_species(x):\n",
    "    for s in all_species:\n",
    "        if s in x:\n",
    "            return True\n",
    "    return False\n",
    "\n",
    "step2 = []\n",
    "existent_species = []\n",
    "k = 0\n",
    "\n",
    "while len(species) > 0:\n",
    "    step2.append([])\n",
    "    new_species = []\n",
    "    for rel in relations[:-2]:\n",
    "        for j, s in species:\n",
    "            if s not in existent_species:\n",
    "                existent_species.append(s)\n",
    "\n",
    "            if s in ' '.join(rel.split()[:-1]).lower():\n",
    "                step2[k].append((j, rel))\n",
    "                s_new = rel.split()[-1]\n",
    "                for s_ in all_species:\n",
    "                    if s_ in s_new and s_ not in existent_species and s_ not in new_species:\n",
    "                        new_species.append((len(step2[k])-1, s_))\n",
    "            \n",
    "    species = new_species.copy()\n",
    "    k += 1"
   ]
  },
  {
   "cell_type": "code",
   "execution_count": 174,
   "metadata": {},
   "outputs": [
    {
     "data": {
      "text/plain": [
       "(['Polly is an impus', 'Polly is a lorpus'],\n",
       " [[(0, 'Impuses are not orange'),\n",
       "   (1, 'Each lorpus is a dumpus'),\n",
       "   (1, 'Lorpuses are not luminous'),\n",
       "   (0, 'Every impus is a jompus'),\n",
       "   (1, 'Lorpuses are numpuses')],\n",
       "  [(4, 'Numpuses are not bitter'),\n",
       "   (4, 'Every numpus is a yumpus'),\n",
       "   (1, 'Dumpuses are not hot'),\n",
       "   (4, 'Numpuses are zumpuses')],\n",
       "  [(1, 'Each yumpus is bright')]])"
      ]
     },
     "execution_count": 174,
     "metadata": {},
     "output_type": "execute_result"
    }
   ],
   "source": [
    "step1, step2"
   ]
  },
  {
   "cell_type": "code",
   "execution_count": 191,
   "metadata": {},
   "outputs": [
    {
     "name": "stdout",
     "output_type": "stream",
     "text": [
      "['Polly is an impus. Impuses are not orange.', 'Polly is a lorpus. Each lorpus is a dumpus.', 'Polly is a lorpus. Lorpuses are not luminous.', 'Polly is an impus. Every impus is a jompus.', 'Polly is a lorpus. Lorpuses are numpuses.']\n",
      "['Polly is a lorpus. Lorpuses are numpuses. Numpuses are not bitter.', 'Polly is a lorpus. Lorpuses are numpuses. Every numpus is a yumpus.', 'Polly is a lorpus. Each lorpus is a dumpus. Dumpuses are not hot.', 'Polly is a lorpus. Lorpuses are numpuses. Numpuses are zumpuses.']\n",
      "['Polly is a lorpus. Lorpuses are numpuses. Every numpus is a yumpus. Each yumpus is bright.']\n"
     ]
    }
   ],
   "source": [
    "inference = [i + '.' for i in step1]\n",
    "final_inference = []\n",
    "\n",
    "for step in step2:\n",
    "    new_inference = []\n",
    "    \n",
    "    for j, p2p in step:        \n",
    "        new_inference.append(inference[j] + ' ' + p2p + '.')\n",
    "\n",
    "    print(new_inference)\n",
    "    for i, infer in enumerate(new_inference):\n",
    "        attr = infer[:-1].split()[-1]\n",
    "        #if not is_a_species(attr):\n",
    "        final_inference.append(infer)\n",
    "\n",
    "    inference = new_inference.copy()"
   ]
  },
  {
   "cell_type": "code",
   "execution_count": 110,
   "metadata": {},
   "outputs": [
    {
     "data": {
      "text/plain": [
       "'Gorpuses are sterpuses. Gorpuses are grimpuses. Every dumpus is a jompus. Every grimpus is a shumpus. Gorpuses are not small. Sterpuses are liquid. Every shumpus is not muffled. Dumpuses are bright. Each grimpus is a brimpus. Every grimpus is not cold. Wren is a dumpus. Wren is a grimpus.'"
      ]
     },
     "execution_count": 110,
     "metadata": {},
     "output_type": "execute_result"
    }
   ],
   "source": [
    "context"
   ]
  },
  {
   "cell_type": "code",
   "execution_count": null,
   "metadata": {},
   "outputs": [],
   "source": [
    "if 'is' in p2p:\n",
    "            attr = p2p.split('is')[-1]\n",
    "        elif 'are' in p2p:\n",
    "            attr = p2p.split('are')[-1]\n",
    "        else:\n",
    "            raise BaseException\n",
    "\n",
    " subject + ' is' + attr"
   ]
  },
  {
   "cell_type": "markdown",
   "metadata": {},
   "source": [
    "```\n",
    "Answer the question as in the example.\n",
    "\n",
    "Impuses are not orange. Each rompus is a tumpus. Each lorpus is a dumpus. Each tumpus is large. Every tumpus is a lorpus. Lorpuses are not luminous. Numpuses are not bitter. Every impus is a jompus. Lorpuses are numpuses. Every numpus is a yumpus. Lempuses are melodic. Vumpuses are not angry. Each tumpus is a vumpus. Each yumpus is bright. Rompuses are lempuses. Dumpuses are not hot. Numpuses are zumpuses. Every rompus is not fast. Polly is a lorpus. Polly is an impus.\n",
    "\n",
    "Question: Is Polly luminous?\n",
    "\n",
    "Step 1 - Find subject associations\n",
    "1. Polly is an lorpus.\n",
    "2. Polly is an impus.\n",
    "\n",
    "Step 2 - Find species associations\n",
    "1. Impuses are not orange.\n",
    "2. Lorpuses are not luminous.\n",
    "3. Lorpuses are numpuses. Numpuses are not bitter.\n",
    "4. Each lorpus is a dumpus. Dumpuses are not hot.\n",
    "5. Lorpuses are numpuses. Every numpus is a yumpus. Each yumpus is bright.\n",
    "\n",
    "Step 3 - Answer\n",
    "No, Polly is not luminous.\n",
    "\n",
    "\n",
    "Gorpuses are sterpuses. Gorpuses are grimpuses. Every dumpus is a jompus. Every grimpus is a shumpus. Gorpuses are not small. Sterpuses are liquid. Every shumpus is not muffled. Dumpuses are bright. Each grimpus is a brimpus. Every grimpus is not cold. Wren is a dumpus. Wren is a grimpus.\n",
    "\n",
    "Question: Is Wren cold?\n",
    "```"
   ]
  },
  {
   "cell_type": "code",
   "execution_count": 187,
   "metadata": {},
   "outputs": [
    {
     "data": {
      "text/plain": [
       "'Is Polly luminous?'"
      ]
     },
     "execution_count": 187,
     "metadata": {},
     "output_type": "execute_result"
    }
   ],
   "source": [
    "question"
   ]
  },
  {
   "cell_type": "code",
   "execution_count": null,
   "metadata": {},
   "outputs": [],
   "source": [
    "import json\n",
    "\n",
    "def load_json(file):\n",
    "    with open(file, 'r') as f:\n",
    "        return json.load(f)\n",
    "    \n",
    "data = load_json(\"prontoqa/json/1hop_ProofsOnly_random_noadj.json\")"
   ]
  },
  {
   "cell_type": "code",
   "execution_count": null,
   "metadata": {},
   "outputs": [],
   "source": [
    "from random import randint\n",
    "\n",
    "labels = [\"is\", \"is not\"]\n",
    "\n",
    "def create_adversary(prompt, example):\n",
    "    question = example['question']\n",
    "    cot = example['chain_of_thought']\n",
    "    adv_cot = cot.copy()\n",
    "    if \" are not \" in cot[1]:\n",
    "        adv_cot[1] = adv_cot[1].replace(\" are not \", \" are \")\n",
    "    elif \" is not \" in cot[1]:\n",
    "        adv_cot[1] = adv_cot[1].replace(\" is not \", \" is \")\n",
    "    elif \" are \" in cot[1]:\n",
    "        adv_cot[1] = adv_cot[1].replace(\" are \", \" are not \")\n",
    "    elif \" is \" in cot[1]:\n",
    "        adv_cot[1] = adv_cot[1].replace(\" is \", \" is not \")\n",
    "    else:\n",
    "        raise \"is not/is haven't been found in string!\"\n",
    "\n",
    "    if cot[1] in question:\n",
    "        adv_question = question.replace(cot[1], adv_cot[1])\n",
    "    else:\n",
    "        raise \"CoT not found in question!\"\n",
    "        \n",
    "    return adv_question + '\\n'\n",
    "\n",
    "def prepare_example(example, n_shots=5, with_cot=True, reverse_cot=False):\n",
    "    prompt = \"Answer True or False to the following question. Answer as in the examples.\\n\\n\"\n",
    "    cot_prompt = \"Think step-by-step.\\n\\n\" if with_cot else \"\"\n",
    "    \n",
    "    for i in range(n_shots):\n",
    "        prompt += example[f\"in_context_example{i}\"]['question'] + \"\\n\"\n",
    "        query = example[f\"in_context_example{i}\"]['query']\n",
    "        label = \"False\" if \"is not\" in query else \"True\"\n",
    "        \n",
    "        if \"is not\" in query:\n",
    "            name, adj = query.split(\" is not \")\n",
    "        else:\n",
    "            name, adj = query.split(\" is \")\n",
    "        \n",
    "        name = name.split(\"Prove: \")[-1]\n",
    "        query = f\"Is {name.strip()} {adj.strip()[:-1]}?\\n\"\n",
    "    \n",
    "        prompt += \"Question: \" + query + cot_prompt\n",
    "        cot = example[f\"in_context_example{i}\"]['chain_of_thought']\n",
    "\n",
    "        if reverse_cot:\n",
    "            cot[0], cot[1] = cot[1], cot[0]\n",
    "\n",
    "        if with_cot:\n",
    "            for j, step in enumerate(cot):\n",
    "                prompt += f\"({j+1}) {step}\\n\"\n",
    "        \n",
    "        prompt += f\"Answer: {label}\\n\\n\"\n",
    "\n",
    "    adversary = prompt + create_adversary(prompt, example['test_example'])\n",
    "    prompt += example[\"test_example\"]['question'] + \"\\n\"\n",
    "    query = example[\"test_example\"]['query']\n",
    "    label = \"False\" if \"is not\" in query else \"True\"\n",
    "    cot = example[\"test_example\"]['chain_of_thought']\n",
    "    if reverse_cot:\n",
    "        cot[0], cot[1] = cot[1], cot[0]\n",
    "    \n",
    "    if \"is not\" in query:\n",
    "        name, adj = query.split(\" is not \")\n",
    "    else:\n",
    "        name, adj = query.split(\" is \")\n",
    "\n",
    "    name = name.split(\"Prove: \")[-1]\n",
    "    query = f\"Is {name.strip()} {adj.strip()[:-1]}?\\n\"\n",
    "    \n",
    "    prompt += \"Question: \" + query + cot_prompt\n",
    "    adversary += \"Question: \" + query + cot_prompt\n",
    "        \n",
    "    return prompt, label, cot, adversary"
   ]
  },
  {
   "cell_type": "code",
   "execution_count": null,
   "metadata": {},
   "outputs": [
    {
     "data": {
      "text/plain": [
       "('Answer True or False to the following question. Answer as in the examples.\\n\\nDumpuses are numpuses. Impuses are jompuses. Each yumpus is not spicy. Every dumpus is mean. Lorpuses are snowy. Each lempus is not transparent. Numpuses are tumpuses. Numpuses are moderate. Every tumpus is luminous. Jompuses are not blue. Impuses are gorpuses. Every gorpus is not hot. Each dumpus is a yumpus. Every gorpus is a lempus. Lorpuses are sterpuses. Every impus is muffled. Every numpus is an impus. Gorpuses are rompuses. Polly is an impus. Polly is a lorpus.\\nQuestion: Is Polly muffled?\\nAnswer: True\\n\\nEvery lempus is a rompus. Each rompus is a jompus. Each jompus is a lorpus. Each rompus is a tumpus. Grimpuses are feisty. Jompuses are cold. Each dumpus is transparent. Each lempus is a dumpus. Rompuses are rainy. Vumpuses are gorpuses. Each tumpus is earthy. Every vumpus is sweet. Jompuses are grimpuses. Lempuses are angry. Alex is a rompus. Alex is a vumpus.\\nQuestion: Is Alex rainy?\\nAnswer: True\\n\\nSterpuses are tumpuses. Each sterpus is large. Vumpuses are zumpuses. Zumpuses are not spicy. Each vumpus is not slow. Each vumpus is a brimpus. Fae is a sterpus. Fae is a vumpus.\\nQuestion: Is Fae slow?\\nAnswer: False\\n\\nGorpuses are sterpuses. Gorpuses are grimpuses. Every dumpus is a jompus. Every grimpus is a shumpus. Gorpuses are not small. Sterpuses are liquid. Every shumpus is not muffled. Dumpuses are bright. Each grimpus is a brimpus. Every grimpus is not cold. Wren is a dumpus. Wren is a grimpus.\\nQuestion: Is Wren cold?\\n',\n",
       " 'False',\n",
       " ['Wren is a grimpus.', 'Every grimpus is not cold.', 'Wren is not cold.'],\n",
       " 'Answer True or False to the following question. Answer as in the examples.\\n\\nDumpuses are numpuses. Impuses are jompuses. Each yumpus is not spicy. Every dumpus is mean. Lorpuses are snowy. Each lempus is not transparent. Numpuses are tumpuses. Numpuses are moderate. Every tumpus is luminous. Jompuses are not blue. Impuses are gorpuses. Every gorpus is not hot. Each dumpus is a yumpus. Every gorpus is a lempus. Lorpuses are sterpuses. Every impus is muffled. Every numpus is an impus. Gorpuses are rompuses. Polly is an impus. Polly is a lorpus.\\nQuestion: Is Polly muffled?\\nAnswer: True\\n\\nEvery lempus is a rompus. Each rompus is a jompus. Each jompus is a lorpus. Each rompus is a tumpus. Grimpuses are feisty. Jompuses are cold. Each dumpus is transparent. Each lempus is a dumpus. Rompuses are rainy. Vumpuses are gorpuses. Each tumpus is earthy. Every vumpus is sweet. Jompuses are grimpuses. Lempuses are angry. Alex is a rompus. Alex is a vumpus.\\nQuestion: Is Alex rainy?\\nAnswer: True\\n\\nSterpuses are tumpuses. Each sterpus is large. Vumpuses are zumpuses. Zumpuses are not spicy. Each vumpus is not slow. Each vumpus is a brimpus. Fae is a sterpus. Fae is a vumpus.\\nQuestion: Is Fae slow?\\nAnswer: False\\n\\nGorpuses are sterpuses. Gorpuses are grimpuses. Every dumpus is a jompus. Every grimpus is a shumpus. Gorpuses are not small. Sterpuses are liquid. Every shumpus is not muffled. Dumpuses are bright. Each grimpus is a brimpus. Every grimpus is cold. Wren is a dumpus. Wren is a grimpus.\\nQuestion: Is Wren cold?\\n')"
      ]
     },
     "metadata": {},
     "output_type": "display_data"
    }
   ],
   "source": [
    "prepare_example(list(data.values())[0], n_shots=3, with_cot=False)"
   ]
  },
  {
   "cell_type": "code",
   "execution_count": null,
   "metadata": {},
   "outputs": [],
   "source": []
  }
 ],
 "metadata": {
  "kernelspec": {
   "display_name": "Python 3",
   "language": "python",
   "name": "python3"
  },
  "language_info": {
   "codemirror_mode": {
    "name": "ipython",
    "version": 3
   },
   "file_extension": ".py",
   "mimetype": "text/x-python",
   "name": "python",
   "nbconvert_exporter": "python",
   "pygments_lexer": "ipython3",
   "version": "3.12.3"
  }
 },
 "nbformat": 4,
 "nbformat_minor": 2
}
